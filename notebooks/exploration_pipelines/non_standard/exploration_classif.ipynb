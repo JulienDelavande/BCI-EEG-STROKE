{
 "cells": [
  {
   "cell_type": "markdown",
   "metadata": {},
   "source": [
    "# Exploration: classification pipeline\n",
    "\n",
    "This notebook aims at providing a working pipeline to test and evaluate the performances of implemented classification models. The pipeline carries the data through every step of preprocessing (cf. `/src/preprocessing.py`) and dataset splitting and reformatting before applying classification models."
   ]
  },
  {
   "cell_type": "markdown",
   "metadata": {},
   "source": [
    "## Notebook setup"
   ]
  },
  {
   "cell_type": "code",
   "execution_count": 47,
   "metadata": {},
   "outputs": [],
   "source": [
    "# Run the following command to install the required packages:\n",
    "# !pip install -r requirements.txt\n",
    "# !pip install -e ../src"
   ]
  },
  {
   "cell_type": "code",
   "execution_count": 48,
   "metadata": {},
   "outputs": [],
   "source": [
    "from preprocessing.train import process_train_data\n",
    "from classif.optim import train_model\n",
    "from classif.perfs import compute_prediction_scores, ROC_curve, PR_curve\n",
    "from classif.utils import (save_model_dict,\n",
    "                           save_model_full,\n",
    "                           load_model_dict,\n",
    "                           load_model_full,\n",
    "                           predict_test)\n",
    "from classif.models.cnn import CNN_Windows"
   ]
  },
  {
   "cell_type": "code",
   "execution_count": 49,
   "metadata": {},
   "outputs": [],
   "source": [
    "from typing import Callable\n",
    "import os\n",
    "import pandas as pd\n",
    "import numpy as np\n",
    "import torch\n",
    "import torch.nn.functional as F\n",
    "from torch import nn, optim\n",
    "from torch.utils.data import DataLoader, Dataset\n",
    "from torchvision import datasets, transforms\n",
    "\n",
    "%matplotlib inline\n",
    "import matplotlib.pyplot as plt"
   ]
  },
  {
   "cell_type": "markdown",
   "metadata": {},
   "source": [
    "## Data processing"
   ]
  },
  {
   "cell_type": "markdown",
   "metadata": {},
   "source": [
    "### Data loading\n",
    "\n",
    "This subsection allows to load the datasets containing the raw data of EEG recordings along with some useful meta-data."
   ]
  },
  {
   "cell_type": "code",
   "execution_count": 50,
   "metadata": {},
   "outputs": [],
   "source": [
    "PATH_DATA_FOLDER = os.path.join(os.getcwd(), '../data')\n",
    "PATH_DATA_SAMPLE_FOLDER = f'{PATH_DATA_FOLDER}/sample'\n",
    "PATH_DATA_MPLE_TRIAL1_FILE = f'{PATH_DATA_SAMPLE_FOLDER}/DATA_mple__Trial1.npy'\n",
    "PATH_DATA_MPLE_TRIAL2_FILE = f'{PATH_DATA_SAMPLE_FOLDER}/DATA_mple__Trial2.npy'\n",
    "PATH_DATA_P004_TRIAL1_FILE = f'{PATH_DATA_SAMPLE_FOLDER}/DATA_P_004_Trial1.npy'\n",
    "PATH_DATA_P004_TRIAL2_FILE = f'{PATH_DATA_SAMPLE_FOLDER}/DATA_P_004_Trial2.npy'\n",
    "\n",
    "# Load the data into numpy arrays\n",
    "array_mple_t1 = np.load(PATH_DATA_MPLE_TRIAL1_FILE, allow_pickle=True)\n",
    "array_p004_t1 = np.load(PATH_DATA_P004_TRIAL1_FILE, allow_pickle=True)\n",
    "\n",
    "# Convert into dataframes\n",
    "df_mple_t1 = pd.DataFrame(array_mple_t1)\n",
    "df_p004_t1 = pd.DataFrame(array_p004_t1)"
   ]
  },
  {
   "cell_type": "code",
   "execution_count": 51,
   "metadata": {},
   "outputs": [
    {
     "data": {
      "text/html": [
       "<div>\n",
       "<style scoped>\n",
       "    .dataframe tbody tr th:only-of-type {\n",
       "        vertical-align: middle;\n",
       "    }\n",
       "\n",
       "    .dataframe tbody tr th {\n",
       "        vertical-align: top;\n",
       "    }\n",
       "\n",
       "    .dataframe thead th {\n",
       "        text-align: right;\n",
       "    }\n",
       "</style>\n",
       "<table border=\"1\" class=\"dataframe\">\n",
       "  <thead>\n",
       "    <tr style=\"text-align: right;\">\n",
       "      <th></th>\n",
       "      <th>0</th>\n",
       "    </tr>\n",
       "  </thead>\n",
       "  <tbody>\n",
       "    <tr>\n",
       "      <th>0</th>\n",
       "      <td>004</td>\n",
       "    </tr>\n",
       "    <tr>\n",
       "      <th>1</th>\n",
       "      <td>G</td>\n",
       "    </tr>\n",
       "    <tr>\n",
       "      <th>2</th>\n",
       "      <td>Trial1</td>\n",
       "    </tr>\n",
       "    <tr>\n",
       "      <th>3</th>\n",
       "      <td>125</td>\n",
       "    </tr>\n",
       "    <tr>\n",
       "      <th>4</th>\n",
       "      <td>[D, [1805.0, 1806.0, 1807.0, 1808.0, 1809.0, 1...</td>\n",
       "    </tr>\n",
       "    <tr>\n",
       "      <th>5</th>\n",
       "      <td>[G, [1485.0, 1486.0, 1487.0, 1488.0, 1489.0, 1...</td>\n",
       "    </tr>\n",
       "    <tr>\n",
       "      <th>6</th>\n",
       "      <td>P_004</td>\n",
       "    </tr>\n",
       "  </tbody>\n",
       "</table>\n",
       "</div>"
      ],
      "text/plain": [
       "                                                   0\n",
       "0                                                004\n",
       "1                                                  G\n",
       "2                                             Trial1\n",
       "3                                                125\n",
       "4  [D, [1805.0, 1806.0, 1807.0, 1808.0, 1809.0, 1...\n",
       "5  [G, [1485.0, 1486.0, 1487.0, 1488.0, 1489.0, 1...\n",
       "6                                              P_004"
      ]
     },
     "execution_count": 51,
     "metadata": {},
     "output_type": "execute_result"
    }
   ],
   "source": [
    "# Display one dataframe for example\n",
    "df_p004_t1"
   ]
  },
  {
   "cell_type": "markdown",
   "metadata": {},
   "source": [
    "### Class EEGData\n",
    "This subsection creates a new class to load and preprocess the data"
   ]
  },
  {
   "cell_type": "code",
   "execution_count": 52,
   "metadata": {},
   "outputs": [],
   "source": [
    "class EEGData:\n",
    "    def __init__(self, path_data_file: str):\n",
    "        self.eeg_array = np.load(path_data_file, allow_pickle=True)\n",
    "\n",
    "        self.session_id = None\n",
    "        self.AVC_side = None\n",
    "        self.trial_id = None\n",
    "        self.sampling_rate = 1024\n",
    "        self.ch_names = None\n",
    "        self.metadata = None\n",
    "        \n",
    "        self.windows = None  # np.ndarray[n_samples, n_electrods, len_windows]\n",
    "        self.targets = None  # np.ndarray[n_samples]\n",
    "    \n",
    "    def preprocess(self, \n",
    "                   side='G', \n",
    "                   fs=1024, \n",
    "                   low_freq=10, \n",
    "                   high_freq=50, \n",
    "                   window_size=0.5, \n",
    "                   step_size=0.1, \n",
    "                   epoch_start_time=-1, \n",
    "                   epoch_end_time=1, \n",
    "                   start_time_label=-0.5, \n",
    "                   end_time_label=0, \n",
    "                   eeg_order=None, \n",
    "                   verbose=False\n",
    "        ):\n",
    "        \n",
    "        data, meta_data = process_train_data(\n",
    "            self.eeg_array, side, fs, low_freq, high_freq, window_size, \n",
    "            step_size, epoch_start_time, epoch_end_time, start_time_label, \n",
    "            end_time_label, eeg_order, verbose)\n",
    "        self.session_id = meta_data['session_id']\n",
    "        self.AVC_side = meta_data['AVC_side']\n",
    "        self.trial_id = meta_data['trial_id']\n",
    "        self.ch_names = meta_data['ch_names']\n",
    "        \n",
    "        self.meta_data = meta_data\n",
    "        \n",
    "        self.windows = data[0]\n",
    "        self.targets = data[1]"
   ]
  },
  {
   "cell_type": "code",
   "execution_count": 53,
   "metadata": {},
   "outputs": [
    {
     "name": "stderr",
     "output_type": "stream",
     "text": [
      "INFO:root:\n",
      "--- Loading data ---\n"
     ]
    },
    {
     "name": "stdout",
     "output_type": "stream",
     "text": [
      "Creating RawArray with float64 data, n_channels=64, n_times=245609\n",
      "    Range : 0 ... 245608 =      0.000 ...   239.852 secs\n",
      "Ready.\n"
     ]
    },
    {
     "name": "stderr",
     "output_type": "stream",
     "text": [
      "INFO:root:\n",
      "--- Filtering data ---\n"
     ]
    },
    {
     "name": "stdout",
     "output_type": "stream",
     "text": [
      "Filtering raw data in 1 contiguous segment\n",
      "Setting up band-pass filter from 10 - 50 Hz\n",
      "\n",
      "FIR filter parameters\n",
      "---------------------\n",
      "Designing a one-pass, zero-phase, non-causal bandpass filter:\n",
      "- Windowed time-domain design (firwin) method\n",
      "- Hamming window with 0.0194 passband ripple and 53 dB stopband attenuation\n",
      "- Lower passband edge: 10.00\n",
      "- Lower transition bandwidth: 2.50 Hz (-6 dB cutoff frequency: 8.75 Hz)\n",
      "- Upper passband edge: 50.00 Hz\n",
      "- Upper transition bandwidth: 12.50 Hz (-6 dB cutoff frequency: 56.25 Hz)\n",
      "- Filter length: 1353 samples (1.321 s)\n",
      "\n"
     ]
    },
    {
     "name": "stderr",
     "output_type": "stream",
     "text": [
      "[Parallel(n_jobs=1)]: Done  17 tasks      | elapsed:    0.1s\n",
      "INFO:root:\n",
      "--- Epoching data ---\n"
     ]
    },
    {
     "name": "stdout",
     "output_type": "stream",
     "text": [
      "Not setting metadata\n",
      "10 matching events found\n",
      "No baseline correction applied\n",
      "0 projection items activated\n",
      "Using data from preloaded Raw for 10 events and 3073 original time points ...\n",
      "0 bad epochs dropped\n"
     ]
    },
    {
     "name": "stderr",
     "output_type": "stream",
     "text": [
      "/media/Data/isae-supaero/3A/PIE/PIE_2023/src/preprocessing/train.py:37: FutureWarning: The current default of copy=False will change to copy=True in 1.7. Set the value of copy explicitly to avoid this warning\n",
      "  n_epochs, n_channels, n_times = epochs.get_data().shape\n",
      "/media/Data/isae-supaero/3A/PIE/PIE_2023/src/preprocessing/train.py:43: FutureWarning: The current default of copy=False will change to copy=True in 1.7. Set the value of copy explicitly to avoid this warning\n",
      "  epoch_data = epochs.get_data()[epoch_idx]\n",
      "/media/Data/isae-supaero/3A/PIE/PIE_2023/src/preprocessing/train.py:43: FutureWarning: The current default of copy=False will change to copy=True in 1.7. Set the value of copy explicitly to avoid this warning\n",
      "  epoch_data = epochs.get_data()[epoch_idx]\n",
      "/media/Data/isae-supaero/3A/PIE/PIE_2023/src/preprocessing/train.py:43: FutureWarning: The current default of copy=False will change to copy=True in 1.7. Set the value of copy explicitly to avoid this warning\n",
      "  epoch_data = epochs.get_data()[epoch_idx]\n",
      "/media/Data/isae-supaero/3A/PIE/PIE_2023/src/preprocessing/train.py:43: FutureWarning: The current default of copy=False will change to copy=True in 1.7. Set the value of copy explicitly to avoid this warning\n",
      "  epoch_data = epochs.get_data()[epoch_idx]\n",
      "/media/Data/isae-supaero/3A/PIE/PIE_2023/src/preprocessing/train.py:43: FutureWarning: The current default of copy=False will change to copy=True in 1.7. Set the value of copy explicitly to avoid this warning\n",
      "  epoch_data = epochs.get_data()[epoch_idx]\n",
      "/media/Data/isae-supaero/3A/PIE/PIE_2023/src/preprocessing/train.py:43: FutureWarning: The current default of copy=False will change to copy=True in 1.7. Set the value of copy explicitly to avoid this warning\n",
      "  epoch_data = epochs.get_data()[epoch_idx]\n",
      "/media/Data/isae-supaero/3A/PIE/PIE_2023/src/preprocessing/train.py:43: FutureWarning: The current default of copy=False will change to copy=True in 1.7. Set the value of copy explicitly to avoid this warning\n",
      "  epoch_data = epochs.get_data()[epoch_idx]\n",
      "/media/Data/isae-supaero/3A/PIE/PIE_2023/src/preprocessing/train.py:43: FutureWarning: The current default of copy=False will change to copy=True in 1.7. Set the value of copy explicitly to avoid this warning\n",
      "  epoch_data = epochs.get_data()[epoch_idx]\n",
      "/media/Data/isae-supaero/3A/PIE/PIE_2023/src/preprocessing/train.py:43: FutureWarning: The current default of copy=False will change to copy=True in 1.7. Set the value of copy explicitly to avoid this warning\n",
      "  epoch_data = epochs.get_data()[epoch_idx]\n",
      "/media/Data/isae-supaero/3A/PIE/PIE_2023/src/preprocessing/train.py:43: FutureWarning: The current default of copy=False will change to copy=True in 1.7. Set the value of copy explicitly to avoid this warning\n",
      "  epoch_data = epochs.get_data()[epoch_idx]\n",
      "INFO:root:\n",
      "--- Creating windows ---\n",
      "INFO:root:\n",
      "--- Creating labels ---\n",
      "/media/Data/isae-supaero/3A/PIE/PIE_2023/src/preprocessing/train.py:65: FutureWarning: The current default of copy=False will change to copy=True in 1.7. Set the value of copy explicitly to avoid this warning\n",
      "  n_epochs, n_channels, n_times = epochs.get_data().shape\n",
      "INFO:root:\n",
      "--- Reshapping windows ---\n"
     ]
    }
   ],
   "source": [
    "PATH_DATA_FOLDER = './data'\n",
    "PATH_DATA_SAMPLE_FOLDER = f'.{PATH_DATA_FOLDER}/sample'\n",
    "PATH_DATA_MPLE_TRIAL1_FILE = f'{PATH_DATA_SAMPLE_FOLDER}/DATA_mple__Trial1.npy'\n",
    "\n",
    "## Parameters for the sliding windows preprocessing\n",
    "side = 'G'\n",
    "fs = 1024   # Sampling frequency\n",
    "low_freq = 10   # low frequency bound\n",
    "high_freq = 50  # high frequency bound\n",
    "epoch_start_time = -1\n",
    "epoch_end_time = 2\n",
    "window_size = 0.25\n",
    "step_size = 0.1\n",
    "pre_duration = -1\n",
    "post_duration = 0\n",
    "\n",
    "n_samples_windows = int(window_size*fs)\n",
    "n_channels = 64\n",
    "\n",
    "data = EEGData(PATH_DATA_MPLE_TRIAL1_FILE)\n",
    "data.preprocess(\n",
    "    side, fs, low_freq, high_freq, window_size, step_size, epoch_start_time, \n",
    "    epoch_end_time, pre_duration, post_duration, verbose=True)"
   ]
  },
  {
   "cell_type": "code",
   "execution_count": 54,
   "metadata": {},
   "outputs": [
    {
     "name": "stdout",
     "output_type": "stream",
     "text": [
      "(280, 64, 256)\n",
      "(280,)\n"
     ]
    }
   ],
   "source": [
    "print(data.windows.shape)\n",
    "print(data.targets.shape)"
   ]
  },
  {
   "cell_type": "markdown",
   "metadata": {},
   "source": [
    "### Data splitting\n",
    "\n",
    "This subsection provides splits of the dataset to created training, validation and testing sets. The proportion that each set represent is as follows:\n",
    "\n",
    "- `train_dataset` = $80\\%$ of $80\\%$ of `dataset` = $64\\%$ of the full dataset\n",
    "- `valid_dataset` = $20\\%$ of $80\\%$ of `dataset` = $16\\%$ of the full dataset\n",
    "- `test_dataset`  = $20\\%$ of `dataset`\n",
    "\n",
    "Note that the dataset is highly disproportionate between samples labeled $0$ (non-motion) and samples labeled $1$ (motion). Hence, we make sure to keep a representative distribution of the samples when splitting the datasets !"
   ]
  },
  {
   "cell_type": "code",
   "execution_count": 55,
   "metadata": {},
   "outputs": [],
   "source": [
    "# Train / test split\n",
    "indx_0 = np.where(data.targets == 0)[0]\n",
    "indx_1 = np.where(data.targets == 1)[0]\n",
    "np.random.shuffle(indx_0)\n",
    "np.random.shuffle(indx_1)\n",
    "\n",
    "train_0_indx = indx_0[:int(len(indx_0)*0.8)]\n",
    "test_0_indx = indx_0[int(len(indx_0)*0.8):]\n",
    "train_1_indx = indx_1[:int(len(indx_1)*0.8)]\n",
    "test_1_indx = indx_1[int(len(indx_1)*0.8):]\n",
    "\n",
    "train_indx = np.concatenate((train_0_indx, train_1_indx))\n",
    "test_indx = np.concatenate((test_0_indx, test_1_indx))\n",
    "\n",
    "trains_windows = data.windows[train_indx, :, :]\n",
    "trains_targets = data.targets[train_indx]\n",
    "test_windows = data.windows[test_indx, :, :]\n",
    "test_targets = data.targets[test_indx]\n"
   ]
  },
  {
   "cell_type": "code",
   "execution_count": 56,
   "metadata": {},
   "outputs": [],
   "source": [
    "# Train / valid split\n",
    "indx_0 = np.where(trains_targets == 0)[0]\n",
    "indx_1 = np.where(trains_targets == 1)[0]\n",
    "np.random.shuffle(indx_0)\n",
    "np.random.shuffle(indx_1)\n",
    "\n",
    "train_0_indx = indx_0[:int(len(indx_0)*0.8)]\n",
    "valid_0_indx = indx_0[int(len(indx_0)*0.8):]\n",
    "train_1_indx = indx_1[:int(len(indx_1)*0.8)]\n",
    "valid_1_indx = indx_1[int(len(indx_1)*0.8):]\n",
    "\n",
    "train_indx = np.concatenate((train_0_indx, train_1_indx))\n",
    "valid_indx = np.concatenate((valid_0_indx, valid_1_indx))\n",
    "\n",
    "train_windows = trains_windows[train_indx, :, :]\n",
    "train_targets = trains_targets[train_indx]\n",
    "valid_windows = trains_windows[valid_indx, :, :]\n",
    "valid_targets = trains_targets[valid_indx]\n"
   ]
  },
  {
   "cell_type": "code",
   "execution_count": 57,
   "metadata": {},
   "outputs": [
    {
     "name": "stdout",
     "output_type": "stream",
     "text": [
      "train windows shape:  (178, 64, 256)\n",
      "train targets shape:  (178,)\n",
      "valid windows shape:  (45, 64, 256)\n",
      "valid targets shape:  (45,)\n",
      "(array([0, 1]), array([99, 79]))\n",
      "(array([0, 1]), array([25, 20]))\n",
      "test windows shape:  (57, 64, 256)\n",
      "test targets shape:  (57,)\n",
      "(array([0, 1]), array([32, 25]))\n"
     ]
    }
   ],
   "source": [
    "# Verify split went well\n",
    "print(\"train windows shape: \", train_windows.shape)\n",
    "print(\"train targets shape: \", train_targets.shape)\n",
    "print(\"valid windows shape: \", valid_windows.shape)\n",
    "print(\"valid targets shape: \", valid_targets.shape)\n",
    "\n",
    "print(np.unique(train_targets, return_counts=True))\n",
    "print(np.unique(valid_targets, return_counts=True))\n",
    "\n",
    "print(\"test windows shape: \", test_windows.shape)\n",
    "print(\"test targets shape: \", test_targets.shape)\n",
    "print(np.unique(test_targets, return_counts=True))"
   ]
  },
  {
   "cell_type": "code",
   "execution_count": 58,
   "metadata": {},
   "outputs": [],
   "source": [
    "# Add cell to perform under/over sampling ?"
   ]
  },
  {
   "cell_type": "markdown",
   "metadata": {},
   "source": [
    "### Dataset definition + loaders\n",
    "\n",
    "Here we define a dataset class that can be used in `torch` dataloaders in order to perform batch training."
   ]
  },
  {
   "cell_type": "code",
   "execution_count": 59,
   "metadata": {},
   "outputs": [],
   "source": [
    "X_train = train_windows\n",
    "y_train = train_targets\n",
    "X_valid = valid_windows\n",
    "y_valid = valid_targets\n",
    "X_test = test_windows\n",
    "y_test = test_targets"
   ]
  },
  {
   "cell_type": "code",
   "execution_count": 60,
   "metadata": {},
   "outputs": [],
   "source": [
    "# Compute statistics of the dataset\n",
    "mean = X_train.mean(axis=0)\n",
    "std = X_train.std(axis=0)"
   ]
  },
  {
   "cell_type": "code",
   "execution_count": 61,
   "metadata": {},
   "outputs": [],
   "source": [
    "class NpArrayDataset(Dataset):\n",
    "    def __init__(\n",
    "        self,\n",
    "        windows: np.ndarray,\n",
    "        targets: np.ndarray,\n",
    "        windows_transforms: Callable = None,\n",
    "        targets_transforms: Callable = None,\n",
    "    ):\n",
    "        self.windows = windows\n",
    "        self.targets = targets\n",
    "        self.windows_transforms = windows_transforms\n",
    "        self.targets_transforms = targets_transforms\n",
    "\n",
    "    def __len__(self):\n",
    "        return self.windows.shape[0]\n",
    "\n",
    "    def __getitem__(self, index: int):\n",
    "        x = self.windows[index]\n",
    "        y = self.targets[index]\n",
    "\n",
    "        if self.windows_transforms is not None:\n",
    "            x = self.windows_transforms(x)\n",
    "        else:\n",
    "            x = torch.tensor(x)\n",
    "\n",
    "        if self.targets_transforms is not None:\n",
    "            y = self.targets_transforms(y)\n",
    "        else:\n",
    "            y = torch.tensor(y)\n",
    "\n",
    "        x = x.float()\n",
    "        y = y.float()\n",
    "        return x, y"
   ]
  },
  {
   "cell_type": "code",
   "execution_count": 62,
   "metadata": {},
   "outputs": [],
   "source": [
    "BATCH_SIZE = 16 # 128\n",
    "\n",
    "# Data loading\n",
    "windows_transforms = transforms.Compose(\n",
    "    [\n",
    "        transforms.ToTensor(),\n",
    "        transforms.Normalize(mean, std),\n",
    "    ]\n",
    ")\n",
    "targets_transforms = None\n",
    "\n",
    "# load the training data\n",
    "train_set = NpArrayDataset(\n",
    "    windows=train_windows,\n",
    "    targets=train_targets,\n",
    "    windows_transforms=windows_transforms,\n",
    "    targets_transforms=targets_transforms,\n",
    ")\n",
    "train_loader = DataLoader(train_set, batch_size=BATCH_SIZE, shuffle=True)\n",
    "\n",
    "# load the validation data\n",
    "valid_set = NpArrayDataset(\n",
    "    windows=valid_windows,\n",
    "    targets=valid_targets,\n",
    "    windows_transforms=windows_transforms,\n",
    "    targets_transforms=targets_transforms,\n",
    ")\n",
    "valid_loader = DataLoader(valid_set, batch_size=BATCH_SIZE, shuffle=True)"
   ]
  },
  {
   "cell_type": "code",
   "execution_count": 63,
   "metadata": {},
   "outputs": [
    {
     "data": {
      "text/plain": [
       "12"
      ]
     },
     "execution_count": 63,
     "metadata": {},
     "output_type": "execute_result"
    }
   ],
   "source": [
    "len(train_loader)"
   ]
  },
  {
   "cell_type": "markdown",
   "metadata": {},
   "source": [
    "## Classification\n",
    "\n",
    "With the data now as clean as possible, it is time to choose and train a classification model."
   ]
  },
  {
   "cell_type": "code",
   "execution_count": 68,
   "metadata": {},
   "outputs": [
    {
     "name": "stdout",
     "output_type": "stream",
     "text": [
      "Accuracy: 0.5263157894736842\n",
      "F1-score: 0.0\n"
     ]
    }
   ],
   "source": [
    "from sklearn.svm import SVC\n",
    "from sklearn.metrics import accuracy_score, f1_score\n",
    "\n",
    "X_train_bis = X_train.mean(axis=1)\n",
    "X_test_bis = X_test.mean(axis=1)\n",
    "\n",
    "clf = SVC(kernel='rbf')\n",
    "clf.fit(X_train_bis, y_train)\n",
    "\n",
    "y_pred = clf.predict(X_test_bis)\n",
    "\n",
    "print(f\"Accuracy: {accuracy_score(y_test, y_pred)}\")\n",
    "print(f\"F1-score: {f1_score(y_test, y_pred)}\")\n"
   ]
  },
  {
   "cell_type": "markdown",
   "metadata": {},
   "source": [
    "### Training"
   ]
  },
  {
   "cell_type": "code",
   "execution_count": null,
   "metadata": {},
   "outputs": [],
   "source": [
    "DEVICE = torch.device(\"cuda\" if torch.cuda.is_available() else \"cpu\")\n",
    "EPOCHS = 20\n",
    "LEARNING_RATE = 1e-3\n",
    "WEIGHT_DECAY = 1e-4\n",
    "MOMENTUM = 0.9"
   ]
  },
  {
   "cell_type": "code",
   "execution_count": null,
   "metadata": {},
   "outputs": [],
   "source": [
    "# Classifier choice\n",
    "MODEL_NAME = \"CNN_Windows\"\n",
    "MODEL_PATH = \"models/\" + MODEL_NAME + \"_\" + data.session_id + \".pt\"\n",
    "model = CNN_Windows(nb_channels=n_channels, \n",
    "                    windows_len=n_samples_windows)\n",
    "# model.summary()\n",
    "\n",
    "# Send to DEVICE\n",
    "model = model.to(DEVICE)\n",
    "model = model.float()\n",
    "\n",
    "# Optimizer and loss\n",
    "optimizer = optim.Adam(model.parameters(), \n",
    "                       lr=LEARNING_RATE, \n",
    "                       weight_decay=WEIGHT_DECAY)\n",
    "criterion = nn.BCELoss()\n"
   ]
  },
  {
   "cell_type": "code",
   "execution_count": null,
   "metadata": {},
   "outputs": [
    {
     "name": "stdout",
     "output_type": "stream",
     "text": [
      "Batch     0, curr loss = 68.750\n",
      "Batch     2, curr loss = 81.250\n",
      "Batch     4, curr loss = 68.750\n",
      "Batch     6, curr loss = 56.250\n",
      "Batch     8, curr loss = 43.750\n",
      "Batch    10, curr loss = 56.250\n",
      "EPOCH=0, TRAIN=51.5625, VALID=55.448717753092446\n",
      "Batch     0, curr loss = 43.750\n",
      "Batch     2, curr loss = 56.250\n",
      "Batch     4, curr loss = 43.750\n",
      "Batch     6, curr loss = 56.250\n",
      "Batch     8, curr loss = 50.000\n",
      "Batch    10, curr loss = 56.250\n",
      "EPOCH=1, TRAIN=58.854166666666664, VALID=55.92948659261068\n",
      "Batch     0, curr loss = 62.500\n",
      "Batch     2, curr loss = 56.250\n",
      "Batch     4, curr loss = 31.250\n",
      "Batch     6, curr loss = 43.750\n",
      "Batch     8, curr loss = 62.500\n",
      "Batch    10, curr loss = 62.500\n",
      "EPOCH=2, TRAIN=58.854166666666664, VALID=56.410255432128906\n",
      "Batch     0, curr loss = 62.500\n",
      "Batch     2, curr loss = 56.250\n",
      "Batch     4, curr loss = 37.500\n",
      "Batch     6, curr loss = 56.250\n",
      "Batch     8, curr loss = 50.000\n",
      "Batch    10, curr loss = 62.500\n",
      "EPOCH=3, TRAIN=58.854166666666664, VALID=54.48718007405599\n",
      "Batch     0, curr loss = 50.000\n",
      "Batch     2, curr loss = 56.250\n",
      "Batch     4, curr loss = 62.500\n",
      "Batch     6, curr loss = 31.250\n",
      "Batch     8, curr loss = 62.500\n",
      "Batch    10, curr loss = 68.750\n",
      "EPOCH=4, TRAIN=55.208333333333336, VALID=55.92948659261068\n",
      "Batch     0, curr loss = 68.750\n",
      "Batch     2, curr loss = 68.750\n",
      "Batch     4, curr loss = 68.750\n",
      "Batch     6, curr loss = 75.000\n",
      "Batch     8, curr loss = 62.500\n",
      "Batch    10, curr loss = 37.500\n",
      "EPOCH=5, TRAIN=55.208333333333336, VALID=55.448717753092446\n",
      "Batch     0, curr loss = 50.000\n",
      "Batch     2, curr loss = 37.500\n",
      "Batch     4, curr loss = 56.250\n",
      "Batch     6, curr loss = 68.750\n",
      "Batch     8, curr loss = 68.750\n",
      "Batch    10, curr loss = 43.750\n",
      "EPOCH=6, TRAIN=55.208333333333336, VALID=56.89102681477865\n",
      "Batch     0, curr loss = 56.250\n",
      "Batch     2, curr loss = 56.250\n",
      "Batch     4, curr loss = 81.250\n",
      "Batch     6, curr loss = 50.000\n",
      "Batch     8, curr loss = 50.000\n",
      "Batch    10, curr loss = 31.250\n",
      "EPOCH=7, TRAIN=55.208333333333336, VALID=56.410255432128906\n",
      "Batch     0, curr loss = 62.500\n",
      "Batch     2, curr loss = 75.000\n",
      "Batch     4, curr loss = 50.000\n",
      "Batch     6, curr loss = 37.500\n",
      "Batch     8, curr loss = 43.750\n",
      "Batch    10, curr loss = 50.000\n",
      "EPOCH=8, TRAIN=58.854166666666664, VALID=54.96794891357422\n",
      "Batch     0, curr loss = 31.250\n",
      "Batch     2, curr loss = 50.000\n",
      "Batch     4, curr loss = 75.000\n",
      "Batch     6, curr loss = 56.250\n",
      "Batch     8, curr loss = 62.500\n",
      "Batch    10, curr loss = 87.500\n",
      "EPOCH=9, TRAIN=55.208333333333336, VALID=56.89102681477865\n",
      "Batch     0, curr loss = 62.500\n",
      "Batch     2, curr loss = 68.750\n",
      "Batch     4, curr loss = 43.750\n",
      "Batch     6, curr loss = 43.750\n",
      "Batch     8, curr loss = 50.000\n",
      "Batch    10, curr loss = 43.750\n",
      "EPOCH=10, TRAIN=55.208333333333336, VALID=56.410255432128906\n",
      "Batch     0, curr loss = 68.750\n",
      "Batch     2, curr loss = 62.500\n",
      "Batch     4, curr loss = 50.000\n",
      "Batch     6, curr loss = 56.250\n",
      "Batch     8, curr loss = 56.250\n",
      "Batch    10, curr loss = 62.500\n",
      "EPOCH=11, TRAIN=51.5625, VALID=54.48718007405599\n",
      "Batch     0, curr loss = 50.000\n",
      "Batch     2, curr loss = 50.000\n",
      "Batch     4, curr loss = 37.500\n",
      "Batch     6, curr loss = 31.250\n",
      "Batch     8, curr loss = 50.000\n",
      "Batch    10, curr loss = 68.750\n",
      "EPOCH=12, TRAIN=55.208333333333336, VALID=55.448717753092446\n",
      "Batch     0, curr loss = 56.250\n",
      "Batch     2, curr loss = 68.750\n",
      "Batch     4, curr loss = 68.750\n",
      "Batch     6, curr loss = 25.000\n",
      "Batch     8, curr loss = 50.000\n",
      "Batch    10, curr loss = 62.500\n",
      "EPOCH=13, TRAIN=58.854166666666664, VALID=56.410255432128906\n",
      "Batch     0, curr loss = 50.000\n",
      "Batch     2, curr loss = 50.000\n",
      "Batch     4, curr loss = 56.250\n",
      "Batch     6, curr loss = 43.750\n",
      "Batch     8, curr loss = 62.500\n",
      "Batch    10, curr loss = 43.750\n",
      "EPOCH=14, TRAIN=58.854166666666664, VALID=55.92948659261068\n",
      "Batch     0, curr loss = 56.250\n",
      "Batch     2, curr loss = 50.000\n",
      "Batch     4, curr loss = 56.250\n",
      "Batch     6, curr loss = 68.750\n",
      "Batch     8, curr loss = 31.250\n",
      "Batch    10, curr loss = 50.000\n",
      "EPOCH=15, TRAIN=55.208333333333336, VALID=55.448717753092446\n",
      "Batch     0, curr loss = 50.000\n",
      "Batch     2, curr loss = 68.750\n",
      "Batch     4, curr loss = 56.250\n",
      "Batch     6, curr loss = 62.500\n",
      "Batch     8, curr loss = 56.250\n",
      "Batch    10, curr loss = 37.500\n",
      "EPOCH=16, TRAIN=55.208333333333336, VALID=55.448717753092446\n",
      "Batch     0, curr loss = 56.250\n",
      "Batch     2, curr loss = 62.500\n",
      "Batch     4, curr loss = 62.500\n",
      "Batch     6, curr loss = 68.750\n",
      "Batch     8, curr loss = 50.000\n",
      "Batch    10, curr loss = 56.250\n",
      "EPOCH=17, TRAIN=58.854166666666664, VALID=54.00640996297201\n",
      "Batch     0, curr loss = 50.000\n",
      "Batch     2, curr loss = 56.250\n",
      "Batch     4, curr loss = 50.000\n",
      "Batch     6, curr loss = 56.250\n",
      "Batch     8, curr loss = 37.500\n",
      "Batch    10, curr loss = 68.750\n",
      "EPOCH=18, TRAIN=58.854166666666664, VALID=55.92948659261068\n",
      "Batch     0, curr loss = 75.000\n",
      "Batch     2, curr loss = 50.000\n",
      "Batch     4, curr loss = 56.250\n",
      "Batch     6, curr loss = 62.500\n",
      "Batch     8, curr loss = 50.000\n",
      "Batch    10, curr loss = 56.250\n",
      "EPOCH=19, TRAIN=58.854166666666664, VALID=54.96794891357422\n"
     ]
    }
   ],
   "source": [
    "# First training\n",
    "train_loss, valid_loss = train_model(model, \n",
    "                                     optimizer, \n",
    "                                     criterion,\n",
    "                                     EPOCHS,\n",
    "                                     train_loader,\n",
    "                                     valid_loader,\n",
    "                                     DEVICE,\n",
    "                                     early_stop=False, \n",
    "                                     early_cntr=5,\n",
    "                                     checkpoint=True, \n",
    "                                     model_path=MODEL_PATH)\n"
   ]
  },
  {
   "cell_type": "code",
   "execution_count": null,
   "metadata": {},
   "outputs": [
    {
     "data": {
      "image/png": "[encoded data removed]",
      "text/plain": [
       "<Figure size 640x480 with 1 Axes>"
      ]
     },
     "metadata": {},
     "output_type": "display_data"
    }
   ],
   "source": [
    "# Plot training / validation loss\n",
    "plt.plot(train_loss, label=\"Training Loss\")\n",
    "plt.plot(valid_loss, label=\"Validation Loss\")\n",
    "plt.xlabel(\"No. of Epochs\")\n",
    "plt.ylabel(\"Loss\")\n",
    "plt.legend(frameon=False)\n",
    "plt.show()"
   ]
  },
  {
   "cell_type": "markdown",
   "metadata": {},
   "source": [
    "### Metrics & performances"
   ]
  },
  {
   "cell_type": "code",
   "execution_count": null,
   "metadata": {},
   "outputs": [],
   "source": [
    "# Define test dataset\n",
    "test_ds = NpArrayDataset(\n",
    "    windows=test_windows,\n",
    "    targets=test_targets,\n",
    "    windows_transforms=windows_transforms,\n",
    "    targets_transforms=targets_transforms,\n",
    ")"
   ]
  },
  {
   "cell_type": "code",
   "execution_count": null,
   "metadata": {},
   "outputs": [
    {
     "name": "stderr",
     "output_type": "stream",
     "text": [
      "predicting: 100%|██████████| 32/32 [00:00<00:00, 963.67it/s]\n"
     ]
    }
   ],
   "source": [
    "# Perform predictions\n",
    "import tqdm\n",
    "\n",
    "y_true = []\n",
    "y_pred = []\n",
    "threshold = 0.5\n",
    "\n",
    "# Send model to correct device\n",
    "model.to(DEVICE)\n",
    "# Put model in evaluatio mode (very important)\n",
    "model.eval()\n",
    "\n",
    "# Disable all gradients things\n",
    "with torch.no_grad():\n",
    "    for x, y_t in tqdm.tqdm(test_ds, \"predicting\"):\n",
    "        x = x.reshape((-1,) + x.shape)\n",
    "        x = x.to(DEVICE)\n",
    "        y = model.forward(x)\n",
    "        y = y.to(\"cpu\").numpy()\n",
    "        y_t = int(y_t.to(\"cpu\").numpy())\n",
    "        y_pred.append(y)\n",
    "        y_true.append(y_t)\n",
    "y_pred = np.concatenate(y_pred, axis=0)\n",
    "y_true = np.asarray(y_true)"
   ]
  },
  {
   "cell_type": "code",
   "execution_count": null,
   "metadata": {},
   "outputs": [
    {
     "name": "stdout",
     "output_type": "stream",
     "text": [
      "TN: 0,\n",
      "FP: 32,\n",
      "FN: 0,\n",
      "TP: 0\n",
      "Accuracy : 0.0\n",
      "Recall   : 0.0\n",
      "Precision: 0.0\n",
      "F1: 0.0\n"
     ]
    },
    {
     "name": "stderr",
     "output_type": "stream",
     "text": [
      "/media/Data/envs/EEGstroke/lib/python3.8/site-packages/sklearn/metrics/_classification.py:1471: UndefinedMetricWarning: Recall is ill-defined and being set to 0.0 due to no true samples. Use `zero_division` parameter to control this behavior.\n",
      "  _warn_prf(average, modifier, msg_start, len(result))\n"
     ]
    },
    {
     "data": {
      "text/plain": [
       "{'tn': 0,\n",
       " 'fp': 32,\n",
       " 'fn': 0,\n",
       " 'tp': 0,\n",
       " 'acc': 0.0,\n",
       " 'rec': 0.0,\n",
       " 'pre': 0.0,\n",
       " 'f1': 0.0}"
      ]
     },
     "execution_count": 24,
     "metadata": {},
     "output_type": "execute_result"
    }
   ],
   "source": [
    "compute_prediction_scores(y_true, y_pred, verbose=True)"
   ]
  },
  {
   "cell_type": "markdown",
   "metadata": {},
   "source": [
    "#### ROC curves"
   ]
  },
  {
   "cell_type": "code",
   "execution_count": null,
   "metadata": {},
   "outputs": [
    {
     "name": "stdout",
     "output_type": "stream",
     "text": [
      "ROC AUC: nan\n"
     ]
    },
    {
     "name": "stderr",
     "output_type": "stream",
     "text": [
      "/media/Data/envs/EEGstroke/lib/python3.8/site-packages/sklearn/metrics/_ranking.py:1133: UndefinedMetricWarning: No positive samples in y_true, true positive value should be meaningless\n",
      "  warnings.warn(\n"
     ]
    },
    {
     "data": {
      "image/png": "[encoded data removed]",
      "text/plain": [
       "<Figure size 800x800 with 1 Axes>"
      ]
     },
     "metadata": {},
     "output_type": "display_data"
    },
    {
     "ename": "AttributeError",
     "evalue": "FancyArrowPatch.set() got an unexpected keyword argument 'shrink'",
     "output_type": "error",
     "traceback": [
      "\u001b[0;31m---------------------------------------------------------------------------\u001b[0m",
      "\u001b[0;31mAttributeError\u001b[0m                            Traceback (most recent call last)",
      "Cell \u001b[0;32mIn[26], line 3\u001b[0m\n\u001b[1;32m      1\u001b[0m \u001b[38;5;66;03m# We round predictions every 0.05 for readability\u001b[39;00m\n\u001b[1;32m      2\u001b[0m y_pred_probas \u001b[38;5;241m=\u001b[39m (y_pred[:, \u001b[38;5;241m0\u001b[39m] \u001b[38;5;241m/\u001b[39m \u001b[38;5;241m0.05\u001b[39m)\u001b[38;5;241m.\u001b[39mastype(\u001b[38;5;28mint\u001b[39m) \u001b[38;5;241m*\u001b[39m \u001b[38;5;241m0.05\u001b[39m\n\u001b[0;32m----> 3\u001b[0m \u001b[43mROC_curve\u001b[49m\u001b[43m(\u001b[49m\u001b[43my_true\u001b[49m\u001b[43m,\u001b[49m\u001b[43m \u001b[49m\u001b[43my_pred_probas\u001b[49m\u001b[43m,\u001b[49m\u001b[43m \u001b[49m\u001b[43mverbose\u001b[49m\u001b[38;5;241;43m=\u001b[39;49m\u001b[38;5;28;43;01mTrue\u001b[39;49;00m\u001b[43m,\u001b[49m\u001b[43m \u001b[49m\u001b[43mdisplay\u001b[49m\u001b[38;5;241;43m=\u001b[39;49m\u001b[38;5;28;43;01mTrue\u001b[39;49;00m\u001b[43m,\u001b[49m\u001b[43m \u001b[49m\u001b[43msavefig\u001b[49m\u001b[38;5;241;43m=\u001b[39;49m\u001b[38;5;28;43;01mFalse\u001b[39;49;00m\u001b[43m)\u001b[49m\n",
      "File \u001b[0;32m/media/Data/isae-supaero/3A/PIE/PIE_2023/src/classif/perfs.py:97\u001b[0m, in \u001b[0;36mROC_curve\u001b[0;34m(y_test, y_pred_proba, verbose, display, savefig)\u001b[0m\n\u001b[1;32m     94\u001b[0m plt\u001b[38;5;241m.\u001b[39mtitle(\u001b[38;5;124m\"\u001b[39m\u001b[38;5;124mROC curve\u001b[39m\u001b[38;5;124m\"\u001b[39m)\n\u001b[1;32m     96\u001b[0m \u001b[38;5;28;01mfor\u001b[39;00m tp, fp, th \u001b[38;5;129;01min\u001b[39;00m \u001b[38;5;28mzip\u001b[39m(tpr, fpr, thresholds):\n\u001b[0;32m---> 97\u001b[0m     \u001b[43mplt\u001b[49m\u001b[38;5;241;43m.\u001b[39;49m\u001b[43mannotate\u001b[49m\u001b[43m(\u001b[49m\n\u001b[1;32m     98\u001b[0m \u001b[43m        \u001b[49m\u001b[43mnp\u001b[49m\u001b[38;5;241;43m.\u001b[39;49m\u001b[43mround\u001b[49m\u001b[43m(\u001b[49m\u001b[43mth\u001b[49m\u001b[43m,\u001b[49m\u001b[43m \u001b[49m\u001b[38;5;241;43m2\u001b[39;49m\u001b[43m)\u001b[49m\u001b[43m,\u001b[49m\n\u001b[1;32m     99\u001b[0m \u001b[43m        \u001b[49m\u001b[43mxy\u001b[49m\u001b[38;5;241;43m=\u001b[39;49m\u001b[43m(\u001b[49m\u001b[43mfp\u001b[49m\u001b[43m,\u001b[49m\u001b[43m \u001b[49m\u001b[43mtp\u001b[49m\u001b[43m)\u001b[49m\u001b[43m,\u001b[49m\n\u001b[1;32m    100\u001b[0m \u001b[43m        \u001b[49m\u001b[43mxytext\u001b[49m\u001b[38;5;241;43m=\u001b[39;49m\u001b[43m(\u001b[49m\u001b[43mfp\u001b[49m\u001b[43m \u001b[49m\u001b[38;5;241;43m+\u001b[39;49m\u001b[43m \u001b[49m\u001b[38;5;241;43m0.15\u001b[39;49m\u001b[43m,\u001b[49m\u001b[43m \u001b[49m\u001b[43mtp\u001b[49m\u001b[43m \u001b[49m\u001b[38;5;241;43m-\u001b[39;49m\u001b[43m \u001b[49m\u001b[38;5;241;43m0.15\u001b[39;49m\u001b[43m)\u001b[49m\u001b[43m,\u001b[49m\n\u001b[1;32m    101\u001b[0m \u001b[43m        \u001b[49m\u001b[43marrowprops\u001b[49m\u001b[38;5;241;43m=\u001b[39;49m\u001b[38;5;28;43mdict\u001b[39;49m\u001b[43m(\u001b[49m\u001b[43mfacecolor\u001b[49m\u001b[38;5;241;43m=\u001b[39;49m\u001b[38;5;124;43m\"\u001b[39;49m\u001b[38;5;124;43mblack\u001b[39;49m\u001b[38;5;124;43m\"\u001b[39;49m\u001b[43m,\u001b[49m\n\u001b[1;32m    102\u001b[0m \u001b[43m                        \u001b[49m\u001b[43mshrink\u001b[49m\u001b[38;5;241;43m=\u001b[39;49m\u001b[38;5;241;43m0.05\u001b[39;49m\u001b[43m,\u001b[49m\n\u001b[1;32m    103\u001b[0m \u001b[43m                        \u001b[49m\u001b[43marrowstyle\u001b[49m\u001b[38;5;241;43m=\u001b[39;49m\u001b[38;5;124;43m\"\u001b[39;49m\u001b[38;5;124;43m->\u001b[39;49m\u001b[38;5;124;43m\"\u001b[39;49m\u001b[43m,\u001b[49m\n\u001b[1;32m    104\u001b[0m \u001b[43m                        \u001b[49m\u001b[43mconnectionstyle\u001b[49m\u001b[38;5;241;43m=\u001b[39;49m\u001b[38;5;124;43m\"\u001b[39;49m\u001b[38;5;124;43marc3,rad=0.3\u001b[39;49m\u001b[38;5;124;43m\"\u001b[39;49m\u001b[43m)\u001b[49m\n\u001b[1;32m    105\u001b[0m \u001b[43m    \u001b[49m\u001b[43m)\u001b[49m\n\u001b[1;32m    107\u001b[0m \u001b[38;5;28;01mif\u001b[39;00m savefig:\n\u001b[1;32m    108\u001b[0m     plt\u001b[38;5;241m.\u001b[39msavefig(\u001b[38;5;124m\"\u001b[39m\u001b[38;5;124mROC_curve.png\u001b[39m\u001b[38;5;124m\"\u001b[39m)\n",
      "File \u001b[0;32m/media/Data/envs/EEGstroke/lib/python3.8/site-packages/matplotlib/pyplot.py:2380\u001b[0m, in \u001b[0;36mannotate\u001b[0;34m(text, xy, xytext, xycoords, textcoords, arrowprops, annotation_clip, **kwargs)\u001b[0m\n\u001b[1;32m   2376\u001b[0m \u001b[38;5;129m@_copy_docstring_and_deprecators\u001b[39m(Axes\u001b[38;5;241m.\u001b[39mannotate)\n\u001b[1;32m   2377\u001b[0m \u001b[38;5;28;01mdef\u001b[39;00m \u001b[38;5;21mannotate\u001b[39m(\n\u001b[1;32m   2378\u001b[0m         text, xy, xytext\u001b[38;5;241m=\u001b[39m\u001b[38;5;28;01mNone\u001b[39;00m, xycoords\u001b[38;5;241m=\u001b[39m\u001b[38;5;124m'\u001b[39m\u001b[38;5;124mdata\u001b[39m\u001b[38;5;124m'\u001b[39m, textcoords\u001b[38;5;241m=\u001b[39m\u001b[38;5;28;01mNone\u001b[39;00m,\n\u001b[1;32m   2379\u001b[0m         arrowprops\u001b[38;5;241m=\u001b[39m\u001b[38;5;28;01mNone\u001b[39;00m, annotation_clip\u001b[38;5;241m=\u001b[39m\u001b[38;5;28;01mNone\u001b[39;00m, \u001b[38;5;241m*\u001b[39m\u001b[38;5;241m*\u001b[39mkwargs):\n\u001b[0;32m-> 2380\u001b[0m     \u001b[38;5;28;01mreturn\u001b[39;00m \u001b[43mgca\u001b[49m\u001b[43m(\u001b[49m\u001b[43m)\u001b[49m\u001b[38;5;241;43m.\u001b[39;49m\u001b[43mannotate\u001b[49m\u001b[43m(\u001b[49m\n\u001b[1;32m   2381\u001b[0m \u001b[43m        \u001b[49m\u001b[43mtext\u001b[49m\u001b[43m,\u001b[49m\u001b[43m \u001b[49m\u001b[43mxy\u001b[49m\u001b[43m,\u001b[49m\u001b[43m \u001b[49m\u001b[43mxytext\u001b[49m\u001b[38;5;241;43m=\u001b[39;49m\u001b[43mxytext\u001b[49m\u001b[43m,\u001b[49m\u001b[43m \u001b[49m\u001b[43mxycoords\u001b[49m\u001b[38;5;241;43m=\u001b[39;49m\u001b[43mxycoords\u001b[49m\u001b[43m,\u001b[49m\n\u001b[1;32m   2382\u001b[0m \u001b[43m        \u001b[49m\u001b[43mtextcoords\u001b[49m\u001b[38;5;241;43m=\u001b[39;49m\u001b[43mtextcoords\u001b[49m\u001b[43m,\u001b[49m\u001b[43m \u001b[49m\u001b[43marrowprops\u001b[49m\u001b[38;5;241;43m=\u001b[39;49m\u001b[43marrowprops\u001b[49m\u001b[43m,\u001b[49m\n\u001b[1;32m   2383\u001b[0m \u001b[43m        \u001b[49m\u001b[43mannotation_clip\u001b[49m\u001b[38;5;241;43m=\u001b[39;49m\u001b[43mannotation_clip\u001b[49m\u001b[43m,\u001b[49m\u001b[43m \u001b[49m\u001b[38;5;241;43m*\u001b[39;49m\u001b[38;5;241;43m*\u001b[39;49m\u001b[43mkwargs\u001b[49m\u001b[43m)\u001b[49m\n",
      "File \u001b[0;32m/media/Data/envs/EEGstroke/lib/python3.8/site-packages/matplotlib/axes/_axes.py:699\u001b[0m, in \u001b[0;36mAxes.annotate\u001b[0;34m(self, text, xy, xytext, xycoords, textcoords, arrowprops, annotation_clip, **kwargs)\u001b[0m\n\u001b[1;32m    694\u001b[0m \u001b[38;5;129m@_docstring\u001b[39m\u001b[38;5;241m.\u001b[39mdedent_interpd\n\u001b[1;32m    695\u001b[0m \u001b[38;5;28;01mdef\u001b[39;00m \u001b[38;5;21mannotate\u001b[39m(\u001b[38;5;28mself\u001b[39m, text, xy, xytext\u001b[38;5;241m=\u001b[39m\u001b[38;5;28;01mNone\u001b[39;00m, xycoords\u001b[38;5;241m=\u001b[39m\u001b[38;5;124m'\u001b[39m\u001b[38;5;124mdata\u001b[39m\u001b[38;5;124m'\u001b[39m, textcoords\u001b[38;5;241m=\u001b[39m\u001b[38;5;28;01mNone\u001b[39;00m,\n\u001b[1;32m    696\u001b[0m              arrowprops\u001b[38;5;241m=\u001b[39m\u001b[38;5;28;01mNone\u001b[39;00m, annotation_clip\u001b[38;5;241m=\u001b[39m\u001b[38;5;28;01mNone\u001b[39;00m, \u001b[38;5;241m*\u001b[39m\u001b[38;5;241m*\u001b[39mkwargs):\n\u001b[1;32m    697\u001b[0m     \u001b[38;5;66;03m# Signature must match Annotation. This is verified in\u001b[39;00m\n\u001b[1;32m    698\u001b[0m     \u001b[38;5;66;03m# test_annotate_signature().\u001b[39;00m\n\u001b[0;32m--> 699\u001b[0m     a \u001b[38;5;241m=\u001b[39m \u001b[43mmtext\u001b[49m\u001b[38;5;241;43m.\u001b[39;49m\u001b[43mAnnotation\u001b[49m\u001b[43m(\u001b[49m\u001b[43mtext\u001b[49m\u001b[43m,\u001b[49m\u001b[43m \u001b[49m\u001b[43mxy\u001b[49m\u001b[43m,\u001b[49m\u001b[43m \u001b[49m\u001b[43mxytext\u001b[49m\u001b[38;5;241;43m=\u001b[39;49m\u001b[43mxytext\u001b[49m\u001b[43m,\u001b[49m\u001b[43m \u001b[49m\u001b[43mxycoords\u001b[49m\u001b[38;5;241;43m=\u001b[39;49m\u001b[43mxycoords\u001b[49m\u001b[43m,\u001b[49m\n\u001b[1;32m    700\u001b[0m \u001b[43m                         \u001b[49m\u001b[43mtextcoords\u001b[49m\u001b[38;5;241;43m=\u001b[39;49m\u001b[43mtextcoords\u001b[49m\u001b[43m,\u001b[49m\u001b[43m \u001b[49m\u001b[43marrowprops\u001b[49m\u001b[38;5;241;43m=\u001b[39;49m\u001b[43marrowprops\u001b[49m\u001b[43m,\u001b[49m\n\u001b[1;32m    701\u001b[0m \u001b[43m                         \u001b[49m\u001b[43mannotation_clip\u001b[49m\u001b[38;5;241;43m=\u001b[39;49m\u001b[43mannotation_clip\u001b[49m\u001b[43m,\u001b[49m\u001b[43m \u001b[49m\u001b[38;5;241;43m*\u001b[39;49m\u001b[38;5;241;43m*\u001b[39;49m\u001b[43mkwargs\u001b[49m\u001b[43m)\u001b[49m\n\u001b[1;32m    702\u001b[0m     a\u001b[38;5;241m.\u001b[39mset_transform(mtransforms\u001b[38;5;241m.\u001b[39mIdentityTransform())\n\u001b[1;32m    703\u001b[0m     \u001b[38;5;28;01mif\u001b[39;00m \u001b[38;5;124m'\u001b[39m\u001b[38;5;124mclip_on\u001b[39m\u001b[38;5;124m'\u001b[39m \u001b[38;5;129;01min\u001b[39;00m kwargs:\n",
      "File \u001b[0;32m/media/Data/envs/EEGstroke/lib/python3.8/site-packages/matplotlib/text.py:1880\u001b[0m, in \u001b[0;36mAnnotation.__init__\u001b[0;34m(self, text, xy, xytext, xycoords, textcoords, arrowprops, annotation_clip, **kwargs)\u001b[0m\n\u001b[1;32m   1877\u001b[0m         \u001b[38;5;28;01mfor\u001b[39;00m key \u001b[38;5;129;01min\u001b[39;00m [\n\u001b[1;32m   1878\u001b[0m                 \u001b[38;5;124m'\u001b[39m\u001b[38;5;124mwidth\u001b[39m\u001b[38;5;124m'\u001b[39m, \u001b[38;5;124m'\u001b[39m\u001b[38;5;124mheadwidth\u001b[39m\u001b[38;5;124m'\u001b[39m, \u001b[38;5;124m'\u001b[39m\u001b[38;5;124mheadlength\u001b[39m\u001b[38;5;124m'\u001b[39m, \u001b[38;5;124m'\u001b[39m\u001b[38;5;124mshrink\u001b[39m\u001b[38;5;124m'\u001b[39m, \u001b[38;5;124m'\u001b[39m\u001b[38;5;124mfrac\u001b[39m\u001b[38;5;124m'\u001b[39m]:\n\u001b[1;32m   1879\u001b[0m             arrowprops\u001b[38;5;241m.\u001b[39mpop(key, \u001b[38;5;28;01mNone\u001b[39;00m)\n\u001b[0;32m-> 1880\u001b[0m     \u001b[38;5;28mself\u001b[39m\u001b[38;5;241m.\u001b[39marrow_patch \u001b[38;5;241m=\u001b[39m \u001b[43mFancyArrowPatch\u001b[49m\u001b[43m(\u001b[49m\u001b[43m(\u001b[49m\u001b[38;5;241;43m0\u001b[39;49m\u001b[43m,\u001b[49m\u001b[43m \u001b[49m\u001b[38;5;241;43m0\u001b[39;49m\u001b[43m)\u001b[49m\u001b[43m,\u001b[49m\u001b[43m \u001b[49m\u001b[43m(\u001b[49m\u001b[38;5;241;43m1\u001b[39;49m\u001b[43m,\u001b[49m\u001b[43m \u001b[49m\u001b[38;5;241;43m1\u001b[39;49m\u001b[43m)\u001b[49m\u001b[43m,\u001b[49m\u001b[43m \u001b[49m\u001b[38;5;241;43m*\u001b[39;49m\u001b[38;5;241;43m*\u001b[39;49m\u001b[43marrowprops\u001b[49m\u001b[43m)\u001b[49m\n\u001b[1;32m   1881\u001b[0m \u001b[38;5;28;01melse\u001b[39;00m:\n\u001b[1;32m   1882\u001b[0m     \u001b[38;5;28mself\u001b[39m\u001b[38;5;241m.\u001b[39marrow_patch \u001b[38;5;241m=\u001b[39m \u001b[38;5;28;01mNone\u001b[39;00m\n",
      "File \u001b[0;32m/media/Data/envs/EEGstroke/lib/python3.8/site-packages/matplotlib/_api/deprecation.py:454\u001b[0m, in \u001b[0;36mmake_keyword_only.<locals>.wrapper\u001b[0;34m(*args, **kwargs)\u001b[0m\n\u001b[1;32m    448\u001b[0m \u001b[38;5;28;01mif\u001b[39;00m \u001b[38;5;28mlen\u001b[39m(args) \u001b[38;5;241m>\u001b[39m name_idx:\n\u001b[1;32m    449\u001b[0m     warn_deprecated(\n\u001b[1;32m    450\u001b[0m         since, message\u001b[38;5;241m=\u001b[39m\u001b[38;5;124m\"\u001b[39m\u001b[38;5;124mPassing the \u001b[39m\u001b[38;5;132;01m%(name)s\u001b[39;00m\u001b[38;5;124m \u001b[39m\u001b[38;5;132;01m%(obj_type)s\u001b[39;00m\u001b[38;5;124m \u001b[39m\u001b[38;5;124m\"\u001b[39m\n\u001b[1;32m    451\u001b[0m         \u001b[38;5;124m\"\u001b[39m\u001b[38;5;124mpositionally is deprecated since Matplotlib \u001b[39m\u001b[38;5;132;01m%(since)s\u001b[39;00m\u001b[38;5;124m; the \u001b[39m\u001b[38;5;124m\"\u001b[39m\n\u001b[1;32m    452\u001b[0m         \u001b[38;5;124m\"\u001b[39m\u001b[38;5;124mparameter will become keyword-only \u001b[39m\u001b[38;5;132;01m%(removal)s\u001b[39;00m\u001b[38;5;124m.\u001b[39m\u001b[38;5;124m\"\u001b[39m,\n\u001b[1;32m    453\u001b[0m         name\u001b[38;5;241m=\u001b[39mname, obj_type\u001b[38;5;241m=\u001b[39m\u001b[38;5;124mf\u001b[39m\u001b[38;5;124m\"\u001b[39m\u001b[38;5;124mparameter of \u001b[39m\u001b[38;5;132;01m{\u001b[39;00mfunc\u001b[38;5;241m.\u001b[39m\u001b[38;5;18m__name__\u001b[39m\u001b[38;5;132;01m}\u001b[39;00m\u001b[38;5;124m()\u001b[39m\u001b[38;5;124m\"\u001b[39m)\n\u001b[0;32m--> 454\u001b[0m \u001b[38;5;28;01mreturn\u001b[39;00m \u001b[43mfunc\u001b[49m\u001b[43m(\u001b[49m\u001b[38;5;241;43m*\u001b[39;49m\u001b[43margs\u001b[49m\u001b[43m,\u001b[49m\u001b[43m \u001b[49m\u001b[38;5;241;43m*\u001b[39;49m\u001b[38;5;241;43m*\u001b[39;49m\u001b[43mkwargs\u001b[49m\u001b[43m)\u001b[49m\n",
      "File \u001b[0;32m/media/Data/envs/EEGstroke/lib/python3.8/site-packages/matplotlib/patches.py:4127\u001b[0m, in \u001b[0;36mFancyArrowPatch.__init__\u001b[0;34m(self, posA, posB, path, arrowstyle, connectionstyle, patchA, patchB, shrinkA, shrinkB, mutation_scale, mutation_aspect, **kwargs)\u001b[0m\n\u001b[1;32m   4124\u001b[0m kwargs\u001b[38;5;241m.\u001b[39msetdefault(\u001b[38;5;124m\"\u001b[39m\u001b[38;5;124mjoinstyle\u001b[39m\u001b[38;5;124m\"\u001b[39m, JoinStyle\u001b[38;5;241m.\u001b[39mround)\n\u001b[1;32m   4125\u001b[0m kwargs\u001b[38;5;241m.\u001b[39msetdefault(\u001b[38;5;124m\"\u001b[39m\u001b[38;5;124mcapstyle\u001b[39m\u001b[38;5;124m\"\u001b[39m, CapStyle\u001b[38;5;241m.\u001b[39mround)\n\u001b[0;32m-> 4127\u001b[0m \u001b[38;5;28;43msuper\u001b[39;49m\u001b[43m(\u001b[49m\u001b[43m)\u001b[49m\u001b[38;5;241;43m.\u001b[39;49m\u001b[38;5;21;43m__init__\u001b[39;49m\u001b[43m(\u001b[49m\u001b[38;5;241;43m*\u001b[39;49m\u001b[38;5;241;43m*\u001b[39;49m\u001b[43mkwargs\u001b[49m\u001b[43m)\u001b[49m\n\u001b[1;32m   4129\u001b[0m \u001b[38;5;28;01mif\u001b[39;00m posA \u001b[38;5;129;01mis\u001b[39;00m \u001b[38;5;129;01mnot\u001b[39;00m \u001b[38;5;28;01mNone\u001b[39;00m \u001b[38;5;129;01mand\u001b[39;00m posB \u001b[38;5;129;01mis\u001b[39;00m \u001b[38;5;129;01mnot\u001b[39;00m \u001b[38;5;28;01mNone\u001b[39;00m \u001b[38;5;129;01mand\u001b[39;00m path \u001b[38;5;129;01mis\u001b[39;00m \u001b[38;5;28;01mNone\u001b[39;00m:\n\u001b[1;32m   4130\u001b[0m     \u001b[38;5;28mself\u001b[39m\u001b[38;5;241m.\u001b[39m_posA_posB \u001b[38;5;241m=\u001b[39m [posA, posB]\n",
      "File \u001b[0;32m/media/Data/envs/EEGstroke/lib/python3.8/site-packages/matplotlib/_api/deprecation.py:454\u001b[0m, in \u001b[0;36mmake_keyword_only.<locals>.wrapper\u001b[0;34m(*args, **kwargs)\u001b[0m\n\u001b[1;32m    448\u001b[0m \u001b[38;5;28;01mif\u001b[39;00m \u001b[38;5;28mlen\u001b[39m(args) \u001b[38;5;241m>\u001b[39m name_idx:\n\u001b[1;32m    449\u001b[0m     warn_deprecated(\n\u001b[1;32m    450\u001b[0m         since, message\u001b[38;5;241m=\u001b[39m\u001b[38;5;124m\"\u001b[39m\u001b[38;5;124mPassing the \u001b[39m\u001b[38;5;132;01m%(name)s\u001b[39;00m\u001b[38;5;124m \u001b[39m\u001b[38;5;132;01m%(obj_type)s\u001b[39;00m\u001b[38;5;124m \u001b[39m\u001b[38;5;124m\"\u001b[39m\n\u001b[1;32m    451\u001b[0m         \u001b[38;5;124m\"\u001b[39m\u001b[38;5;124mpositionally is deprecated since Matplotlib \u001b[39m\u001b[38;5;132;01m%(since)s\u001b[39;00m\u001b[38;5;124m; the \u001b[39m\u001b[38;5;124m\"\u001b[39m\n\u001b[1;32m    452\u001b[0m         \u001b[38;5;124m\"\u001b[39m\u001b[38;5;124mparameter will become keyword-only \u001b[39m\u001b[38;5;132;01m%(removal)s\u001b[39;00m\u001b[38;5;124m.\u001b[39m\u001b[38;5;124m\"\u001b[39m,\n\u001b[1;32m    453\u001b[0m         name\u001b[38;5;241m=\u001b[39mname, obj_type\u001b[38;5;241m=\u001b[39m\u001b[38;5;124mf\u001b[39m\u001b[38;5;124m\"\u001b[39m\u001b[38;5;124mparameter of \u001b[39m\u001b[38;5;132;01m{\u001b[39;00mfunc\u001b[38;5;241m.\u001b[39m\u001b[38;5;18m__name__\u001b[39m\u001b[38;5;132;01m}\u001b[39;00m\u001b[38;5;124m()\u001b[39m\u001b[38;5;124m\"\u001b[39m)\n\u001b[0;32m--> 454\u001b[0m \u001b[38;5;28;01mreturn\u001b[39;00m \u001b[43mfunc\u001b[49m\u001b[43m(\u001b[49m\u001b[38;5;241;43m*\u001b[39;49m\u001b[43margs\u001b[49m\u001b[43m,\u001b[49m\u001b[43m \u001b[49m\u001b[38;5;241;43m*\u001b[39;49m\u001b[38;5;241;43m*\u001b[39;49m\u001b[43mkwargs\u001b[49m\u001b[43m)\u001b[49m\n",
      "File \u001b[0;32m/media/Data/envs/EEGstroke/lib/python3.8/site-packages/matplotlib/patches.py:100\u001b[0m, in \u001b[0;36mPatch.__init__\u001b[0;34m(self, edgecolor, facecolor, color, linewidth, linestyle, antialiased, hatch, fill, capstyle, joinstyle, **kwargs)\u001b[0m\n\u001b[1;32m     97\u001b[0m \u001b[38;5;28mself\u001b[39m\u001b[38;5;241m.\u001b[39mset_joinstyle(joinstyle)\n\u001b[1;32m     99\u001b[0m \u001b[38;5;28;01mif\u001b[39;00m \u001b[38;5;28mlen\u001b[39m(kwargs):\n\u001b[0;32m--> 100\u001b[0m     \u001b[38;5;28;43mself\u001b[39;49m\u001b[38;5;241;43m.\u001b[39;49m\u001b[43m_internal_update\u001b[49m\u001b[43m(\u001b[49m\u001b[43mkwargs\u001b[49m\u001b[43m)\u001b[49m\n",
      "File \u001b[0;32m/media/Data/envs/EEGstroke/lib/python3.8/site-packages/matplotlib/artist.py:1223\u001b[0m, in \u001b[0;36mArtist._internal_update\u001b[0;34m(self, kwargs)\u001b[0m\n\u001b[1;32m   1216\u001b[0m \u001b[38;5;28;01mdef\u001b[39;00m \u001b[38;5;21m_internal_update\u001b[39m(\u001b[38;5;28mself\u001b[39m, kwargs):\n\u001b[1;32m   1217\u001b[0m \u001b[38;5;250m    \u001b[39m\u001b[38;5;124;03m\"\"\"\u001b[39;00m\n\u001b[1;32m   1218\u001b[0m \u001b[38;5;124;03m    Update artist properties without prenormalizing them, but generating\u001b[39;00m\n\u001b[1;32m   1219\u001b[0m \u001b[38;5;124;03m    errors as if calling `set`.\u001b[39;00m\n\u001b[1;32m   1220\u001b[0m \n\u001b[1;32m   1221\u001b[0m \u001b[38;5;124;03m    The lack of prenormalization is to maintain backcompatibility.\u001b[39;00m\n\u001b[1;32m   1222\u001b[0m \u001b[38;5;124;03m    \"\"\"\u001b[39;00m\n\u001b[0;32m-> 1223\u001b[0m     \u001b[38;5;28;01mreturn\u001b[39;00m \u001b[38;5;28;43mself\u001b[39;49m\u001b[38;5;241;43m.\u001b[39;49m\u001b[43m_update_props\u001b[49m\u001b[43m(\u001b[49m\n\u001b[1;32m   1224\u001b[0m \u001b[43m        \u001b[49m\u001b[43mkwargs\u001b[49m\u001b[43m,\u001b[49m\u001b[43m \u001b[49m\u001b[38;5;124;43m\"\u001b[39;49m\u001b[38;5;132;43;01m{cls.__name__}\u001b[39;49;00m\u001b[38;5;124;43m.set() got an unexpected keyword argument \u001b[39;49m\u001b[38;5;124;43m\"\u001b[39;49m\n\u001b[1;32m   1225\u001b[0m \u001b[43m        \u001b[49m\u001b[38;5;124;43m\"\u001b[39;49m\u001b[38;5;132;43;01m{prop_name!r}\u001b[39;49;00m\u001b[38;5;124;43m\"\u001b[39;49m\u001b[43m)\u001b[49m\n",
      "File \u001b[0;32m/media/Data/envs/EEGstroke/lib/python3.8/site-packages/matplotlib/artist.py:1197\u001b[0m, in \u001b[0;36mArtist._update_props\u001b[0;34m(self, props, errfmt)\u001b[0m\n\u001b[1;32m   1195\u001b[0m             func \u001b[38;5;241m=\u001b[39m \u001b[38;5;28mgetattr\u001b[39m(\u001b[38;5;28mself\u001b[39m, \u001b[38;5;124mf\u001b[39m\u001b[38;5;124m\"\u001b[39m\u001b[38;5;124mset_\u001b[39m\u001b[38;5;132;01m{\u001b[39;00mk\u001b[38;5;132;01m}\u001b[39;00m\u001b[38;5;124m\"\u001b[39m, \u001b[38;5;28;01mNone\u001b[39;00m)\n\u001b[1;32m   1196\u001b[0m             \u001b[38;5;28;01mif\u001b[39;00m \u001b[38;5;129;01mnot\u001b[39;00m \u001b[38;5;28mcallable\u001b[39m(func):\n\u001b[0;32m-> 1197\u001b[0m                 \u001b[38;5;28;01mraise\u001b[39;00m \u001b[38;5;167;01mAttributeError\u001b[39;00m(\n\u001b[1;32m   1198\u001b[0m                     errfmt\u001b[38;5;241m.\u001b[39mformat(\u001b[38;5;28mcls\u001b[39m\u001b[38;5;241m=\u001b[39m\u001b[38;5;28mtype\u001b[39m(\u001b[38;5;28mself\u001b[39m), prop_name\u001b[38;5;241m=\u001b[39mk))\n\u001b[1;32m   1199\u001b[0m             ret\u001b[38;5;241m.\u001b[39mappend(func(v))\n\u001b[1;32m   1200\u001b[0m \u001b[38;5;28;01mif\u001b[39;00m ret:\n",
      "\u001b[0;31mAttributeError\u001b[0m: FancyArrowPatch.set() got an unexpected keyword argument 'shrink'"
     ]
    },
    {
     "data": {
      "image/png": "[encoded data removed]",
      "text/plain": [
       "<Figure size 800x800 with 1 Axes>"
      ]
     },
     "metadata": {},
     "output_type": "display_data"
    }
   ],
   "source": [
    "# We round predictions every 0.05 for readability\n",
    "y_pred_probas = (y_pred[:, 0] / 0.05).astype(int) * 0.05\n",
    "ROC_curve(y_true, y_pred_probas, verbose=True, display=True, savefig=False)"
   ]
  },
  {
   "cell_type": "code",
   "execution_count": null,
   "metadata": {},
   "outputs": [],
   "source": [
    "# Select best threshold\n",
    "best_threshold = 0.5"
   ]
  },
  {
   "cell_type": "markdown",
   "metadata": {},
   "source": [
    "#### PR curves (precision-recall)"
   ]
  },
  {
   "cell_type": "code",
   "execution_count": null,
   "metadata": {},
   "outputs": [],
   "source": [
    "# We round predictions for better readability\n",
    "y_pred_probas = np.round(y_pred[:, 0], 2)\n",
    "\n",
    "PR_curve(y_true, y_pred_probas, verbose=True, display=True, savefig=False)\n"
   ]
  },
  {
   "cell_type": "code",
   "execution_count": null,
   "metadata": {},
   "outputs": [],
   "source": [
    "# Select best threshold\n",
    "best_threshold = 0.5"
   ]
  },
  {
   "cell_type": "markdown",
   "metadata": {},
   "source": [
    "#### F1 scores "
   ]
  },
  {
   "cell_type": "code",
   "execution_count": null,
   "metadata": {},
   "outputs": [],
   "source": [
    "# Select best threshold\n",
    "best_threshold = 0.5"
   ]
  },
  {
   "cell_type": "markdown",
   "metadata": {},
   "source": [
    "#### Final predictions using best threshold"
   ]
  },
  {
   "cell_type": "code",
   "execution_count": null,
   "metadata": {},
   "outputs": [],
   "source": [
    "y_pred_classes = y_pred_probas > best_threshold\n"
   ]
  },
  {
   "cell_type": "markdown",
   "metadata": {},
   "source": [
    "#### Confusion matrix"
   ]
  },
  {
   "cell_type": "code",
   "execution_count": null,
   "metadata": {},
   "outputs": [],
   "source": [
    "from sklearn.metrics import ConfusionMatrixDisplay, confusion_matrix\n",
    "\n",
    "print(\"Confusion matrix\")\n",
    "cmat = confusion_matrix(y_true, y_pred_classes)\n",
    "disp = ConfusionMatrixDisplay(\n",
    "    confusion_matrix=cmat,\n",
    "    display_labels=[\"background\", \"aircraft\"]\n",
    ")\n",
    "\n",
    "disp.plot()\n",
    "plt.show()"
   ]
  },
  {
   "cell_type": "markdown",
   "metadata": {},
   "source": [
    "### Save model"
   ]
  },
  {
   "cell_type": "code",
   "execution_count": null,
   "metadata": {},
   "outputs": [],
   "source": [
    "save_model(model, MODEL_PATH, mode='jit')"
   ]
  },
  {
   "cell_type": "markdown",
   "metadata": {},
   "source": [
    "## Prédictions"
   ]
  },
  {
   "cell_type": "code",
   "execution_count": null,
   "metadata": {},
   "outputs": [],
   "source": [
    "# import sklearn.metrics\n",
    "# import math\n",
    "# tn, fp, fn, tp = sklearn.metrics.confusion_matrix(y_test_norm, y_pred_norm).ravel()\n",
    "# print(\"True positives:\", tp)\n",
    "# print(\"True negatives:\", tn)\n",
    "# print(\"False positives:\", fp)\n",
    "# print(\"False negatives:\", fn)\n",
    "# print(\"Accuracy:\", (tp+tn)/len(y_test_norm))\n",
    "# print(\"Sensitivity:\", sen:=tp/(tp+fn))\n",
    "# print(\"Precision:\", pre:=tp/(tp+fp))\n",
    "# print(\"Fowlkes-Mallows:\", math.sqrt(sen*pre))"
   ]
  }
 ],
 "metadata": {
  "kernelspec": {
   "display_name": "base",
   "language": "python",
   "name": "python3"
  },
  "language_info": {
   "codemirror_mode": {
    "name": "ipython",
    "version": 3
   },
   "file_extension": ".py",
   "mimetype": "text/x-python",
   "name": "python",
   "nbconvert_exporter": "python",
   "pygments_lexer": "ipython3",
   "version": "3.8.10"
  }
 },
 "nbformat": 4,
 "nbformat_minor": 2
}
