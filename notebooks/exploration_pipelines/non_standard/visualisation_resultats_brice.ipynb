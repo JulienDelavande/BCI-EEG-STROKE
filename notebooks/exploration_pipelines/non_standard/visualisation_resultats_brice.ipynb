{
 "cells": [
  {
   "cell_type": "code",
   "execution_count": 1,
   "metadata": {},
   "outputs": [],
   "source": [
    "!pip install -e ../../requirements.txt\n",
    "\n",
    "import os\n",
    "import numpy as np\n",
    "import pandas as pd\n",
    "from IPython.display import clear_output\n",
    "%matplotlib inline\n",
    "import matplotlib.pyplot as plt\n",
    "\n",
    "# Matplotlib settings\n",
    "plt.rcParams['figure.figsize'] = [5, 5]\n",
    "plt.rcParams['figure.dpi'] = 150\n",
    "\n",
    "!pip install mne==1.5.1\n",
    "from mne import Epochs, find_events\n",
    "from mne.decoding import CSP\n",
    "from mne.time_frequency import psd_array_welch\n",
    "\n",
    "!pip install scikit-learn==1.3.2\n",
    "from sklearn.ensemble import RandomForestClassifier\n",
    "from sklearn.model_selection import train_test_split\n",
    "from sklearn.metrics import accuracy_score\n",
    "\n",
    "from preprocessing import DataLoader\n",
    "\n",
    "clear_output(wait=False)"
   ]
  },
  {
   "cell_type": "code",
   "execution_count": 2,
   "metadata": {},
   "outputs": [
    {
     "name": "stdout",
     "output_type": "stream",
     "text": [
      "/Users/briceappenzeller/Documents/PIE/PIE_2023/notebooks/exploration_pipeline_optimale/../../../Data/DATA_001_Trial1.npy\n",
      "/Users/briceappenzeller/Documents/PIE/PIE_2023/notebooks/exploration_pipeline_optimale/../../../Data/DATA_001_Trial2.npy\n",
      "/Users/briceappenzeller/Documents/PIE/PIE_2023/notebooks/exploration_pipeline_optimale/../../../Data/DATA_002_Trial1.npy\n",
      "/Users/briceappenzeller/Documents/PIE/PIE_2023/notebooks/exploration_pipeline_optimale/../../../Data/DATA_002_Trial2.npy\n",
      "/Users/briceappenzeller/Documents/PIE/PIE_2023/notebooks/exploration_pipeline_optimale/../../../Data/DATA_002_Trial3.npy\n",
      "/Users/briceappenzeller/Documents/PIE/PIE_2023/notebooks/exploration_pipeline_optimale/../../../Data/DATA_003_Trial1.npy\n",
      "/Users/briceappenzeller/Documents/PIE/PIE_2023/notebooks/exploration_pipeline_optimale/../../../Data/DATA_003_Trial2.npy\n",
      "/Users/briceappenzeller/Documents/PIE/PIE_2023/notebooks/exploration_pipeline_optimale/../../../Data/DATA_004_Trial1.npy\n",
      "/Users/briceappenzeller/Documents/PIE/PIE_2023/notebooks/exploration_pipeline_optimale/../../../Data/DATA_004_Trial2.npy\n",
      "/Users/briceappenzeller/Documents/PIE/PIE_2023/notebooks/exploration_pipeline_optimale/../../../Data/DATA_005_Trial1.npy\n"
     ]
    }
   ],
   "source": [
    "PATH_DATA_RAW_FOLDER = os.path.join(os.getcwd(), '../../../Data')\n",
    "PATH_DATA_RAW_TRIALS = [\n",
    "    f'{PATH_DATA_RAW_FOLDER}/{f}' \\\n",
    "    for f in os.listdir(PATH_DATA_RAW_FOLDER) if f.endswith('.npy')\n",
    "]\n",
    "PATH_DATA_RAW_TRIALS.sort()\n",
    "\n",
    "for i in range(10):\n",
    "    print(PATH_DATA_RAW_TRIALS[i])"
   ]
  },
  {
   "cell_type": "code",
   "execution_count": 3,
   "metadata": {},
   "outputs": [],
   "source": [
    "# Let's save a function to preproc the data for a given subject, with a given stroke_side\n",
    "\n",
    "def preproc(sample_id):\n",
    "    loader = DataLoader(PATH_DATA_RAW_TRIALS[sample_id])\n",
    "    stroke = loader.stroke_side\n",
    "\n",
    "    # Select arm on opposite side of stroke side\n",
    "    arm_side = 'G' if stroke == 'D' else 'G'\n",
    "    eeg_data = loader.get_raws(side=arm_side)\n",
    "\n",
    "    # Select corresponding electrods\n",
    "    electrodes_R = [\n",
    "        'Fz', 'F2', 'F4', 'F6', 'F8',\n",
    "        'FCz','FC2','FC4','FC6','FT8', \n",
    "        'Cz', 'C2', 'C4', 'C6', 'T8',\n",
    "        'CPz','CP2','CP4','CP6','TP8',\n",
    "        'Pz', 'P2', 'P4', 'P6', 'P8',\n",
    "    ]\n",
    "    electrodes_L = [\n",
    "        'Fz', 'F1', 'F3', 'F5', 'F7',\n",
    "        'FCz','FC1','FC3','FC5','FT7', \n",
    "        'Cz', 'C1', 'C3', 'C5', 'T7',\n",
    "        'CPz','CP1','CP3','CP5','TP7',\n",
    "        'Pz', 'P1', 'P3', 'P5', 'P7',\n",
    "    ]\n",
    "\n",
    "    if stroke == 'G':\n",
    "        mask_elec = electrodes_L\n",
    "    else:\n",
    "        mask_elec = electrodes_R\n",
    "    mask = mask_elec + ['movement']\n",
    "    data = eeg_data.copy().pick_channels(mask)\n",
    "\n",
    "    return loader, data"
   ]
  },
  {
   "cell_type": "code",
   "execution_count": 4,
   "metadata": {},
   "outputs": [],
   "source": [
    "def extract_epochs(raws, \n",
    "                   fmin=8, \n",
    "                   fmax=30, \n",
    "                   tmin=-1.5, \n",
    "                   tmax=+1.5):\n",
    "    # Apply band-pass filter \n",
    "    raws.filter(fmin, fmax, fir_design='firwin', skip_by_annotation='edge')\n",
    "    # Recup events \n",
    "    events = find_events(raws, stim_channel='movement')\n",
    "    # Apply epoching around events\n",
    "    epochs = Epochs(raws, events, event_id=None, tmin=tmin, tmax=tmax, preload=True)\n",
    "    labels = epochs.events[:, -1] - 1\n",
    "\n",
    "    return epochs, labels"
   ]
  },
  {
   "cell_type": "code",
   "execution_count": 5,
   "metadata": {},
   "outputs": [],
   "source": [
    "def extract_windows(epochs, w_size=1., w_step=.1):\n",
    "    # Define windows size and step in samples\n",
    "    w_size_samp = int(w_size * epochs.info['sfreq'])\n",
    "    w_step_samp = int(w_step * epochs.info['sfreq'])\n",
    "    w_start = np.arange(0, epochs.get_data().shape[2] - w_size_samp, w_step_samp)\n",
    "    w_event = epochs.get_data().shape[2] // 2\n",
    "\n",
    "    # Extract windows and targets\n",
    "    windows = []\n",
    "    targets = []\n",
    "    for j in range(epochs.get_data().shape[0]):\n",
    "        windows_epoch = []\n",
    "        targets_epoch = []\n",
    "        for i in w_start:\n",
    "            windows_epoch.append(epochs.get_data()[j, :, i:i + w_size_samp])\n",
    "            if i <= w_event <= i + w_size_samp: # A VOIR POUR CHANGER ÇA : si la fenêtre commence juste avant le mouvement on va labéliser ça en 1 alors que l'intention sera déjà sûrement passé et faut que l'instant d'intention soit cohérent avec la taille de windows\n",
    "                targets_epoch.append(1)\n",
    "            else:\n",
    "                targets_epoch.append(0)\n",
    "        \n",
    "        windows.append(np.array(windows_epoch))\n",
    "        targets.append(np.array(targets_epoch))\n",
    "    \n",
    "    windows = np.concatenate(windows)\n",
    "    targets = np.concatenate(targets)\n",
    "\n",
    "    return windows, targets"
   ]
  },
  {
   "cell_type": "code",
   "execution_count": 6,
   "metadata": {},
   "outputs": [
    {
     "name": "stdout",
     "output_type": "stream",
     "text": [
      "(399, 26, 1024)\n",
      "(399, 25, 1024)\n",
      "(399,)\n",
      "Class distribution: (array([0, 1]), array([209, 190]))\n",
      "Class imbalance:    0.5238095238095238\n"
     ]
    }
   ],
   "source": [
    "sample_id = 0\n",
    "\n",
    "w_size = 1.\n",
    "w_step = .1\n",
    "fmin=8\n",
    "fmax=30\n",
    "\n",
    "loader_sample_id, data_sample_id = preproc(sample_id)\n",
    "epochs, labels = extract_epochs(data_sample_id, fmin=fmin, fmax=fmax) \n",
    "windows, targets = extract_windows(epochs, w_size=w_size, w_step=w_step)\n",
    "windows_without_mvt = windows[:,0:-1,:]\n",
    "\n",
    "print(windows.shape)\n",
    "print(windows_without_mvt.shape)\n",
    "print(targets.shape)\n",
    "print(\"Class distribution:\", np.unique(targets, return_counts=True))\n",
    "print(\"Class imbalance:   \", np.unique(targets, return_counts=True)[1][0] / np.unique(targets, return_counts=True)[1].sum())"
   ]
  },
  {
   "cell_type": "code",
   "execution_count": 7,
   "metadata": {},
   "outputs": [
    {
     "name": "stdout",
     "output_type": "stream",
     "text": [
      "Accuracy: 0.5125\n"
     ]
    }
   ],
   "source": [
    "from pyriemann.estimation import Covariances\n",
    "from pyriemann.tangentspace import TangentSpace\n",
    "from sklearn.ensemble import RandomForestClassifier\n",
    "from sklearn.preprocessing import StandardScaler\n",
    "from sklearn.pipeline import Pipeline\n",
    "\n",
    "cov = Covariances(estimator='oas')\n",
    "ts = TangentSpace()\n",
    "ss = StandardScaler()\n",
    "rf = RandomForestClassifier()\n",
    "\n",
    "pipeline = Pipeline([('Cov', cov), ('TangentSpace', ts), ('StandardScaler', ss), ('RandomForestClassifier', rf)])\n",
    "\n",
    "X_train, X_test, y_train, y_test = train_test_split(windows_without_mvt, targets, test_size=0.2, random_state=42, shuffle=False)\n",
    "pipeline.fit(X_train, y_train)\n",
    "\n",
    "y_pred = pipeline.predict(X_test)\n",
    "accuracy = accuracy_score(y_test, y_pred)\n",
    "print(f'Accuracy: {accuracy}')"
   ]
  },
  {
   "cell_type": "code",
   "execution_count": 9,
   "metadata": {},
   "outputs": [
    {
     "name": "stdout",
     "output_type": "stream",
     "text": [
      "windows size: 1024\n",
      "windows step: 102\n",
      "shape of raw_windows (481, 25, 1024)\n"
     ]
    }
   ],
   "source": [
    "max_sample_size = data_sample_id.get_data().shape[1]\n",
    "idx_begin = 0\n",
    "idx_end = 50000\n",
    "\n",
    "data_cleaned = data_sample_id.filter(fmin, fmax, fir_design='firwin', skip_by_annotation='edge')\n",
    "\n",
    "eeg_freq = loader_sample_id.eeg_freq\n",
    "w_size_idx = int(w_size * eeg_freq)\n",
    "w_step_idx = int(w_step * eeg_freq)\n",
    "print(f\"windows size: {w_size_idx}\\nwindows step: {w_step_idx}\")\n",
    "\n",
    "windows_start = np.arange(idx_begin, idx_end - w_size_idx, w_step_idx)\n",
    "windows_indices = []\n",
    "raw_windows = []\n",
    "\n",
    "for i, window_start in enumerate(windows_start):\n",
    "    raw_windows.append(np.array(data_cleaned.get_data()[0:25,window_start:window_start+w_size_idx]))\n",
    "    windows_indices.append([window_start, window_start+w_size_idx])\n",
    "raw_windows = np.array(raw_windows)\n",
    "print(f\"shape of raw_windows {raw_windows.shape}\")"
   ]
  },
  {
   "cell_type": "code",
   "execution_count": 10,
   "metadata": {},
   "outputs": [
    {
     "name": "stdout",
     "output_type": "stream",
     "text": [
      "Number of no-movements: 49729\n",
      "Number of movements: 271\n"
     ]
    }
   ],
   "source": [
    "def get_movements(loader):\n",
    "    \n",
    "    # Get indices where there is a movement\n",
    "    stroke = loader_sample_id.stroke_side\n",
    "    if stroke == 'G':\n",
    "        movements_indices = loader_sample_id.movement_index_right_arm.copy()\n",
    "    else:\n",
    "        movements_indices = loader_sample_id.movement_index_left_arm.copy()\n",
    "        \n",
    "    # Shift the indices so it corresponds with eeg frequency\n",
    "    cinematic_freq = loader_sample_id.cinematic_freq\n",
    "    eeg_freq = loader_sample_id.eeg_freq\n",
    "    for i in range(len(movements_indices)):\n",
    "        movements_indices[i] = int(movements_indices[i] * eeg_freq/cinematic_freq)\n",
    "    \n",
    "    # Construct an array where the dimension is the time ; 1: movement, 0: no movement\n",
    "    movements = np.zeros(movements_indices[-1]+1)\n",
    "    for movement_idx in movements_indices:\n",
    "        movements[movement_idx] = 1\n",
    "        \n",
    "    return movements\n",
    "\n",
    "all_movements = get_movements(loader_sample_id)\n",
    "movements = all_movements[idx_begin:idx_end]\n",
    "print(f\"Number of no-movements: {np.count_nonzero(movements == 0)}\\nNumber of movements: {np.count_nonzero(movements == 1)}\")"
   ]
  },
  {
   "cell_type": "code",
   "execution_count": 15,
   "metadata": {},
   "outputs": [
    {
     "data": {
      "image/png": "[encoded data removed]",
      "text/plain": [
       "<Figure size 750x750 with 1 Axes>"
      ]
     },
     "metadata": {
      "needs_background": "light"
     },
     "output_type": "display_data"
    },
    {
     "data": {
      "text/plain": [
       "array([0., 0., 0., ..., 0., 0., 0.])"
      ]
     },
     "execution_count": 15,
     "metadata": {},
     "output_type": "execute_result"
    }
   ],
   "source": [
    "def plot_results(pipeline, windows, windows_indices, movements):\n",
    "    \"\"\"\n",
    "    windows_indices: indices permettant de savoir où est la window par rapport au mouvement\n",
    "    windows_indices[i] = [i_start, i_end]\n",
    "    \"\"\"\n",
    "    counts = np.zeros(len(movements))\n",
    "    counts_nb_windows = np.zeros(len(movements))\n",
    "    predictions = pipeline.predict(windows)\n",
    "    for i, prediction in enumerate(predictions):\n",
    "        if prediction == 1:\n",
    "            counts[windows_indices[i][0]:windows_indices[i][1]] += 1\n",
    "        counts_nb_windows[windows_indices[i][0]:windows_indices[i][1]] += 1\n",
    "            \n",
    "    normalized_counts = [counts[i] / counts_nb_windows[i] if counts_nb_windows[i] != 0 else 0 for i in range(len(counts))]      \n",
    "    x = range(len(movements)) \n",
    "    plt.plot(x, movements, color='red')\n",
    "    plt.plot(x, normalized_counts, color='blue')\n",
    "    plt.legend([\"Movement\", \"Prediction\"])\n",
    "    plt.show()\n",
    "    \n",
    "    return counts\n",
    "\n",
    "plot_results(pipeline, raw_windows, windows_indices, movements)"
   ]
  },
  {
   "cell_type": "code",
   "execution_count": null,
   "metadata": {},
   "outputs": [],
   "source": []
  }
 ],
 "metadata": {
  "kernelspec": {
   "display_name": "Python 3",
   "language": "python",
   "name": "python3"
  },
  "language_info": {
   "codemirror_mode": {
    "name": "ipython",
    "version": 3
   },
   "file_extension": ".py",
   "mimetype": "text/x-python",
   "name": "python",
   "nbconvert_exporter": "python",
   "pygments_lexer": "ipython3",
   "version": "3.8.5"
  }
 },
 "nbformat": 4,
 "nbformat_minor": 4
}
