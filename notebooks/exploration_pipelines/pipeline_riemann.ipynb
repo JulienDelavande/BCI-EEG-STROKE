{
 "cells": [
  {
   "attachments": {
    "image.png": {
     "image/png": "[encoded data removed]"
    }
   },
   "cell_type": "markdown",
   "metadata": {},
   "source": [
    "# Pipeline Julien - Riemann projection (cov, ts, ss, estimator)\n",
    "\n",
    "## Introduction\n",
    "This notebook is a part of the project to compare the performance of different pipelines for EEG elbow movement classification. The goal of these notebooks is to establish a standard pipeline for EEG elbow movement classification. \n",
    "\n",
    "This notebook explores the performance of the riemann pipeline. The riemann pipeline is a standard pipeline for EEG classification. It is based on the riemannian geometry of covariance matrices. The pipeline is composed of 3 main steps:\n",
    "1. Feature extraction: Covariance matrices, tangent space projection, standard scaler\n",
    "2. Classification: Logistic regression, Linear discriminant analysis, Support vector machine, Random forest\n",
    "3. Evaluation: Balanced accuracy\n",
    "\n",
    "We also establised 4 tests to evaluate the performance of the pipeline in cross-validation:\n",
    "-  Tester A: Seen session / seen subject (but not the same data)\n",
    "-  Tester B: Unseen session / seen subject (but not the same data)\n",
    "-  Tester C: Unseen session / unseen subject\n",
    "-  Tester X: All epochs shuffled\n",
    "\n",
    "![image.png](attachment:image.png)\n",
    "\n",
    "## Methodology\n",
    "In this notebook we aim to establish the performance of the rieman pipeline. Here are the steps we will follow:\n",
    "1. Preprocessing:\n",
    "    - Loading the data from each .npy file using Dataloader built for this project.\n",
    "    - Using only the session which record the movement of the arm oposite to stroke side. (REQUIREMENT)\n",
    "    - Using only the electrodes from the stroke side. (REQUIREMENT)\n",
    "    - Labeling the data using the acceleration (done in the dataloader, see ./notebooks/exploration_data/Labelling_data.ipynb for the exact process)\n",
    "    - Filtering the data between 1 and 40 Hz.\n",
    "    - Getting the train and test data by epoching around the movement onset. 1=extension 2=flexion 0=rest(or no onset to be precise) To get data labelled 0 we took epoch from 4s to 1s before movement onset.\n",
    "    - Relabelling extension and flexion as 1 and no onset as 0.\n",
    "2. Feature extraction:\n",
    "    -  Covariances matrices :\\\n",
    "    The first step involves computing the covariance matrix of EEG signals. Covariance measures how two variables change together. For EEG signals, this helps in understanding how different sensors (or channels) record signals that are correlated with each other. This is crucial for capturing spatial relationships among different EEG channels. Essentially, it's about finding patterns in how different parts of the brain signal together during different movements.\n",
    "    -  Tangent space features :\\\n",
    "     After computing the covariance matrices, they are often projected into a tangent space. The tangent space is a linear space that 'touches' a nonlinear surface (in this case, the space of covariance matrices) at a point. This linearization of covariance data, which can naturally be nonlinear and reside on a manifold (a curved surface in a higher-dimensional space), makes it easier to apply standard machine learning techniques, which generally perform better with linear data. Think of this step as a way to simplify and flatten complex, curved data into a more understandable and processable form.\n",
    "    -  Standard scaler :\\\n",
    "    Ensures that all features are equally weighted.\n",
    "3. Classification: (compared differents classifiers)\n",
    "    -  Logistic regression\n",
    "    -  Linear discriminant analysis\n",
    "    -  Support vector machine\n",
    "    -  Random forest\n",
    "4. Evaluation:\n",
    "    1. Evaluation on epoched data. Using balanced accuracy to evaluate the performance of the pipeline using 3 differents testers:\n",
    "        -  Tester 1: Seen session / seen subject (but not the same data)\n",
    "        -  Tester 2: Unseen session / seen subject (but not the same data)\n",
    "        -  Tester 3: Unseen session / unseen subject\n",
    "    2. Evaluation on continuous data. Using balanced accuracy to evaluate the performance of the pipeline using 3 differents testers:\n",
    "        -  Tester 1: Seen session / seen subject (but not the same data)\n",
    "        -  Tester 2: Unseen session / seen subject (but not the same data)\n",
    "        -  Tester 3: Unseen session / unseen subject"
   ]
  },
  {
   "cell_type": "code",
   "execution_count": 1,
   "metadata": {},
   "outputs": [],
   "source": [
    "from preprocessing import DataLoader\n",
    "import numpy as np\n",
    "import matplotlib.pyplot as plt\n",
    "import mne\n",
    "import os"
   ]
  },
  {
   "cell_type": "markdown",
   "metadata": {},
   "source": [
    "## Hyperparameters"
   ]
  },
  {
   "cell_type": "code",
   "execution_count": 2,
   "metadata": {},
   "outputs": [],
   "source": [
    "NUMBER_OF_SESSIONS = 30\n",
    "\n",
    "# Fréquence de filtrage\n",
    "FMIN = 1\n",
    "FMAX = 40\n",
    "\n",
    "# Bornes époques\n",
    "EPOCHS_TMIN = -1\n",
    "EPOCHS_TMAX = 2\n",
    "\n",
    "# temps depuis le mouvement pour époquer autours d'une plage sans mouvement\n",
    "EPOCHS_EMPTY_FROM_MVT_TMINS = -4\n",
    "\n",
    "BINARY_CLASSIFICATION = True\n",
    "\n",
    "RANDOM_STATE = 42\n",
    "N_SPLIT = 4\n",
    "\n",
    "FOLDER_PATH = './../../data/raw/Data_npy/'\n",
    "FILE_PATH_LIST = [FOLDER_PATH + file_path for file_path in os.listdir(FOLDER_PATH) if file_path.endswith('.npy')]"
   ]
  },
  {
   "cell_type": "markdown",
   "metadata": {},
   "source": [
    "## Preprocessing"
   ]
  },
  {
   "cell_type": "code",
   "execution_count": 3,
   "metadata": {},
   "outputs": [],
   "source": [
    "def get_channels(raws, side):\n",
    "    endings = ('1', '3', '5', '7', '9') if side=='D' else ('2', '4', '6', '8', '10')\n",
    "    channels_to_remove = [channel for channel in raws.ch_names if channel.endswith(endings)]\n",
    "    channels = [channel for channel in raws.ch_names if channel not in channels_to_remove]\n",
    "    return channels"
   ]
  },
  {
   "cell_type": "code",
   "execution_count": 4,
   "metadata": {},
   "outputs": [],
   "source": [
    "import tqdm\n",
    "\n",
    "def preproc(file_path_list, verbose=False):\n",
    "    # structure data_patients = [session1, session2, ...]            dtype = list\n",
    "    # structure data_session  = [epoch1, epoch2, ...]                dtype = np.array\n",
    "    # structure epoch         = np.array([channel1, channel2, ...])  dtype = np.array\n",
    "    # structure channel       = np.array([time1, time2, ...])        dtype = float\n",
    "\n",
    "    # structure labels_patients     = [session1, session2, ...]            dtype = list\n",
    "    # structure labels_session      = [label_epoch1, label_epoch2, ...]    dtype = int (0, 1, 2)\n",
    "\n",
    "    data_patients = []\n",
    "    labels_patients = []\n",
    "\n",
    "    patients_id = []\n",
    "    sessions_id = []\n",
    "\n",
    "    for file in tqdm.tqdm(file_path_list):\n",
    "\n",
    "        # loading data / auto labeling behind the scene\n",
    "        data_loader = DataLoader(file)\n",
    "\n",
    "        # picking the arm session opposite to the stroke side\n",
    "        stroke = data_loader.stroke_side\n",
    "        arm_side = 'G' if stroke == 'D' else 'G'\n",
    "        raws = data_loader.get_raws(side=arm_side)\n",
    "        \n",
    "        # if no data for the arm side, we skip the session\n",
    "        if raws is None:\n",
    "            continue\n",
    "\n",
    "        # picking channels of only the stroke side\n",
    "        raws.pick_channels(get_channels(raws, stroke))\n",
    "\n",
    "        # filtering\n",
    "        raws.filter(FMIN, FMAX, fir_design='firwin')\n",
    "\n",
    "        # creating epochs over flexion and extension of the arm (movement)\n",
    "        events = mne.find_events(raws, stim_channel=['movement'])\n",
    "        picks = mne.pick_types(raws.info, eeg=True, stim=False)\n",
    "        epochs = mne.Epochs(raws, events, tmin=EPOCHS_TMIN, tmax=EPOCHS_TMAX, picks=picks, baseline=None, preload=True)\n",
    "        epochs_data_mvt = epochs.get_data()\n",
    "        label_mvt = epochs.events[:, -1]\n",
    "\n",
    "        # creating artificial epoch when no movement\n",
    "        epochs_no_mvt = mne.Epochs(raws, events, tmin=EPOCHS_EMPTY_FROM_MVT_TMINS, tmax=EPOCHS_EMPTY_FROM_MVT_TMINS+EPOCHS_TMAX-EPOCHS_TMIN, \n",
    "                                    picks=picks, baseline=None, preload=True)\n",
    "        epochs_data_no_mvt = epochs_no_mvt.get_data()\n",
    "        labels_no_mvt = np.zeros(epochs_data_no_mvt.shape[0])\n",
    "\n",
    "        # concatenating epochs\n",
    "        epochs_data_session = np.concatenate((epochs_data_mvt, epochs_data_no_mvt), axis=0)\n",
    "        labels_session = np.concatenate((label_mvt, labels_no_mvt), axis=0)\n",
    "\n",
    "        # Shuffling epochs\n",
    "        random_state = np.random.RandomState(RANDOM_STATE)\n",
    "        indices = np.arange(epochs_data_session.shape[0])\n",
    "        random_state.shuffle(indices)\n",
    "        epochs_data_session = epochs_data_session[indices]\n",
    "        labels_session = labels_session[indices]\n",
    "\n",
    "        # if binary classification, we merge flexion and extension\n",
    "        if BINARY_CLASSIFICATION:\n",
    "            labels_session[labels_session != 0] = 1\n",
    "\n",
    "        # adding session data and session labels to data_patients and labels_patients (if new patient, add new list)\n",
    "        if data_loader.patient_id not in patients_id:\n",
    "            patients_id.append(data_loader.patient_id)\n",
    "            sessions_id.append([])\n",
    "            data_patients.append([])\n",
    "            labels_patients.append([])\n",
    "        sessions_id[patients_id.index(data_loader.patient_id)].append(data_loader.session_id)\n",
    "        data_patients[patients_id.index(data_loader.patient_id)].append(epochs_data_session)\n",
    "        labels_patients[patients_id.index(data_loader.patient_id)].append(labels_session)\n",
    "\n",
    "        if verbose:\n",
    "            print(f'patient id: {data_loader.patient_id}')\n",
    "            print(f'session id: {data_loader.session_id}')\n",
    "            print(f'number of epochs: {epochs_data_session.shape[0]}')\n",
    "            print(f'number of channels: {epochs_data_session.shape[1]}')\n",
    "            print(f'number of time samples: {epochs_data_session.shape[2]}')\n",
    "\n",
    "    return data_patients, labels_patients, patients_id, sessions_id"
   ]
  },
  {
   "cell_type": "code",
   "execution_count": 5,
   "metadata": {},
   "outputs": [
    {
     "name": "stderr",
     "output_type": "stream",
     "text": [
      "  0%|          | 0/30 [00:00<?, ?it/s]"
     ]
    },
    {
     "name": "stderr",
     "output_type": "stream",
     "text": [
      "100%|██████████| 30/30 [03:23<00:00,  6.80s/it]"
     ]
    },
    {
     "name": "stdout",
     "output_type": "stream",
     "text": [
      "number of patients: 14\n",
      "size of one epoch: (38, 37, 3073)\n",
      "CPU times: total: 1min 59s\n",
      "Wall time: 3min 24s\n"
     ]
    },
    {
     "name": "stderr",
     "output_type": "stream",
     "text": [
      "\n"
     ]
    }
   ],
   "source": [
    "%%time\n",
    "data_patients, labels_patients, patients_id, sessions_id= preproc(FILE_PATH_LIST[:NUMBER_OF_SESSIONS])\n",
    "print(f'number of patients: {len(data_patients)}')\n",
    "print(f'size of one epoch: {data_patients[0][0].shape}')"
   ]
  },
  {
   "cell_type": "markdown",
   "metadata": {},
   "source": [
    "## Pipeline"
   ]
  },
  {
   "cell_type": "code",
   "execution_count": 6,
   "metadata": {},
   "outputs": [],
   "source": [
    "from pyriemann.estimation import Covariances\n",
    "from pyriemann.tangentspace import TangentSpace\n",
    "from sklearn.preprocessing import StandardScaler\n",
    "from sklearn.pipeline import Pipeline\n",
    "from sklearn.model_selection import cross_val_score\n",
    "from sklearn.model_selection import KFold\n",
    "\n",
    "from sklearn.ensemble import RandomForestClassifier\n",
    "from sklearn.svm import SVC\n",
    "from sklearn.linear_model import LogisticRegression\n",
    "from sklearn.discriminant_analysis import LinearDiscriminantAnalysis\n",
    "from sklearn.ensemble import AdaBoostClassifier\n",
    "\n",
    "import pandas as pd\n",
    "from joblib import dump, load"
   ]
  },
  {
   "cell_type": "markdown",
   "metadata": {},
   "source": [
    "### The pipeline definition"
   ]
  },
  {
   "cell_type": "code",
   "execution_count": 7,
   "metadata": {},
   "outputs": [],
   "source": [
    "cov = Covariances(estimator='oas')\n",
    "ts = TangentSpace()\n",
    "ss = StandardScaler()\n",
    "cl = SVC()\n",
    "pipeline = Pipeline([('Cov', cov), ('TangentSpace', ts), ('StandardScaler', ss), ('Classifier', cl)])"
   ]
  },
  {
   "cell_type": "markdown",
   "metadata": {},
   "source": [
    "### Save model\n",
    "\n"
   ]
  },
  {
   "cell_type": "code",
   "execution_count": 8,
   "metadata": {},
   "outputs": [
    {
     "data": {
      "text/html": [
       "<style>#sk-container-id-1 {color: black;}#sk-container-id-1 pre{padding: 0;}#sk-container-id-1 div.sk-toggleable {background-color: white;}#sk-container-id-1 label.sk-toggleable__label {cursor: pointer;display: block;width: 100%;margin-bottom: 0;padding: 0.3em;box-sizing: border-box;text-align: center;}#sk-container-id-1 label.sk-toggleable__label-arrow:before {content: \"▸\";float: left;margin-right: 0.25em;color: #696969;}#sk-container-id-1 label.sk-toggleable__label-arrow:hover:before {color: black;}#sk-container-id-1 div.sk-estimator:hover label.sk-toggleable__label-arrow:before {color: black;}#sk-container-id-1 div.sk-toggleable__content {max-height: 0;max-width: 0;overflow: hidden;text-align: left;background-color: #f0f8ff;}#sk-container-id-1 div.sk-toggleable__content pre {margin: 0.2em;color: black;border-radius: 0.25em;background-color: #f0f8ff;}#sk-container-id-1 input.sk-toggleable__control:checked~div.sk-toggleable__content {max-height: 200px;max-width: 100%;overflow: auto;}#sk-container-id-1 input.sk-toggleable__control:checked~label.sk-toggleable__label-arrow:before {content: \"▾\";}#sk-container-id-1 div.sk-estimator input.sk-toggleable__control:checked~label.sk-toggleable__label {background-color: #d4ebff;}#sk-container-id-1 div.sk-label input.sk-toggleable__control:checked~label.sk-toggleable__label {background-color: #d4ebff;}#sk-container-id-1 input.sk-hidden--visually {border: 0;clip: rect(1px 1px 1px 1px);clip: rect(1px, 1px, 1px, 1px);height: 1px;margin: -1px;overflow: hidden;padding: 0;position: absolute;width: 1px;}#sk-container-id-1 div.sk-estimator {font-family: monospace;background-color: #f0f8ff;border: 1px dotted black;border-radius: 0.25em;box-sizing: border-box;margin-bottom: 0.5em;}#sk-container-id-1 div.sk-estimator:hover {background-color: #d4ebff;}#sk-container-id-1 div.sk-parallel-item::after {content: \"\";width: 100%;border-bottom: 1px solid gray;flex-grow: 1;}#sk-container-id-1 div.sk-label:hover label.sk-toggleable__label {background-color: #d4ebff;}#sk-container-id-1 div.sk-serial::before {content: \"\";position: absolute;border-left: 1px solid gray;box-sizing: border-box;top: 0;bottom: 0;left: 50%;z-index: 0;}#sk-container-id-1 div.sk-serial {display: flex;flex-direction: column;align-items: center;background-color: white;padding-right: 0.2em;padding-left: 0.2em;position: relative;}#sk-container-id-1 div.sk-item {position: relative;z-index: 1;}#sk-container-id-1 div.sk-parallel {display: flex;align-items: stretch;justify-content: center;background-color: white;position: relative;}#sk-container-id-1 div.sk-item::before, #sk-container-id-1 div.sk-parallel-item::before {content: \"\";position: absolute;border-left: 1px solid gray;box-sizing: border-box;top: 0;bottom: 0;left: 50%;z-index: -1;}#sk-container-id-1 div.sk-parallel-item {display: flex;flex-direction: column;z-index: 1;position: relative;background-color: white;}#sk-container-id-1 div.sk-parallel-item:first-child::after {align-self: flex-end;width: 50%;}#sk-container-id-1 div.sk-parallel-item:last-child::after {align-self: flex-start;width: 50%;}#sk-container-id-1 div.sk-parallel-item:only-child::after {width: 0;}#sk-container-id-1 div.sk-dashed-wrapped {border: 1px dashed gray;margin: 0 0.4em 0.5em 0.4em;box-sizing: border-box;padding-bottom: 0.4em;background-color: white;}#sk-container-id-1 div.sk-label label {font-family: monospace;font-weight: bold;display: inline-block;line-height: 1.2em;}#sk-container-id-1 div.sk-label-container {text-align: center;}#sk-container-id-1 div.sk-container {/* jupyter's `normalize.less` sets `[hidden] { display: none; }` but bootstrap.min.css set `[hidden] { display: none !important; }` so we also need the `!important` here to be able to override the default hidden behavior on the sphinx rendered scikit-learn.org. See: https://github.com/scikit-learn/scikit-learn/issues/21755 */display: inline-block !important;position: relative;}#sk-container-id-1 div.sk-text-repr-fallback {display: none;}</style><div id=\"sk-container-id-1\" class=\"sk-top-container\"><div class=\"sk-text-repr-fallback\"><pre>Pipeline(steps=[(&#x27;Cov&#x27;, Covariances(estimator=&#x27;oas&#x27;)),\n",
       "                (&#x27;TangentSpace&#x27;, TangentSpace()),\n",
       "                (&#x27;StandardScaler&#x27;, StandardScaler()), (&#x27;Classifier&#x27;, SVC())])</pre><b>In a Jupyter environment, please rerun this cell to show the HTML representation or trust the notebook. <br />On GitHub, the HTML representation is unable to render, please try loading this page with nbviewer.org.</b></div><div class=\"sk-container\" hidden><div class=\"sk-item sk-dashed-wrapped\"><div class=\"sk-label-container\"><div class=\"sk-label sk-toggleable\"><input class=\"sk-toggleable__control sk-hidden--visually\" id=\"sk-estimator-id-1\" type=\"checkbox\" ><label for=\"sk-estimator-id-1\" class=\"sk-toggleable__label sk-toggleable__label-arrow\">Pipeline</label><div class=\"sk-toggleable__content\"><pre>Pipeline(steps=[(&#x27;Cov&#x27;, Covariances(estimator=&#x27;oas&#x27;)),\n",
       "                (&#x27;TangentSpace&#x27;, TangentSpace()),\n",
       "                (&#x27;StandardScaler&#x27;, StandardScaler()), (&#x27;Classifier&#x27;, SVC())])</pre></div></div></div><div class=\"sk-serial\"><div class=\"sk-item\"><div class=\"sk-estimator sk-toggleable\"><input class=\"sk-toggleable__control sk-hidden--visually\" id=\"sk-estimator-id-2\" type=\"checkbox\" ><label for=\"sk-estimator-id-2\" class=\"sk-toggleable__label sk-toggleable__label-arrow\">Covariances</label><div class=\"sk-toggleable__content\"><pre>Covariances(estimator=&#x27;oas&#x27;)</pre></div></div></div><div class=\"sk-item\"><div class=\"sk-estimator sk-toggleable\"><input class=\"sk-toggleable__control sk-hidden--visually\" id=\"sk-estimator-id-3\" type=\"checkbox\" ><label for=\"sk-estimator-id-3\" class=\"sk-toggleable__label sk-toggleable__label-arrow\">TangentSpace</label><div class=\"sk-toggleable__content\"><pre>TangentSpace()</pre></div></div></div><div class=\"sk-item\"><div class=\"sk-estimator sk-toggleable\"><input class=\"sk-toggleable__control sk-hidden--visually\" id=\"sk-estimator-id-4\" type=\"checkbox\" ><label for=\"sk-estimator-id-4\" class=\"sk-toggleable__label sk-toggleable__label-arrow\">StandardScaler</label><div class=\"sk-toggleable__content\"><pre>StandardScaler()</pre></div></div></div><div class=\"sk-item\"><div class=\"sk-estimator sk-toggleable\"><input class=\"sk-toggleable__control sk-hidden--visually\" id=\"sk-estimator-id-5\" type=\"checkbox\" ><label for=\"sk-estimator-id-5\" class=\"sk-toggleable__label sk-toggleable__label-arrow\">SVC</label><div class=\"sk-toggleable__content\"><pre>SVC()</pre></div></div></div></div></div></div></div>"
      ],
      "text/plain": [
       "Pipeline(steps=[('Cov', Covariances(estimator='oas')),\n",
       "                ('TangentSpace', TangentSpace()),\n",
       "                ('StandardScaler', StandardScaler()), ('Classifier', SVC())])"
      ]
     },
     "execution_count": 8,
     "metadata": {},
     "output_type": "execute_result"
    }
   ],
   "source": [
    "X_train = []\n",
    "y_train = []\n",
    "for i in range(len(data_patients)):\n",
    "    for j in range(len(data_patients[i])):\n",
    "        X_train.append(data_patients[i][j])\n",
    "        y_train.append(labels_patients[i][j])\n",
    "\n",
    "X_train = np.concatenate(X_train, axis=0)\n",
    "y_train = np.concatenate(y_train, axis=0)\n",
    "\n",
    "pipeline.fit(X_train, y_train)"
   ]
  },
  {
   "cell_type": "code",
   "execution_count": 11,
   "metadata": {},
   "outputs": [],
   "source": [
    "accuracy_train = cross_val_score(pipeline, X_train, y_train, cv=KFold(n_splits=N_SPLIT, random_state=RANDOM_STATE, shuffle=True)).mean()"
   ]
  },
  {
   "cell_type": "code",
   "execution_count": 12,
   "metadata": {},
   "outputs": [
    {
     "data": {
      "text/plain": [
       "0.8367685529395567"
      ]
     },
     "execution_count": 12,
     "metadata": {},
     "output_type": "execute_result"
    }
   ],
   "source": [
    "accuracy_train"
   ]
  },
  {
   "cell_type": "code",
   "execution_count": 13,
   "metadata": {},
   "outputs": [
    {
     "data": {
      "text/plain": [
       "['./../../src/classif/models/model_riemann_SVC_v1.0.joblib']"
      ]
     },
     "execution_count": 13,
     "metadata": {},
     "output_type": "execute_result"
    }
   ],
   "source": [
    "PATH_SAVE = './../../src/classif/models/'\n",
    "NAME_MODEL = 'model_riemann_SVC_v1.0.joblib'\n",
    "\n",
    "model_info = {\n",
    "    'pipeline': pipeline,\n",
    "    'additional_info': {\n",
    "        'aim': 'Binary classification of EEG signals to detect movement',\n",
    "        'date_of_training': '15-02-2024',\n",
    "        'data_preprocessing_details': 'StandardScaler, Covariances with OAS estimator, TangentSpace mapping',\n",
    "        'model_parameters': cl.get_params(),\n",
    "        'preprocessing_parameters': {\n",
    "            'FMIN': FMIN,\n",
    "            'FMAX': FMAX,\n",
    "            'EPOCHS_TMIN': EPOCHS_TMIN,\n",
    "            'EPOCHS_TMAX': EPOCHS_TMAX,\n",
    "            'EPOCHS_EMPTY_FROM_MVT_TMINS': EPOCHS_EMPTY_FROM_MVT_TMINS,\n",
    "            'BINARY_CLASSIFICATION': BINARY_CLASSIFICATION,\n",
    "            'RANDOM_STATE': RANDOM_STATE,\n",
    "            'N_SPLIT': N_SPLIT,\n",
    "            'NUMBER_OF_SESSIONS': NUMBER_OF_SESSIONS\n",
    "        },\n",
    "        'model_performance': {\n",
    "            'accuracy_train': accuracy_train,\n",
    "        }\n",
    "    }\n",
    "}\n",
    "dump(model_info, PATH_SAVE + NAME_MODEL)"
   ]
  },
  {
   "cell_type": "markdown",
   "metadata": {},
   "source": [
    "## Fonctions of train / validation\n",
    "1. test on the same patients and same sessions as the training -> A\n",
    "2. test on the same patients but different sessions -> B\n",
    "3. test on different patients -> C"
   ]
  },
  {
   "cell_type": "code",
   "execution_count": 10,
   "metadata": {},
   "outputs": [],
   "source": [
    "from sklearn.metrics import balanced_accuracy_score\n",
    "\n",
    "def train_test_A(data_patients, labels_patients, pipeline, verbose=False):\n",
    "    \"\"\"Train and test on on same patients, same sessions (different epochs)\"\"\"\n",
    "\n",
    "    # Creating folds\n",
    "    # split_folds = [patient1, patient2, ...] dtype = list\n",
    "    # patient1 = [session1_fold, session2_fold, ...] dtype = KFold\n",
    "    split_folds = []\n",
    "    i = 0\n",
    "    for patient in range(len(data_patients)):\n",
    "        split_folds.append([])\n",
    "        for session in range(len(data_patients[patient])):\n",
    "            random_state = RANDOM_STATE + i\n",
    "            cv = KFold(n_splits=N_SPLIT, shuffle=True, random_state=random_state)\n",
    "            split_folds[patient].append(cv.split(data_patients[patient][session]))\n",
    "            i+=1\n",
    "\n",
    "    # Training and testing\n",
    "    scores = []\n",
    "    for _ in range(N_SPLIT):\n",
    "        X_train, y_train = [], []\n",
    "        X_test, y_test = [], []\n",
    "        for patient in range(len(data_patients)):\n",
    "            for session in range(len(data_patients[patient])):\n",
    "                train_index, test_index = next(split_folds[patient][session])\n",
    "                X_train.append(data_patients[patient][session][train_index])\n",
    "                y_train.append(labels_patients[patient][session][train_index])\n",
    "                X_test.append(data_patients[patient][session][test_index])\n",
    "                y_test.append(labels_patients[patient][session][test_index])\n",
    "        X_train = np.concatenate(X_train, axis=0)\n",
    "        y_train = np.concatenate(y_train, axis=0)\n",
    "        X_test = np.concatenate(X_test, axis=0)\n",
    "        y_test = np.concatenate(y_test, axis=0)\n",
    "        pipeline.fit(X_train, y_train)\n",
    "        y_pred = pipeline.predict(X_test)\n",
    "        scores.append(balanced_accuracy_score(y_test, y_pred))\n",
    "        if verbose:\n",
    "            print(f'balanced accuracy {scores[-1]}')\n",
    "\n",
    "    if verbose:\n",
    "        print(f'mean of balance accuracy {np.mean(scores)}')\n",
    "\n",
    "    return np.mean(scores)"
   ]
  },
  {
   "cell_type": "code",
   "execution_count": 11,
   "metadata": {},
   "outputs": [],
   "source": [
    "def train_test_B(data_patients, labels_patients, pipeline, verbose=False):\n",
    "    \"\"\"Train and test on same patients, different sessions (different epochs)\"\"\"\n",
    "    \n",
    "    # Creating folds\n",
    "    # split_folds = [patient1, patient2, ...] dtype = list\n",
    "    # patient1 = [all_session_fold1, all_session_fold2, ...] dtype = tuple\n",
    "    # all_session_fold1 = (train_idx, test_idx) dtype = list\n",
    "    split_folds = []\n",
    "    i = 0\n",
    "    for patient in range(len(data_patients)):\n",
    "        split_folds.append([])\n",
    "        for split in range(N_SPLIT):\n",
    "            if len(data_patients[patient]) < 2:\n",
    "                test_idx = []\n",
    "                train_idx = [0]\n",
    "            else:\n",
    "                shuffle_idx = np.arange(len(data_patients[patient]))\n",
    "                np.random.RandomState(RANDOM_STATE+i).shuffle(shuffle_idx)\n",
    "                test_idx = [shuffle_idx[-1]]\n",
    "                train_idx = list(shuffle_idx[:-1])\n",
    "            split_folds[-1].append((train_idx, test_idx))\n",
    "            i+=1\n",
    "\n",
    "    # Training and testing\n",
    "    scores = []\n",
    "    for fold in range(N_SPLIT):\n",
    "        X_train, y_train = [], []\n",
    "        X_test, y_test = [], []\n",
    "        for patient in range(len(data_patients)):\n",
    "            for session in split_folds[patient][fold][0]:\n",
    "                X_train.append(data_patients[patient][session])\n",
    "                y_train.append(labels_patients[patient][session])\n",
    "            for session in split_folds[patient][fold][1]:\n",
    "                X_test.append(data_patients[patient][session])\n",
    "                y_test.append(labels_patients[patient][session])\n",
    "        X_train = np.concatenate(X_train, axis=0)\n",
    "        y_train = np.concatenate(y_train, axis=0)\n",
    "        X_test = np.concatenate(X_test, axis=0)\n",
    "        y_test = np.concatenate(y_test, axis=0)\n",
    "        pipeline.fit(X_train, y_train)\n",
    "        y_pred = pipeline.predict(X_test)\n",
    "        scores.append(balanced_accuracy_score(y_test, y_pred))\n",
    "        if verbose:\n",
    "            print(f'balanced accuracy {scores[-1]}')\n",
    "        \n",
    "    if verbose:\n",
    "        print(f'mean of balance accuracy {np.mean(scores)}')\n",
    "    \n",
    "    return np.mean(scores)\n"
   ]
  },
  {
   "cell_type": "code",
   "execution_count": 12,
   "metadata": {},
   "outputs": [],
   "source": [
    "def train_test_C(data_patients, labels_patients, pipeline, verbose=False):\n",
    "    \"\"\"Train and test on different patients and different sessions\"\"\"\n",
    "    cv = KFold(n_splits=N_SPLIT, shuffle=True, random_state=RANDOM_STATE)\n",
    "    split_folds = cv.split(data_patients)\n",
    "    scores = []\n",
    "    i = 0\n",
    "    for train_patient_idx, test_patient_idx in split_folds:\n",
    "        train_data = np.concatenate([data_patients[i][j] for i in train_patient_idx for j in range(len(data_patients[i]))], axis=0)\n",
    "        train_labels = np.concatenate([labels_patients[i][j] for i in train_patient_idx for j in range(len(data_patients[i]))], axis=0)\n",
    "        test_data = np.concatenate([data_patients[i][j] for i in test_patient_idx for j in range(len(data_patients[i]))], axis=0)\n",
    "        test_labels = np.concatenate([labels_patients[i][j] for i in test_patient_idx for j in range(len(data_patients[i]))], axis=0)\n",
    "\n",
    "        # Shuffle train test\n",
    "        train_idx = np.arange(len(train_data))\n",
    "        np.random.RandomState(RANDOM_STATE+i).shuffle(train_idx)\n",
    "        train_data = train_data[train_idx]\n",
    "        train_labels = train_labels[train_idx]\n",
    "        test_idx = np.arange(len(test_data))\n",
    "        np.random.RandomState(RANDOM_STATE+i).shuffle(test_idx)\n",
    "        test_data = test_data[test_idx]\n",
    "        test_labels = test_labels[test_idx]\n",
    "        i+=1\n",
    "\n",
    "        # Train\n",
    "        pipeline.fit(train_data, train_labels)\n",
    "        y_pred = pipeline.predict(test_data)\n",
    "        scores.append(balanced_accuracy_score(test_labels, y_pred))\n",
    "        if verbose:\n",
    "            print(f'balanced accuracy {scores[-1]}')\n",
    "\n",
    "    if verbose:\n",
    "        print(f'mean of balance accuracy {np.mean(scores)}')\n",
    "\n",
    "    return np.mean(scores)\n",
    "    \n",
    "    "
   ]
  },
  {
   "cell_type": "code",
   "execution_count": 25,
   "metadata": {},
   "outputs": [],
   "source": [
    "def train_test_X(data_patients, labels_patients, pipeline, verbose=False):\n",
    "    \"\"\"Train and test on all epoch data (patient, session, epoch shuffled) different epochs in test and train\"\"\"\n",
    "    epochs_data_collapsed = np.concatenate([np.concatenate(data_patients[i], axis=0) for i in range(len(data_patients))], axis=0)\n",
    "    labels_collapsed = np.concatenate([np.concatenate(labels_patients[i], axis=0) for i in range(len(data_patients))], axis=0)\n",
    "    cv = KFold(n_splits=N_SPLIT, shuffle=True, random_state=RANDOM_STATE)\n",
    "    scores = cross_val_score(pipeline, epochs_data_collapsed, labels_collapsed, cv=cv, scoring='balanced_accuracy')\n",
    "    if verbose:\n",
    "        print(f'mean of balance accuracy {np.mean(scores)}')\n",
    "    return np.mean(scores)"
   ]
  },
  {
   "cell_type": "markdown",
   "metadata": {},
   "source": [
    "### Little inside on the cross validation split and folds for each tester (A, B, C)"
   ]
  },
  {
   "cell_type": "markdown",
   "metadata": {},
   "source": [
    "#### Folds for test A :\n",
    "Creating folds of epochs for each session of each patient ensuring different suffled fold for each session. 4 folds for each session.\\\n",
    "test_size = 0.2 (epochs in test set for each session)"
   ]
  },
  {
   "cell_type": "code",
   "execution_count": 14,
   "metadata": {},
   "outputs": [
    {
     "data": {
      "text/plain": [
       "[(array([ 0,  1,  2,  3,  5,  7,  8,  9, 10, 11, 12, 14, 16, 17, 18, 19, 20,\n",
       "         21, 22, 23, 25, 28, 29, 31, 32, 34, 35, 37]),\n",
       "  array([ 4,  6, 13, 15, 24, 26, 27, 30, 33, 36])),\n",
       " (array([ 1,  2,  3,  4,  6,  7, 10, 11, 13, 14, 15, 18, 20, 21, 22, 23, 24,\n",
       "         26, 27, 28, 29, 30, 31, 33, 34, 35, 36, 37]),\n",
       "  array([ 0,  5,  8,  9, 12, 16, 17, 19, 25, 32])),\n",
       " (array([ 0,  4,  5,  6,  7,  8,  9, 10, 12, 13, 14, 15, 16, 17, 18, 19, 20,\n",
       "         22, 23, 24, 25, 26, 27, 28, 30, 31, 32, 33, 36]),\n",
       "  array([ 1,  2,  3, 11, 21, 29, 34, 35, 37])),\n",
       " (array([ 0,  1,  2,  3,  4,  5,  6,  8,  9, 11, 12, 13, 15, 16, 17, 19, 21,\n",
       "         24, 25, 26, 27, 29, 30, 32, 33, 34, 35, 36, 37]),\n",
       "  array([ 7, 10, 14, 18, 20, 22, 23, 28, 31]))]"
      ]
     },
     "execution_count": 14,
     "metadata": {},
     "output_type": "execute_result"
    }
   ],
   "source": [
    "split_folds = []\n",
    "i = 0\n",
    "for patient in range(len(data_patients)):\n",
    "    split_folds.append([])\n",
    "    for session in range(len(data_patients[patient])):\n",
    "        random_state = RANDOM_STATE + i\n",
    "        cv = KFold(n_splits=N_SPLIT, shuffle=True, random_state=random_state)\n",
    "        split_folds[patient].append(cv.split(data_patients[patient][session]))\n",
    "        i+=1\n",
    "\n",
    "list(split_folds[0][0])"
   ]
  },
  {
   "cell_type": "markdown",
   "metadata": {},
   "source": [
    "#### Folds for test B:\n",
    "Creating folds of sessions for each patient ensuring different suffled fold for each patient. 4 folds for each patient.\\\n",
    "test_size  = 1 or 0 (sessions in test set for each patient) \\\n",
    "train_size =   number of sessions for one patient - test_size\n",
    "- if number of sessions for one patient = 1 -> test_size = 0 session\n",
    "- if number of sessions for one patient > 1 -> test_size = 1 session \n"
   ]
  },
  {
   "cell_type": "code",
   "execution_count": 15,
   "metadata": {},
   "outputs": [
    {
     "data": {
      "text/plain": [
       "[[([1], [0]), ([1], [0]), ([1], [0]), ([0], [1])],\n",
       " [([0], [1]), ([0], [1]), ([1], [0]), ([1], [0])],\n",
       " [([1], [0]), ([1], [0]), ([0], [1]), ([0], [1])],\n",
       " [([0], [1]), ([0], [1]), ([0], [1]), ([0], [1])],\n",
       " [([0], [1]), ([0], [1]), ([0], [1]), ([0], [1])],\n",
       " [([1], [0]), ([1], [0]), ([1], [0]), ([1], [0])],\n",
       " [([1], [0]), ([0], [1]), ([0], [1]), ([1], [0])],\n",
       " [([1], [0]), ([0], [1]), ([1], [0]), ([1], [0])],\n",
       " [([0, 1], [2]), ([1, 2], [0]), ([0, 2], [1]), ([1, 2], [0])],\n",
       " [([0], [1]), ([0], [1]), ([0], [1]), ([0], [1])],\n",
       " [([0], [1]), ([1], [0]), ([1], [0]), ([1], [0])],\n",
       " [([1], [0]), ([1], [0]), ([1], [0]), ([0], [1])],\n",
       " [([0], [1]), ([1], [0]), ([1], [0]), ([0], [1])],\n",
       " [([0], []), ([0], []), ([0], []), ([0], [])]]"
      ]
     },
     "execution_count": 15,
     "metadata": {},
     "output_type": "execute_result"
    }
   ],
   "source": [
    "split_folds = []\n",
    "i = 0\n",
    "for patient in range(len(data_patients)):\n",
    "    split_folds.append([])\n",
    "    for split in range(N_SPLIT):\n",
    "        if len(data_patients[patient]) < 2:\n",
    "            test_idx = []\n",
    "            train_idx = [0]\n",
    "        else:\n",
    "            shuffle_idx = np.arange(len(data_patients[patient]))\n",
    "            np.random.RandomState(RANDOM_STATE+i).shuffle(shuffle_idx)\n",
    "            test_idx = [shuffle_idx[-1]]\n",
    "            train_idx = list(shuffle_idx[:-1])\n",
    "        split_folds[-1].append((train_idx, test_idx))\n",
    "        i+=1\n",
    "\n",
    "list(split_folds)"
   ]
  },
  {
   "cell_type": "markdown",
   "metadata": {},
   "source": [
    "#### Folds for test C:\n",
    "Creating folds of patients ensuring different suffled fold for each patient. 4 folds of patients in total.\\\n",
    "test_size  = 0.2"
   ]
  },
  {
   "cell_type": "code",
   "execution_count": 16,
   "metadata": {},
   "outputs": [],
   "source": [
    "cv = KFold(n_splits=N_SPLIT, shuffle=True, random_state=RANDOM_STATE)\n",
    "split_folds = cv.split(data_patients)"
   ]
  },
  {
   "cell_type": "code",
   "execution_count": 17,
   "metadata": {},
   "outputs": [
    {
     "data": {
      "text/plain": [
       "[(array([ 1,  2,  3,  4,  5,  6,  7,  8, 10, 13]), array([ 0,  9, 11, 12])),\n",
       " (array([ 0,  3,  4,  6,  7,  9, 10, 11, 12, 13]), array([1, 2, 5, 8])),\n",
       " (array([ 0,  1,  2,  3,  5,  6,  8,  9, 10, 11, 12]), array([ 4,  7, 13])),\n",
       " (array([ 0,  1,  2,  4,  5,  7,  8,  9, 11, 12, 13]), array([ 3,  6, 10]))]"
      ]
     },
     "execution_count": 17,
     "metadata": {},
     "output_type": "execute_result"
    }
   ],
   "source": [
    "list(split_folds)"
   ]
  },
  {
   "cell_type": "markdown",
   "metadata": {},
   "source": [
    "### 1. Test on the same patients and same sessions as training (differents epochs, cross validation) -> A"
   ]
  },
  {
   "cell_type": "code",
   "execution_count": 18,
   "metadata": {},
   "outputs": [
    {
     "name": "stderr",
     "output_type": "stream",
     "text": [
      "d:\\Documents\\Scolaires\\SUPAERO\\3A\\PIE\\PIE_2023\\venv\\lib\\site-packages\\sklearn\\linear_model\\_logistic.py:460: ConvergenceWarning: lbfgs failed to converge (status=1):\n",
      "STOP: TOTAL NO. of ITERATIONS REACHED LIMIT.\n",
      "\n",
      "Increase the number of iterations (max_iter) or scale the data as shown in:\n",
      "    https://scikit-learn.org/stable/modules/preprocessing.html\n",
      "Please also refer to the documentation for alternative solver options:\n",
      "    https://scikit-learn.org/stable/modules/linear_model.html#logistic-regression\n",
      "  n_iter_i = _check_optimize_result(\n"
     ]
    },
    {
     "name": "stdout",
     "output_type": "stream",
     "text": [
      "0.7773747107223659\n"
     ]
    }
   ],
   "source": [
    "cov = Covariances(estimator='oas')\n",
    "ts = TangentSpace()\n",
    "ss = StandardScaler()\n",
    "cl = LogisticRegression()\n",
    "pipeline = Pipeline([('Cov', cov), ('TangentSpace', ts), ('StandardScaler', ss), ('Classifier', cl)])\n",
    "score = train_test_A(data_patients, labels_patients, pipeline, verbose=False)\n",
    "print(score)"
   ]
  },
  {
   "cell_type": "code",
   "execution_count": 19,
   "metadata": {},
   "outputs": [
    {
     "name": "stderr",
     "output_type": "stream",
     "text": [
      "d:\\Documents\\Scolaires\\SUPAERO\\3A\\PIE\\PIE_2023\\venv\\lib\\site-packages\\sklearn\\linear_model\\_logistic.py:460: ConvergenceWarning: lbfgs failed to converge (status=1):\n",
      "STOP: TOTAL NO. of ITERATIONS REACHED LIMIT.\n",
      "\n",
      "Increase the number of iterations (max_iter) or scale the data as shown in:\n",
      "    https://scikit-learn.org/stable/modules/preprocessing.html\n",
      "Please also refer to the documentation for alternative solver options:\n",
      "    https://scikit-learn.org/stable/modules/linear_model.html#logistic-regression\n",
      "  n_iter_i = _check_optimize_result(\n"
     ]
    },
    {
     "name": "stdout",
     "output_type": "stream",
     "text": [
      "CPU times: total: 1min 5s\n",
      "Wall time: 3min 6s\n"
     ]
    },
    {
     "data": {
      "text/html": [
       "<div>\n",
       "<style scoped>\n",
       "    .dataframe tbody tr th:only-of-type {\n",
       "        vertical-align: middle;\n",
       "    }\n",
       "\n",
       "    .dataframe tbody tr th {\n",
       "        vertical-align: top;\n",
       "    }\n",
       "\n",
       "    .dataframe thead th {\n",
       "        text-align: right;\n",
       "    }\n",
       "</style>\n",
       "<table border=\"1\" class=\"dataframe\">\n",
       "  <thead>\n",
       "    <tr style=\"text-align: right;\">\n",
       "      <th></th>\n",
       "      <th>classifier</th>\n",
       "      <th>balanced_accuracy</th>\n",
       "    </tr>\n",
       "  </thead>\n",
       "  <tbody>\n",
       "    <tr>\n",
       "      <th>0</th>\n",
       "      <td>LogisticRegression</td>\n",
       "      <td>0.777375</td>\n",
       "    </tr>\n",
       "    <tr>\n",
       "      <th>1</th>\n",
       "      <td>SVC</td>\n",
       "      <td>0.837434</td>\n",
       "    </tr>\n",
       "    <tr>\n",
       "      <th>2</th>\n",
       "      <td>LinearDiscriminantAnalysis</td>\n",
       "      <td>0.628792</td>\n",
       "    </tr>\n",
       "    <tr>\n",
       "      <th>3</th>\n",
       "      <td>RandomForestClassifier</td>\n",
       "      <td>0.803127</td>\n",
       "    </tr>\n",
       "    <tr>\n",
       "      <th>4</th>\n",
       "      <td>AdaBoostClassifier</td>\n",
       "      <td>0.771442</td>\n",
       "    </tr>\n",
       "  </tbody>\n",
       "</table>\n",
       "</div>"
      ],
      "text/plain": [
       "                   classifier  balanced_accuracy\n",
       "0          LogisticRegression           0.777375\n",
       "1                         SVC           0.837434\n",
       "2  LinearDiscriminantAnalysis           0.628792\n",
       "3      RandomForestClassifier           0.803127\n",
       "4          AdaBoostClassifier           0.771442"
      ]
     },
     "execution_count": 19,
     "metadata": {},
     "output_type": "execute_result"
    }
   ],
   "source": [
    "%%time\n",
    "classifier = [LogisticRegression(), SVC(), LinearDiscriminantAnalysis(), RandomForestClassifier(), AdaBoostClassifier()]\n",
    "balanced_accuracy = []\n",
    "for cl in classifier:\n",
    "    cov = Covariances(estimator='oas')\n",
    "    ts = TangentSpace()\n",
    "    ss = StandardScaler()\n",
    "    pipeline = Pipeline([('Cov', cov), ('TangentSpace', ts), ('StandardScaler', ss), ('Classifier', cl)])\n",
    "    score = train_test_A(data_patients, labels_patients, pipeline)\n",
    "    balanced_accuracy.append(score)\n",
    "\n",
    "df = pd.DataFrame({'classifier': ['LogisticRegression', 'SVC', 'LinearDiscriminantAnalysis', 'RandomForestClassifier', 'AdaBoostClassifier'], 'balanced_accuracy': balanced_accuracy})\n",
    "df"
   ]
  },
  {
   "cell_type": "markdown",
   "metadata": {},
   "source": [
    "### 2. Test on the same patients but different sessions (differents epochs, cross validation) -> B"
   ]
  },
  {
   "cell_type": "code",
   "execution_count": 20,
   "metadata": {},
   "outputs": [
    {
     "name": "stdout",
     "output_type": "stream",
     "text": [
      "balanced accuracy 0.782\n",
      "balanced accuracy 0.7559523809523809\n",
      "balanced accuracy 0.7480314960629921\n",
      "balanced accuracy 0.762\n",
      "mean of balance accuracy 0.7619959692538433\n",
      "0.7619959692538433\n",
      "CPU times: total: 5.06 s\n",
      "Wall time: 22.2 s\n"
     ]
    }
   ],
   "source": [
    "%%time\n",
    "cov = Covariances(estimator='oas')\n",
    "ts = TangentSpace()\n",
    "ss = StandardScaler()\n",
    "cl = LogisticRegression()\n",
    "pipeline = Pipeline([('Cov', cov), ('TangentSpace', ts), ('StandardScaler', ss), ('Classifier', cl)])\n",
    "score = train_test_B(data_patients, labels_patients, pipeline, verbose=True)\n",
    "print(score)"
   ]
  },
  {
   "cell_type": "code",
   "execution_count": 21,
   "metadata": {},
   "outputs": [
    {
     "name": "stdout",
     "output_type": "stream",
     "text": [
      "CPU times: total: 55.9 s\n",
      "Wall time: 2min 28s\n"
     ]
    },
    {
     "data": {
      "text/html": [
       "<div>\n",
       "<style scoped>\n",
       "    .dataframe tbody tr th:only-of-type {\n",
       "        vertical-align: middle;\n",
       "    }\n",
       "\n",
       "    .dataframe tbody tr th {\n",
       "        vertical-align: top;\n",
       "    }\n",
       "\n",
       "    .dataframe thead th {\n",
       "        text-align: right;\n",
       "    }\n",
       "</style>\n",
       "<table border=\"1\" class=\"dataframe\">\n",
       "  <thead>\n",
       "    <tr style=\"text-align: right;\">\n",
       "      <th></th>\n",
       "      <th>classifier</th>\n",
       "      <th>balanced_accuracy</th>\n",
       "    </tr>\n",
       "  </thead>\n",
       "  <tbody>\n",
       "    <tr>\n",
       "      <th>0</th>\n",
       "      <td>LogisticRegression</td>\n",
       "      <td>0.761996</td>\n",
       "    </tr>\n",
       "    <tr>\n",
       "      <th>1</th>\n",
       "      <td>SVC</td>\n",
       "      <td>0.794267</td>\n",
       "    </tr>\n",
       "    <tr>\n",
       "      <th>2</th>\n",
       "      <td>LinearDiscriminantAnalysis</td>\n",
       "      <td>0.635699</td>\n",
       "    </tr>\n",
       "    <tr>\n",
       "      <th>3</th>\n",
       "      <td>RandomForestClassifier</td>\n",
       "      <td>0.771374</td>\n",
       "    </tr>\n",
       "    <tr>\n",
       "      <th>4</th>\n",
       "      <td>AdaBoostClassifier</td>\n",
       "      <td>0.722130</td>\n",
       "    </tr>\n",
       "  </tbody>\n",
       "</table>\n",
       "</div>"
      ],
      "text/plain": [
       "                   classifier  balanced_accuracy\n",
       "0          LogisticRegression           0.761996\n",
       "1                         SVC           0.794267\n",
       "2  LinearDiscriminantAnalysis           0.635699\n",
       "3      RandomForestClassifier           0.771374\n",
       "4          AdaBoostClassifier           0.722130"
      ]
     },
     "execution_count": 21,
     "metadata": {},
     "output_type": "execute_result"
    }
   ],
   "source": [
    "%%time\n",
    "classifier = [LogisticRegression(), SVC(), LinearDiscriminantAnalysis(), RandomForestClassifier(), AdaBoostClassifier()]\n",
    "balanced_accuracy = []\n",
    "for cl in classifier:\n",
    "    cov = Covariances(estimator='oas')\n",
    "    ts = TangentSpace()\n",
    "    ss = StandardScaler()\n",
    "    pipeline = Pipeline([('Cov', cov), ('TangentSpace', ts), ('StandardScaler', ss), ('Classifier', cl)])\n",
    "    score = train_test_B(data_patients, labels_patients, pipeline)\n",
    "    balanced_accuracy.append(score)\n",
    "\n",
    "df = pd.DataFrame({'classifier': ['LogisticRegression', 'SVC', 'LinearDiscriminantAnalysis', 'RandomForestClassifier', 'AdaBoostClassifier'], 'balanced_accuracy': balanced_accuracy})\n",
    "df"
   ]
  },
  {
   "cell_type": "markdown",
   "metadata": {},
   "source": [
    "### 3. Test on different patients (differents epochs, cross validation) -> C"
   ]
  },
  {
   "cell_type": "code",
   "execution_count": 22,
   "metadata": {},
   "outputs": [
    {
     "name": "stderr",
     "output_type": "stream",
     "text": [
      "d:\\Documents\\Scolaires\\SUPAERO\\3A\\PIE\\PIE_2023\\venv\\lib\\site-packages\\sklearn\\linear_model\\_logistic.py:460: ConvergenceWarning: lbfgs failed to converge (status=1):\n",
      "STOP: TOTAL NO. of ITERATIONS REACHED LIMIT.\n",
      "\n",
      "Increase the number of iterations (max_iter) or scale the data as shown in:\n",
      "    https://scikit-learn.org/stable/modules/preprocessing.html\n",
      "Please also refer to the documentation for alternative solver options:\n",
      "    https://scikit-learn.org/stable/modules/linear_model.html#logistic-regression\n",
      "  n_iter_i = _check_optimize_result(\n"
     ]
    },
    {
     "name": "stdout",
     "output_type": "stream",
     "text": [
      "balanced accuracy 0.6566666666666667\n",
      "balanced accuracy 0.7162162162162162\n"
     ]
    },
    {
     "name": "stderr",
     "output_type": "stream",
     "text": [
      "d:\\Documents\\Scolaires\\SUPAERO\\3A\\PIE\\PIE_2023\\venv\\lib\\site-packages\\sklearn\\linear_model\\_logistic.py:460: ConvergenceWarning: lbfgs failed to converge (status=1):\n",
      "STOP: TOTAL NO. of ITERATIONS REACHED LIMIT.\n",
      "\n",
      "Increase the number of iterations (max_iter) or scale the data as shown in:\n",
      "    https://scikit-learn.org/stable/modules/preprocessing.html\n",
      "Please also refer to the documentation for alternative solver options:\n",
      "    https://scikit-learn.org/stable/modules/linear_model.html#logistic-regression\n",
      "  n_iter_i = _check_optimize_result(\n"
     ]
    },
    {
     "name": "stdout",
     "output_type": "stream",
     "text": [
      "balanced accuracy 0.7228260869565217\n",
      "balanced accuracy 0.5758928571428572\n",
      "mean of balance accuracy 0.6679004567455654\n",
      "0.6679004567455654\n",
      "CPU times: total: 7.45 s\n",
      "Wall time: 26.9 s\n"
     ]
    }
   ],
   "source": [
    "%%time\n",
    "cov = Covariances(estimator='oas')\n",
    "ts = TangentSpace()\n",
    "ss = StandardScaler()\n",
    "cl = LogisticRegression()\n",
    "pipeline = Pipeline([('Cov', cov), ('TangentSpace', ts), ('StandardScaler', ss), ('Classifier', cl)])\n",
    "score = train_test_C(data_patients, labels_patients, pipeline, verbose=True)\n",
    "print(score)"
   ]
  },
  {
   "cell_type": "code",
   "execution_count": 23,
   "metadata": {},
   "outputs": [
    {
     "name": "stderr",
     "output_type": "stream",
     "text": [
      "d:\\Documents\\Scolaires\\SUPAERO\\3A\\PIE\\PIE_2023\\venv\\lib\\site-packages\\sklearn\\linear_model\\_logistic.py:460: ConvergenceWarning: lbfgs failed to converge (status=1):\n",
      "STOP: TOTAL NO. of ITERATIONS REACHED LIMIT.\n",
      "\n",
      "Increase the number of iterations (max_iter) or scale the data as shown in:\n",
      "    https://scikit-learn.org/stable/modules/preprocessing.html\n",
      "Please also refer to the documentation for alternative solver options:\n",
      "    https://scikit-learn.org/stable/modules/linear_model.html#logistic-regression\n",
      "  n_iter_i = _check_optimize_result(\n",
      "d:\\Documents\\Scolaires\\SUPAERO\\3A\\PIE\\PIE_2023\\venv\\lib\\site-packages\\sklearn\\linear_model\\_logistic.py:460: ConvergenceWarning: lbfgs failed to converge (status=1):\n",
      "STOP: TOTAL NO. of ITERATIONS REACHED LIMIT.\n",
      "\n",
      "Increase the number of iterations (max_iter) or scale the data as shown in:\n",
      "    https://scikit-learn.org/stable/modules/preprocessing.html\n",
      "Please also refer to the documentation for alternative solver options:\n",
      "    https://scikit-learn.org/stable/modules/linear_model.html#logistic-regression\n",
      "  n_iter_i = _check_optimize_result(\n"
     ]
    },
    {
     "name": "stdout",
     "output_type": "stream",
     "text": [
      "CPU times: total: 1min 8s\n",
      "Wall time: 3min 10s\n"
     ]
    },
    {
     "data": {
      "text/html": [
       "<div>\n",
       "<style scoped>\n",
       "    .dataframe tbody tr th:only-of-type {\n",
       "        vertical-align: middle;\n",
       "    }\n",
       "\n",
       "    .dataframe tbody tr th {\n",
       "        vertical-align: top;\n",
       "    }\n",
       "\n",
       "    .dataframe thead th {\n",
       "        text-align: right;\n",
       "    }\n",
       "</style>\n",
       "<table border=\"1\" class=\"dataframe\">\n",
       "  <thead>\n",
       "    <tr style=\"text-align: right;\">\n",
       "      <th></th>\n",
       "      <th>classifier</th>\n",
       "      <th>balanced_accuracy</th>\n",
       "    </tr>\n",
       "  </thead>\n",
       "  <tbody>\n",
       "    <tr>\n",
       "      <th>0</th>\n",
       "      <td>LogisticRegression</td>\n",
       "      <td>0.667900</td>\n",
       "    </tr>\n",
       "    <tr>\n",
       "      <th>1</th>\n",
       "      <td>SVC</td>\n",
       "      <td>0.646585</td>\n",
       "    </tr>\n",
       "    <tr>\n",
       "      <th>2</th>\n",
       "      <td>LinearDiscriminantAnalysis</td>\n",
       "      <td>0.552237</td>\n",
       "    </tr>\n",
       "    <tr>\n",
       "      <th>3</th>\n",
       "      <td>RandomForestClassifier</td>\n",
       "      <td>0.644723</td>\n",
       "    </tr>\n",
       "    <tr>\n",
       "      <th>4</th>\n",
       "      <td>AdaBoostClassifier</td>\n",
       "      <td>0.624352</td>\n",
       "    </tr>\n",
       "  </tbody>\n",
       "</table>\n",
       "</div>"
      ],
      "text/plain": [
       "                   classifier  balanced_accuracy\n",
       "0          LogisticRegression           0.667900\n",
       "1                         SVC           0.646585\n",
       "2  LinearDiscriminantAnalysis           0.552237\n",
       "3      RandomForestClassifier           0.644723\n",
       "4          AdaBoostClassifier           0.624352"
      ]
     },
     "execution_count": 23,
     "metadata": {},
     "output_type": "execute_result"
    }
   ],
   "source": [
    "%%time\n",
    "classifier = [LogisticRegression(), SVC(), LinearDiscriminantAnalysis(), RandomForestClassifier(), AdaBoostClassifier()]\n",
    "balanced_accuracy = []\n",
    "for cl in classifier:\n",
    "    cov = Covariances(estimator='oas')\n",
    "    ts = TangentSpace()\n",
    "    ss = StandardScaler()\n",
    "    pipeline = Pipeline([('Cov', cov), ('TangentSpace', ts), ('StandardScaler', ss), ('Classifier', cl)])\n",
    "    score = train_test_C(data_patients, labels_patients, pipeline)\n",
    "    balanced_accuracy.append(score)\n",
    "\n",
    "df = pd.DataFrame({'classifier': ['LogisticRegression', 'SVC', 'LinearDiscriminantAnalysis', 'RandomForestClassifier', 'AdaBoostClassifier'], 'balanced_accuracy': balanced_accuracy})\n",
    "df"
   ]
  },
  {
   "cell_type": "markdown",
   "metadata": {},
   "source": [
    "### 4. Test on all epochs shuffled (differents epochs, cross validation) -> X"
   ]
  },
  {
   "cell_type": "code",
   "execution_count": 26,
   "metadata": {},
   "outputs": [
    {
     "name": "stderr",
     "output_type": "stream",
     "text": [
      "d:\\Documents\\Scolaires\\SUPAERO\\3A\\PIE\\PIE_2023\\venv\\lib\\site-packages\\sklearn\\linear_model\\_logistic.py:460: ConvergenceWarning: lbfgs failed to converge (status=1):\n",
      "STOP: TOTAL NO. of ITERATIONS REACHED LIMIT.\n",
      "\n",
      "Increase the number of iterations (max_iter) or scale the data as shown in:\n",
      "    https://scikit-learn.org/stable/modules/preprocessing.html\n",
      "Please also refer to the documentation for alternative solver options:\n",
      "    https://scikit-learn.org/stable/modules/linear_model.html#logistic-regression\n",
      "  n_iter_i = _check_optimize_result(\n",
      "d:\\Documents\\Scolaires\\SUPAERO\\3A\\PIE\\PIE_2023\\venv\\lib\\site-packages\\sklearn\\linear_model\\_logistic.py:460: ConvergenceWarning: lbfgs failed to converge (status=1):\n",
      "STOP: TOTAL NO. of ITERATIONS REACHED LIMIT.\n",
      "\n",
      "Increase the number of iterations (max_iter) or scale the data as shown in:\n",
      "    https://scikit-learn.org/stable/modules/preprocessing.html\n",
      "Please also refer to the documentation for alternative solver options:\n",
      "    https://scikit-learn.org/stable/modules/linear_model.html#logistic-regression\n",
      "  n_iter_i = _check_optimize_result(\n"
     ]
    },
    {
     "name": "stdout",
     "output_type": "stream",
     "text": [
      "mean of balance accuracy 0.7819129027993258\n",
      "0.7819129027993258\n",
      "CPU times: total: 9.34 s\n",
      "Wall time: 38 s\n"
     ]
    }
   ],
   "source": [
    "%%time\n",
    "cov = Covariances(estimator='oas')\n",
    "ts = TangentSpace()\n",
    "ss = StandardScaler()\n",
    "cl = LogisticRegression()\n",
    "pipeline = Pipeline([('Cov', cov), ('TangentSpace', ts), ('StandardScaler', ss), ('Classifier', cl)])\n",
    "score = train_test_X(data_patients, labels_patients, pipeline, verbose=True)\n",
    "print(score)"
   ]
  },
  {
   "cell_type": "code",
   "execution_count": 27,
   "metadata": {},
   "outputs": [
    {
     "name": "stderr",
     "output_type": "stream",
     "text": [
      "d:\\Documents\\Scolaires\\SUPAERO\\3A\\PIE\\PIE_2023\\venv\\lib\\site-packages\\sklearn\\linear_model\\_logistic.py:460: ConvergenceWarning: lbfgs failed to converge (status=1):\n",
      "STOP: TOTAL NO. of ITERATIONS REACHED LIMIT.\n",
      "\n",
      "Increase the number of iterations (max_iter) or scale the data as shown in:\n",
      "    https://scikit-learn.org/stable/modules/preprocessing.html\n",
      "Please also refer to the documentation for alternative solver options:\n",
      "    https://scikit-learn.org/stable/modules/linear_model.html#logistic-regression\n",
      "  n_iter_i = _check_optimize_result(\n",
      "d:\\Documents\\Scolaires\\SUPAERO\\3A\\PIE\\PIE_2023\\venv\\lib\\site-packages\\sklearn\\linear_model\\_logistic.py:460: ConvergenceWarning: lbfgs failed to converge (status=1):\n",
      "STOP: TOTAL NO. of ITERATIONS REACHED LIMIT.\n",
      "\n",
      "Increase the number of iterations (max_iter) or scale the data as shown in:\n",
      "    https://scikit-learn.org/stable/modules/preprocessing.html\n",
      "Please also refer to the documentation for alternative solver options:\n",
      "    https://scikit-learn.org/stable/modules/linear_model.html#logistic-regression\n",
      "  n_iter_i = _check_optimize_result(\n"
     ]
    },
    {
     "name": "stdout",
     "output_type": "stream",
     "text": [
      "CPU times: total: 1min 9s\n",
      "Wall time: 3min 20s\n"
     ]
    },
    {
     "data": {
      "text/html": [
       "<div>\n",
       "<style scoped>\n",
       "    .dataframe tbody tr th:only-of-type {\n",
       "        vertical-align: middle;\n",
       "    }\n",
       "\n",
       "    .dataframe tbody tr th {\n",
       "        vertical-align: top;\n",
       "    }\n",
       "\n",
       "    .dataframe thead th {\n",
       "        text-align: right;\n",
       "    }\n",
       "</style>\n",
       "<table border=\"1\" class=\"dataframe\">\n",
       "  <thead>\n",
       "    <tr style=\"text-align: right;\">\n",
       "      <th></th>\n",
       "      <th>classifier</th>\n",
       "      <th>balanced_accuracy</th>\n",
       "    </tr>\n",
       "  </thead>\n",
       "  <tbody>\n",
       "    <tr>\n",
       "      <th>0</th>\n",
       "      <td>LogisticRegression</td>\n",
       "      <td>0.781913</td>\n",
       "    </tr>\n",
       "    <tr>\n",
       "      <th>1</th>\n",
       "      <td>SVC</td>\n",
       "      <td>0.838495</td>\n",
       "    </tr>\n",
       "    <tr>\n",
       "      <th>2</th>\n",
       "      <td>LinearDiscriminantAnalysis</td>\n",
       "      <td>0.620214</td>\n",
       "    </tr>\n",
       "    <tr>\n",
       "      <th>3</th>\n",
       "      <td>RandomForestClassifier</td>\n",
       "      <td>0.804028</td>\n",
       "    </tr>\n",
       "    <tr>\n",
       "      <th>4</th>\n",
       "      <td>AdaBoostClassifier</td>\n",
       "      <td>0.757750</td>\n",
       "    </tr>\n",
       "  </tbody>\n",
       "</table>\n",
       "</div>"
      ],
      "text/plain": [
       "                   classifier  balanced_accuracy\n",
       "0          LogisticRegression           0.781913\n",
       "1                         SVC           0.838495\n",
       "2  LinearDiscriminantAnalysis           0.620214\n",
       "3      RandomForestClassifier           0.804028\n",
       "4          AdaBoostClassifier           0.757750"
      ]
     },
     "execution_count": 27,
     "metadata": {},
     "output_type": "execute_result"
    }
   ],
   "source": [
    "%%time\n",
    "classifier = [LogisticRegression(), SVC(), LinearDiscriminantAnalysis(), RandomForestClassifier(), AdaBoostClassifier()]\n",
    "balanced_accuracy = []\n",
    "for cl in classifier:\n",
    "    cov = Covariances(estimator='oas')\n",
    "    ts = TangentSpace()\n",
    "    ss = StandardScaler()\n",
    "    pipeline = Pipeline([('Cov', cov), ('TangentSpace', ts), ('StandardScaler', ss), ('Classifier', cl)])\n",
    "    score = train_test_X(data_patients, labels_patients, pipeline)\n",
    "    balanced_accuracy.append(score)\n",
    "\n",
    "df = pd.DataFrame({'classifier': ['LogisticRegression', 'SVC', 'LinearDiscriminantAnalysis', 'RandomForestClassifier', 'AdaBoostClassifier'], 'balanced_accuracy': balanced_accuracy})\n",
    "df"
   ]
  }
 ],
 "metadata": {
  "kernelspec": {
   "display_name": "venv",
   "language": "python",
   "name": "python3"
  },
  "language_info": {
   "codemirror_mode": {
    "name": "ipython",
    "version": 3
   },
   "file_extension": ".py",
   "mimetype": "text/x-python",
   "name": "python",
   "nbconvert_exporter": "python",
   "pygments_lexer": "ipython3",
   "version": "3.9.1"
  }
 },
 "nbformat": 4,
 "nbformat_minor": 2
}
