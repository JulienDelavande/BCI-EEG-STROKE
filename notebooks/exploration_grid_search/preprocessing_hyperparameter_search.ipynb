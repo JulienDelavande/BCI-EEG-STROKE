{
  "cells": [
    {
      "cell_type": "code",
      "execution_count": 1,
      "metadata": {
        "id": "Upkr8o1FJmGj"
      },
      "outputs": [],
      "source": [
        "import numpy as np\n",
        "from preprocessing.train_all import process_train_data_all, load_processed_data\n",
        "from sklearn.model_selection import train_test_split\n",
        "from sklearn.svm import SVC as SVM\n",
        "from sklearn.preprocessing import StandardScaler\n",
        "from sklearn.pipeline import make_pipeline\n",
        "from sklearn.metrics import f1_score\n",
        "from sklearn.metrics import balanced_accuracy_score\n",
        "import os\n",
        "import itertools"
      ]
    },
    {
      "cell_type": "code",
      "execution_count": 39,
      "metadata": {
        "id": "dvci9eaMLWwj"
      },
      "outputs": [],
      "source": [
        "PATH_DATA_FOLDER = '.././data'\n",
        "PATH_ROW_DATA_FOLDER = f'{PATH_DATA_FOLDER}/raw/Data_npy'\n",
        "PATH_PROCESSED_DATA_FOLDER = f'{PATH_DATA_FOLDER}/processed'\n",
        "\n",
        "EPOCH_START_TIME = -2 #second\n",
        "EPOCH_END_TIME = 2 #second\n",
        "WINDOW_SIZE = 0.5 #second\n",
        "STEP_SIZE = 0.25 #second\n",
        "START_TIME_LABEL = -1\n",
        "END_TIME_LABEL = 0\n",
        "ELECTRODS = ['C3', 'Cz', 'C4']\n",
        "LOW_FREQ = 8\n",
        "HIGH_FREQ = 30\n",
        "\n",
        "FILE_NUMBER = 40"
      ]
    },
    {
      "cell_type": "code",
      "execution_count": 40,
      "metadata": {},
      "outputs": [],
      "source": [
        "# Removing old processed data\n",
        "for filename in os.listdir(PATH_PROCESSED_DATA_FOLDER):\n",
        "    if filename.startswith(\"DATA\"):\n",
        "        file_path = os.path.join(PATH_PROCESSED_DATA_FOLDER, filename)\n",
        "        os.remove(file_path)"
      ]
    },
    {
      "cell_type": "code",
      "execution_count": 41,
      "metadata": {
        "colab": {
          "base_uri": "https://localhost:8080/",
          "height": 668
        },
        "id": "NCBqzQ8dLg9Q",
        "outputId": "7ccff4bf-e996-4d6b-ad51-68dc66ddebb5"
      },
      "outputs": [
        {
          "name": "stderr",
          "output_type": "stream",
          "text": [
            "INFO:root:~~~~~~~~~~~~~~ Loading .././data/raw/Data_npy\\DATA_001_Trial1.npy\n",
            "INFO:root:----------- Processing data...\n",
            "INFO:root:\n",
            "--- Loading data ---\n"
          ]
        },
        {
          "name": "stdout",
          "output_type": "stream",
          "text": [
            "Creating RawArray with float64 data, n_channels=64, n_times=237960\n",
            "    Range : 0 ... 237959 =      0.000 ...   232.382 secs\n",
            "Ready.\n"
          ]
        },
        {
          "name": "stderr",
          "output_type": "stream",
          "text": [
            "INFO:root:\n",
            "--- Filtering data ---\n"
          ]
        },
        {
          "name": "stdout",
          "output_type": "stream",
          "text": [
            "Filtering raw data in 1 contiguous segment\n",
            "Setting up band-pass filter from 8 - 30 Hz\n",
            "\n",
            "FIR filter parameters\n",
            "---------------------\n",
            "Designing a one-pass, zero-phase, non-causal bandpass filter:\n",
            "- Windowed time-domain design (firwin) method\n",
            "- Hamming window with 0.0194 passband ripple and 53 dB stopband attenuation\n",
            "- Lower passband edge: 8.00\n",
            "- Lower transition bandwidth: 2.00 Hz (-6 dB cutoff frequency: 7.00 Hz)\n",
            "- Upper passband edge: 30.00 Hz\n",
            "- Upper transition bandwidth: 7.50 Hz (-6 dB cutoff frequency: 33.75 Hz)\n",
            "- Filter length: 1691 samples (1.651 s)\n",
            "\n"
          ]
        },
        {
          "name": "stderr",
          "output_type": "stream",
          "text": [
            "[Parallel(n_jobs=1)]: Done  17 tasks      | elapsed:    0.1s\n",
            "INFO:root:\n",
            "--- Epoching data ---\n"
          ]
        },
        {
          "name": "stdout",
          "output_type": "stream",
          "text": [
            "Not setting metadata\n",
            "10 matching events found\n",
            "No baseline correction applied\n",
            "0 projection items activated\n",
            "Using data from preloaded Raw for 10 events and 4097 original time points ...\n",
            "1 bad epochs dropped\n"
          ]
        },
        {
          "name": "stderr",
          "output_type": "stream",
          "text": [
            "INFO:root:\n",
            "--- Creating windows ---\n",
            "INFO:root:\n",
            "--- Creating labels ---\n",
            "INFO:root:\n",
            "--- Reshapping windows ---\n",
            "INFO:root:\n",
            "--- Loading data ---\n"
          ]
        },
        {
          "name": "stdout",
          "output_type": "stream",
          "text": [
            "Creating RawArray with float64 data, n_channels=64, n_times=249283\n",
            "    Range : 0 ... 249282 =      0.000 ...   243.439 secs\n",
            "Ready.\n"
          ]
        },
        {
          "name": "stderr",
          "output_type": "stream",
          "text": [
            "INFO:root:\n",
            "--- Filtering data ---\n"
          ]
        },
        {
          "name": "stdout",
          "output_type": "stream",
          "text": [
            "Filtering raw data in 1 contiguous segment\n",
            "Setting up band-pass filter from 8 - 30 Hz\n",
            "\n",
            "FIR filter parameters\n",
            "---------------------\n",
            "Designing a one-pass, zero-phase, non-causal bandpass filter:\n",
            "- Windowed time-domain design (firwin) method\n",
            "- Hamming window with 0.0194 passband ripple and 53 dB stopband attenuation\n",
            "- Lower passband edge: 8.00\n",
            "- Lower transition bandwidth: 2.00 Hz (-6 dB cutoff frequency: 7.00 Hz)\n",
            "- Upper passband edge: 30.00 Hz\n",
            "- Upper transition bandwidth: 7.50 Hz (-6 dB cutoff frequency: 33.75 Hz)\n",
            "- Filter length: 1691 samples (1.651 s)\n",
            "\n"
          ]
        },
        {
          "name": "stderr",
          "output_type": "stream",
          "text": [
            "[Parallel(n_jobs=1)]: Done  17 tasks      | elapsed:    0.2s\n",
            "INFO:root:\n",
            "--- Epoching data ---\n"
          ]
        },
        {
          "name": "stdout",
          "output_type": "stream",
          "text": [
            "Not setting metadata\n",
            "10 matching events found\n",
            "No baseline correction applied\n",
            "0 projection items activated\n",
            "Using data from preloaded Raw for 10 events and 4097 original time points ...\n",
            "0 bad epochs dropped\n"
          ]
        },
        {
          "name": "stderr",
          "output_type": "stream",
          "text": [
            "INFO:root:\n",
            "--- Creating windows ---\n",
            "INFO:root:\n",
            "--- Creating labels ---\n",
            "INFO:root:\n",
            "--- Reshapping windows ---\n",
            "INFO:root:~~~~~~~~~~~~~~ Done. \n",
            "\n",
            "INFO:root:~~~~~~~~~~~~~~ Loading .././data/raw/Data_npy\\DATA_001_Trial2.npy\n",
            "INFO:root:----------- Processing data...\n",
            "INFO:root:\n",
            "--- Loading data ---\n"
          ]
        },
        {
          "name": "stdout",
          "output_type": "stream",
          "text": [
            "Creating RawArray with float64 data, n_channels=64, n_times=237864\n",
            "    Range : 0 ... 237863 =      0.000 ...   232.288 secs\n",
            "Ready.\n"
          ]
        },
        {
          "name": "stderr",
          "output_type": "stream",
          "text": [
            "INFO:root:\n",
            "--- Filtering data ---\n"
          ]
        },
        {
          "name": "stdout",
          "output_type": "stream",
          "text": [
            "Filtering raw data in 1 contiguous segment\n",
            "Setting up band-pass filter from 8 - 30 Hz\n",
            "\n",
            "FIR filter parameters\n",
            "---------------------\n",
            "Designing a one-pass, zero-phase, non-causal bandpass filter:\n",
            "- Windowed time-domain design (firwin) method\n",
            "- Hamming window with 0.0194 passband ripple and 53 dB stopband attenuation\n",
            "- Lower passband edge: 8.00\n",
            "- Lower transition bandwidth: 2.00 Hz (-6 dB cutoff frequency: 7.00 Hz)\n",
            "- Upper passband edge: 30.00 Hz\n",
            "- Upper transition bandwidth: 7.50 Hz (-6 dB cutoff frequency: 33.75 Hz)\n",
            "- Filter length: 1691 samples (1.651 s)\n",
            "\n"
          ]
        },
        {
          "name": "stderr",
          "output_type": "stream",
          "text": [
            "[Parallel(n_jobs=1)]: Done  17 tasks      | elapsed:    0.0s\n",
            "INFO:root:\n",
            "--- Epoching data ---\n"
          ]
        },
        {
          "name": "stdout",
          "output_type": "stream",
          "text": [
            "Not setting metadata\n",
            "10 matching events found\n",
            "No baseline correction applied\n",
            "0 projection items activated\n",
            "Using data from preloaded Raw for 10 events and 4097 original time points ...\n",
            "1 bad epochs dropped\n"
          ]
        },
        {
          "name": "stderr",
          "output_type": "stream",
          "text": [
            "INFO:root:\n",
            "--- Creating windows ---\n",
            "INFO:root:\n",
            "--- Creating labels ---\n",
            "INFO:root:\n",
            "--- Reshapping windows ---\n",
            "INFO:root:\n",
            "--- Loading data ---\n"
          ]
        },
        {
          "name": "stdout",
          "output_type": "stream",
          "text": [
            "Creating RawArray with float64 data, n_channels=64, n_times=235191\n",
            "    Range : 0 ... 235190 =      0.000 ...   229.678 secs\n",
            "Ready.\n"
          ]
        },
        {
          "name": "stderr",
          "output_type": "stream",
          "text": [
            "INFO:root:\n",
            "--- Filtering data ---\n"
          ]
        },
        {
          "name": "stdout",
          "output_type": "stream",
          "text": [
            "Filtering raw data in 1 contiguous segment\n",
            "Setting up band-pass filter from 8 - 30 Hz\n",
            "\n",
            "FIR filter parameters\n",
            "---------------------\n",
            "Designing a one-pass, zero-phase, non-causal bandpass filter:\n",
            "- Windowed time-domain design (firwin) method\n",
            "- Hamming window with 0.0194 passband ripple and 53 dB stopband attenuation\n",
            "- Lower passband edge: 8.00\n",
            "- Lower transition bandwidth: 2.00 Hz (-6 dB cutoff frequency: 7.00 Hz)\n",
            "- Upper passband edge: 30.00 Hz\n",
            "- Upper transition bandwidth: 7.50 Hz (-6 dB cutoff frequency: 33.75 Hz)\n",
            "- Filter length: 1691 samples (1.651 s)\n",
            "\n"
          ]
        },
        {
          "name": "stderr",
          "output_type": "stream",
          "text": [
            "[Parallel(n_jobs=1)]: Done  17 tasks      | elapsed:    0.0s\n",
            "INFO:root:\n",
            "--- Epoching data ---\n"
          ]
        },
        {
          "name": "stdout",
          "output_type": "stream",
          "text": [
            "Not setting metadata\n",
            "10 matching events found\n",
            "No baseline correction applied\n",
            "0 projection items activated\n",
            "Using data from preloaded Raw for 10 events and 4097 original time points ...\n",
            "1 bad epochs dropped\n"
          ]
        },
        {
          "name": "stderr",
          "output_type": "stream",
          "text": [
            "INFO:root:\n",
            "--- Creating windows ---\n",
            "INFO:root:\n",
            "--- Creating labels ---\n",
            "INFO:root:\n",
            "--- Reshapping windows ---\n",
            "INFO:root:~~~~~~~~~~~~~~ Done. \n",
            "\n",
            "INFO:root:~~~~~~~~~~~~~~ Loading .././data/raw/Data_npy\\DATA_002_Trial1.npy\n",
            "INFO:root:----------- Processing data...\n",
            "INFO:root:\n",
            "--- Loading data ---\n"
          ]
        },
        {
          "name": "stdout",
          "output_type": "stream",
          "text": [
            "Creating RawArray with float64 data, n_channels=64, n_times=243333\n",
            "    Range : 0 ... 243332 =      0.000 ...   237.629 secs\n",
            "Ready.\n"
          ]
        },
        {
          "name": "stderr",
          "output_type": "stream",
          "text": [
            "INFO:root:\n",
            "--- Filtering data ---\n"
          ]
        },
        {
          "name": "stdout",
          "output_type": "stream",
          "text": [
            "Filtering raw data in 1 contiguous segment\n",
            "Setting up band-pass filter from 8 - 30 Hz\n",
            "\n",
            "FIR filter parameters\n",
            "---------------------\n",
            "Designing a one-pass, zero-phase, non-causal bandpass filter:\n",
            "- Windowed time-domain design (firwin) method\n",
            "- Hamming window with 0.0194 passband ripple and 53 dB stopband attenuation\n",
            "- Lower passband edge: 8.00\n",
            "- Lower transition bandwidth: 2.00 Hz (-6 dB cutoff frequency: 7.00 Hz)\n",
            "- Upper passband edge: 30.00 Hz\n",
            "- Upper transition bandwidth: 7.50 Hz (-6 dB cutoff frequency: 33.75 Hz)\n",
            "- Filter length: 1691 samples (1.651 s)\n",
            "\n"
          ]
        },
        {
          "name": "stderr",
          "output_type": "stream",
          "text": [
            "[Parallel(n_jobs=1)]: Done  17 tasks      | elapsed:    0.0s\n",
            "INFO:root:\n",
            "--- Epoching data ---\n"
          ]
        },
        {
          "name": "stdout",
          "output_type": "stream",
          "text": [
            "Not setting metadata\n",
            "10 matching events found\n",
            "No baseline correction applied\n",
            "0 projection items activated\n",
            "Using data from preloaded Raw for 10 events and 4097 original time points ...\n",
            "1 bad epochs dropped\n"
          ]
        },
        {
          "name": "stderr",
          "output_type": "stream",
          "text": [
            "INFO:root:\n",
            "--- Creating windows ---\n",
            "INFO:root:\n",
            "--- Creating labels ---\n",
            "INFO:root:\n",
            "--- Reshapping windows ---\n",
            "INFO:root:\n",
            "--- Loading data ---\n"
          ]
        },
        {
          "name": "stdout",
          "output_type": "stream",
          "text": [
            "Creating RawArray with float64 data, n_channels=64, n_times=294462\n",
            "    Range : 0 ... 294461 =      0.000 ...   287.560 secs\n",
            "Ready.\n"
          ]
        },
        {
          "name": "stderr",
          "output_type": "stream",
          "text": [
            "INFO:root:\n",
            "--- Filtering data ---\n"
          ]
        },
        {
          "name": "stdout",
          "output_type": "stream",
          "text": [
            "Filtering raw data in 1 contiguous segment\n",
            "Setting up band-pass filter from 8 - 30 Hz\n",
            "\n",
            "FIR filter parameters\n",
            "---------------------\n",
            "Designing a one-pass, zero-phase, non-causal bandpass filter:\n",
            "- Windowed time-domain design (firwin) method\n",
            "- Hamming window with 0.0194 passband ripple and 53 dB stopband attenuation\n",
            "- Lower passband edge: 8.00\n",
            "- Lower transition bandwidth: 2.00 Hz (-6 dB cutoff frequency: 7.00 Hz)\n",
            "- Upper passband edge: 30.00 Hz\n",
            "- Upper transition bandwidth: 7.50 Hz (-6 dB cutoff frequency: 33.75 Hz)\n",
            "- Filter length: 1691 samples (1.651 s)\n",
            "\n"
          ]
        },
        {
          "name": "stderr",
          "output_type": "stream",
          "text": [
            "[Parallel(n_jobs=1)]: Done  17 tasks      | elapsed:    0.0s\n",
            "INFO:root:\n",
            "--- Epoching data ---\n"
          ]
        },
        {
          "name": "stdout",
          "output_type": "stream",
          "text": [
            "Not setting metadata\n",
            "10 matching events found\n",
            "No baseline correction applied\n",
            "0 projection items activated\n",
            "Using data from preloaded Raw for 10 events and 4097 original time points ...\n",
            "1 bad epochs dropped\n"
          ]
        },
        {
          "name": "stderr",
          "output_type": "stream",
          "text": [
            "INFO:root:\n",
            "--- Creating windows ---\n",
            "INFO:root:\n",
            "--- Creating labels ---\n",
            "INFO:root:\n",
            "--- Reshapping windows ---\n",
            "INFO:root:~~~~~~~~~~~~~~ Done. \n",
            "\n",
            "INFO:root:~~~~~~~~~~~~~~ Loading .././data/raw/Data_npy\\DATA_002_Trial2.npy\n",
            "INFO:root:----------- Processing data...\n",
            "INFO:root:\n",
            "--- Loading data ---\n"
          ]
        },
        {
          "name": "stdout",
          "output_type": "stream",
          "text": [
            "Creating RawArray with float64 data, n_channels=64, n_times=236498\n",
            "    Range : 0 ... 236497 =      0.000 ...   230.954 secs\n",
            "Ready.\n"
          ]
        },
        {
          "name": "stderr",
          "output_type": "stream",
          "text": [
            "INFO:root:\n",
            "--- Filtering data ---\n"
          ]
        },
        {
          "name": "stdout",
          "output_type": "stream",
          "text": [
            "Filtering raw data in 1 contiguous segment\n",
            "Setting up band-pass filter from 8 - 30 Hz\n",
            "\n",
            "FIR filter parameters\n",
            "---------------------\n",
            "Designing a one-pass, zero-phase, non-causal bandpass filter:\n",
            "- Windowed time-domain design (firwin) method\n",
            "- Hamming window with 0.0194 passband ripple and 53 dB stopband attenuation\n",
            "- Lower passband edge: 8.00\n",
            "- Lower transition bandwidth: 2.00 Hz (-6 dB cutoff frequency: 7.00 Hz)\n",
            "- Upper passband edge: 30.00 Hz\n",
            "- Upper transition bandwidth: 7.50 Hz (-6 dB cutoff frequency: 33.75 Hz)\n",
            "- Filter length: 1691 samples (1.651 s)\n",
            "\n"
          ]
        },
        {
          "name": "stderr",
          "output_type": "stream",
          "text": [
            "[Parallel(n_jobs=1)]: Done  17 tasks      | elapsed:    0.0s\n",
            "INFO:root:\n",
            "--- Epoching data ---\n"
          ]
        },
        {
          "name": "stdout",
          "output_type": "stream",
          "text": [
            "Not setting metadata\n",
            "10 matching events found\n",
            "No baseline correction applied\n",
            "0 projection items activated\n",
            "Using data from preloaded Raw for 10 events and 4097 original time points ...\n",
            "1 bad epochs dropped\n"
          ]
        },
        {
          "name": "stderr",
          "output_type": "stream",
          "text": [
            "INFO:root:\n",
            "--- Creating windows ---\n",
            "INFO:root:\n",
            "--- Creating labels ---\n",
            "INFO:root:\n",
            "--- Reshapping windows ---\n",
            "INFO:root:\n",
            "--- Loading data ---\n"
          ]
        },
        {
          "name": "stdout",
          "output_type": "stream",
          "text": [
            "Creating RawArray with float64 data, n_channels=64, n_times=334702\n",
            "    Range : 0 ... 334701 =      0.000 ...   326.856 secs\n",
            "Ready.\n"
          ]
        },
        {
          "name": "stderr",
          "output_type": "stream",
          "text": [
            "INFO:root:\n",
            "--- Filtering data ---\n"
          ]
        },
        {
          "name": "stdout",
          "output_type": "stream",
          "text": [
            "Filtering raw data in 1 contiguous segment\n",
            "Setting up band-pass filter from 8 - 30 Hz\n",
            "\n",
            "FIR filter parameters\n",
            "---------------------\n",
            "Designing a one-pass, zero-phase, non-causal bandpass filter:\n",
            "- Windowed time-domain design (firwin) method\n",
            "- Hamming window with 0.0194 passband ripple and 53 dB stopband attenuation\n",
            "- Lower passband edge: 8.00\n",
            "- Lower transition bandwidth: 2.00 Hz (-6 dB cutoff frequency: 7.00 Hz)\n",
            "- Upper passband edge: 30.00 Hz\n",
            "- Upper transition bandwidth: 7.50 Hz (-6 dB cutoff frequency: 33.75 Hz)\n",
            "- Filter length: 1691 samples (1.651 s)\n",
            "\n"
          ]
        },
        {
          "name": "stderr",
          "output_type": "stream",
          "text": [
            "[Parallel(n_jobs=1)]: Done  17 tasks      | elapsed:    0.1s\n",
            "INFO:root:\n",
            "--- Epoching data ---\n"
          ]
        },
        {
          "name": "stdout",
          "output_type": "stream",
          "text": [
            "Not setting metadata\n",
            "9 matching events found\n",
            "No baseline correction applied\n",
            "0 projection items activated\n",
            "Using data from preloaded Raw for 9 events and 4097 original time points ...\n",
            "1 bad epochs dropped\n"
          ]
        },
        {
          "name": "stderr",
          "output_type": "stream",
          "text": [
            "INFO:root:\n",
            "--- Creating windows ---\n",
            "INFO:root:\n",
            "--- Creating labels ---\n",
            "INFO:root:\n",
            "--- Reshapping windows ---\n",
            "INFO:root:~~~~~~~~~~~~~~ Done. \n",
            "\n",
            "INFO:root:~~~~~~~~~~~~~~ Loading .././data/raw/Data_npy\\DATA_002_Trial3.npy\n",
            "INFO:root:----------- Processing data...\n",
            "INFO:root:\n",
            "--- Loading data ---\n",
            "INFO:root:No data for this side\n",
            "WARNING:root:~~~~~~~~~~~~~~ No data for .././data/raw/Data_npy\\DATA_002_Trial3.npy and side G.\n",
            "INFO:root:\n",
            "--- Loading data ---\n"
          ]
        },
        {
          "name": "stdout",
          "output_type": "stream",
          "text": [
            "Creating RawArray with float64 data, n_channels=64, n_times=332711\n",
            "    Range : 0 ... 332710 =      0.000 ...   324.912 secs\n",
            "Ready.\n"
          ]
        },
        {
          "name": "stderr",
          "output_type": "stream",
          "text": [
            "INFO:root:\n",
            "--- Filtering data ---\n"
          ]
        },
        {
          "name": "stdout",
          "output_type": "stream",
          "text": [
            "Filtering raw data in 1 contiguous segment\n",
            "Setting up band-pass filter from 8 - 30 Hz\n",
            "\n",
            "FIR filter parameters\n",
            "---------------------\n",
            "Designing a one-pass, zero-phase, non-causal bandpass filter:\n",
            "- Windowed time-domain design (firwin) method\n",
            "- Hamming window with 0.0194 passband ripple and 53 dB stopband attenuation\n",
            "- Lower passband edge: 8.00\n",
            "- Lower transition bandwidth: 2.00 Hz (-6 dB cutoff frequency: 7.00 Hz)\n",
            "- Upper passband edge: 30.00 Hz\n",
            "- Upper transition bandwidth: 7.50 Hz (-6 dB cutoff frequency: 33.75 Hz)\n",
            "- Filter length: 1691 samples (1.651 s)\n",
            "\n"
          ]
        },
        {
          "name": "stderr",
          "output_type": "stream",
          "text": [
            "[Parallel(n_jobs=1)]: Done  17 tasks      | elapsed:    0.0s\n",
            "INFO:root:\n",
            "--- Epoching data ---\n"
          ]
        },
        {
          "name": "stdout",
          "output_type": "stream",
          "text": [
            "Not setting metadata\n",
            "10 matching events found\n",
            "No baseline correction applied\n",
            "0 projection items activated\n",
            "Using data from preloaded Raw for 10 events and 4097 original time points ...\n",
            "1 bad epochs dropped\n"
          ]
        },
        {
          "name": "stderr",
          "output_type": "stream",
          "text": [
            "INFO:root:\n",
            "--- Creating windows ---\n",
            "INFO:root:\n",
            "--- Creating labels ---\n",
            "INFO:root:\n",
            "--- Reshapping windows ---\n",
            "INFO:root:~~~~~~~~~~~~~~ Done. \n",
            "\n",
            "INFO:root:~~~~~~~~~~~~~~ Loading .././data/raw/Data_npy\\DATA_003_Trial1.npy\n",
            "INFO:root:----------- Processing data...\n",
            "INFO:root:\n",
            "--- Loading data ---\n"
          ]
        },
        {
          "name": "stdout",
          "output_type": "stream",
          "text": [
            "Creating RawArray with float64 data, n_channels=64, n_times=256034\n",
            "    Range : 0 ... 256033 =      0.000 ...   250.032 secs\n",
            "Ready.\n"
          ]
        },
        {
          "name": "stderr",
          "output_type": "stream",
          "text": [
            "INFO:root:\n",
            "--- Filtering data ---\n"
          ]
        },
        {
          "name": "stdout",
          "output_type": "stream",
          "text": [
            "Filtering raw data in 1 contiguous segment\n",
            "Setting up band-pass filter from 8 - 30 Hz\n",
            "\n",
            "FIR filter parameters\n",
            "---------------------\n",
            "Designing a one-pass, zero-phase, non-causal bandpass filter:\n",
            "- Windowed time-domain design (firwin) method\n",
            "- Hamming window with 0.0194 passband ripple and 53 dB stopband attenuation\n",
            "- Lower passband edge: 8.00\n",
            "- Lower transition bandwidth: 2.00 Hz (-6 dB cutoff frequency: 7.00 Hz)\n",
            "- Upper passband edge: 30.00 Hz\n",
            "- Upper transition bandwidth: 7.50 Hz (-6 dB cutoff frequency: 33.75 Hz)\n",
            "- Filter length: 1691 samples (1.651 s)\n",
            "\n"
          ]
        },
        {
          "name": "stderr",
          "output_type": "stream",
          "text": [
            "[Parallel(n_jobs=1)]: Done  17 tasks      | elapsed:    0.0s\n",
            "INFO:root:\n",
            "--- Epoching data ---\n"
          ]
        },
        {
          "name": "stdout",
          "output_type": "stream",
          "text": [
            "Not setting metadata\n",
            "9 matching events found\n",
            "No baseline correction applied\n",
            "0 projection items activated\n",
            "Using data from preloaded Raw for 9 events and 4097 original time points ...\n",
            "1 bad epochs dropped\n"
          ]
        },
        {
          "name": "stderr",
          "output_type": "stream",
          "text": [
            "INFO:root:\n",
            "--- Creating windows ---\n",
            "INFO:root:\n",
            "--- Creating labels ---\n",
            "INFO:root:\n",
            "--- Reshapping windows ---\n",
            "INFO:root:\n",
            "--- Loading data ---\n"
          ]
        },
        {
          "name": "stdout",
          "output_type": "stream",
          "text": [
            "Creating RawArray with float64 data, n_channels=64, n_times=277936\n",
            "    Range : 0 ... 277935 =      0.000 ...   271.421 secs\n",
            "Ready.\n"
          ]
        },
        {
          "name": "stderr",
          "output_type": "stream",
          "text": [
            "INFO:root:\n",
            "--- Filtering data ---\n"
          ]
        },
        {
          "name": "stdout",
          "output_type": "stream",
          "text": [
            "Filtering raw data in 1 contiguous segment\n",
            "Setting up band-pass filter from 8 - 30 Hz\n",
            "\n",
            "FIR filter parameters\n",
            "---------------------\n",
            "Designing a one-pass, zero-phase, non-causal bandpass filter:\n",
            "- Windowed time-domain design (firwin) method\n",
            "- Hamming window with 0.0194 passband ripple and 53 dB stopband attenuation\n",
            "- Lower passband edge: 8.00\n",
            "- Lower transition bandwidth: 2.00 Hz (-6 dB cutoff frequency: 7.00 Hz)\n",
            "- Upper passband edge: 30.00 Hz\n",
            "- Upper transition bandwidth: 7.50 Hz (-6 dB cutoff frequency: 33.75 Hz)\n",
            "- Filter length: 1691 samples (1.651 s)\n",
            "\n"
          ]
        },
        {
          "name": "stderr",
          "output_type": "stream",
          "text": [
            "[Parallel(n_jobs=1)]: Done  17 tasks      | elapsed:    0.0s\n",
            "INFO:root:\n",
            "--- Epoching data ---\n"
          ]
        },
        {
          "name": "stdout",
          "output_type": "stream",
          "text": [
            "Not setting metadata\n",
            "10 matching events found\n",
            "No baseline correction applied\n",
            "0 projection items activated\n",
            "Using data from preloaded Raw for 10 events and 4097 original time points ...\n",
            "1 bad epochs dropped\n"
          ]
        },
        {
          "name": "stderr",
          "output_type": "stream",
          "text": [
            "INFO:root:\n",
            "--- Creating windows ---\n",
            "INFO:root:\n",
            "--- Creating labels ---\n",
            "INFO:root:\n",
            "--- Reshapping windows ---\n",
            "INFO:root:~~~~~~~~~~~~~~ Done. \n",
            "\n",
            "INFO:root:~~~~~~~~~~~~~~ Loading .././data/raw/Data_npy\\DATA_003_Trial2.npy\n",
            "INFO:root:----------- Processing data...\n",
            "INFO:root:\n",
            "--- Loading data ---\n"
          ]
        },
        {
          "name": "stdout",
          "output_type": "stream",
          "text": [
            "Creating RawArray with float64 data, n_channels=64, n_times=266238\n",
            "    Range : 0 ... 266237 =      0.000 ...   259.997 secs\n",
            "Ready.\n"
          ]
        },
        {
          "name": "stderr",
          "output_type": "stream",
          "text": [
            "INFO:root:\n",
            "--- Filtering data ---\n"
          ]
        },
        {
          "name": "stdout",
          "output_type": "stream",
          "text": [
            "Filtering raw data in 1 contiguous segment\n",
            "Setting up band-pass filter from 8 - 30 Hz\n",
            "\n",
            "FIR filter parameters\n",
            "---------------------\n",
            "Designing a one-pass, zero-phase, non-causal bandpass filter:\n",
            "- Windowed time-domain design (firwin) method\n",
            "- Hamming window with 0.0194 passband ripple and 53 dB stopband attenuation\n",
            "- Lower passband edge: 8.00\n",
            "- Lower transition bandwidth: 2.00 Hz (-6 dB cutoff frequency: 7.00 Hz)\n",
            "- Upper passband edge: 30.00 Hz\n",
            "- Upper transition bandwidth: 7.50 Hz (-6 dB cutoff frequency: 33.75 Hz)\n",
            "- Filter length: 1691 samples (1.651 s)\n",
            "\n"
          ]
        },
        {
          "name": "stderr",
          "output_type": "stream",
          "text": [
            "[Parallel(n_jobs=1)]: Done  17 tasks      | elapsed:    0.0s\n",
            "INFO:root:\n",
            "--- Epoching data ---\n"
          ]
        },
        {
          "name": "stdout",
          "output_type": "stream",
          "text": [
            "Not setting metadata\n",
            "10 matching events found\n",
            "No baseline correction applied\n",
            "0 projection items activated\n",
            "Using data from preloaded Raw for 10 events and 4097 original time points ...\n",
            "1 bad epochs dropped\n"
          ]
        },
        {
          "name": "stderr",
          "output_type": "stream",
          "text": [
            "INFO:root:\n",
            "--- Creating windows ---\n",
            "INFO:root:\n",
            "--- Creating labels ---\n",
            "INFO:root:\n",
            "--- Reshapping windows ---\n",
            "INFO:root:\n",
            "--- Loading data ---\n"
          ]
        },
        {
          "name": "stdout",
          "output_type": "stream",
          "text": [
            "Creating RawArray with float64 data, n_channels=64, n_times=244444\n",
            "    Range : 0 ... 244443 =      0.000 ...   238.714 secs\n",
            "Ready.\n"
          ]
        },
        {
          "name": "stderr",
          "output_type": "stream",
          "text": [
            "INFO:root:\n",
            "--- Filtering data ---\n"
          ]
        },
        {
          "name": "stdout",
          "output_type": "stream",
          "text": [
            "Filtering raw data in 1 contiguous segment\n",
            "Setting up band-pass filter from 8 - 30 Hz\n",
            "\n",
            "FIR filter parameters\n",
            "---------------------\n",
            "Designing a one-pass, zero-phase, non-causal bandpass filter:\n",
            "- Windowed time-domain design (firwin) method\n",
            "- Hamming window with 0.0194 passband ripple and 53 dB stopband attenuation\n",
            "- Lower passband edge: 8.00\n",
            "- Lower transition bandwidth: 2.00 Hz (-6 dB cutoff frequency: 7.00 Hz)\n",
            "- Upper passband edge: 30.00 Hz\n",
            "- Upper transition bandwidth: 7.50 Hz (-6 dB cutoff frequency: 33.75 Hz)\n",
            "- Filter length: 1691 samples (1.651 s)\n",
            "\n"
          ]
        },
        {
          "name": "stderr",
          "output_type": "stream",
          "text": [
            "[Parallel(n_jobs=1)]: Done  17 tasks      | elapsed:    0.0s\n",
            "INFO:root:\n",
            "--- Epoching data ---\n"
          ]
        },
        {
          "name": "stdout",
          "output_type": "stream",
          "text": [
            "Not setting metadata\n",
            "9 matching events found\n",
            "No baseline correction applied\n",
            "0 projection items activated\n",
            "Using data from preloaded Raw for 9 events and 4097 original time points ...\n",
            "0 bad epochs dropped\n"
          ]
        },
        {
          "name": "stderr",
          "output_type": "stream",
          "text": [
            "INFO:root:\n",
            "--- Creating windows ---\n",
            "INFO:root:\n",
            "--- Creating labels ---\n",
            "INFO:root:\n",
            "--- Reshapping windows ---\n",
            "INFO:root:~~~~~~~~~~~~~~ Done. \n",
            "\n",
            "INFO:root:~~~~~~~~~~~~~~ Loading .././data/raw/Data_npy\\DATA_004_Trial1.npy\n",
            "INFO:root:----------- Processing data...\n",
            "INFO:root:\n",
            "--- Loading data ---\n"
          ]
        },
        {
          "name": "stdout",
          "output_type": "stream",
          "text": [
            "Creating RawArray with float64 data, n_channels=64, n_times=245609\n",
            "    Range : 0 ... 245608 =      0.000 ...   239.852 secs\n",
            "Ready.\n"
          ]
        },
        {
          "name": "stderr",
          "output_type": "stream",
          "text": [
            "INFO:root:\n",
            "--- Filtering data ---\n"
          ]
        },
        {
          "name": "stdout",
          "output_type": "stream",
          "text": [
            "Filtering raw data in 1 contiguous segment\n",
            "Setting up band-pass filter from 8 - 30 Hz\n",
            "\n",
            "FIR filter parameters\n",
            "---------------------\n",
            "Designing a one-pass, zero-phase, non-causal bandpass filter:\n",
            "- Windowed time-domain design (firwin) method\n",
            "- Hamming window with 0.0194 passband ripple and 53 dB stopband attenuation\n",
            "- Lower passband edge: 8.00\n",
            "- Lower transition bandwidth: 2.00 Hz (-6 dB cutoff frequency: 7.00 Hz)\n",
            "- Upper passband edge: 30.00 Hz\n",
            "- Upper transition bandwidth: 7.50 Hz (-6 dB cutoff frequency: 33.75 Hz)\n",
            "- Filter length: 1691 samples (1.651 s)\n",
            "\n"
          ]
        },
        {
          "name": "stderr",
          "output_type": "stream",
          "text": [
            "[Parallel(n_jobs=1)]: Done  17 tasks      | elapsed:    0.0s\n",
            "INFO:root:\n",
            "--- Epoching data ---\n"
          ]
        },
        {
          "name": "stdout",
          "output_type": "stream",
          "text": [
            "Not setting metadata\n",
            "10 matching events found\n",
            "No baseline correction applied\n",
            "0 projection items activated\n",
            "Using data from preloaded Raw for 10 events and 4097 original time points ...\n",
            "1 bad epochs dropped\n"
          ]
        },
        {
          "name": "stderr",
          "output_type": "stream",
          "text": [
            "INFO:root:\n",
            "--- Creating windows ---\n",
            "INFO:root:\n",
            "--- Creating labels ---\n",
            "INFO:root:\n",
            "--- Reshapping windows ---\n",
            "INFO:root:\n",
            "--- Loading data ---\n"
          ]
        },
        {
          "name": "stdout",
          "output_type": "stream",
          "text": [
            "Creating RawArray with float64 data, n_channels=64, n_times=229827\n",
            "    Range : 0 ... 229826 =      0.000 ...   224.439 secs\n",
            "Ready.\n"
          ]
        },
        {
          "name": "stderr",
          "output_type": "stream",
          "text": [
            "INFO:root:\n",
            "--- Filtering data ---\n"
          ]
        },
        {
          "name": "stdout",
          "output_type": "stream",
          "text": [
            "Filtering raw data in 1 contiguous segment\n",
            "Setting up band-pass filter from 8 - 30 Hz\n",
            "\n",
            "FIR filter parameters\n",
            "---------------------\n",
            "Designing a one-pass, zero-phase, non-causal bandpass filter:\n",
            "- Windowed time-domain design (firwin) method\n",
            "- Hamming window with 0.0194 passband ripple and 53 dB stopband attenuation\n",
            "- Lower passband edge: 8.00\n",
            "- Lower transition bandwidth: 2.00 Hz (-6 dB cutoff frequency: 7.00 Hz)\n",
            "- Upper passband edge: 30.00 Hz\n",
            "- Upper transition bandwidth: 7.50 Hz (-6 dB cutoff frequency: 33.75 Hz)\n",
            "- Filter length: 1691 samples (1.651 s)\n",
            "\n"
          ]
        },
        {
          "name": "stderr",
          "output_type": "stream",
          "text": [
            "[Parallel(n_jobs=1)]: Done  17 tasks      | elapsed:    0.0s\n",
            "INFO:root:\n",
            "--- Epoching data ---\n"
          ]
        },
        {
          "name": "stdout",
          "output_type": "stream",
          "text": [
            "Not setting metadata\n",
            "10 matching events found\n",
            "No baseline correction applied\n",
            "0 projection items activated\n",
            "Using data from preloaded Raw for 10 events and 4097 original time points ...\n",
            "1 bad epochs dropped\n"
          ]
        },
        {
          "name": "stderr",
          "output_type": "stream",
          "text": [
            "INFO:root:\n",
            "--- Creating windows ---\n",
            "INFO:root:\n",
            "--- Creating labels ---\n",
            "INFO:root:\n",
            "--- Reshapping windows ---\n",
            "INFO:root:~~~~~~~~~~~~~~ Done. \n",
            "\n",
            "INFO:root:~~~~~~~~~~~~~~ Loading .././data/raw/Data_npy\\DATA_004_Trial2.npy\n",
            "INFO:root:----------- Processing data...\n",
            "INFO:root:\n",
            "--- Loading data ---\n"
          ]
        },
        {
          "name": "stdout",
          "output_type": "stream",
          "text": [
            "Creating RawArray with float64 data, n_channels=64, n_times=233337\n",
            "    Range : 0 ... 233336 =      0.000 ...   227.867 secs\n",
            "Ready.\n"
          ]
        },
        {
          "name": "stderr",
          "output_type": "stream",
          "text": [
            "INFO:root:\n",
            "--- Filtering data ---\n"
          ]
        },
        {
          "name": "stdout",
          "output_type": "stream",
          "text": [
            "Filtering raw data in 1 contiguous segment\n",
            "Setting up band-pass filter from 8 - 30 Hz\n",
            "\n",
            "FIR filter parameters\n",
            "---------------------\n",
            "Designing a one-pass, zero-phase, non-causal bandpass filter:\n",
            "- Windowed time-domain design (firwin) method\n",
            "- Hamming window with 0.0194 passband ripple and 53 dB stopband attenuation\n",
            "- Lower passband edge: 8.00\n",
            "- Lower transition bandwidth: 2.00 Hz (-6 dB cutoff frequency: 7.00 Hz)\n",
            "- Upper passband edge: 30.00 Hz\n",
            "- Upper transition bandwidth: 7.50 Hz (-6 dB cutoff frequency: 33.75 Hz)\n",
            "- Filter length: 1691 samples (1.651 s)\n",
            "\n"
          ]
        },
        {
          "name": "stderr",
          "output_type": "stream",
          "text": [
            "[Parallel(n_jobs=1)]: Done  17 tasks      | elapsed:    0.1s\n",
            "INFO:root:\n",
            "--- Epoching data ---\n"
          ]
        },
        {
          "name": "stdout",
          "output_type": "stream",
          "text": [
            "Not setting metadata\n",
            "10 matching events found\n",
            "No baseline correction applied\n",
            "0 projection items activated\n",
            "Using data from preloaded Raw for 10 events and 4097 original time points ...\n",
            "1 bad epochs dropped\n"
          ]
        },
        {
          "name": "stderr",
          "output_type": "stream",
          "text": [
            "INFO:root:\n",
            "--- Creating windows ---\n",
            "INFO:root:\n",
            "--- Creating labels ---\n",
            "INFO:root:\n",
            "--- Reshapping windows ---\n",
            "INFO:root:\n",
            "--- Loading data ---\n"
          ]
        },
        {
          "name": "stdout",
          "output_type": "stream",
          "text": [
            "Creating RawArray with float64 data, n_channels=64, n_times=231738\n",
            "    Range : 0 ... 231737 =      0.000 ...   226.306 secs\n",
            "Ready.\n"
          ]
        },
        {
          "name": "stderr",
          "output_type": "stream",
          "text": [
            "INFO:root:\n",
            "--- Filtering data ---\n"
          ]
        },
        {
          "name": "stdout",
          "output_type": "stream",
          "text": [
            "Filtering raw data in 1 contiguous segment\n",
            "Setting up band-pass filter from 8 - 30 Hz\n",
            "\n",
            "FIR filter parameters\n",
            "---------------------\n",
            "Designing a one-pass, zero-phase, non-causal bandpass filter:\n",
            "- Windowed time-domain design (firwin) method\n",
            "- Hamming window with 0.0194 passband ripple and 53 dB stopband attenuation\n",
            "- Lower passband edge: 8.00\n",
            "- Lower transition bandwidth: 2.00 Hz (-6 dB cutoff frequency: 7.00 Hz)\n",
            "- Upper passband edge: 30.00 Hz\n",
            "- Upper transition bandwidth: 7.50 Hz (-6 dB cutoff frequency: 33.75 Hz)\n",
            "- Filter length: 1691 samples (1.651 s)\n",
            "\n"
          ]
        },
        {
          "name": "stderr",
          "output_type": "stream",
          "text": [
            "[Parallel(n_jobs=1)]: Done  17 tasks      | elapsed:    0.0s\n",
            "INFO:root:\n",
            "--- Epoching data ---\n"
          ]
        },
        {
          "name": "stdout",
          "output_type": "stream",
          "text": [
            "Not setting metadata\n",
            "10 matching events found\n",
            "No baseline correction applied\n",
            "0 projection items activated\n",
            "Using data from preloaded Raw for 10 events and 4097 original time points ...\n",
            "1 bad epochs dropped\n"
          ]
        },
        {
          "name": "stderr",
          "output_type": "stream",
          "text": [
            "INFO:root:\n",
            "--- Creating windows ---\n",
            "INFO:root:\n",
            "--- Creating labels ---\n",
            "INFO:root:\n",
            "--- Reshapping windows ---\n",
            "INFO:root:~~~~~~~~~~~~~~ Done. \n",
            "\n",
            "INFO:root:~~~~~~~~~~~~~~ Loading .././data/raw/Data_npy\\DATA_005_Trial1.npy\n",
            "INFO:root:----------- Processing data...\n",
            "INFO:root:\n",
            "--- Loading data ---\n"
          ]
        },
        {
          "name": "stdout",
          "output_type": "stream",
          "text": [
            "Creating RawArray with float64 data, n_channels=64, n_times=312157\n",
            "    Range : 0 ... 312156 =      0.000 ...   304.840 secs\n",
            "Ready.\n"
          ]
        },
        {
          "name": "stderr",
          "output_type": "stream",
          "text": [
            "INFO:root:\n",
            "--- Filtering data ---\n"
          ]
        },
        {
          "name": "stdout",
          "output_type": "stream",
          "text": [
            "Filtering raw data in 1 contiguous segment\n",
            "Setting up band-pass filter from 8 - 30 Hz\n",
            "\n",
            "FIR filter parameters\n",
            "---------------------\n",
            "Designing a one-pass, zero-phase, non-causal bandpass filter:\n",
            "- Windowed time-domain design (firwin) method\n",
            "- Hamming window with 0.0194 passband ripple and 53 dB stopband attenuation\n",
            "- Lower passband edge: 8.00\n",
            "- Lower transition bandwidth: 2.00 Hz (-6 dB cutoff frequency: 7.00 Hz)\n",
            "- Upper passband edge: 30.00 Hz\n",
            "- Upper transition bandwidth: 7.50 Hz (-6 dB cutoff frequency: 33.75 Hz)\n",
            "- Filter length: 1691 samples (1.651 s)\n",
            "\n"
          ]
        },
        {
          "name": "stderr",
          "output_type": "stream",
          "text": [
            "[Parallel(n_jobs=1)]: Done  17 tasks      | elapsed:    0.1s\n",
            "INFO:root:\n",
            "--- Epoching data ---\n"
          ]
        },
        {
          "name": "stdout",
          "output_type": "stream",
          "text": [
            "Not setting metadata\n",
            "9 matching events found\n",
            "No baseline correction applied\n",
            "0 projection items activated\n",
            "Using data from preloaded Raw for 9 events and 4097 original time points ...\n",
            "1 bad epochs dropped\n"
          ]
        },
        {
          "name": "stderr",
          "output_type": "stream",
          "text": [
            "INFO:root:\n",
            "--- Creating windows ---\n",
            "INFO:root:\n",
            "--- Creating labels ---\n",
            "INFO:root:\n",
            "--- Reshapping windows ---\n",
            "INFO:root:\n",
            "--- Loading data ---\n"
          ]
        },
        {
          "name": "stdout",
          "output_type": "stream",
          "text": [
            "Creating RawArray with float64 data, n_channels=64, n_times=233358\n",
            "    Range : 0 ... 233357 =      0.000 ...   227.888 secs\n",
            "Ready.\n"
          ]
        },
        {
          "name": "stderr",
          "output_type": "stream",
          "text": [
            "INFO:root:\n",
            "--- Filtering data ---\n"
          ]
        },
        {
          "name": "stdout",
          "output_type": "stream",
          "text": [
            "Filtering raw data in 1 contiguous segment\n",
            "Setting up band-pass filter from 8 - 30 Hz\n",
            "\n",
            "FIR filter parameters\n",
            "---------------------\n",
            "Designing a one-pass, zero-phase, non-causal bandpass filter:\n",
            "- Windowed time-domain design (firwin) method\n",
            "- Hamming window with 0.0194 passband ripple and 53 dB stopband attenuation\n",
            "- Lower passband edge: 8.00\n",
            "- Lower transition bandwidth: 2.00 Hz (-6 dB cutoff frequency: 7.00 Hz)\n",
            "- Upper passband edge: 30.00 Hz\n",
            "- Upper transition bandwidth: 7.50 Hz (-6 dB cutoff frequency: 33.75 Hz)\n",
            "- Filter length: 1691 samples (1.651 s)\n",
            "\n"
          ]
        },
        {
          "name": "stderr",
          "output_type": "stream",
          "text": [
            "[Parallel(n_jobs=1)]: Done  17 tasks      | elapsed:    0.1s\n",
            "INFO:root:\n",
            "--- Epoching data ---\n"
          ]
        },
        {
          "name": "stdout",
          "output_type": "stream",
          "text": [
            "Not setting metadata\n",
            "10 matching events found\n",
            "No baseline correction applied\n",
            "0 projection items activated\n",
            "Using data from preloaded Raw for 10 events and 4097 original time points ...\n",
            "1 bad epochs dropped\n"
          ]
        },
        {
          "name": "stderr",
          "output_type": "stream",
          "text": [
            "INFO:root:\n",
            "--- Creating windows ---\n",
            "INFO:root:\n",
            "--- Creating labels ---\n",
            "INFO:root:\n",
            "--- Reshapping windows ---\n",
            "INFO:root:~~~~~~~~~~~~~~ Done. \n",
            "\n",
            "INFO:root:~~~~~~~~~~~~~~ Loading .././data/raw/Data_npy\\DATA_005_Trial2.npy\n",
            "INFO:root:----------- Processing data...\n",
            "INFO:root:\n",
            "--- Loading data ---\n"
          ]
        },
        {
          "name": "stdout",
          "output_type": "stream",
          "text": [
            "Creating RawArray with float64 data, n_channels=64, n_times=355346\n",
            "    Range : 0 ... 355345 =      0.000 ...   347.017 secs\n",
            "Ready.\n"
          ]
        },
        {
          "name": "stderr",
          "output_type": "stream",
          "text": [
            "INFO:root:\n",
            "--- Filtering data ---\n"
          ]
        },
        {
          "name": "stdout",
          "output_type": "stream",
          "text": [
            "Filtering raw data in 1 contiguous segment\n",
            "Setting up band-pass filter from 8 - 30 Hz\n",
            "\n",
            "FIR filter parameters\n",
            "---------------------\n",
            "Designing a one-pass, zero-phase, non-causal bandpass filter:\n",
            "- Windowed time-domain design (firwin) method\n",
            "- Hamming window with 0.0194 passband ripple and 53 dB stopband attenuation\n",
            "- Lower passband edge: 8.00\n",
            "- Lower transition bandwidth: 2.00 Hz (-6 dB cutoff frequency: 7.00 Hz)\n",
            "- Upper passband edge: 30.00 Hz\n",
            "- Upper transition bandwidth: 7.50 Hz (-6 dB cutoff frequency: 33.75 Hz)\n",
            "- Filter length: 1691 samples (1.651 s)\n",
            "\n"
          ]
        },
        {
          "name": "stderr",
          "output_type": "stream",
          "text": [
            "[Parallel(n_jobs=1)]: Done  17 tasks      | elapsed:    0.1s\n",
            "INFO:root:\n",
            "--- Epoching data ---\n"
          ]
        },
        {
          "name": "stdout",
          "output_type": "stream",
          "text": [
            "Not setting metadata\n",
            "9 matching events found\n",
            "No baseline correction applied\n",
            "0 projection items activated\n",
            "Using data from preloaded Raw for 9 events and 4097 original time points ...\n",
            "0 bad epochs dropped\n"
          ]
        },
        {
          "name": "stderr",
          "output_type": "stream",
          "text": [
            "INFO:root:\n",
            "--- Creating windows ---\n",
            "INFO:root:\n",
            "--- Creating labels ---\n",
            "INFO:root:\n",
            "--- Reshapping windows ---\n",
            "INFO:root:\n",
            "--- Loading data ---\n"
          ]
        },
        {
          "name": "stdout",
          "output_type": "stream",
          "text": [
            "Creating RawArray with float64 data, n_channels=64, n_times=236218\n",
            "    Range : 0 ... 236217 =      0.000 ...   230.681 secs\n",
            "Ready.\n"
          ]
        },
        {
          "name": "stderr",
          "output_type": "stream",
          "text": [
            "INFO:root:\n",
            "--- Filtering data ---\n"
          ]
        },
        {
          "name": "stdout",
          "output_type": "stream",
          "text": [
            "Filtering raw data in 1 contiguous segment\n",
            "Setting up band-pass filter from 8 - 30 Hz\n",
            "\n",
            "FIR filter parameters\n",
            "---------------------\n",
            "Designing a one-pass, zero-phase, non-causal bandpass filter:\n",
            "- Windowed time-domain design (firwin) method\n",
            "- Hamming window with 0.0194 passband ripple and 53 dB stopband attenuation\n",
            "- Lower passband edge: 8.00\n",
            "- Lower transition bandwidth: 2.00 Hz (-6 dB cutoff frequency: 7.00 Hz)\n",
            "- Upper passband edge: 30.00 Hz\n",
            "- Upper transition bandwidth: 7.50 Hz (-6 dB cutoff frequency: 33.75 Hz)\n",
            "- Filter length: 1691 samples (1.651 s)\n",
            "\n"
          ]
        },
        {
          "name": "stderr",
          "output_type": "stream",
          "text": [
            "[Parallel(n_jobs=1)]: Done  17 tasks      | elapsed:    0.0s\n",
            "INFO:root:\n",
            "--- Epoching data ---\n"
          ]
        },
        {
          "name": "stdout",
          "output_type": "stream",
          "text": [
            "Not setting metadata\n",
            "10 matching events found\n",
            "No baseline correction applied\n",
            "0 projection items activated\n",
            "Using data from preloaded Raw for 10 events and 4097 original time points ...\n",
            "1 bad epochs dropped\n"
          ]
        },
        {
          "name": "stderr",
          "output_type": "stream",
          "text": [
            "INFO:root:\n",
            "--- Creating windows ---\n",
            "INFO:root:\n",
            "--- Creating labels ---\n",
            "INFO:root:\n",
            "--- Reshapping windows ---\n",
            "INFO:root:~~~~~~~~~~~~~~ Done. \n",
            "\n",
            "INFO:root:~~~~~~~~~~~~~~ Loading .././data/raw/Data_npy\\DATA_006_Trial1.npy\n",
            "INFO:root:----------- Processing data...\n",
            "INFO:root:\n",
            "--- Loading data ---\n"
          ]
        },
        {
          "name": "stdout",
          "output_type": "stream",
          "text": [
            "Creating RawArray with float64 data, n_channels=64, n_times=225905\n",
            "    Range : 0 ... 225904 =      0.000 ...   220.609 secs\n",
            "Ready.\n"
          ]
        },
        {
          "name": "stderr",
          "output_type": "stream",
          "text": [
            "INFO:root:\n",
            "--- Filtering data ---\n"
          ]
        },
        {
          "name": "stdout",
          "output_type": "stream",
          "text": [
            "Filtering raw data in 1 contiguous segment\n",
            "Setting up band-pass filter from 8 - 30 Hz\n",
            "\n",
            "FIR filter parameters\n",
            "---------------------\n",
            "Designing a one-pass, zero-phase, non-causal bandpass filter:\n",
            "- Windowed time-domain design (firwin) method\n",
            "- Hamming window with 0.0194 passband ripple and 53 dB stopband attenuation\n",
            "- Lower passband edge: 8.00\n",
            "- Lower transition bandwidth: 2.00 Hz (-6 dB cutoff frequency: 7.00 Hz)\n",
            "- Upper passband edge: 30.00 Hz\n",
            "- Upper transition bandwidth: 7.50 Hz (-6 dB cutoff frequency: 33.75 Hz)\n",
            "- Filter length: 1691 samples (1.651 s)\n",
            "\n"
          ]
        },
        {
          "name": "stderr",
          "output_type": "stream",
          "text": [
            "[Parallel(n_jobs=1)]: Done  17 tasks      | elapsed:    0.0s\n",
            "INFO:root:\n",
            "--- Epoching data ---\n"
          ]
        },
        {
          "name": "stdout",
          "output_type": "stream",
          "text": [
            "Not setting metadata\n",
            "10 matching events found\n",
            "No baseline correction applied\n",
            "0 projection items activated\n",
            "Using data from preloaded Raw for 10 events and 4097 original time points ...\n",
            "1 bad epochs dropped\n"
          ]
        },
        {
          "name": "stderr",
          "output_type": "stream",
          "text": [
            "INFO:root:\n",
            "--- Creating windows ---\n",
            "INFO:root:\n",
            "--- Creating labels ---\n",
            "INFO:root:\n",
            "--- Reshapping windows ---\n",
            "INFO:root:\n",
            "--- Loading data ---\n"
          ]
        },
        {
          "name": "stdout",
          "output_type": "stream",
          "text": [
            "Creating RawArray with float64 data, n_channels=64, n_times=231316\n",
            "    Range : 0 ... 231315 =      0.000 ...   225.894 secs\n",
            "Ready.\n"
          ]
        },
        {
          "name": "stderr",
          "output_type": "stream",
          "text": [
            "INFO:root:\n",
            "--- Filtering data ---\n"
          ]
        },
        {
          "name": "stdout",
          "output_type": "stream",
          "text": [
            "Filtering raw data in 1 contiguous segment\n",
            "Setting up band-pass filter from 8 - 30 Hz\n",
            "\n",
            "FIR filter parameters\n",
            "---------------------\n",
            "Designing a one-pass, zero-phase, non-causal bandpass filter:\n",
            "- Windowed time-domain design (firwin) method\n",
            "- Hamming window with 0.0194 passband ripple and 53 dB stopband attenuation\n",
            "- Lower passband edge: 8.00\n",
            "- Lower transition bandwidth: 2.00 Hz (-6 dB cutoff frequency: 7.00 Hz)\n",
            "- Upper passband edge: 30.00 Hz\n",
            "- Upper transition bandwidth: 7.50 Hz (-6 dB cutoff frequency: 33.75 Hz)\n",
            "- Filter length: 1691 samples (1.651 s)\n",
            "\n"
          ]
        },
        {
          "name": "stderr",
          "output_type": "stream",
          "text": [
            "[Parallel(n_jobs=1)]: Done  17 tasks      | elapsed:    0.0s\n",
            "INFO:root:\n",
            "--- Epoching data ---\n"
          ]
        },
        {
          "name": "stdout",
          "output_type": "stream",
          "text": [
            "Not setting metadata\n",
            "10 matching events found\n",
            "No baseline correction applied\n",
            "0 projection items activated\n",
            "Using data from preloaded Raw for 10 events and 4097 original time points ...\n",
            "1 bad epochs dropped\n"
          ]
        },
        {
          "name": "stderr",
          "output_type": "stream",
          "text": [
            "INFO:root:\n",
            "--- Creating windows ---\n",
            "INFO:root:\n",
            "--- Creating labels ---\n",
            "INFO:root:\n",
            "--- Reshapping windows ---\n",
            "INFO:root:~~~~~~~~~~~~~~ Done. \n",
            "\n",
            "INFO:root:~~~~~~~~~~~~~~ Loading .././data/raw/Data_npy\\DATA_006_Trial2.npy\n",
            "INFO:root:----------- Processing data...\n",
            "INFO:root:\n",
            "--- Loading data ---\n"
          ]
        },
        {
          "name": "stdout",
          "output_type": "stream",
          "text": [
            "Creating RawArray with float64 data, n_channels=64, n_times=230904\n",
            "    Range : 0 ... 230903 =      0.000 ...   225.491 secs\n",
            "Ready.\n"
          ]
        },
        {
          "name": "stderr",
          "output_type": "stream",
          "text": [
            "INFO:root:\n",
            "--- Filtering data ---\n"
          ]
        },
        {
          "name": "stdout",
          "output_type": "stream",
          "text": [
            "Filtering raw data in 1 contiguous segment\n",
            "Setting up band-pass filter from 8 - 30 Hz\n",
            "\n",
            "FIR filter parameters\n",
            "---------------------\n",
            "Designing a one-pass, zero-phase, non-causal bandpass filter:\n",
            "- Windowed time-domain design (firwin) method\n",
            "- Hamming window with 0.0194 passband ripple and 53 dB stopband attenuation\n",
            "- Lower passband edge: 8.00\n",
            "- Lower transition bandwidth: 2.00 Hz (-6 dB cutoff frequency: 7.00 Hz)\n",
            "- Upper passband edge: 30.00 Hz\n",
            "- Upper transition bandwidth: 7.50 Hz (-6 dB cutoff frequency: 33.75 Hz)\n",
            "- Filter length: 1691 samples (1.651 s)\n",
            "\n"
          ]
        },
        {
          "name": "stderr",
          "output_type": "stream",
          "text": [
            "[Parallel(n_jobs=1)]: Done  17 tasks      | elapsed:    0.0s\n",
            "INFO:root:\n",
            "--- Epoching data ---\n"
          ]
        },
        {
          "name": "stdout",
          "output_type": "stream",
          "text": [
            "Not setting metadata\n",
            "10 matching events found\n",
            "No baseline correction applied\n",
            "0 projection items activated\n",
            "Using data from preloaded Raw for 10 events and 4097 original time points ...\n",
            "1 bad epochs dropped\n"
          ]
        },
        {
          "name": "stderr",
          "output_type": "stream",
          "text": [
            "INFO:root:\n",
            "--- Creating windows ---\n",
            "INFO:root:\n",
            "--- Creating labels ---\n",
            "INFO:root:\n",
            "--- Reshapping windows ---\n",
            "INFO:root:\n",
            "--- Loading data ---\n"
          ]
        },
        {
          "name": "stdout",
          "output_type": "stream",
          "text": [
            "Creating RawArray with float64 data, n_channels=64, n_times=235130\n",
            "    Range : 0 ... 235129 =      0.000 ...   229.618 secs\n",
            "Ready.\n"
          ]
        },
        {
          "name": "stderr",
          "output_type": "stream",
          "text": [
            "INFO:root:\n",
            "--- Filtering data ---\n"
          ]
        },
        {
          "name": "stdout",
          "output_type": "stream",
          "text": [
            "Filtering raw data in 1 contiguous segment\n",
            "Setting up band-pass filter from 8 - 30 Hz\n",
            "\n",
            "FIR filter parameters\n",
            "---------------------\n",
            "Designing a one-pass, zero-phase, non-causal bandpass filter:\n",
            "- Windowed time-domain design (firwin) method\n",
            "- Hamming window with 0.0194 passband ripple and 53 dB stopband attenuation\n",
            "- Lower passband edge: 8.00\n",
            "- Lower transition bandwidth: 2.00 Hz (-6 dB cutoff frequency: 7.00 Hz)\n",
            "- Upper passband edge: 30.00 Hz\n",
            "- Upper transition bandwidth: 7.50 Hz (-6 dB cutoff frequency: 33.75 Hz)\n",
            "- Filter length: 1691 samples (1.651 s)\n",
            "\n"
          ]
        },
        {
          "name": "stderr",
          "output_type": "stream",
          "text": [
            "[Parallel(n_jobs=1)]: Done  17 tasks      | elapsed:    0.0s\n",
            "INFO:root:\n",
            "--- Epoching data ---\n"
          ]
        },
        {
          "name": "stdout",
          "output_type": "stream",
          "text": [
            "Not setting metadata\n",
            "10 matching events found\n",
            "No baseline correction applied\n",
            "0 projection items activated\n",
            "Using data from preloaded Raw for 10 events and 4097 original time points ...\n",
            "1 bad epochs dropped\n"
          ]
        },
        {
          "name": "stderr",
          "output_type": "stream",
          "text": [
            "INFO:root:\n",
            "--- Creating windows ---\n",
            "INFO:root:\n",
            "--- Creating labels ---\n",
            "INFO:root:\n",
            "--- Reshapping windows ---\n",
            "INFO:root:~~~~~~~~~~~~~~ Done. \n",
            "\n",
            "INFO:root:~~~~~~~~~~~~~~ Loading .././data/raw/Data_npy\\DATA_007_Trial1.npy\n",
            "INFO:root:----------- Processing data...\n",
            "INFO:root:\n",
            "--- Loading data ---\n"
          ]
        },
        {
          "name": "stdout",
          "output_type": "stream",
          "text": [
            "Creating RawArray with float64 data, n_channels=64, n_times=222689\n",
            "    Range : 0 ... 222688 =      0.000 ...   217.469 secs\n",
            "Ready.\n"
          ]
        },
        {
          "name": "stderr",
          "output_type": "stream",
          "text": [
            "INFO:root:\n",
            "--- Filtering data ---\n"
          ]
        },
        {
          "name": "stdout",
          "output_type": "stream",
          "text": [
            "Filtering raw data in 1 contiguous segment\n",
            "Setting up band-pass filter from 8 - 30 Hz\n",
            "\n",
            "FIR filter parameters\n",
            "---------------------\n",
            "Designing a one-pass, zero-phase, non-causal bandpass filter:\n",
            "- Windowed time-domain design (firwin) method\n",
            "- Hamming window with 0.0194 passband ripple and 53 dB stopband attenuation\n",
            "- Lower passband edge: 8.00\n",
            "- Lower transition bandwidth: 2.00 Hz (-6 dB cutoff frequency: 7.00 Hz)\n",
            "- Upper passband edge: 30.00 Hz\n",
            "- Upper transition bandwidth: 7.50 Hz (-6 dB cutoff frequency: 33.75 Hz)\n",
            "- Filter length: 1691 samples (1.651 s)\n",
            "\n"
          ]
        },
        {
          "name": "stderr",
          "output_type": "stream",
          "text": [
            "[Parallel(n_jobs=1)]: Done  17 tasks      | elapsed:    0.0s\n",
            "INFO:root:\n",
            "--- Epoching data ---\n"
          ]
        },
        {
          "name": "stdout",
          "output_type": "stream",
          "text": [
            "Not setting metadata\n",
            "10 matching events found\n",
            "No baseline correction applied\n",
            "0 projection items activated\n",
            "Using data from preloaded Raw for 10 events and 4097 original time points ...\n",
            "1 bad epochs dropped\n"
          ]
        },
        {
          "name": "stderr",
          "output_type": "stream",
          "text": [
            "INFO:root:\n",
            "--- Creating windows ---\n",
            "INFO:root:\n",
            "--- Creating labels ---\n",
            "INFO:root:\n",
            "--- Reshapping windows ---\n",
            "INFO:root:\n",
            "--- Loading data ---\n"
          ]
        },
        {
          "name": "stdout",
          "output_type": "stream",
          "text": [
            "Creating RawArray with float64 data, n_channels=64, n_times=356851\n",
            "    Range : 0 ... 356850 =      0.000 ...   348.486 secs\n",
            "Ready.\n"
          ]
        },
        {
          "name": "stderr",
          "output_type": "stream",
          "text": [
            "INFO:root:\n",
            "--- Filtering data ---\n"
          ]
        },
        {
          "name": "stdout",
          "output_type": "stream",
          "text": [
            "Filtering raw data in 1 contiguous segment\n",
            "Setting up band-pass filter from 8 - 30 Hz\n",
            "\n",
            "FIR filter parameters\n",
            "---------------------\n",
            "Designing a one-pass, zero-phase, non-causal bandpass filter:\n",
            "- Windowed time-domain design (firwin) method\n",
            "- Hamming window with 0.0194 passband ripple and 53 dB stopband attenuation\n",
            "- Lower passband edge: 8.00\n",
            "- Lower transition bandwidth: 2.00 Hz (-6 dB cutoff frequency: 7.00 Hz)\n",
            "- Upper passband edge: 30.00 Hz\n",
            "- Upper transition bandwidth: 7.50 Hz (-6 dB cutoff frequency: 33.75 Hz)\n",
            "- Filter length: 1691 samples (1.651 s)\n",
            "\n"
          ]
        },
        {
          "name": "stderr",
          "output_type": "stream",
          "text": [
            "[Parallel(n_jobs=1)]: Done  17 tasks      | elapsed:    0.1s\n",
            "INFO:root:\n",
            "--- Epoching data ---\n"
          ]
        },
        {
          "name": "stdout",
          "output_type": "stream",
          "text": [
            "Not setting metadata\n",
            "10 matching events found\n",
            "No baseline correction applied\n",
            "0 projection items activated\n",
            "Using data from preloaded Raw for 10 events and 4097 original time points ...\n",
            "1 bad epochs dropped\n"
          ]
        },
        {
          "name": "stderr",
          "output_type": "stream",
          "text": [
            "INFO:root:\n",
            "--- Creating windows ---\n",
            "INFO:root:\n",
            "--- Creating labels ---\n",
            "INFO:root:\n",
            "--- Reshapping windows ---\n",
            "INFO:root:~~~~~~~~~~~~~~ Done. \n",
            "\n",
            "INFO:root:~~~~~~~~~~~~~~ Loading .././data/raw/Data_npy\\DATA_007_Trial2.npy\n",
            "INFO:root:----------- Processing data...\n",
            "INFO:root:\n",
            "--- Loading data ---\n"
          ]
        },
        {
          "name": "stdout",
          "output_type": "stream",
          "text": [
            "Creating RawArray with float64 data, n_channels=64, n_times=238340\n",
            "    Range : 0 ... 238339 =      0.000 ...   232.753 secs\n",
            "Ready.\n"
          ]
        },
        {
          "name": "stderr",
          "output_type": "stream",
          "text": [
            "INFO:root:\n",
            "--- Filtering data ---\n"
          ]
        },
        {
          "name": "stdout",
          "output_type": "stream",
          "text": [
            "Filtering raw data in 1 contiguous segment\n",
            "Setting up band-pass filter from 8 - 30 Hz\n",
            "\n",
            "FIR filter parameters\n",
            "---------------------\n",
            "Designing a one-pass, zero-phase, non-causal bandpass filter:\n",
            "- Windowed time-domain design (firwin) method\n",
            "- Hamming window with 0.0194 passband ripple and 53 dB stopband attenuation\n",
            "- Lower passband edge: 8.00\n",
            "- Lower transition bandwidth: 2.00 Hz (-6 dB cutoff frequency: 7.00 Hz)\n",
            "- Upper passband edge: 30.00 Hz\n",
            "- Upper transition bandwidth: 7.50 Hz (-6 dB cutoff frequency: 33.75 Hz)\n",
            "- Filter length: 1691 samples (1.651 s)\n",
            "\n"
          ]
        },
        {
          "name": "stderr",
          "output_type": "stream",
          "text": [
            "[Parallel(n_jobs=1)]: Done  17 tasks      | elapsed:    0.0s\n",
            "INFO:root:\n",
            "--- Epoching data ---\n"
          ]
        },
        {
          "name": "stdout",
          "output_type": "stream",
          "text": [
            "Not setting metadata\n",
            "10 matching events found\n",
            "No baseline correction applied\n",
            "0 projection items activated\n",
            "Using data from preloaded Raw for 10 events and 4097 original time points ...\n",
            "1 bad epochs dropped\n"
          ]
        },
        {
          "name": "stderr",
          "output_type": "stream",
          "text": [
            "INFO:root:\n",
            "--- Creating windows ---\n",
            "INFO:root:\n",
            "--- Creating labels ---\n",
            "INFO:root:\n",
            "--- Reshapping windows ---\n",
            "INFO:root:\n",
            "--- Loading data ---\n"
          ]
        },
        {
          "name": "stdout",
          "output_type": "stream",
          "text": [
            "Creating RawArray with float64 data, n_channels=64, n_times=348048\n",
            "    Range : 0 ... 348047 =      0.000 ...   339.890 secs\n",
            "Ready.\n"
          ]
        },
        {
          "name": "stderr",
          "output_type": "stream",
          "text": [
            "INFO:root:\n",
            "--- Filtering data ---\n"
          ]
        },
        {
          "name": "stdout",
          "output_type": "stream",
          "text": [
            "Filtering raw data in 1 contiguous segment\n",
            "Setting up band-pass filter from 8 - 30 Hz\n",
            "\n",
            "FIR filter parameters\n",
            "---------------------\n",
            "Designing a one-pass, zero-phase, non-causal bandpass filter:\n",
            "- Windowed time-domain design (firwin) method\n",
            "- Hamming window with 0.0194 passband ripple and 53 dB stopband attenuation\n",
            "- Lower passband edge: 8.00\n",
            "- Lower transition bandwidth: 2.00 Hz (-6 dB cutoff frequency: 7.00 Hz)\n",
            "- Upper passband edge: 30.00 Hz\n",
            "- Upper transition bandwidth: 7.50 Hz (-6 dB cutoff frequency: 33.75 Hz)\n",
            "- Filter length: 1691 samples (1.651 s)\n",
            "\n"
          ]
        },
        {
          "name": "stderr",
          "output_type": "stream",
          "text": [
            "[Parallel(n_jobs=1)]: Done  17 tasks      | elapsed:    0.0s\n",
            "INFO:root:\n",
            "--- Epoching data ---\n"
          ]
        },
        {
          "name": "stdout",
          "output_type": "stream",
          "text": [
            "Not setting metadata\n",
            "8 matching events found\n",
            "No baseline correction applied\n",
            "0 projection items activated\n",
            "Using data from preloaded Raw for 8 events and 4097 original time points ...\n",
            "0 bad epochs dropped\n"
          ]
        },
        {
          "name": "stderr",
          "output_type": "stream",
          "text": [
            "INFO:root:\n",
            "--- Creating windows ---\n",
            "INFO:root:\n",
            "--- Creating labels ---\n",
            "INFO:root:\n",
            "--- Reshapping windows ---\n",
            "INFO:root:~~~~~~~~~~~~~~ Done. \n",
            "\n",
            "INFO:root:~~~~~~~~~~~~~~ Loading .././data/raw/Data_npy\\DATA_008_Trial1.npy\n",
            "INFO:root:----------- Processing data...\n",
            "INFO:root:\n",
            "--- Loading data ---\n"
          ]
        },
        {
          "name": "stdout",
          "output_type": "stream",
          "text": [
            "Creating RawArray with float64 data, n_channels=64, n_times=232512\n",
            "    Range : 0 ... 232511 =      0.000 ...   227.062 secs\n",
            "Ready.\n"
          ]
        },
        {
          "name": "stderr",
          "output_type": "stream",
          "text": [
            "INFO:root:\n",
            "--- Filtering data ---\n"
          ]
        },
        {
          "name": "stdout",
          "output_type": "stream",
          "text": [
            "Filtering raw data in 1 contiguous segment\n",
            "Setting up band-pass filter from 8 - 30 Hz\n",
            "\n",
            "FIR filter parameters\n",
            "---------------------\n",
            "Designing a one-pass, zero-phase, non-causal bandpass filter:\n",
            "- Windowed time-domain design (firwin) method\n",
            "- Hamming window with 0.0194 passband ripple and 53 dB stopband attenuation\n",
            "- Lower passband edge: 8.00\n",
            "- Lower transition bandwidth: 2.00 Hz (-6 dB cutoff frequency: 7.00 Hz)\n",
            "- Upper passband edge: 30.00 Hz\n",
            "- Upper transition bandwidth: 7.50 Hz (-6 dB cutoff frequency: 33.75 Hz)\n",
            "- Filter length: 1691 samples (1.651 s)\n",
            "\n"
          ]
        },
        {
          "name": "stderr",
          "output_type": "stream",
          "text": [
            "[Parallel(n_jobs=1)]: Done  17 tasks      | elapsed:    0.0s\n",
            "INFO:root:\n",
            "--- Epoching data ---\n"
          ]
        },
        {
          "name": "stdout",
          "output_type": "stream",
          "text": [
            "Not setting metadata\n",
            "10 matching events found\n",
            "No baseline correction applied\n",
            "0 projection items activated\n",
            "Using data from preloaded Raw for 10 events and 4097 original time points ...\n",
            "1 bad epochs dropped\n"
          ]
        },
        {
          "name": "stderr",
          "output_type": "stream",
          "text": [
            "INFO:root:\n",
            "--- Creating windows ---\n",
            "INFO:root:\n",
            "--- Creating labels ---\n",
            "INFO:root:\n",
            "--- Reshapping windows ---\n",
            "INFO:root:\n",
            "--- Loading data ---\n"
          ]
        },
        {
          "name": "stdout",
          "output_type": "stream",
          "text": [
            "Creating RawArray with float64 data, n_channels=64, n_times=237988\n",
            "    Range : 0 ... 237987 =      0.000 ...   232.409 secs\n",
            "Ready.\n"
          ]
        },
        {
          "name": "stderr",
          "output_type": "stream",
          "text": [
            "INFO:root:\n",
            "--- Filtering data ---\n"
          ]
        },
        {
          "name": "stdout",
          "output_type": "stream",
          "text": [
            "Filtering raw data in 1 contiguous segment\n",
            "Setting up band-pass filter from 8 - 30 Hz\n",
            "\n",
            "FIR filter parameters\n",
            "---------------------\n",
            "Designing a one-pass, zero-phase, non-causal bandpass filter:\n",
            "- Windowed time-domain design (firwin) method\n",
            "- Hamming window with 0.0194 passband ripple and 53 dB stopband attenuation\n",
            "- Lower passband edge: 8.00\n",
            "- Lower transition bandwidth: 2.00 Hz (-6 dB cutoff frequency: 7.00 Hz)\n",
            "- Upper passband edge: 30.00 Hz\n",
            "- Upper transition bandwidth: 7.50 Hz (-6 dB cutoff frequency: 33.75 Hz)\n",
            "- Filter length: 1691 samples (1.651 s)\n",
            "\n"
          ]
        },
        {
          "name": "stderr",
          "output_type": "stream",
          "text": [
            "[Parallel(n_jobs=1)]: Done  17 tasks      | elapsed:    0.1s\n",
            "INFO:root:\n",
            "--- Epoching data ---\n"
          ]
        },
        {
          "name": "stdout",
          "output_type": "stream",
          "text": [
            "Not setting metadata\n",
            "10 matching events found\n",
            "No baseline correction applied\n",
            "0 projection items activated\n",
            "Using data from preloaded Raw for 10 events and 4097 original time points ...\n",
            "1 bad epochs dropped\n"
          ]
        },
        {
          "name": "stderr",
          "output_type": "stream",
          "text": [
            "INFO:root:\n",
            "--- Creating windows ---\n",
            "INFO:root:\n",
            "--- Creating labels ---\n",
            "INFO:root:\n",
            "--- Reshapping windows ---\n",
            "INFO:root:~~~~~~~~~~~~~~ Done. \n",
            "\n",
            "INFO:root:~~~~~~~~~~~~~~ Loading .././data/raw/Data_npy\\DATA_008_Trial2.npy\n",
            "INFO:root:----------- Processing data...\n",
            "INFO:root:\n",
            "--- Loading data ---\n"
          ]
        },
        {
          "name": "stdout",
          "output_type": "stream",
          "text": [
            "Creating RawArray with float64 data, n_channels=64, n_times=228326\n",
            "    Range : 0 ... 228325 =      0.000 ...   222.974 secs\n",
            "Ready.\n"
          ]
        },
        {
          "name": "stderr",
          "output_type": "stream",
          "text": [
            "INFO:root:\n",
            "--- Filtering data ---\n"
          ]
        },
        {
          "name": "stdout",
          "output_type": "stream",
          "text": [
            "Filtering raw data in 1 contiguous segment\n",
            "Setting up band-pass filter from 8 - 30 Hz\n",
            "\n",
            "FIR filter parameters\n",
            "---------------------\n",
            "Designing a one-pass, zero-phase, non-causal bandpass filter:\n",
            "- Windowed time-domain design (firwin) method\n",
            "- Hamming window with 0.0194 passband ripple and 53 dB stopband attenuation\n",
            "- Lower passband edge: 8.00\n",
            "- Lower transition bandwidth: 2.00 Hz (-6 dB cutoff frequency: 7.00 Hz)\n",
            "- Upper passband edge: 30.00 Hz\n",
            "- Upper transition bandwidth: 7.50 Hz (-6 dB cutoff frequency: 33.75 Hz)\n",
            "- Filter length: 1691 samples (1.651 s)\n",
            "\n"
          ]
        },
        {
          "name": "stderr",
          "output_type": "stream",
          "text": [
            "[Parallel(n_jobs=1)]: Done  17 tasks      | elapsed:    0.0s\n",
            "INFO:root:\n",
            "--- Epoching data ---\n"
          ]
        },
        {
          "name": "stdout",
          "output_type": "stream",
          "text": [
            "Not setting metadata\n",
            "10 matching events found\n",
            "No baseline correction applied\n",
            "0 projection items activated\n",
            "Using data from preloaded Raw for 10 events and 4097 original time points ...\n",
            "1 bad epochs dropped\n"
          ]
        },
        {
          "name": "stderr",
          "output_type": "stream",
          "text": [
            "INFO:root:\n",
            "--- Creating windows ---\n",
            "INFO:root:\n",
            "--- Creating labels ---\n",
            "INFO:root:\n",
            "--- Reshapping windows ---\n",
            "INFO:root:\n",
            "--- Loading data ---\n",
            "INFO:root:No data for this side\n",
            "WARNING:root:~~~~~~~~~~~~~~ No data for .././data/raw/Data_npy\\DATA_008_Trial2.npy and side D.\n",
            "INFO:root:~~~~~~~~~~~~~~ Done. \n",
            "\n",
            "INFO:root:~~~~~~~~~~~~~~ Loading .././data/raw/Data_npy\\DATA_009_Trial1.npy\n",
            "INFO:root:----------- Processing data...\n",
            "INFO:root:\n",
            "--- Loading data ---\n"
          ]
        },
        {
          "name": "stdout",
          "output_type": "stream",
          "text": [
            "Creating RawArray with float64 data, n_channels=64, n_times=310875\n",
            "    Range : 0 ... 310874 =      0.000 ...   303.588 secs\n",
            "Ready.\n"
          ]
        },
        {
          "name": "stderr",
          "output_type": "stream",
          "text": [
            "INFO:root:\n",
            "--- Filtering data ---\n"
          ]
        },
        {
          "name": "stdout",
          "output_type": "stream",
          "text": [
            "Filtering raw data in 1 contiguous segment\n",
            "Setting up band-pass filter from 8 - 30 Hz\n",
            "\n",
            "FIR filter parameters\n",
            "---------------------\n",
            "Designing a one-pass, zero-phase, non-causal bandpass filter:\n",
            "- Windowed time-domain design (firwin) method\n",
            "- Hamming window with 0.0194 passband ripple and 53 dB stopband attenuation\n",
            "- Lower passband edge: 8.00\n",
            "- Lower transition bandwidth: 2.00 Hz (-6 dB cutoff frequency: 7.00 Hz)\n",
            "- Upper passband edge: 30.00 Hz\n",
            "- Upper transition bandwidth: 7.50 Hz (-6 dB cutoff frequency: 33.75 Hz)\n",
            "- Filter length: 1691 samples (1.651 s)\n",
            "\n"
          ]
        },
        {
          "name": "stderr",
          "output_type": "stream",
          "text": [
            "[Parallel(n_jobs=1)]: Done  17 tasks      | elapsed:    0.0s\n",
            "INFO:root:\n",
            "--- Epoching data ---\n"
          ]
        },
        {
          "name": "stdout",
          "output_type": "stream",
          "text": [
            "Not setting metadata\n",
            "12 matching events found\n",
            "No baseline correction applied\n",
            "0 projection items activated\n",
            "Using data from preloaded Raw for 12 events and 4097 original time points ...\n",
            "1 bad epochs dropped\n"
          ]
        },
        {
          "name": "stderr",
          "output_type": "stream",
          "text": [
            "INFO:root:\n",
            "--- Creating windows ---\n",
            "INFO:root:\n",
            "--- Creating labels ---\n",
            "INFO:root:\n",
            "--- Reshapping windows ---\n",
            "INFO:root:\n",
            "--- Loading data ---\n"
          ]
        },
        {
          "name": "stdout",
          "output_type": "stream",
          "text": [
            "Creating RawArray with float64 data, n_channels=64, n_times=224854\n",
            "    Range : 0 ... 224853 =      0.000 ...   219.583 secs\n",
            "Ready.\n"
          ]
        },
        {
          "name": "stderr",
          "output_type": "stream",
          "text": [
            "INFO:root:\n",
            "--- Filtering data ---\n"
          ]
        },
        {
          "name": "stdout",
          "output_type": "stream",
          "text": [
            "Filtering raw data in 1 contiguous segment\n",
            "Setting up band-pass filter from 8 - 30 Hz\n",
            "\n",
            "FIR filter parameters\n",
            "---------------------\n",
            "Designing a one-pass, zero-phase, non-causal bandpass filter:\n",
            "- Windowed time-domain design (firwin) method\n",
            "- Hamming window with 0.0194 passband ripple and 53 dB stopband attenuation\n",
            "- Lower passband edge: 8.00\n",
            "- Lower transition bandwidth: 2.00 Hz (-6 dB cutoff frequency: 7.00 Hz)\n",
            "- Upper passband edge: 30.00 Hz\n",
            "- Upper transition bandwidth: 7.50 Hz (-6 dB cutoff frequency: 33.75 Hz)\n",
            "- Filter length: 1691 samples (1.651 s)\n",
            "\n"
          ]
        },
        {
          "name": "stderr",
          "output_type": "stream",
          "text": [
            "[Parallel(n_jobs=1)]: Done  17 tasks      | elapsed:    0.1s\n",
            "INFO:root:\n",
            "--- Epoching data ---\n"
          ]
        },
        {
          "name": "stdout",
          "output_type": "stream",
          "text": [
            "Not setting metadata\n",
            "10 matching events found\n",
            "No baseline correction applied\n",
            "0 projection items activated\n",
            "Using data from preloaded Raw for 10 events and 4097 original time points ...\n",
            "1 bad epochs dropped\n"
          ]
        },
        {
          "name": "stderr",
          "output_type": "stream",
          "text": [
            "INFO:root:\n",
            "--- Creating windows ---\n",
            "INFO:root:\n",
            "--- Creating labels ---\n",
            "INFO:root:\n",
            "--- Reshapping windows ---\n",
            "INFO:root:~~~~~~~~~~~~~~ Done. \n",
            "\n",
            "INFO:root:~~~~~~~~~~~~~~ Loading .././data/raw/Data_npy\\DATA_009_Trial2.npy\n",
            "INFO:root:----------- Processing data...\n",
            "INFO:root:\n",
            "--- Loading data ---\n"
          ]
        },
        {
          "name": "stdout",
          "output_type": "stream",
          "text": [
            "Creating RawArray with float64 data, n_channels=64, n_times=326007\n",
            "    Range : 0 ... 326006 =      0.000 ...   318.365 secs\n",
            "Ready.\n"
          ]
        },
        {
          "name": "stderr",
          "output_type": "stream",
          "text": [
            "INFO:root:\n",
            "--- Filtering data ---\n"
          ]
        },
        {
          "name": "stdout",
          "output_type": "stream",
          "text": [
            "Filtering raw data in 1 contiguous segment\n",
            "Setting up band-pass filter from 8 - 30 Hz\n",
            "\n",
            "FIR filter parameters\n",
            "---------------------\n",
            "Designing a one-pass, zero-phase, non-causal bandpass filter:\n",
            "- Windowed time-domain design (firwin) method\n",
            "- Hamming window with 0.0194 passband ripple and 53 dB stopband attenuation\n",
            "- Lower passband edge: 8.00\n",
            "- Lower transition bandwidth: 2.00 Hz (-6 dB cutoff frequency: 7.00 Hz)\n",
            "- Upper passband edge: 30.00 Hz\n",
            "- Upper transition bandwidth: 7.50 Hz (-6 dB cutoff frequency: 33.75 Hz)\n",
            "- Filter length: 1691 samples (1.651 s)\n",
            "\n"
          ]
        },
        {
          "name": "stderr",
          "output_type": "stream",
          "text": [
            "[Parallel(n_jobs=1)]: Done  17 tasks      | elapsed:    0.0s\n",
            "INFO:root:\n",
            "--- Epoching data ---\n"
          ]
        },
        {
          "name": "stdout",
          "output_type": "stream",
          "text": [
            "Not setting metadata\n",
            "13 matching events found\n",
            "No baseline correction applied\n",
            "0 projection items activated\n",
            "Using data from preloaded Raw for 13 events and 4097 original time points ...\n",
            "1 bad epochs dropped\n"
          ]
        },
        {
          "name": "stderr",
          "output_type": "stream",
          "text": [
            "INFO:root:\n",
            "--- Creating windows ---\n",
            "INFO:root:\n",
            "--- Creating labels ---\n",
            "INFO:root:\n",
            "--- Reshapping windows ---\n",
            "INFO:root:\n",
            "--- Loading data ---\n"
          ]
        },
        {
          "name": "stdout",
          "output_type": "stream",
          "text": [
            "Creating RawArray with float64 data, n_channels=64, n_times=222208\n",
            "    Range : 0 ... 222207 =      0.000 ...   216.999 secs\n",
            "Ready.\n"
          ]
        },
        {
          "name": "stderr",
          "output_type": "stream",
          "text": [
            "INFO:root:\n",
            "--- Filtering data ---\n"
          ]
        },
        {
          "name": "stdout",
          "output_type": "stream",
          "text": [
            "Filtering raw data in 1 contiguous segment\n",
            "Setting up band-pass filter from 8 - 30 Hz\n",
            "\n",
            "FIR filter parameters\n",
            "---------------------\n",
            "Designing a one-pass, zero-phase, non-causal bandpass filter:\n",
            "- Windowed time-domain design (firwin) method\n",
            "- Hamming window with 0.0194 passband ripple and 53 dB stopband attenuation\n",
            "- Lower passband edge: 8.00\n",
            "- Lower transition bandwidth: 2.00 Hz (-6 dB cutoff frequency: 7.00 Hz)\n",
            "- Upper passband edge: 30.00 Hz\n",
            "- Upper transition bandwidth: 7.50 Hz (-6 dB cutoff frequency: 33.75 Hz)\n",
            "- Filter length: 1691 samples (1.651 s)\n",
            "\n"
          ]
        },
        {
          "name": "stderr",
          "output_type": "stream",
          "text": [
            "[Parallel(n_jobs=1)]: Done  17 tasks      | elapsed:    0.0s\n",
            "INFO:root:\n",
            "--- Epoching data ---\n"
          ]
        },
        {
          "name": "stdout",
          "output_type": "stream",
          "text": [
            "Not setting metadata\n",
            "10 matching events found\n",
            "No baseline correction applied\n",
            "0 projection items activated\n",
            "Using data from preloaded Raw for 10 events and 4097 original time points ...\n",
            "1 bad epochs dropped\n"
          ]
        },
        {
          "name": "stderr",
          "output_type": "stream",
          "text": [
            "INFO:root:\n",
            "--- Creating windows ---\n",
            "INFO:root:\n",
            "--- Creating labels ---\n",
            "INFO:root:\n",
            "--- Reshapping windows ---\n",
            "INFO:root:~~~~~~~~~~~~~~ Done. \n",
            "\n",
            "INFO:root:~~~~~~~~~~~~~~ Loading .././data/raw/Data_npy\\DATA_009_Trial3.npy\n",
            "INFO:root:----------- Processing data...\n",
            "INFO:root:\n",
            "--- Loading data ---\n"
          ]
        },
        {
          "name": "stdout",
          "output_type": "stream",
          "text": [
            "Creating RawArray with float64 data, n_channels=64, n_times=254664\n",
            "    Range : 0 ... 254663 =      0.000 ...   248.694 secs\n",
            "Ready.\n"
          ]
        },
        {
          "name": "stderr",
          "output_type": "stream",
          "text": [
            "INFO:root:\n",
            "--- Filtering data ---\n"
          ]
        },
        {
          "name": "stdout",
          "output_type": "stream",
          "text": [
            "Filtering raw data in 1 contiguous segment\n",
            "Setting up band-pass filter from 8 - 30 Hz\n",
            "\n",
            "FIR filter parameters\n",
            "---------------------\n",
            "Designing a one-pass, zero-phase, non-causal bandpass filter:\n",
            "- Windowed time-domain design (firwin) method\n",
            "- Hamming window with 0.0194 passband ripple and 53 dB stopband attenuation\n",
            "- Lower passband edge: 8.00\n",
            "- Lower transition bandwidth: 2.00 Hz (-6 dB cutoff frequency: 7.00 Hz)\n",
            "- Upper passband edge: 30.00 Hz\n",
            "- Upper transition bandwidth: 7.50 Hz (-6 dB cutoff frequency: 33.75 Hz)\n",
            "- Filter length: 1691 samples (1.651 s)\n",
            "\n"
          ]
        },
        {
          "name": "stderr",
          "output_type": "stream",
          "text": [
            "[Parallel(n_jobs=1)]: Done  17 tasks      | elapsed:    0.0s\n",
            "INFO:root:\n",
            "--- Epoching data ---\n"
          ]
        },
        {
          "name": "stdout",
          "output_type": "stream",
          "text": [
            "Not setting metadata\n",
            "10 matching events found\n",
            "No baseline correction applied\n",
            "0 projection items activated\n",
            "Using data from preloaded Raw for 10 events and 4097 original time points ...\n",
            "1 bad epochs dropped\n"
          ]
        },
        {
          "name": "stderr",
          "output_type": "stream",
          "text": [
            "INFO:root:\n",
            "--- Creating windows ---\n",
            "INFO:root:\n",
            "--- Creating labels ---\n",
            "INFO:root:\n",
            "--- Reshapping windows ---\n",
            "INFO:root:\n",
            "--- Loading data ---\n",
            "INFO:root:No data for this side\n",
            "WARNING:root:~~~~~~~~~~~~~~ No data for .././data/raw/Data_npy\\DATA_009_Trial3.npy and side D.\n",
            "INFO:root:~~~~~~~~~~~~~~ Done. \n",
            "\n",
            "INFO:root:~~~~~~~~~~~~~~ Loading .././data/raw/Data_npy\\DATA_010_Trial1.npy\n",
            "INFO:root:----------- Processing data...\n",
            "INFO:root:\n",
            "--- Loading data ---\n"
          ]
        },
        {
          "name": "stdout",
          "output_type": "stream",
          "text": [
            "Creating RawArray with float64 data, n_channels=64, n_times=223828\n",
            "    Range : 0 ... 223827 =      0.000 ...   218.581 secs\n",
            "Ready.\n"
          ]
        },
        {
          "name": "stderr",
          "output_type": "stream",
          "text": [
            "INFO:root:\n",
            "--- Filtering data ---\n"
          ]
        },
        {
          "name": "stdout",
          "output_type": "stream",
          "text": [
            "Filtering raw data in 1 contiguous segment\n",
            "Setting up band-pass filter from 8 - 30 Hz\n",
            "\n",
            "FIR filter parameters\n",
            "---------------------\n",
            "Designing a one-pass, zero-phase, non-causal bandpass filter:\n",
            "- Windowed time-domain design (firwin) method\n",
            "- Hamming window with 0.0194 passband ripple and 53 dB stopband attenuation\n",
            "- Lower passband edge: 8.00\n",
            "- Lower transition bandwidth: 2.00 Hz (-6 dB cutoff frequency: 7.00 Hz)\n",
            "- Upper passband edge: 30.00 Hz\n",
            "- Upper transition bandwidth: 7.50 Hz (-6 dB cutoff frequency: 33.75 Hz)\n",
            "- Filter length: 1691 samples (1.651 s)\n",
            "\n"
          ]
        },
        {
          "name": "stderr",
          "output_type": "stream",
          "text": [
            "[Parallel(n_jobs=1)]: Done  17 tasks      | elapsed:    0.0s\n",
            "INFO:root:\n",
            "--- Epoching data ---\n"
          ]
        },
        {
          "name": "stdout",
          "output_type": "stream",
          "text": [
            "Not setting metadata\n",
            "10 matching events found\n",
            "No baseline correction applied\n",
            "0 projection items activated\n",
            "Using data from preloaded Raw for 10 events and 4097 original time points ...\n",
            "1 bad epochs dropped\n"
          ]
        },
        {
          "name": "stderr",
          "output_type": "stream",
          "text": [
            "INFO:root:\n",
            "--- Creating windows ---\n",
            "INFO:root:\n",
            "--- Creating labels ---\n",
            "INFO:root:\n",
            "--- Reshapping windows ---\n",
            "INFO:root:\n",
            "--- Loading data ---\n"
          ]
        },
        {
          "name": "stdout",
          "output_type": "stream",
          "text": [
            "Creating RawArray with float64 data, n_channels=64, n_times=286612\n",
            "    Range : 0 ... 286611 =      0.000 ...   279.894 secs\n",
            "Ready.\n"
          ]
        },
        {
          "name": "stderr",
          "output_type": "stream",
          "text": [
            "INFO:root:\n",
            "--- Filtering data ---\n"
          ]
        },
        {
          "name": "stdout",
          "output_type": "stream",
          "text": [
            "Filtering raw data in 1 contiguous segment\n",
            "Setting up band-pass filter from 8 - 30 Hz\n",
            "\n",
            "FIR filter parameters\n",
            "---------------------\n",
            "Designing a one-pass, zero-phase, non-causal bandpass filter:\n",
            "- Windowed time-domain design (firwin) method\n",
            "- Hamming window with 0.0194 passband ripple and 53 dB stopband attenuation\n",
            "- Lower passband edge: 8.00\n",
            "- Lower transition bandwidth: 2.00 Hz (-6 dB cutoff frequency: 7.00 Hz)\n",
            "- Upper passband edge: 30.00 Hz\n",
            "- Upper transition bandwidth: 7.50 Hz (-6 dB cutoff frequency: 33.75 Hz)\n",
            "- Filter length: 1691 samples (1.651 s)\n",
            "\n"
          ]
        },
        {
          "name": "stderr",
          "output_type": "stream",
          "text": [
            "[Parallel(n_jobs=1)]: Done  17 tasks      | elapsed:    0.0s\n",
            "INFO:root:\n",
            "--- Epoching data ---\n"
          ]
        },
        {
          "name": "stdout",
          "output_type": "stream",
          "text": [
            "Not setting metadata\n",
            "12 matching events found\n",
            "No baseline correction applied\n",
            "0 projection items activated\n",
            "Using data from preloaded Raw for 12 events and 4097 original time points ...\n",
            "1 bad epochs dropped\n"
          ]
        },
        {
          "name": "stderr",
          "output_type": "stream",
          "text": [
            "INFO:root:\n",
            "--- Creating windows ---\n",
            "INFO:root:\n",
            "--- Creating labels ---\n",
            "INFO:root:\n",
            "--- Reshapping windows ---\n",
            "INFO:root:~~~~~~~~~~~~~~ Done. \n",
            "\n",
            "INFO:root:~~~~~~~~~~~~~~ Loading .././data/raw/Data_npy\\DATA_010_Trial2.npy\n",
            "INFO:root:----------- Processing data...\n",
            "INFO:root:\n",
            "--- Loading data ---\n"
          ]
        },
        {
          "name": "stdout",
          "output_type": "stream",
          "text": [
            "Creating RawArray with float64 data, n_channels=64, n_times=229715\n",
            "    Range : 0 ... 229714 =      0.000 ...   224.330 secs\n",
            "Ready.\n"
          ]
        },
        {
          "name": "stderr",
          "output_type": "stream",
          "text": [
            "INFO:root:\n",
            "--- Filtering data ---\n"
          ]
        },
        {
          "name": "stdout",
          "output_type": "stream",
          "text": [
            "Filtering raw data in 1 contiguous segment\n",
            "Setting up band-pass filter from 8 - 30 Hz\n",
            "\n",
            "FIR filter parameters\n",
            "---------------------\n",
            "Designing a one-pass, zero-phase, non-causal bandpass filter:\n",
            "- Windowed time-domain design (firwin) method\n",
            "- Hamming window with 0.0194 passband ripple and 53 dB stopband attenuation\n",
            "- Lower passband edge: 8.00\n",
            "- Lower transition bandwidth: 2.00 Hz (-6 dB cutoff frequency: 7.00 Hz)\n",
            "- Upper passband edge: 30.00 Hz\n",
            "- Upper transition bandwidth: 7.50 Hz (-6 dB cutoff frequency: 33.75 Hz)\n",
            "- Filter length: 1691 samples (1.651 s)\n",
            "\n"
          ]
        },
        {
          "name": "stderr",
          "output_type": "stream",
          "text": [
            "[Parallel(n_jobs=1)]: Done  17 tasks      | elapsed:    0.0s\n",
            "INFO:root:\n",
            "--- Epoching data ---\n"
          ]
        },
        {
          "name": "stdout",
          "output_type": "stream",
          "text": [
            "Not setting metadata\n",
            "10 matching events found\n",
            "No baseline correction applied\n",
            "0 projection items activated\n",
            "Using data from preloaded Raw for 10 events and 4097 original time points ...\n",
            "1 bad epochs dropped\n"
          ]
        },
        {
          "name": "stderr",
          "output_type": "stream",
          "text": [
            "INFO:root:\n",
            "--- Creating windows ---\n",
            "INFO:root:\n",
            "--- Creating labels ---\n",
            "INFO:root:\n",
            "--- Reshapping windows ---\n",
            "INFO:root:\n",
            "--- Loading data ---\n"
          ]
        },
        {
          "name": "stdout",
          "output_type": "stream",
          "text": [
            "Creating RawArray with float64 data, n_channels=64, n_times=247907\n",
            "    Range : 0 ... 247906 =      0.000 ...   242.096 secs\n",
            "Ready.\n"
          ]
        },
        {
          "name": "stderr",
          "output_type": "stream",
          "text": [
            "INFO:root:\n",
            "--- Filtering data ---\n"
          ]
        },
        {
          "name": "stdout",
          "output_type": "stream",
          "text": [
            "Filtering raw data in 1 contiguous segment\n",
            "Setting up band-pass filter from 8 - 30 Hz\n",
            "\n",
            "FIR filter parameters\n",
            "---------------------\n",
            "Designing a one-pass, zero-phase, non-causal bandpass filter:\n",
            "- Windowed time-domain design (firwin) method\n",
            "- Hamming window with 0.0194 passband ripple and 53 dB stopband attenuation\n",
            "- Lower passband edge: 8.00\n",
            "- Lower transition bandwidth: 2.00 Hz (-6 dB cutoff frequency: 7.00 Hz)\n",
            "- Upper passband edge: 30.00 Hz\n",
            "- Upper transition bandwidth: 7.50 Hz (-6 dB cutoff frequency: 33.75 Hz)\n",
            "- Filter length: 1691 samples (1.651 s)\n",
            "\n"
          ]
        },
        {
          "name": "stderr",
          "output_type": "stream",
          "text": [
            "[Parallel(n_jobs=1)]: Done  17 tasks      | elapsed:    0.1s\n",
            "INFO:root:\n",
            "--- Epoching data ---\n"
          ]
        },
        {
          "name": "stdout",
          "output_type": "stream",
          "text": [
            "Not setting metadata\n",
            "10 matching events found\n",
            "No baseline correction applied\n",
            "0 projection items activated\n",
            "Using data from preloaded Raw for 10 events and 4097 original time points ...\n",
            "1 bad epochs dropped\n"
          ]
        },
        {
          "name": "stderr",
          "output_type": "stream",
          "text": [
            "INFO:root:\n",
            "--- Creating windows ---\n",
            "INFO:root:\n",
            "--- Creating labels ---\n",
            "INFO:root:\n",
            "--- Reshapping windows ---\n",
            "INFO:root:~~~~~~~~~~~~~~ Done. \n",
            "\n",
            "INFO:root:~~~~~~~~~~~~~~ Loading .././data/raw/Data_npy\\DATA_011_Trial1.npy\n",
            "INFO:root:----------- Processing data...\n",
            "INFO:root:\n",
            "--- Loading data ---\n"
          ]
        },
        {
          "name": "stdout",
          "output_type": "stream",
          "text": [
            "Creating RawArray with float64 data, n_channels=64, n_times=238643\n",
            "    Range : 0 ... 238642 =      0.000 ...   233.049 secs\n",
            "Ready.\n"
          ]
        },
        {
          "name": "stderr",
          "output_type": "stream",
          "text": [
            "INFO:root:\n",
            "--- Filtering data ---\n"
          ]
        },
        {
          "name": "stdout",
          "output_type": "stream",
          "text": [
            "Filtering raw data in 1 contiguous segment\n",
            "Setting up band-pass filter from 8 - 30 Hz\n",
            "\n",
            "FIR filter parameters\n",
            "---------------------\n",
            "Designing a one-pass, zero-phase, non-causal bandpass filter:\n",
            "- Windowed time-domain design (firwin) method\n",
            "- Hamming window with 0.0194 passband ripple and 53 dB stopband attenuation\n",
            "- Lower passband edge: 8.00\n",
            "- Lower transition bandwidth: 2.00 Hz (-6 dB cutoff frequency: 7.00 Hz)\n",
            "- Upper passband edge: 30.00 Hz\n",
            "- Upper transition bandwidth: 7.50 Hz (-6 dB cutoff frequency: 33.75 Hz)\n",
            "- Filter length: 1691 samples (1.651 s)\n",
            "\n"
          ]
        },
        {
          "name": "stderr",
          "output_type": "stream",
          "text": [
            "[Parallel(n_jobs=1)]: Done  17 tasks      | elapsed:    0.0s\n",
            "INFO:root:\n",
            "--- Epoching data ---\n"
          ]
        },
        {
          "name": "stdout",
          "output_type": "stream",
          "text": [
            "Not setting metadata\n",
            "9 matching events found\n",
            "No baseline correction applied\n",
            "0 projection items activated\n",
            "Using data from preloaded Raw for 9 events and 4097 original time points ...\n",
            "1 bad epochs dropped\n"
          ]
        },
        {
          "name": "stderr",
          "output_type": "stream",
          "text": [
            "INFO:root:\n",
            "--- Creating windows ---\n",
            "INFO:root:\n",
            "--- Creating labels ---\n",
            "INFO:root:\n",
            "--- Reshapping windows ---\n",
            "INFO:root:\n",
            "--- Loading data ---\n"
          ]
        },
        {
          "name": "stdout",
          "output_type": "stream",
          "text": [
            "Creating RawArray with float64 data, n_channels=64, n_times=301084\n",
            "    Range : 0 ... 301083 =      0.000 ...   294.026 secs\n",
            "Ready.\n"
          ]
        },
        {
          "name": "stderr",
          "output_type": "stream",
          "text": [
            "INFO:root:\n",
            "--- Filtering data ---\n"
          ]
        },
        {
          "name": "stdout",
          "output_type": "stream",
          "text": [
            "Filtering raw data in 1 contiguous segment\n",
            "Setting up band-pass filter from 8 - 30 Hz\n",
            "\n",
            "FIR filter parameters\n",
            "---------------------\n",
            "Designing a one-pass, zero-phase, non-causal bandpass filter:\n",
            "- Windowed time-domain design (firwin) method\n",
            "- Hamming window with 0.0194 passband ripple and 53 dB stopband attenuation\n",
            "- Lower passband edge: 8.00\n",
            "- Lower transition bandwidth: 2.00 Hz (-6 dB cutoff frequency: 7.00 Hz)\n",
            "- Upper passband edge: 30.00 Hz\n",
            "- Upper transition bandwidth: 7.50 Hz (-6 dB cutoff frequency: 33.75 Hz)\n",
            "- Filter length: 1691 samples (1.651 s)\n",
            "\n"
          ]
        },
        {
          "name": "stderr",
          "output_type": "stream",
          "text": [
            "[Parallel(n_jobs=1)]: Done  17 tasks      | elapsed:    0.0s\n",
            "INFO:root:\n",
            "--- Epoching data ---\n"
          ]
        },
        {
          "name": "stdout",
          "output_type": "stream",
          "text": [
            "Not setting metadata\n",
            "8 matching events found\n",
            "No baseline correction applied\n",
            "0 projection items activated\n",
            "Using data from preloaded Raw for 8 events and 4097 original time points ...\n",
            "0 bad epochs dropped\n"
          ]
        },
        {
          "name": "stderr",
          "output_type": "stream",
          "text": [
            "INFO:root:\n",
            "--- Creating windows ---\n",
            "INFO:root:\n",
            "--- Creating labels ---\n",
            "INFO:root:\n",
            "--- Reshapping windows ---\n",
            "INFO:root:~~~~~~~~~~~~~~ Done. \n",
            "\n",
            "INFO:root:~~~~~~~~~~~~~~ Loading .././data/raw/Data_npy\\DATA_011_Trial2.npy\n",
            "INFO:root:----------- Processing data...\n",
            "INFO:root:\n",
            "--- Loading data ---\n"
          ]
        },
        {
          "name": "stdout",
          "output_type": "stream",
          "text": [
            "Creating RawArray with float64 data, n_channels=64, n_times=250056\n",
            "    Range : 0 ... 250055 =      0.000 ...   244.194 secs\n",
            "Ready.\n"
          ]
        },
        {
          "name": "stderr",
          "output_type": "stream",
          "text": [
            "INFO:root:\n",
            "--- Filtering data ---\n"
          ]
        },
        {
          "name": "stdout",
          "output_type": "stream",
          "text": [
            "Filtering raw data in 1 contiguous segment\n",
            "Setting up band-pass filter from 8 - 30 Hz\n",
            "\n",
            "FIR filter parameters\n",
            "---------------------\n",
            "Designing a one-pass, zero-phase, non-causal bandpass filter:\n",
            "- Windowed time-domain design (firwin) method\n",
            "- Hamming window with 0.0194 passband ripple and 53 dB stopband attenuation\n",
            "- Lower passband edge: 8.00\n",
            "- Lower transition bandwidth: 2.00 Hz (-6 dB cutoff frequency: 7.00 Hz)\n",
            "- Upper passband edge: 30.00 Hz\n",
            "- Upper transition bandwidth: 7.50 Hz (-6 dB cutoff frequency: 33.75 Hz)\n",
            "- Filter length: 1691 samples (1.651 s)\n",
            "\n"
          ]
        },
        {
          "name": "stderr",
          "output_type": "stream",
          "text": [
            "[Parallel(n_jobs=1)]: Done  17 tasks      | elapsed:    0.0s\n",
            "INFO:root:\n",
            "--- Epoching data ---\n"
          ]
        },
        {
          "name": "stdout",
          "output_type": "stream",
          "text": [
            "Not setting metadata\n",
            "10 matching events found\n",
            "No baseline correction applied\n",
            "0 projection items activated\n",
            "Using data from preloaded Raw for 10 events and 4097 original time points ...\n",
            "1 bad epochs dropped\n"
          ]
        },
        {
          "name": "stderr",
          "output_type": "stream",
          "text": [
            "INFO:root:\n",
            "--- Creating windows ---\n",
            "INFO:root:\n",
            "--- Creating labels ---\n",
            "INFO:root:\n",
            "--- Reshapping windows ---\n",
            "INFO:root:\n",
            "--- Loading data ---\n"
          ]
        },
        {
          "name": "stdout",
          "output_type": "stream",
          "text": [
            "Creating RawArray with float64 data, n_channels=64, n_times=265105\n",
            "    Range : 0 ... 265104 =      0.000 ...   258.891 secs\n",
            "Ready.\n"
          ]
        },
        {
          "name": "stderr",
          "output_type": "stream",
          "text": [
            "INFO:root:\n",
            "--- Filtering data ---\n"
          ]
        },
        {
          "name": "stdout",
          "output_type": "stream",
          "text": [
            "Filtering raw data in 1 contiguous segment\n",
            "Setting up band-pass filter from 8 - 30 Hz\n",
            "\n",
            "FIR filter parameters\n",
            "---------------------\n",
            "Designing a one-pass, zero-phase, non-causal bandpass filter:\n",
            "- Windowed time-domain design (firwin) method\n",
            "- Hamming window with 0.0194 passband ripple and 53 dB stopband attenuation\n",
            "- Lower passband edge: 8.00\n",
            "- Lower transition bandwidth: 2.00 Hz (-6 dB cutoff frequency: 7.00 Hz)\n",
            "- Upper passband edge: 30.00 Hz\n",
            "- Upper transition bandwidth: 7.50 Hz (-6 dB cutoff frequency: 33.75 Hz)\n",
            "- Filter length: 1691 samples (1.651 s)\n",
            "\n"
          ]
        },
        {
          "name": "stderr",
          "output_type": "stream",
          "text": [
            "[Parallel(n_jobs=1)]: Done  17 tasks      | elapsed:    0.0s\n",
            "INFO:root:\n",
            "--- Epoching data ---\n"
          ]
        },
        {
          "name": "stdout",
          "output_type": "stream",
          "text": [
            "Not setting metadata\n",
            "10 matching events found\n",
            "No baseline correction applied\n",
            "0 projection items activated\n",
            "Using data from preloaded Raw for 10 events and 4097 original time points ...\n",
            "1 bad epochs dropped\n"
          ]
        },
        {
          "name": "stderr",
          "output_type": "stream",
          "text": [
            "INFO:root:\n",
            "--- Creating windows ---\n",
            "INFO:root:\n",
            "--- Creating labels ---\n",
            "INFO:root:\n",
            "--- Reshapping windows ---\n",
            "INFO:root:~~~~~~~~~~~~~~ Done. \n",
            "\n",
            "INFO:root:~~~~~~~~~~~~~~ Loading .././data/raw/Data_npy\\DATA_011_Trial3.npy\n",
            "INFO:root:----------- Processing data...\n",
            "INFO:root:\n",
            "--- Loading data ---\n",
            "INFO:root:No data for this side\n",
            "WARNING:root:~~~~~~~~~~~~~~ No data for .././data/raw/Data_npy\\DATA_011_Trial3.npy and side G.\n",
            "INFO:root:\n",
            "--- Loading data ---\n"
          ]
        },
        {
          "name": "stdout",
          "output_type": "stream",
          "text": [
            "Creating RawArray with float64 data, n_channels=64, n_times=266822\n",
            "    Range : 0 ... 266821 =      0.000 ...   260.567 secs\n",
            "Ready.\n"
          ]
        },
        {
          "name": "stderr",
          "output_type": "stream",
          "text": [
            "INFO:root:\n",
            "--- Filtering data ---\n"
          ]
        },
        {
          "name": "stdout",
          "output_type": "stream",
          "text": [
            "Filtering raw data in 1 contiguous segment\n",
            "Setting up band-pass filter from 8 - 30 Hz\n",
            "\n",
            "FIR filter parameters\n",
            "---------------------\n",
            "Designing a one-pass, zero-phase, non-causal bandpass filter:\n",
            "- Windowed time-domain design (firwin) method\n",
            "- Hamming window with 0.0194 passband ripple and 53 dB stopband attenuation\n",
            "- Lower passband edge: 8.00\n",
            "- Lower transition bandwidth: 2.00 Hz (-6 dB cutoff frequency: 7.00 Hz)\n",
            "- Upper passband edge: 30.00 Hz\n",
            "- Upper transition bandwidth: 7.50 Hz (-6 dB cutoff frequency: 33.75 Hz)\n",
            "- Filter length: 1691 samples (1.651 s)\n",
            "\n"
          ]
        },
        {
          "name": "stderr",
          "output_type": "stream",
          "text": [
            "[Parallel(n_jobs=1)]: Done  17 tasks      | elapsed:    0.0s\n",
            "INFO:root:\n",
            "--- Epoching data ---\n"
          ]
        },
        {
          "name": "stdout",
          "output_type": "stream",
          "text": [
            "Not setting metadata\n",
            "11 matching events found\n",
            "No baseline correction applied\n",
            "0 projection items activated\n",
            "Using data from preloaded Raw for 11 events and 4097 original time points ...\n",
            "1 bad epochs dropped\n"
          ]
        },
        {
          "name": "stderr",
          "output_type": "stream",
          "text": [
            "INFO:root:\n",
            "--- Creating windows ---\n",
            "INFO:root:\n",
            "--- Creating labels ---\n",
            "INFO:root:\n",
            "--- Reshapping windows ---\n",
            "INFO:root:~~~~~~~~~~~~~~ Done. \n",
            "\n",
            "INFO:root:~~~~~~~~~~~~~~ Loading .././data/raw/Data_npy\\DATA_012_Trial1.npy\n",
            "INFO:root:----------- Processing data...\n",
            "INFO:root:\n",
            "--- Loading data ---\n"
          ]
        },
        {
          "name": "stdout",
          "output_type": "stream",
          "text": [
            "Creating RawArray with float64 data, n_channels=64, n_times=232565\n",
            "    Range : 0 ... 232564 =      0.000 ...   227.113 secs\n",
            "Ready.\n"
          ]
        },
        {
          "name": "stderr",
          "output_type": "stream",
          "text": [
            "INFO:root:\n",
            "--- Filtering data ---\n"
          ]
        },
        {
          "name": "stdout",
          "output_type": "stream",
          "text": [
            "Filtering raw data in 1 contiguous segment\n",
            "Setting up band-pass filter from 8 - 30 Hz\n",
            "\n",
            "FIR filter parameters\n",
            "---------------------\n",
            "Designing a one-pass, zero-phase, non-causal bandpass filter:\n",
            "- Windowed time-domain design (firwin) method\n",
            "- Hamming window with 0.0194 passband ripple and 53 dB stopband attenuation\n",
            "- Lower passband edge: 8.00\n",
            "- Lower transition bandwidth: 2.00 Hz (-6 dB cutoff frequency: 7.00 Hz)\n",
            "- Upper passband edge: 30.00 Hz\n",
            "- Upper transition bandwidth: 7.50 Hz (-6 dB cutoff frequency: 33.75 Hz)\n",
            "- Filter length: 1691 samples (1.651 s)\n",
            "\n"
          ]
        },
        {
          "name": "stderr",
          "output_type": "stream",
          "text": [
            "[Parallel(n_jobs=1)]: Done  17 tasks      | elapsed:    0.1s\n",
            "INFO:root:\n",
            "--- Epoching data ---\n"
          ]
        },
        {
          "name": "stdout",
          "output_type": "stream",
          "text": [
            "Not setting metadata\n",
            "10 matching events found\n",
            "No baseline correction applied\n",
            "0 projection items activated\n",
            "Using data from preloaded Raw for 10 events and 4097 original time points ...\n",
            "1 bad epochs dropped\n"
          ]
        },
        {
          "name": "stderr",
          "output_type": "stream",
          "text": [
            "INFO:root:\n",
            "--- Creating windows ---\n",
            "INFO:root:\n",
            "--- Creating labels ---\n",
            "INFO:root:\n",
            "--- Reshapping windows ---\n",
            "INFO:root:\n",
            "--- Loading data ---\n"
          ]
        },
        {
          "name": "stdout",
          "output_type": "stream",
          "text": [
            "Creating RawArray with float64 data, n_channels=64, n_times=247897\n",
            "    Range : 0 ... 247896 =      0.000 ...   242.086 secs\n",
            "Ready.\n"
          ]
        },
        {
          "name": "stderr",
          "output_type": "stream",
          "text": [
            "INFO:root:\n",
            "--- Filtering data ---\n"
          ]
        },
        {
          "name": "stdout",
          "output_type": "stream",
          "text": [
            "Filtering raw data in 1 contiguous segment\n",
            "Setting up band-pass filter from 8 - 30 Hz\n",
            "\n",
            "FIR filter parameters\n",
            "---------------------\n",
            "Designing a one-pass, zero-phase, non-causal bandpass filter:\n",
            "- Windowed time-domain design (firwin) method\n",
            "- Hamming window with 0.0194 passband ripple and 53 dB stopband attenuation\n",
            "- Lower passband edge: 8.00\n",
            "- Lower transition bandwidth: 2.00 Hz (-6 dB cutoff frequency: 7.00 Hz)\n",
            "- Upper passband edge: 30.00 Hz\n",
            "- Upper transition bandwidth: 7.50 Hz (-6 dB cutoff frequency: 33.75 Hz)\n",
            "- Filter length: 1691 samples (1.651 s)\n",
            "\n"
          ]
        },
        {
          "name": "stderr",
          "output_type": "stream",
          "text": [
            "[Parallel(n_jobs=1)]: Done  17 tasks      | elapsed:    0.1s\n",
            "INFO:root:\n",
            "--- Epoching data ---\n"
          ]
        },
        {
          "name": "stdout",
          "output_type": "stream",
          "text": [
            "Not setting metadata\n",
            "10 matching events found\n",
            "No baseline correction applied\n",
            "0 projection items activated\n",
            "Using data from preloaded Raw for 10 events and 4097 original time points ...\n",
            "1 bad epochs dropped\n"
          ]
        },
        {
          "name": "stderr",
          "output_type": "stream",
          "text": [
            "INFO:root:\n",
            "--- Creating windows ---\n",
            "INFO:root:\n",
            "--- Creating labels ---\n",
            "INFO:root:\n",
            "--- Reshapping windows ---\n",
            "INFO:root:~~~~~~~~~~~~~~ Done. \n",
            "\n",
            "INFO:root:~~~~~~~~~~~~~~ Loading .././data/raw/Data_npy\\DATA_012_Trial2.npy\n",
            "INFO:root:----------- Processing data...\n",
            "INFO:root:\n",
            "--- Loading data ---\n"
          ]
        },
        {
          "name": "stdout",
          "output_type": "stream",
          "text": [
            "Creating RawArray with float64 data, n_channels=64, n_times=219559\n",
            "    Range : 0 ... 219558 =      0.000 ...   214.412 secs\n",
            "Ready.\n"
          ]
        },
        {
          "name": "stderr",
          "output_type": "stream",
          "text": [
            "INFO:root:\n",
            "--- Filtering data ---\n"
          ]
        },
        {
          "name": "stdout",
          "output_type": "stream",
          "text": [
            "Filtering raw data in 1 contiguous segment\n",
            "Setting up band-pass filter from 8 - 30 Hz\n",
            "\n",
            "FIR filter parameters\n",
            "---------------------\n",
            "Designing a one-pass, zero-phase, non-causal bandpass filter:\n",
            "- Windowed time-domain design (firwin) method\n",
            "- Hamming window with 0.0194 passband ripple and 53 dB stopband attenuation\n",
            "- Lower passband edge: 8.00\n",
            "- Lower transition bandwidth: 2.00 Hz (-6 dB cutoff frequency: 7.00 Hz)\n",
            "- Upper passband edge: 30.00 Hz\n",
            "- Upper transition bandwidth: 7.50 Hz (-6 dB cutoff frequency: 33.75 Hz)\n",
            "- Filter length: 1691 samples (1.651 s)\n",
            "\n"
          ]
        },
        {
          "name": "stderr",
          "output_type": "stream",
          "text": [
            "[Parallel(n_jobs=1)]: Done  17 tasks      | elapsed:    0.0s\n",
            "INFO:root:\n",
            "--- Epoching data ---\n"
          ]
        },
        {
          "name": "stdout",
          "output_type": "stream",
          "text": [
            "Not setting metadata\n",
            "9 matching events found\n",
            "No baseline correction applied\n",
            "0 projection items activated\n",
            "Using data from preloaded Raw for 9 events and 4097 original time points ...\n",
            "1 bad epochs dropped\n"
          ]
        },
        {
          "name": "stderr",
          "output_type": "stream",
          "text": [
            "INFO:root:\n",
            "--- Creating windows ---\n",
            "INFO:root:\n",
            "--- Creating labels ---\n",
            "INFO:root:\n",
            "--- Reshapping windows ---\n",
            "INFO:root:\n",
            "--- Loading data ---\n"
          ]
        },
        {
          "name": "stdout",
          "output_type": "stream",
          "text": [
            "Creating RawArray with float64 data, n_channels=64, n_times=264785\n",
            "    Range : 0 ... 264784 =      0.000 ...   258.578 secs\n",
            "Ready.\n"
          ]
        },
        {
          "name": "stderr",
          "output_type": "stream",
          "text": [
            "INFO:root:\n",
            "--- Filtering data ---\n"
          ]
        },
        {
          "name": "stdout",
          "output_type": "stream",
          "text": [
            "Filtering raw data in 1 contiguous segment\n",
            "Setting up band-pass filter from 8 - 30 Hz\n",
            "\n",
            "FIR filter parameters\n",
            "---------------------\n",
            "Designing a one-pass, zero-phase, non-causal bandpass filter:\n",
            "- Windowed time-domain design (firwin) method\n",
            "- Hamming window with 0.0194 passband ripple and 53 dB stopband attenuation\n",
            "- Lower passband edge: 8.00\n",
            "- Lower transition bandwidth: 2.00 Hz (-6 dB cutoff frequency: 7.00 Hz)\n",
            "- Upper passband edge: 30.00 Hz\n",
            "- Upper transition bandwidth: 7.50 Hz (-6 dB cutoff frequency: 33.75 Hz)\n",
            "- Filter length: 1691 samples (1.651 s)\n",
            "\n"
          ]
        },
        {
          "name": "stderr",
          "output_type": "stream",
          "text": [
            "[Parallel(n_jobs=1)]: Done  17 tasks      | elapsed:    0.0s\n",
            "INFO:root:\n",
            "--- Epoching data ---\n"
          ]
        },
        {
          "name": "stdout",
          "output_type": "stream",
          "text": [
            "Not setting metadata\n",
            "9 matching events found\n",
            "No baseline correction applied\n",
            "0 projection items activated\n",
            "Using data from preloaded Raw for 9 events and 4097 original time points ...\n",
            "1 bad epochs dropped\n"
          ]
        },
        {
          "name": "stderr",
          "output_type": "stream",
          "text": [
            "INFO:root:\n",
            "--- Creating windows ---\n",
            "INFO:root:\n",
            "--- Creating labels ---\n",
            "INFO:root:\n",
            "--- Reshapping windows ---\n",
            "INFO:root:~~~~~~~~~~~~~~ Done. \n",
            "\n",
            "INFO:root:~~~~~~~~~~~~~~ Loading .././data/raw/Data_npy\\DATA_013_Trial1.npy\n",
            "INFO:root:----------- Processing data...\n",
            "INFO:root:\n",
            "--- Loading data ---\n"
          ]
        },
        {
          "name": "stdout",
          "output_type": "stream",
          "text": [
            "Creating RawArray with float64 data, n_channels=64, n_times=226804\n",
            "    Range : 0 ... 226803 =      0.000 ...   221.487 secs\n",
            "Ready.\n"
          ]
        },
        {
          "name": "stderr",
          "output_type": "stream",
          "text": [
            "INFO:root:\n",
            "--- Filtering data ---\n"
          ]
        },
        {
          "name": "stdout",
          "output_type": "stream",
          "text": [
            "Filtering raw data in 1 contiguous segment\n",
            "Setting up band-pass filter from 8 - 30 Hz\n",
            "\n",
            "FIR filter parameters\n",
            "---------------------\n",
            "Designing a one-pass, zero-phase, non-causal bandpass filter:\n",
            "- Windowed time-domain design (firwin) method\n",
            "- Hamming window with 0.0194 passband ripple and 53 dB stopband attenuation\n",
            "- Lower passband edge: 8.00\n",
            "- Lower transition bandwidth: 2.00 Hz (-6 dB cutoff frequency: 7.00 Hz)\n",
            "- Upper passband edge: 30.00 Hz\n",
            "- Upper transition bandwidth: 7.50 Hz (-6 dB cutoff frequency: 33.75 Hz)\n",
            "- Filter length: 1691 samples (1.651 s)\n",
            "\n"
          ]
        },
        {
          "name": "stderr",
          "output_type": "stream",
          "text": [
            "[Parallel(n_jobs=1)]: Done  17 tasks      | elapsed:    0.1s\n",
            "INFO:root:\n",
            "--- Epoching data ---\n"
          ]
        },
        {
          "name": "stdout",
          "output_type": "stream",
          "text": [
            "Not setting metadata\n",
            "10 matching events found\n",
            "No baseline correction applied\n",
            "0 projection items activated\n",
            "Using data from preloaded Raw for 10 events and 4097 original time points ...\n",
            "1 bad epochs dropped\n"
          ]
        },
        {
          "name": "stderr",
          "output_type": "stream",
          "text": [
            "INFO:root:\n",
            "--- Creating windows ---\n",
            "INFO:root:\n",
            "--- Creating labels ---\n",
            "INFO:root:\n",
            "--- Reshapping windows ---\n",
            "INFO:root:\n",
            "--- Loading data ---\n"
          ]
        },
        {
          "name": "stdout",
          "output_type": "stream",
          "text": [
            "Creating RawArray with float64 data, n_channels=64, n_times=219779\n",
            "    Range : 0 ... 219778 =      0.000 ...   214.627 secs\n",
            "Ready.\n"
          ]
        },
        {
          "name": "stderr",
          "output_type": "stream",
          "text": [
            "INFO:root:\n",
            "--- Filtering data ---\n"
          ]
        },
        {
          "name": "stdout",
          "output_type": "stream",
          "text": [
            "Filtering raw data in 1 contiguous segment\n",
            "Setting up band-pass filter from 8 - 30 Hz\n",
            "\n",
            "FIR filter parameters\n",
            "---------------------\n",
            "Designing a one-pass, zero-phase, non-causal bandpass filter:\n",
            "- Windowed time-domain design (firwin) method\n",
            "- Hamming window with 0.0194 passband ripple and 53 dB stopband attenuation\n",
            "- Lower passband edge: 8.00\n",
            "- Lower transition bandwidth: 2.00 Hz (-6 dB cutoff frequency: 7.00 Hz)\n",
            "- Upper passband edge: 30.00 Hz\n",
            "- Upper transition bandwidth: 7.50 Hz (-6 dB cutoff frequency: 33.75 Hz)\n",
            "- Filter length: 1691 samples (1.651 s)\n",
            "\n"
          ]
        },
        {
          "name": "stderr",
          "output_type": "stream",
          "text": [
            "[Parallel(n_jobs=1)]: Done  17 tasks      | elapsed:    0.0s\n",
            "INFO:root:\n",
            "--- Epoching data ---\n"
          ]
        },
        {
          "name": "stdout",
          "output_type": "stream",
          "text": [
            "Not setting metadata\n",
            "10 matching events found\n",
            "No baseline correction applied\n",
            "0 projection items activated\n",
            "Using data from preloaded Raw for 10 events and 4097 original time points ...\n",
            "1 bad epochs dropped\n"
          ]
        },
        {
          "name": "stderr",
          "output_type": "stream",
          "text": [
            "INFO:root:\n",
            "--- Creating windows ---\n",
            "INFO:root:\n",
            "--- Creating labels ---\n",
            "INFO:root:\n",
            "--- Reshapping windows ---\n",
            "INFO:root:~~~~~~~~~~~~~~ Done. \n",
            "\n",
            "INFO:root:~~~~~~~~~~~~~~ Loading .././data/raw/Data_npy\\DATA_013_Trial2.npy\n",
            "INFO:root:----------- Processing data...\n",
            "INFO:root:\n",
            "--- Loading data ---\n"
          ]
        },
        {
          "name": "stdout",
          "output_type": "stream",
          "text": [
            "Creating RawArray with float64 data, n_channels=64, n_times=217076\n",
            "    Range : 0 ... 217075 =      0.000 ...   211.987 secs\n",
            "Ready.\n"
          ]
        },
        {
          "name": "stderr",
          "output_type": "stream",
          "text": [
            "INFO:root:\n",
            "--- Filtering data ---\n"
          ]
        },
        {
          "name": "stdout",
          "output_type": "stream",
          "text": [
            "Filtering raw data in 1 contiguous segment\n",
            "Setting up band-pass filter from 8 - 30 Hz\n",
            "\n",
            "FIR filter parameters\n",
            "---------------------\n",
            "Designing a one-pass, zero-phase, non-causal bandpass filter:\n",
            "- Windowed time-domain design (firwin) method\n",
            "- Hamming window with 0.0194 passband ripple and 53 dB stopband attenuation\n",
            "- Lower passband edge: 8.00\n",
            "- Lower transition bandwidth: 2.00 Hz (-6 dB cutoff frequency: 7.00 Hz)\n",
            "- Upper passband edge: 30.00 Hz\n",
            "- Upper transition bandwidth: 7.50 Hz (-6 dB cutoff frequency: 33.75 Hz)\n",
            "- Filter length: 1691 samples (1.651 s)\n",
            "\n"
          ]
        },
        {
          "name": "stderr",
          "output_type": "stream",
          "text": [
            "[Parallel(n_jobs=1)]: Done  17 tasks      | elapsed:    0.0s\n",
            "INFO:root:\n",
            "--- Epoching data ---\n"
          ]
        },
        {
          "name": "stdout",
          "output_type": "stream",
          "text": [
            "Not setting metadata\n",
            "10 matching events found\n",
            "No baseline correction applied\n",
            "0 projection items activated\n",
            "Using data from preloaded Raw for 10 events and 4097 original time points ...\n",
            "1 bad epochs dropped\n"
          ]
        },
        {
          "name": "stderr",
          "output_type": "stream",
          "text": [
            "INFO:root:\n",
            "--- Creating windows ---\n",
            "INFO:root:\n",
            "--- Creating labels ---\n",
            "INFO:root:\n",
            "--- Reshapping windows ---\n",
            "INFO:root:\n",
            "--- Loading data ---\n"
          ]
        },
        {
          "name": "stdout",
          "output_type": "stream",
          "text": [
            "Creating RawArray with float64 data, n_channels=64, n_times=213340\n",
            "    Range : 0 ... 213339 =      0.000 ...   208.339 secs\n",
            "Ready.\n"
          ]
        },
        {
          "name": "stderr",
          "output_type": "stream",
          "text": [
            "INFO:root:\n",
            "--- Filtering data ---\n"
          ]
        },
        {
          "name": "stdout",
          "output_type": "stream",
          "text": [
            "Filtering raw data in 1 contiguous segment\n",
            "Setting up band-pass filter from 8 - 30 Hz\n",
            "\n",
            "FIR filter parameters\n",
            "---------------------\n",
            "Designing a one-pass, zero-phase, non-causal bandpass filter:\n",
            "- Windowed time-domain design (firwin) method\n",
            "- Hamming window with 0.0194 passband ripple and 53 dB stopband attenuation\n",
            "- Lower passband edge: 8.00\n",
            "- Lower transition bandwidth: 2.00 Hz (-6 dB cutoff frequency: 7.00 Hz)\n",
            "- Upper passband edge: 30.00 Hz\n",
            "- Upper transition bandwidth: 7.50 Hz (-6 dB cutoff frequency: 33.75 Hz)\n",
            "- Filter length: 1691 samples (1.651 s)\n",
            "\n"
          ]
        },
        {
          "name": "stderr",
          "output_type": "stream",
          "text": [
            "[Parallel(n_jobs=1)]: Done  17 tasks      | elapsed:    0.0s\n",
            "INFO:root:\n",
            "--- Epoching data ---\n"
          ]
        },
        {
          "name": "stdout",
          "output_type": "stream",
          "text": [
            "Not setting metadata\n",
            "10 matching events found\n",
            "No baseline correction applied\n",
            "0 projection items activated\n",
            "Using data from preloaded Raw for 10 events and 4097 original time points ...\n",
            "1 bad epochs dropped\n"
          ]
        },
        {
          "name": "stderr",
          "output_type": "stream",
          "text": [
            "INFO:root:\n",
            "--- Creating windows ---\n",
            "INFO:root:\n",
            "--- Creating labels ---\n",
            "INFO:root:\n",
            "--- Reshapping windows ---\n",
            "INFO:root:~~~~~~~~~~~~~~ Done. \n",
            "\n",
            "INFO:root:~~~~~~~~~~~~~~ Loading .././data/raw/Data_npy\\DATA_014_Trial1.npy\n",
            "INFO:root:----------- Processing data...\n",
            "INFO:root:\n",
            "--- Loading data ---\n"
          ]
        },
        {
          "name": "stdout",
          "output_type": "stream",
          "text": [
            "Creating RawArray with float64 data, n_channels=64, n_times=207537\n",
            "    Range : 0 ... 207536 =      0.000 ...   202.672 secs\n",
            "Ready.\n"
          ]
        },
        {
          "name": "stderr",
          "output_type": "stream",
          "text": [
            "INFO:root:\n",
            "--- Filtering data ---\n"
          ]
        },
        {
          "name": "stdout",
          "output_type": "stream",
          "text": [
            "Filtering raw data in 1 contiguous segment\n",
            "Setting up band-pass filter from 8 - 30 Hz\n",
            "\n",
            "FIR filter parameters\n",
            "---------------------\n",
            "Designing a one-pass, zero-phase, non-causal bandpass filter:\n",
            "- Windowed time-domain design (firwin) method\n",
            "- Hamming window with 0.0194 passband ripple and 53 dB stopband attenuation\n",
            "- Lower passband edge: 8.00\n",
            "- Lower transition bandwidth: 2.00 Hz (-6 dB cutoff frequency: 7.00 Hz)\n",
            "- Upper passband edge: 30.00 Hz\n",
            "- Upper transition bandwidth: 7.50 Hz (-6 dB cutoff frequency: 33.75 Hz)\n",
            "- Filter length: 1691 samples (1.651 s)\n",
            "\n"
          ]
        },
        {
          "name": "stderr",
          "output_type": "stream",
          "text": [
            "[Parallel(n_jobs=1)]: Done  17 tasks      | elapsed:    0.0s\n",
            "INFO:root:\n",
            "--- Epoching data ---\n"
          ]
        },
        {
          "name": "stdout",
          "output_type": "stream",
          "text": [
            "Not setting metadata\n",
            "6 matching events found\n",
            "No baseline correction applied\n",
            "0 projection items activated\n",
            "Using data from preloaded Raw for 6 events and 4097 original time points ...\n",
            "0 bad epochs dropped\n"
          ]
        },
        {
          "name": "stderr",
          "output_type": "stream",
          "text": [
            "INFO:root:\n",
            "--- Creating windows ---\n",
            "INFO:root:\n",
            "--- Creating labels ---\n",
            "INFO:root:\n",
            "--- Reshapping windows ---\n",
            "INFO:root:\n",
            "--- Loading data ---\n"
          ]
        },
        {
          "name": "stdout",
          "output_type": "stream",
          "text": [
            "Creating RawArray with float64 data, n_channels=64, n_times=248889\n",
            "    Range : 0 ... 248888 =      0.000 ...   243.055 secs\n",
            "Ready.\n"
          ]
        },
        {
          "name": "stderr",
          "output_type": "stream",
          "text": [
            "INFO:root:\n",
            "--- Filtering data ---\n"
          ]
        },
        {
          "name": "stdout",
          "output_type": "stream",
          "text": [
            "Filtering raw data in 1 contiguous segment\n",
            "Setting up band-pass filter from 8 - 30 Hz\n",
            "\n",
            "FIR filter parameters\n",
            "---------------------\n",
            "Designing a one-pass, zero-phase, non-causal bandpass filter:\n",
            "- Windowed time-domain design (firwin) method\n",
            "- Hamming window with 0.0194 passband ripple and 53 dB stopband attenuation\n",
            "- Lower passband edge: 8.00\n",
            "- Lower transition bandwidth: 2.00 Hz (-6 dB cutoff frequency: 7.00 Hz)\n",
            "- Upper passband edge: 30.00 Hz\n",
            "- Upper transition bandwidth: 7.50 Hz (-6 dB cutoff frequency: 33.75 Hz)\n",
            "- Filter length: 1691 samples (1.651 s)\n",
            "\n"
          ]
        },
        {
          "name": "stderr",
          "output_type": "stream",
          "text": [
            "[Parallel(n_jobs=1)]: Done  17 tasks      | elapsed:    0.0s\n",
            "INFO:root:\n",
            "--- Epoching data ---\n"
          ]
        },
        {
          "name": "stdout",
          "output_type": "stream",
          "text": [
            "Not setting metadata\n",
            "10 matching events found\n",
            "No baseline correction applied\n",
            "0 projection items activated\n",
            "Using data from preloaded Raw for 10 events and 4097 original time points ...\n",
            "0 bad epochs dropped\n"
          ]
        },
        {
          "name": "stderr",
          "output_type": "stream",
          "text": [
            "INFO:root:\n",
            "--- Creating windows ---\n",
            "INFO:root:\n",
            "--- Creating labels ---\n",
            "INFO:root:\n",
            "--- Reshapping windows ---\n",
            "INFO:root:~~~~~~~~~~~~~~ Done. \n",
            "\n",
            "INFO:root:~~~~~~~~~~~~~~ Loading .././data/raw/Data_npy\\DATA_014_Trial2.npy\n",
            "INFO:root:----------- Processing data...\n",
            "INFO:root:\n",
            "--- Loading data ---\n"
          ]
        },
        {
          "name": "stdout",
          "output_type": "stream",
          "text": [
            "Creating RawArray with float64 data, n_channels=64, n_times=217909\n",
            "    Range : 0 ... 217908 =      0.000 ...   212.801 secs\n",
            "Ready.\n"
          ]
        },
        {
          "name": "stderr",
          "output_type": "stream",
          "text": [
            "INFO:root:\n",
            "--- Filtering data ---\n"
          ]
        },
        {
          "name": "stdout",
          "output_type": "stream",
          "text": [
            "Filtering raw data in 1 contiguous segment\n",
            "Setting up band-pass filter from 8 - 30 Hz\n",
            "\n",
            "FIR filter parameters\n",
            "---------------------\n",
            "Designing a one-pass, zero-phase, non-causal bandpass filter:\n",
            "- Windowed time-domain design (firwin) method\n",
            "- Hamming window with 0.0194 passband ripple and 53 dB stopband attenuation\n",
            "- Lower passband edge: 8.00\n",
            "- Lower transition bandwidth: 2.00 Hz (-6 dB cutoff frequency: 7.00 Hz)\n",
            "- Upper passband edge: 30.00 Hz\n",
            "- Upper transition bandwidth: 7.50 Hz (-6 dB cutoff frequency: 33.75 Hz)\n",
            "- Filter length: 1691 samples (1.651 s)\n",
            "\n"
          ]
        },
        {
          "name": "stderr",
          "output_type": "stream",
          "text": [
            "[Parallel(n_jobs=1)]: Done  17 tasks      | elapsed:    0.0s\n",
            "INFO:root:\n",
            "--- Epoching data ---\n"
          ]
        },
        {
          "name": "stdout",
          "output_type": "stream",
          "text": [
            "Not setting metadata\n",
            "8 matching events found\n",
            "No baseline correction applied\n",
            "0 projection items activated\n",
            "Using data from preloaded Raw for 8 events and 4097 original time points ...\n",
            "1 bad epochs dropped\n"
          ]
        },
        {
          "name": "stderr",
          "output_type": "stream",
          "text": [
            "INFO:root:\n",
            "--- Creating windows ---\n",
            "INFO:root:\n",
            "--- Creating labels ---\n",
            "INFO:root:\n",
            "--- Reshapping windows ---\n",
            "INFO:root:\n",
            "--- Loading data ---\n"
          ]
        },
        {
          "name": "stdout",
          "output_type": "stream",
          "text": [
            "Creating RawArray with float64 data, n_channels=64, n_times=223228\n",
            "    Range : 0 ... 223227 =      0.000 ...   217.995 secs\n",
            "Ready.\n"
          ]
        },
        {
          "name": "stderr",
          "output_type": "stream",
          "text": [
            "INFO:root:\n",
            "--- Filtering data ---\n"
          ]
        },
        {
          "name": "stdout",
          "output_type": "stream",
          "text": [
            "Filtering raw data in 1 contiguous segment\n",
            "Setting up band-pass filter from 8 - 30 Hz\n",
            "\n",
            "FIR filter parameters\n",
            "---------------------\n",
            "Designing a one-pass, zero-phase, non-causal bandpass filter:\n",
            "- Windowed time-domain design (firwin) method\n",
            "- Hamming window with 0.0194 passband ripple and 53 dB stopband attenuation\n",
            "- Lower passband edge: 8.00\n",
            "- Lower transition bandwidth: 2.00 Hz (-6 dB cutoff frequency: 7.00 Hz)\n",
            "- Upper passband edge: 30.00 Hz\n",
            "- Upper transition bandwidth: 7.50 Hz (-6 dB cutoff frequency: 33.75 Hz)\n",
            "- Filter length: 1691 samples (1.651 s)\n",
            "\n"
          ]
        },
        {
          "name": "stderr",
          "output_type": "stream",
          "text": [
            "[Parallel(n_jobs=1)]: Done  17 tasks      | elapsed:    0.0s\n",
            "INFO:root:\n",
            "--- Epoching data ---\n"
          ]
        },
        {
          "name": "stdout",
          "output_type": "stream",
          "text": [
            "Not setting metadata\n",
            "9 matching events found\n",
            "No baseline correction applied\n",
            "0 projection items activated\n",
            "Using data from preloaded Raw for 9 events and 4097 original time points ...\n",
            "0 bad epochs dropped\n"
          ]
        },
        {
          "name": "stderr",
          "output_type": "stream",
          "text": [
            "INFO:root:\n",
            "--- Creating windows ---\n",
            "INFO:root:\n",
            "--- Creating labels ---\n",
            "INFO:root:\n",
            "--- Reshapping windows ---\n",
            "INFO:root:~~~~~~~~~~~~~~ Done. \n",
            "\n",
            "INFO:root:~~~~~~~~~~~~~~ Loading .././data/raw/Data_npy\\DATA_015_Trial1.npy\n",
            "INFO:root:----------- Processing data...\n",
            "INFO:root:\n",
            "--- Loading data ---\n"
          ]
        },
        {
          "name": "stdout",
          "output_type": "stream",
          "text": [
            "Creating RawArray with float64 data, n_channels=64, n_times=204418\n",
            "    Range : 0 ... 204417 =      0.000 ...   199.626 secs\n",
            "Ready.\n"
          ]
        },
        {
          "name": "stderr",
          "output_type": "stream",
          "text": [
            "INFO:root:\n",
            "--- Filtering data ---\n"
          ]
        },
        {
          "name": "stdout",
          "output_type": "stream",
          "text": [
            "Filtering raw data in 1 contiguous segment\n",
            "Setting up band-pass filter from 8 - 30 Hz\n",
            "\n",
            "FIR filter parameters\n",
            "---------------------\n",
            "Designing a one-pass, zero-phase, non-causal bandpass filter:\n",
            "- Windowed time-domain design (firwin) method\n",
            "- Hamming window with 0.0194 passband ripple and 53 dB stopband attenuation\n",
            "- Lower passband edge: 8.00\n",
            "- Lower transition bandwidth: 2.00 Hz (-6 dB cutoff frequency: 7.00 Hz)\n",
            "- Upper passband edge: 30.00 Hz\n",
            "- Upper transition bandwidth: 7.50 Hz (-6 dB cutoff frequency: 33.75 Hz)\n",
            "- Filter length: 1691 samples (1.651 s)\n",
            "\n"
          ]
        },
        {
          "name": "stderr",
          "output_type": "stream",
          "text": [
            "[Parallel(n_jobs=1)]: Done  17 tasks      | elapsed:    0.0s\n",
            "INFO:root:\n",
            "--- Epoching data ---\n"
          ]
        },
        {
          "name": "stdout",
          "output_type": "stream",
          "text": [
            "Not setting metadata\n",
            "9 matching events found\n",
            "No baseline correction applied\n",
            "0 projection items activated\n",
            "Using data from preloaded Raw for 9 events and 4097 original time points ...\n",
            "1 bad epochs dropped\n"
          ]
        },
        {
          "name": "stderr",
          "output_type": "stream",
          "text": [
            "INFO:root:\n",
            "--- Creating windows ---\n",
            "INFO:root:\n",
            "--- Creating labels ---\n",
            "INFO:root:\n",
            "--- Reshapping windows ---\n",
            "INFO:root:\n",
            "--- Loading data ---\n"
          ]
        },
        {
          "name": "stdout",
          "output_type": "stream",
          "text": [
            "Creating RawArray with float64 data, n_channels=64, n_times=190717\n",
            "    Range : 0 ... 190716 =      0.000 ...   186.246 secs\n",
            "Ready.\n"
          ]
        },
        {
          "name": "stderr",
          "output_type": "stream",
          "text": [
            "INFO:root:\n",
            "--- Filtering data ---\n"
          ]
        },
        {
          "name": "stdout",
          "output_type": "stream",
          "text": [
            "Filtering raw data in 1 contiguous segment\n",
            "Setting up band-pass filter from 8 - 30 Hz\n",
            "\n",
            "FIR filter parameters\n",
            "---------------------\n",
            "Designing a one-pass, zero-phase, non-causal bandpass filter:\n",
            "- Windowed time-domain design (firwin) method\n",
            "- Hamming window with 0.0194 passband ripple and 53 dB stopband attenuation\n",
            "- Lower passband edge: 8.00\n",
            "- Lower transition bandwidth: 2.00 Hz (-6 dB cutoff frequency: 7.00 Hz)\n",
            "- Upper passband edge: 30.00 Hz\n",
            "- Upper transition bandwidth: 7.50 Hz (-6 dB cutoff frequency: 33.75 Hz)\n",
            "- Filter length: 1691 samples (1.651 s)\n",
            "\n"
          ]
        },
        {
          "name": "stderr",
          "output_type": "stream",
          "text": [
            "[Parallel(n_jobs=1)]: Done  17 tasks      | elapsed:    0.0s\n",
            "INFO:root:\n",
            "--- Epoching data ---\n"
          ]
        },
        {
          "name": "stdout",
          "output_type": "stream",
          "text": [
            "Not setting metadata\n",
            "8 matching events found\n",
            "No baseline correction applied\n",
            "0 projection items activated\n",
            "Using data from preloaded Raw for 8 events and 4097 original time points ...\n",
            "1 bad epochs dropped\n"
          ]
        },
        {
          "name": "stderr",
          "output_type": "stream",
          "text": [
            "INFO:root:\n",
            "--- Creating windows ---\n",
            "INFO:root:\n",
            "--- Creating labels ---\n",
            "INFO:root:\n",
            "--- Reshapping windows ---\n",
            "INFO:root:~~~~~~~~~~~~~~ Done. \n",
            "\n",
            "INFO:root:~~~~~~~~~~~~~~ Loading .././data/raw/Data_npy\\DATA_015_Trial2.npy\n",
            "INFO:root:----------- Processing data...\n",
            "INFO:root:\n",
            "--- Loading data ---\n"
          ]
        },
        {
          "name": "stdout",
          "output_type": "stream",
          "text": [
            "Creating RawArray with float64 data, n_channels=64, n_times=204623\n",
            "    Range : 0 ... 204622 =      0.000 ...   199.826 secs\n",
            "Ready.\n"
          ]
        },
        {
          "name": "stderr",
          "output_type": "stream",
          "text": [
            "INFO:root:\n",
            "--- Filtering data ---\n"
          ]
        },
        {
          "name": "stdout",
          "output_type": "stream",
          "text": [
            "Filtering raw data in 1 contiguous segment\n",
            "Setting up band-pass filter from 8 - 30 Hz\n",
            "\n",
            "FIR filter parameters\n",
            "---------------------\n",
            "Designing a one-pass, zero-phase, non-causal bandpass filter:\n",
            "- Windowed time-domain design (firwin) method\n",
            "- Hamming window with 0.0194 passband ripple and 53 dB stopband attenuation\n",
            "- Lower passband edge: 8.00\n",
            "- Lower transition bandwidth: 2.00 Hz (-6 dB cutoff frequency: 7.00 Hz)\n",
            "- Upper passband edge: 30.00 Hz\n",
            "- Upper transition bandwidth: 7.50 Hz (-6 dB cutoff frequency: 33.75 Hz)\n",
            "- Filter length: 1691 samples (1.651 s)\n",
            "\n"
          ]
        },
        {
          "name": "stderr",
          "output_type": "stream",
          "text": [
            "[Parallel(n_jobs=1)]: Done  17 tasks      | elapsed:    0.0s\n",
            "INFO:root:\n",
            "--- Epoching data ---\n"
          ]
        },
        {
          "name": "stdout",
          "output_type": "stream",
          "text": [
            "Not setting metadata\n",
            "9 matching events found\n",
            "No baseline correction applied\n",
            "0 projection items activated\n",
            "Using data from preloaded Raw for 9 events and 4097 original time points ...\n",
            "1 bad epochs dropped\n"
          ]
        },
        {
          "name": "stderr",
          "output_type": "stream",
          "text": [
            "INFO:root:\n",
            "--- Creating windows ---\n",
            "INFO:root:\n",
            "--- Creating labels ---\n",
            "INFO:root:\n",
            "--- Reshapping windows ---\n",
            "INFO:root:\n",
            "--- Loading data ---\n"
          ]
        },
        {
          "name": "stdout",
          "output_type": "stream",
          "text": [
            "Creating RawArray with float64 data, n_channels=64, n_times=201092\n",
            "    Range : 0 ... 201091 =      0.000 ...   196.378 secs\n",
            "Ready.\n"
          ]
        },
        {
          "name": "stderr",
          "output_type": "stream",
          "text": [
            "INFO:root:\n",
            "--- Filtering data ---\n"
          ]
        },
        {
          "name": "stdout",
          "output_type": "stream",
          "text": [
            "Filtering raw data in 1 contiguous segment\n",
            "Setting up band-pass filter from 8 - 30 Hz\n",
            "\n",
            "FIR filter parameters\n",
            "---------------------\n",
            "Designing a one-pass, zero-phase, non-causal bandpass filter:\n",
            "- Windowed time-domain design (firwin) method\n",
            "- Hamming window with 0.0194 passband ripple and 53 dB stopband attenuation\n",
            "- Lower passband edge: 8.00\n",
            "- Lower transition bandwidth: 2.00 Hz (-6 dB cutoff frequency: 7.00 Hz)\n",
            "- Upper passband edge: 30.00 Hz\n",
            "- Upper transition bandwidth: 7.50 Hz (-6 dB cutoff frequency: 33.75 Hz)\n",
            "- Filter length: 1691 samples (1.651 s)\n",
            "\n"
          ]
        },
        {
          "name": "stderr",
          "output_type": "stream",
          "text": [
            "[Parallel(n_jobs=1)]: Done  17 tasks      | elapsed:    0.0s\n",
            "INFO:root:\n",
            "--- Epoching data ---\n"
          ]
        },
        {
          "name": "stdout",
          "output_type": "stream",
          "text": [
            "Not setting metadata\n",
            "9 matching events found\n",
            "No baseline correction applied\n",
            "0 projection items activated\n",
            "Using data from preloaded Raw for 9 events and 4097 original time points ...\n",
            "1 bad epochs dropped\n"
          ]
        },
        {
          "name": "stderr",
          "output_type": "stream",
          "text": [
            "INFO:root:\n",
            "--- Creating windows ---\n",
            "INFO:root:\n",
            "--- Creating labels ---\n",
            "INFO:root:\n",
            "--- Reshapping windows ---\n",
            "INFO:root:~~~~~~~~~~~~~~ Done. \n",
            "\n",
            "INFO:root:~~~~~~~~~~~~~~ Loading .././data/raw/Data_npy\\DATA_016_Trial1.npy\n",
            "INFO:root:----------- Processing data...\n",
            "INFO:root:\n",
            "--- Loading data ---\n"
          ]
        },
        {
          "name": "stdout",
          "output_type": "stream",
          "text": [
            "Creating RawArray with float64 data, n_channels=64, n_times=228034\n",
            "    Range : 0 ... 228033 =      0.000 ...   222.688 secs\n",
            "Ready.\n"
          ]
        },
        {
          "name": "stderr",
          "output_type": "stream",
          "text": [
            "INFO:root:\n",
            "--- Filtering data ---\n"
          ]
        },
        {
          "name": "stdout",
          "output_type": "stream",
          "text": [
            "Filtering raw data in 1 contiguous segment\n",
            "Setting up band-pass filter from 8 - 30 Hz\n",
            "\n",
            "FIR filter parameters\n",
            "---------------------\n",
            "Designing a one-pass, zero-phase, non-causal bandpass filter:\n",
            "- Windowed time-domain design (firwin) method\n",
            "- Hamming window with 0.0194 passband ripple and 53 dB stopband attenuation\n",
            "- Lower passband edge: 8.00\n",
            "- Lower transition bandwidth: 2.00 Hz (-6 dB cutoff frequency: 7.00 Hz)\n",
            "- Upper passband edge: 30.00 Hz\n",
            "- Upper transition bandwidth: 7.50 Hz (-6 dB cutoff frequency: 33.75 Hz)\n",
            "- Filter length: 1691 samples (1.651 s)\n",
            "\n"
          ]
        },
        {
          "name": "stderr",
          "output_type": "stream",
          "text": [
            "[Parallel(n_jobs=1)]: Done  17 tasks      | elapsed:    0.0s\n",
            "INFO:root:\n",
            "--- Epoching data ---\n"
          ]
        },
        {
          "name": "stdout",
          "output_type": "stream",
          "text": [
            "Not setting metadata\n",
            "10 matching events found\n",
            "No baseline correction applied\n",
            "0 projection items activated\n",
            "Using data from preloaded Raw for 10 events and 4097 original time points ...\n",
            "1 bad epochs dropped\n"
          ]
        },
        {
          "name": "stderr",
          "output_type": "stream",
          "text": [
            "INFO:root:\n",
            "--- Creating windows ---\n",
            "INFO:root:\n",
            "--- Creating labels ---\n",
            "INFO:root:\n",
            "--- Reshapping windows ---\n",
            "INFO:root:\n",
            "--- Loading data ---\n"
          ]
        },
        {
          "name": "stdout",
          "output_type": "stream",
          "text": [
            "Creating RawArray with float64 data, n_channels=64, n_times=236473\n",
            "    Range : 0 ... 236472 =      0.000 ...   230.930 secs\n",
            "Ready.\n"
          ]
        },
        {
          "name": "stderr",
          "output_type": "stream",
          "text": [
            "INFO:root:\n",
            "--- Filtering data ---\n"
          ]
        },
        {
          "name": "stdout",
          "output_type": "stream",
          "text": [
            "Filtering raw data in 1 contiguous segment\n",
            "Setting up band-pass filter from 8 - 30 Hz\n",
            "\n",
            "FIR filter parameters\n",
            "---------------------\n",
            "Designing a one-pass, zero-phase, non-causal bandpass filter:\n",
            "- Windowed time-domain design (firwin) method\n",
            "- Hamming window with 0.0194 passband ripple and 53 dB stopband attenuation\n",
            "- Lower passband edge: 8.00\n",
            "- Lower transition bandwidth: 2.00 Hz (-6 dB cutoff frequency: 7.00 Hz)\n",
            "- Upper passband edge: 30.00 Hz\n",
            "- Upper transition bandwidth: 7.50 Hz (-6 dB cutoff frequency: 33.75 Hz)\n",
            "- Filter length: 1691 samples (1.651 s)\n",
            "\n"
          ]
        },
        {
          "name": "stderr",
          "output_type": "stream",
          "text": [
            "[Parallel(n_jobs=1)]: Done  17 tasks      | elapsed:    0.0s\n",
            "INFO:root:\n",
            "--- Epoching data ---\n"
          ]
        },
        {
          "name": "stdout",
          "output_type": "stream",
          "text": [
            "Not setting metadata\n",
            "10 matching events found\n",
            "No baseline correction applied\n",
            "0 projection items activated\n",
            "Using data from preloaded Raw for 10 events and 4097 original time points ...\n",
            "1 bad epochs dropped\n"
          ]
        },
        {
          "name": "stderr",
          "output_type": "stream",
          "text": [
            "INFO:root:\n",
            "--- Creating windows ---\n",
            "INFO:root:\n",
            "--- Creating labels ---\n",
            "INFO:root:\n",
            "--- Reshapping windows ---\n",
            "INFO:root:~~~~~~~~~~~~~~ Done. \n",
            "\n",
            "INFO:root:~~~~~~~~~~~~~~ Loading .././data/raw/Data_npy\\DATA_016_Trial2.npy\n",
            "INFO:root:----------- Processing data...\n",
            "INFO:root:\n",
            "--- Loading data ---\n"
          ]
        },
        {
          "name": "stdout",
          "output_type": "stream",
          "text": [
            "Creating RawArray with float64 data, n_channels=64, n_times=231578\n",
            "    Range : 0 ... 231577 =      0.000 ...   226.149 secs\n",
            "Ready.\n"
          ]
        },
        {
          "name": "stderr",
          "output_type": "stream",
          "text": [
            "INFO:root:\n",
            "--- Filtering data ---\n"
          ]
        },
        {
          "name": "stdout",
          "output_type": "stream",
          "text": [
            "Filtering raw data in 1 contiguous segment\n",
            "Setting up band-pass filter from 8 - 30 Hz\n",
            "\n",
            "FIR filter parameters\n",
            "---------------------\n",
            "Designing a one-pass, zero-phase, non-causal bandpass filter:\n",
            "- Windowed time-domain design (firwin) method\n",
            "- Hamming window with 0.0194 passband ripple and 53 dB stopband attenuation\n",
            "- Lower passband edge: 8.00\n",
            "- Lower transition bandwidth: 2.00 Hz (-6 dB cutoff frequency: 7.00 Hz)\n",
            "- Upper passband edge: 30.00 Hz\n",
            "- Upper transition bandwidth: 7.50 Hz (-6 dB cutoff frequency: 33.75 Hz)\n",
            "- Filter length: 1691 samples (1.651 s)\n",
            "\n"
          ]
        },
        {
          "name": "stderr",
          "output_type": "stream",
          "text": [
            "[Parallel(n_jobs=1)]: Done  17 tasks      | elapsed:    0.0s\n",
            "INFO:root:\n",
            "--- Epoching data ---\n"
          ]
        },
        {
          "name": "stdout",
          "output_type": "stream",
          "text": [
            "Not setting metadata\n",
            "10 matching events found\n",
            "No baseline correction applied\n",
            "0 projection items activated\n",
            "Using data from preloaded Raw for 10 events and 4097 original time points ...\n",
            "1 bad epochs dropped\n"
          ]
        },
        {
          "name": "stderr",
          "output_type": "stream",
          "text": [
            "INFO:root:\n",
            "--- Creating windows ---\n",
            "INFO:root:\n",
            "--- Creating labels ---\n",
            "INFO:root:\n",
            "--- Reshapping windows ---\n",
            "INFO:root:\n",
            "--- Loading data ---\n"
          ]
        },
        {
          "name": "stdout",
          "output_type": "stream",
          "text": [
            "Creating RawArray with float64 data, n_channels=64, n_times=225830\n",
            "    Range : 0 ... 225829 =      0.000 ...   220.536 secs\n",
            "Ready.\n"
          ]
        },
        {
          "name": "stderr",
          "output_type": "stream",
          "text": [
            "INFO:root:\n",
            "--- Filtering data ---\n"
          ]
        },
        {
          "name": "stdout",
          "output_type": "stream",
          "text": [
            "Filtering raw data in 1 contiguous segment\n",
            "Setting up band-pass filter from 8 - 30 Hz\n",
            "\n",
            "FIR filter parameters\n",
            "---------------------\n",
            "Designing a one-pass, zero-phase, non-causal bandpass filter:\n",
            "- Windowed time-domain design (firwin) method\n",
            "- Hamming window with 0.0194 passband ripple and 53 dB stopband attenuation\n",
            "- Lower passband edge: 8.00\n",
            "- Lower transition bandwidth: 2.00 Hz (-6 dB cutoff frequency: 7.00 Hz)\n",
            "- Upper passband edge: 30.00 Hz\n",
            "- Upper transition bandwidth: 7.50 Hz (-6 dB cutoff frequency: 33.75 Hz)\n",
            "- Filter length: 1691 samples (1.651 s)\n",
            "\n"
          ]
        },
        {
          "name": "stderr",
          "output_type": "stream",
          "text": [
            "[Parallel(n_jobs=1)]: Done  17 tasks      | elapsed:    0.0s\n",
            "INFO:root:\n",
            "--- Epoching data ---\n"
          ]
        },
        {
          "name": "stdout",
          "output_type": "stream",
          "text": [
            "Not setting metadata\n",
            "10 matching events found\n",
            "No baseline correction applied\n",
            "0 projection items activated\n",
            "Using data from preloaded Raw for 10 events and 4097 original time points ...\n",
            "1 bad epochs dropped\n"
          ]
        },
        {
          "name": "stderr",
          "output_type": "stream",
          "text": [
            "INFO:root:\n",
            "--- Creating windows ---\n",
            "INFO:root:\n",
            "--- Creating labels ---\n",
            "INFO:root:\n",
            "--- Reshapping windows ---\n",
            "INFO:root:~~~~~~~~~~~~~~ Done. \n",
            "\n",
            "INFO:root:~~~~~~~~~~~~~~ Loading .././data/raw/Data_npy\\DATA_017_Trial1.npy\n",
            "INFO:root:----------- Processing data...\n",
            "INFO:root:\n",
            "--- Loading data ---\n"
          ]
        },
        {
          "name": "stdout",
          "output_type": "stream",
          "text": [
            "Creating RawArray with float64 data, n_channels=64, n_times=264895\n",
            "    Range : 0 ... 264894 =      0.000 ...   258.686 secs\n",
            "Ready.\n"
          ]
        },
        {
          "name": "stderr",
          "output_type": "stream",
          "text": [
            "INFO:root:\n",
            "--- Filtering data ---\n"
          ]
        },
        {
          "name": "stdout",
          "output_type": "stream",
          "text": [
            "Filtering raw data in 1 contiguous segment\n",
            "Setting up band-pass filter from 8 - 30 Hz\n",
            "\n",
            "FIR filter parameters\n",
            "---------------------\n",
            "Designing a one-pass, zero-phase, non-causal bandpass filter:\n",
            "- Windowed time-domain design (firwin) method\n",
            "- Hamming window with 0.0194 passband ripple and 53 dB stopband attenuation\n",
            "- Lower passband edge: 8.00\n",
            "- Lower transition bandwidth: 2.00 Hz (-6 dB cutoff frequency: 7.00 Hz)\n",
            "- Upper passband edge: 30.00 Hz\n",
            "- Upper transition bandwidth: 7.50 Hz (-6 dB cutoff frequency: 33.75 Hz)\n",
            "- Filter length: 1691 samples (1.651 s)\n",
            "\n"
          ]
        },
        {
          "name": "stderr",
          "output_type": "stream",
          "text": [
            "[Parallel(n_jobs=1)]: Done  17 tasks      | elapsed:    0.1s\n",
            "INFO:root:\n",
            "--- Epoching data ---\n"
          ]
        },
        {
          "name": "stdout",
          "output_type": "stream",
          "text": [
            "Not setting metadata\n",
            "9 matching events found\n",
            "No baseline correction applied\n",
            "0 projection items activated\n",
            "Using data from preloaded Raw for 9 events and 4097 original time points ...\n",
            "0 bad epochs dropped\n"
          ]
        },
        {
          "name": "stderr",
          "output_type": "stream",
          "text": [
            "INFO:root:\n",
            "--- Creating windows ---\n",
            "INFO:root:\n",
            "--- Creating labels ---\n",
            "INFO:root:\n",
            "--- Reshapping windows ---\n",
            "INFO:root:\n",
            "--- Loading data ---\n"
          ]
        },
        {
          "name": "stdout",
          "output_type": "stream",
          "text": [
            "Creating RawArray with float64 data, n_channels=64, n_times=224963\n",
            "    Range : 0 ... 224962 =      0.000 ...   219.689 secs\n",
            "Ready.\n"
          ]
        },
        {
          "name": "stderr",
          "output_type": "stream",
          "text": [
            "INFO:root:\n",
            "--- Filtering data ---\n"
          ]
        },
        {
          "name": "stdout",
          "output_type": "stream",
          "text": [
            "Filtering raw data in 1 contiguous segment\n",
            "Setting up band-pass filter from 8 - 30 Hz\n",
            "\n",
            "FIR filter parameters\n",
            "---------------------\n",
            "Designing a one-pass, zero-phase, non-causal bandpass filter:\n",
            "- Windowed time-domain design (firwin) method\n",
            "- Hamming window with 0.0194 passband ripple and 53 dB stopband attenuation\n",
            "- Lower passband edge: 8.00\n",
            "- Lower transition bandwidth: 2.00 Hz (-6 dB cutoff frequency: 7.00 Hz)\n",
            "- Upper passband edge: 30.00 Hz\n",
            "- Upper transition bandwidth: 7.50 Hz (-6 dB cutoff frequency: 33.75 Hz)\n",
            "- Filter length: 1691 samples (1.651 s)\n",
            "\n"
          ]
        },
        {
          "name": "stderr",
          "output_type": "stream",
          "text": [
            "[Parallel(n_jobs=1)]: Done  17 tasks      | elapsed:    0.0s\n",
            "INFO:root:\n",
            "--- Epoching data ---\n"
          ]
        },
        {
          "name": "stdout",
          "output_type": "stream",
          "text": [
            "Not setting metadata\n",
            "10 matching events found\n",
            "No baseline correction applied\n",
            "0 projection items activated\n",
            "Using data from preloaded Raw for 10 events and 4097 original time points ...\n",
            "0 bad epochs dropped\n"
          ]
        },
        {
          "name": "stderr",
          "output_type": "stream",
          "text": [
            "INFO:root:\n",
            "--- Creating windows ---\n",
            "INFO:root:\n",
            "--- Creating labels ---\n",
            "INFO:root:\n",
            "--- Reshapping windows ---\n",
            "INFO:root:~~~~~~~~~~~~~~ Done. \n",
            "\n",
            "INFO:root:~~~~~~~~~~~~~~ Loading .././data/raw/Data_npy\\DATA_017_Trial2.npy\n",
            "INFO:root:----------- Processing data...\n",
            "INFO:root:\n",
            "--- Loading data ---\n"
          ]
        },
        {
          "name": "stdout",
          "output_type": "stream",
          "text": [
            "Creating RawArray with float64 data, n_channels=64, n_times=187528\n",
            "    Range : 0 ... 187527 =      0.000 ...   183.132 secs\n",
            "Ready.\n"
          ]
        },
        {
          "name": "stderr",
          "output_type": "stream",
          "text": [
            "INFO:root:\n",
            "--- Filtering data ---\n"
          ]
        },
        {
          "name": "stdout",
          "output_type": "stream",
          "text": [
            "Filtering raw data in 1 contiguous segment\n",
            "Setting up band-pass filter from 8 - 30 Hz\n",
            "\n",
            "FIR filter parameters\n",
            "---------------------\n",
            "Designing a one-pass, zero-phase, non-causal bandpass filter:\n",
            "- Windowed time-domain design (firwin) method\n",
            "- Hamming window with 0.0194 passband ripple and 53 dB stopband attenuation\n",
            "- Lower passband edge: 8.00\n",
            "- Lower transition bandwidth: 2.00 Hz (-6 dB cutoff frequency: 7.00 Hz)\n",
            "- Upper passband edge: 30.00 Hz\n",
            "- Upper transition bandwidth: 7.50 Hz (-6 dB cutoff frequency: 33.75 Hz)\n",
            "- Filter length: 1691 samples (1.651 s)\n",
            "\n"
          ]
        },
        {
          "name": "stderr",
          "output_type": "stream",
          "text": [
            "[Parallel(n_jobs=1)]: Done  17 tasks      | elapsed:    0.0s\n",
            "INFO:root:\n",
            "--- Epoching data ---\n"
          ]
        },
        {
          "name": "stdout",
          "output_type": "stream",
          "text": [
            "Not setting metadata\n",
            "8 matching events found\n",
            "No baseline correction applied\n",
            "0 projection items activated\n",
            "Using data from preloaded Raw for 8 events and 4097 original time points ...\n",
            "1 bad epochs dropped\n"
          ]
        },
        {
          "name": "stderr",
          "output_type": "stream",
          "text": [
            "INFO:root:\n",
            "--- Creating windows ---\n",
            "INFO:root:\n",
            "--- Creating labels ---\n",
            "INFO:root:\n",
            "--- Reshapping windows ---\n",
            "INFO:root:\n",
            "--- Loading data ---\n"
          ]
        },
        {
          "name": "stdout",
          "output_type": "stream",
          "text": [
            "Creating RawArray with float64 data, n_channels=64, n_times=228799\n",
            "    Range : 0 ... 228798 =      0.000 ...   223.436 secs\n",
            "Ready.\n"
          ]
        },
        {
          "name": "stderr",
          "output_type": "stream",
          "text": [
            "INFO:root:\n",
            "--- Filtering data ---\n"
          ]
        },
        {
          "name": "stdout",
          "output_type": "stream",
          "text": [
            "Filtering raw data in 1 contiguous segment\n",
            "Setting up band-pass filter from 8 - 30 Hz\n",
            "\n",
            "FIR filter parameters\n",
            "---------------------\n",
            "Designing a one-pass, zero-phase, non-causal bandpass filter:\n",
            "- Windowed time-domain design (firwin) method\n",
            "- Hamming window with 0.0194 passband ripple and 53 dB stopband attenuation\n",
            "- Lower passband edge: 8.00\n",
            "- Lower transition bandwidth: 2.00 Hz (-6 dB cutoff frequency: 7.00 Hz)\n",
            "- Upper passband edge: 30.00 Hz\n",
            "- Upper transition bandwidth: 7.50 Hz (-6 dB cutoff frequency: 33.75 Hz)\n",
            "- Filter length: 1691 samples (1.651 s)\n",
            "\n"
          ]
        },
        {
          "name": "stderr",
          "output_type": "stream",
          "text": [
            "[Parallel(n_jobs=1)]: Done  17 tasks      | elapsed:    0.0s\n",
            "INFO:root:\n",
            "--- Epoching data ---\n"
          ]
        },
        {
          "name": "stdout",
          "output_type": "stream",
          "text": [
            "Not setting metadata\n",
            "10 matching events found\n",
            "No baseline correction applied\n",
            "0 projection items activated\n",
            "Using data from preloaded Raw for 10 events and 4097 original time points ...\n",
            "0 bad epochs dropped\n"
          ]
        },
        {
          "name": "stderr",
          "output_type": "stream",
          "text": [
            "INFO:root:\n",
            "--- Creating windows ---\n",
            "INFO:root:\n",
            "--- Creating labels ---\n",
            "INFO:root:\n",
            "--- Reshapping windows ---\n",
            "INFO:root:~~~~~~~~~~~~~~ Done. \n",
            "\n",
            "INFO:root:~~~~~~~~~~~~~~ Loading .././data/raw/Data_npy\\DATA_017_Trial3.npy\n",
            "INFO:root:----------- Processing data...\n",
            "INFO:root:\n",
            "--- Loading data ---\n"
          ]
        },
        {
          "name": "stdout",
          "output_type": "stream",
          "text": [
            "Creating RawArray with float64 data, n_channels=64, n_times=237393\n",
            "    Range : 0 ... 237392 =      0.000 ...   231.828 secs\n",
            "Ready.\n"
          ]
        },
        {
          "name": "stderr",
          "output_type": "stream",
          "text": [
            "INFO:root:\n",
            "--- Filtering data ---\n"
          ]
        },
        {
          "name": "stdout",
          "output_type": "stream",
          "text": [
            "Filtering raw data in 1 contiguous segment\n",
            "Setting up band-pass filter from 8 - 30 Hz\n",
            "\n",
            "FIR filter parameters\n",
            "---------------------\n",
            "Designing a one-pass, zero-phase, non-causal bandpass filter:\n",
            "- Windowed time-domain design (firwin) method\n",
            "- Hamming window with 0.0194 passband ripple and 53 dB stopband attenuation\n",
            "- Lower passband edge: 8.00\n",
            "- Lower transition bandwidth: 2.00 Hz (-6 dB cutoff frequency: 7.00 Hz)\n",
            "- Upper passband edge: 30.00 Hz\n",
            "- Upper transition bandwidth: 7.50 Hz (-6 dB cutoff frequency: 33.75 Hz)\n",
            "- Filter length: 1691 samples (1.651 s)\n",
            "\n"
          ]
        },
        {
          "name": "stderr",
          "output_type": "stream",
          "text": [
            "[Parallel(n_jobs=1)]: Done  17 tasks      | elapsed:    0.1s\n",
            "INFO:root:\n",
            "--- Epoching data ---\n"
          ]
        },
        {
          "name": "stdout",
          "output_type": "stream",
          "text": [
            "Not setting metadata\n",
            "9 matching events found\n",
            "No baseline correction applied\n",
            "0 projection items activated\n",
            "Using data from preloaded Raw for 9 events and 4097 original time points ...\n",
            "1 bad epochs dropped\n"
          ]
        },
        {
          "name": "stderr",
          "output_type": "stream",
          "text": [
            "INFO:root:\n",
            "--- Creating windows ---\n",
            "INFO:root:\n",
            "--- Creating labels ---\n",
            "INFO:root:\n",
            "--- Reshapping windows ---\n",
            "INFO:root:\n",
            "--- Loading data ---\n"
          ]
        },
        {
          "name": "stdout",
          "output_type": "stream",
          "text": [
            "Creating RawArray with float64 data, n_channels=64, n_times=217634\n",
            "    Range : 0 ... 217633 =      0.000 ...   212.532 secs\n",
            "Ready.\n"
          ]
        },
        {
          "name": "stderr",
          "output_type": "stream",
          "text": [
            "INFO:root:\n",
            "--- Filtering data ---\n"
          ]
        },
        {
          "name": "stdout",
          "output_type": "stream",
          "text": [
            "Filtering raw data in 1 contiguous segment\n",
            "Setting up band-pass filter from 8 - 30 Hz\n",
            "\n",
            "FIR filter parameters\n",
            "---------------------\n",
            "Designing a one-pass, zero-phase, non-causal bandpass filter:\n",
            "- Windowed time-domain design (firwin) method\n",
            "- Hamming window with 0.0194 passband ripple and 53 dB stopband attenuation\n",
            "- Lower passband edge: 8.00\n",
            "- Lower transition bandwidth: 2.00 Hz (-6 dB cutoff frequency: 7.00 Hz)\n",
            "- Upper passband edge: 30.00 Hz\n",
            "- Upper transition bandwidth: 7.50 Hz (-6 dB cutoff frequency: 33.75 Hz)\n",
            "- Filter length: 1691 samples (1.651 s)\n",
            "\n"
          ]
        },
        {
          "name": "stderr",
          "output_type": "stream",
          "text": [
            "[Parallel(n_jobs=1)]: Done  17 tasks      | elapsed:    0.0s\n",
            "INFO:root:\n",
            "--- Epoching data ---\n"
          ]
        },
        {
          "name": "stdout",
          "output_type": "stream",
          "text": [
            "Not setting metadata\n",
            "10 matching events found\n",
            "No baseline correction applied\n",
            "0 projection items activated\n",
            "Using data from preloaded Raw for 10 events and 4097 original time points ...\n",
            "1 bad epochs dropped\n"
          ]
        },
        {
          "name": "stderr",
          "output_type": "stream",
          "text": [
            "INFO:root:\n",
            "--- Creating windows ---\n",
            "INFO:root:\n",
            "--- Creating labels ---\n",
            "INFO:root:\n",
            "--- Reshapping windows ---\n",
            "INFO:root:~~~~~~~~~~~~~~ Done. \n",
            "\n",
            "INFO:root:~~~~~~~~~~~~~~ Loading .././data/raw/Data_npy\\DATA_018_Trial1.npy\n",
            "INFO:root:----------- Processing data...\n",
            "INFO:root:\n",
            "--- Loading data ---\n"
          ]
        },
        {
          "name": "stdout",
          "output_type": "stream",
          "text": [
            "Creating RawArray with float64 data, n_channels=64, n_times=262004\n",
            "    Range : 0 ... 262003 =      0.000 ...   255.862 secs\n",
            "Ready.\n"
          ]
        },
        {
          "name": "stderr",
          "output_type": "stream",
          "text": [
            "INFO:root:\n",
            "--- Filtering data ---\n"
          ]
        },
        {
          "name": "stdout",
          "output_type": "stream",
          "text": [
            "Filtering raw data in 1 contiguous segment\n",
            "Setting up band-pass filter from 8 - 30 Hz\n",
            "\n",
            "FIR filter parameters\n",
            "---------------------\n",
            "Designing a one-pass, zero-phase, non-causal bandpass filter:\n",
            "- Windowed time-domain design (firwin) method\n",
            "- Hamming window with 0.0194 passband ripple and 53 dB stopband attenuation\n",
            "- Lower passband edge: 8.00\n",
            "- Lower transition bandwidth: 2.00 Hz (-6 dB cutoff frequency: 7.00 Hz)\n",
            "- Upper passband edge: 30.00 Hz\n",
            "- Upper transition bandwidth: 7.50 Hz (-6 dB cutoff frequency: 33.75 Hz)\n",
            "- Filter length: 1691 samples (1.651 s)\n",
            "\n"
          ]
        },
        {
          "name": "stderr",
          "output_type": "stream",
          "text": [
            "[Parallel(n_jobs=1)]: Done  17 tasks      | elapsed:    0.0s\n",
            "INFO:root:\n",
            "--- Epoching data ---\n"
          ]
        },
        {
          "name": "stdout",
          "output_type": "stream",
          "text": [
            "Not setting metadata\n",
            "11 matching events found\n",
            "No baseline correction applied\n",
            "0 projection items activated\n",
            "Using data from preloaded Raw for 11 events and 4097 original time points ...\n",
            "0 bad epochs dropped\n"
          ]
        },
        {
          "name": "stderr",
          "output_type": "stream",
          "text": [
            "INFO:root:\n",
            "--- Creating windows ---\n",
            "INFO:root:\n",
            "--- Creating labels ---\n",
            "INFO:root:\n",
            "--- Reshapping windows ---\n",
            "INFO:root:\n",
            "--- Loading data ---\n"
          ]
        },
        {
          "name": "stdout",
          "output_type": "stream",
          "text": [
            "Creating RawArray with float64 data, n_channels=64, n_times=254799\n",
            "    Range : 0 ... 254798 =      0.000 ...   248.826 secs\n",
            "Ready.\n"
          ]
        },
        {
          "name": "stderr",
          "output_type": "stream",
          "text": [
            "INFO:root:\n",
            "--- Filtering data ---\n"
          ]
        },
        {
          "name": "stdout",
          "output_type": "stream",
          "text": [
            "Filtering raw data in 1 contiguous segment\n",
            "Setting up band-pass filter from 8 - 30 Hz\n",
            "\n",
            "FIR filter parameters\n",
            "---------------------\n",
            "Designing a one-pass, zero-phase, non-causal bandpass filter:\n",
            "- Windowed time-domain design (firwin) method\n",
            "- Hamming window with 0.0194 passband ripple and 53 dB stopband attenuation\n",
            "- Lower passband edge: 8.00\n",
            "- Lower transition bandwidth: 2.00 Hz (-6 dB cutoff frequency: 7.00 Hz)\n",
            "- Upper passband edge: 30.00 Hz\n",
            "- Upper transition bandwidth: 7.50 Hz (-6 dB cutoff frequency: 33.75 Hz)\n",
            "- Filter length: 1691 samples (1.651 s)\n",
            "\n"
          ]
        },
        {
          "name": "stderr",
          "output_type": "stream",
          "text": [
            "[Parallel(n_jobs=1)]: Done  17 tasks      | elapsed:    0.0s\n",
            "INFO:root:\n",
            "--- Epoching data ---\n"
          ]
        },
        {
          "name": "stdout",
          "output_type": "stream",
          "text": [
            "Not setting metadata\n",
            "10 matching events found\n",
            "No baseline correction applied\n",
            "0 projection items activated\n",
            "Using data from preloaded Raw for 10 events and 4097 original time points ...\n",
            "0 bad epochs dropped\n"
          ]
        },
        {
          "name": "stderr",
          "output_type": "stream",
          "text": [
            "INFO:root:\n",
            "--- Creating windows ---\n",
            "INFO:root:\n",
            "--- Creating labels ---\n",
            "INFO:root:\n",
            "--- Reshapping windows ---\n",
            "INFO:root:~~~~~~~~~~~~~~ Done. \n",
            "\n",
            "INFO:root:~~~~~~~~~~~~~~ Loading .././data/raw/Data_npy\\DATA_018_Trial2.npy\n",
            "INFO:root:----------- Processing data...\n",
            "INFO:root:\n",
            "--- Loading data ---\n",
            "INFO:root:No data for this side\n",
            "WARNING:root:~~~~~~~~~~~~~~ No data for .././data/raw/Data_npy\\DATA_018_Trial2.npy and side G.\n",
            "INFO:root:\n",
            "--- Loading data ---\n"
          ]
        },
        {
          "name": "stdout",
          "output_type": "stream",
          "text": [
            "Creating RawArray with float64 data, n_channels=64, n_times=221996\n",
            "    Range : 0 ... 221995 =      0.000 ...   216.792 secs\n",
            "Ready.\n"
          ]
        },
        {
          "name": "stderr",
          "output_type": "stream",
          "text": [
            "INFO:root:\n",
            "--- Filtering data ---\n"
          ]
        },
        {
          "name": "stdout",
          "output_type": "stream",
          "text": [
            "Filtering raw data in 1 contiguous segment\n",
            "Setting up band-pass filter from 8 - 30 Hz\n",
            "\n",
            "FIR filter parameters\n",
            "---------------------\n",
            "Designing a one-pass, zero-phase, non-causal bandpass filter:\n",
            "- Windowed time-domain design (firwin) method\n",
            "- Hamming window with 0.0194 passband ripple and 53 dB stopband attenuation\n",
            "- Lower passband edge: 8.00\n",
            "- Lower transition bandwidth: 2.00 Hz (-6 dB cutoff frequency: 7.00 Hz)\n",
            "- Upper passband edge: 30.00 Hz\n",
            "- Upper transition bandwidth: 7.50 Hz (-6 dB cutoff frequency: 33.75 Hz)\n",
            "- Filter length: 1691 samples (1.651 s)\n",
            "\n"
          ]
        },
        {
          "name": "stderr",
          "output_type": "stream",
          "text": [
            "[Parallel(n_jobs=1)]: Done  17 tasks      | elapsed:    0.0s\n",
            "INFO:root:\n",
            "--- Epoching data ---\n"
          ]
        },
        {
          "name": "stdout",
          "output_type": "stream",
          "text": [
            "Not setting metadata\n",
            "10 matching events found\n",
            "No baseline correction applied\n",
            "0 projection items activated\n",
            "Using data from preloaded Raw for 10 events and 4097 original time points ...\n",
            "1 bad epochs dropped\n"
          ]
        },
        {
          "name": "stderr",
          "output_type": "stream",
          "text": [
            "INFO:root:\n",
            "--- Creating windows ---\n",
            "INFO:root:\n",
            "--- Creating labels ---\n",
            "INFO:root:\n",
            "--- Reshapping windows ---\n",
            "INFO:root:~~~~~~~~~~~~~~ Done. \n",
            "\n"
          ]
        }
      ],
      "source": [
        "# Preprocessing the data\n",
        "data_labels_all, meta_data_all = process_train_data_all(path_folder = PATH_ROW_DATA_FOLDER, save_path=PATH_PROCESSED_DATA_FOLDER, max_files=FILE_NUMBER, verbose=True,\n",
        "                                                        window_size=WINDOW_SIZE,\n",
        "                                                        step_size=STEP_SIZE,\n",
        "                                                        epoch_start_time=EPOCH_START_TIME,\n",
        "                                                        epoch_end_time=EPOCH_END_TIME,\n",
        "                                                        start_time_label=START_TIME_LABEL,\n",
        "                                                        end_time_label=END_TIME_LABEL,\n",
        "                                                        eeg_order=ELECTRODS,\n",
        "                                                        low_freq=LOW_FREQ,\n",
        "                                                        high_freq=HIGH_FREQ)"
      ]
    },
    {
      "cell_type": "code",
      "execution_count": 42,
      "metadata": {},
      "outputs": [
        {
          "name": "stderr",
          "output_type": "stream",
          "text": [
            "INFO:root:~~~~~~~~~~~~~~ Loading .././data/processed\\DATA_001_Trial1_D.pkl\n",
            "INFO:root:~~~~~~~~~~~~~~ Done. \n",
            "\n",
            "INFO:root:~~~~~~~~~~~~~~ Loading .././data/processed\\DATA_001_Trial1_G.pkl\n",
            "INFO:root:~~~~~~~~~~~~~~ Done. \n",
            "\n",
            "INFO:root:~~~~~~~~~~~~~~ Loading .././data/processed\\DATA_001_Trial2_D.pkl\n",
            "INFO:root:~~~~~~~~~~~~~~ Done. \n",
            "\n",
            "INFO:root:~~~~~~~~~~~~~~ Loading .././data/processed\\DATA_001_Trial2_G.pkl\n",
            "INFO:root:~~~~~~~~~~~~~~ Done. \n",
            "\n",
            "INFO:root:~~~~~~~~~~~~~~ Loading .././data/processed\\DATA_002_Trial1_D.pkl\n",
            "INFO:root:~~~~~~~~~~~~~~ Done. \n",
            "\n",
            "INFO:root:~~~~~~~~~~~~~~ Loading .././data/processed\\DATA_002_Trial1_G.pkl\n",
            "INFO:root:~~~~~~~~~~~~~~ Done. \n",
            "\n",
            "INFO:root:~~~~~~~~~~~~~~ Loading .././data/processed\\DATA_002_Trial2_D.pkl\n",
            "INFO:root:~~~~~~~~~~~~~~ Done. \n",
            "\n",
            "INFO:root:~~~~~~~~~~~~~~ Loading .././data/processed\\DATA_002_Trial2_G.pkl\n",
            "INFO:root:~~~~~~~~~~~~~~ Done. \n",
            "\n",
            "INFO:root:~~~~~~~~~~~~~~ Loading .././data/processed\\DATA_002_Trial3_D.pkl\n",
            "INFO:root:~~~~~~~~~~~~~~ Done. \n",
            "\n",
            "INFO:root:~~~~~~~~~~~~~~ Loading .././data/processed\\DATA_003_Trial1_D.pkl\n",
            "INFO:root:~~~~~~~~~~~~~~ Done. \n",
            "\n",
            "INFO:root:~~~~~~~~~~~~~~ Loading .././data/processed\\DATA_003_Trial1_G.pkl\n",
            "INFO:root:~~~~~~~~~~~~~~ Done. \n",
            "\n",
            "INFO:root:~~~~~~~~~~~~~~ Loading .././data/processed\\DATA_003_Trial2_D.pkl\n",
            "INFO:root:~~~~~~~~~~~~~~ Done. \n",
            "\n",
            "INFO:root:~~~~~~~~~~~~~~ Loading .././data/processed\\DATA_003_Trial2_G.pkl\n",
            "INFO:root:~~~~~~~~~~~~~~ Done. \n",
            "\n",
            "INFO:root:~~~~~~~~~~~~~~ Loading .././data/processed\\DATA_004_Trial1_D.pkl\n",
            "INFO:root:~~~~~~~~~~~~~~ Done. \n",
            "\n",
            "INFO:root:~~~~~~~~~~~~~~ Loading .././data/processed\\DATA_004_Trial1_G.pkl\n",
            "INFO:root:~~~~~~~~~~~~~~ Done. \n",
            "\n",
            "INFO:root:~~~~~~~~~~~~~~ Loading .././data/processed\\DATA_004_Trial2_D.pkl\n",
            "INFO:root:~~~~~~~~~~~~~~ Done. \n",
            "\n",
            "INFO:root:~~~~~~~~~~~~~~ Loading .././data/processed\\DATA_004_Trial2_G.pkl\n",
            "INFO:root:~~~~~~~~~~~~~~ Done. \n",
            "\n",
            "INFO:root:~~~~~~~~~~~~~~ Loading .././data/processed\\DATA_005_Trial1_D.pkl\n",
            "INFO:root:~~~~~~~~~~~~~~ Done. \n",
            "\n",
            "INFO:root:~~~~~~~~~~~~~~ Loading .././data/processed\\DATA_005_Trial1_G.pkl\n",
            "INFO:root:~~~~~~~~~~~~~~ Done. \n",
            "\n",
            "INFO:root:~~~~~~~~~~~~~~ Loading .././data/processed\\DATA_005_Trial2_D.pkl\n",
            "INFO:root:~~~~~~~~~~~~~~ Done. \n",
            "\n",
            "INFO:root:~~~~~~~~~~~~~~ Loading .././data/processed\\DATA_005_Trial2_G.pkl\n",
            "INFO:root:~~~~~~~~~~~~~~ Done. \n",
            "\n",
            "INFO:root:~~~~~~~~~~~~~~ Loading .././data/processed\\DATA_006_Trial1_D.pkl\n",
            "INFO:root:~~~~~~~~~~~~~~ Done. \n",
            "\n",
            "INFO:root:~~~~~~~~~~~~~~ Loading .././data/processed\\DATA_006_Trial1_G.pkl\n",
            "INFO:root:~~~~~~~~~~~~~~ Done. \n",
            "\n",
            "INFO:root:~~~~~~~~~~~~~~ Loading .././data/processed\\DATA_006_Trial2_D.pkl\n",
            "INFO:root:~~~~~~~~~~~~~~ Done. \n",
            "\n",
            "INFO:root:~~~~~~~~~~~~~~ Loading .././data/processed\\DATA_006_Trial2_G.pkl\n",
            "INFO:root:~~~~~~~~~~~~~~ Done. \n",
            "\n",
            "INFO:root:~~~~~~~~~~~~~~ Loading .././data/processed\\DATA_007_Trial1_D.pkl\n",
            "INFO:root:~~~~~~~~~~~~~~ Done. \n",
            "\n",
            "INFO:root:~~~~~~~~~~~~~~ Loading .././data/processed\\DATA_007_Trial1_G.pkl\n",
            "INFO:root:~~~~~~~~~~~~~~ Done. \n",
            "\n",
            "INFO:root:~~~~~~~~~~~~~~ Loading .././data/processed\\DATA_007_Trial2_D.pkl\n",
            "INFO:root:~~~~~~~~~~~~~~ Done. \n",
            "\n",
            "INFO:root:~~~~~~~~~~~~~~ Loading .././data/processed\\DATA_007_Trial2_G.pkl\n",
            "INFO:root:~~~~~~~~~~~~~~ Done. \n",
            "\n",
            "INFO:root:~~~~~~~~~~~~~~ Loading .././data/processed\\DATA_008_Trial1_D.pkl\n",
            "INFO:root:~~~~~~~~~~~~~~ Done. \n",
            "\n",
            "INFO:root:~~~~~~~~~~~~~~ Loading .././data/processed\\DATA_008_Trial1_G.pkl\n",
            "INFO:root:~~~~~~~~~~~~~~ Done. \n",
            "\n",
            "INFO:root:~~~~~~~~~~~~~~ Loading .././data/processed\\DATA_008_Trial2_G.pkl\n",
            "INFO:root:~~~~~~~~~~~~~~ Done. \n",
            "\n",
            "INFO:root:~~~~~~~~~~~~~~ Loading .././data/processed\\DATA_009_Trial1_D.pkl\n",
            "INFO:root:~~~~~~~~~~~~~~ Done. \n",
            "\n",
            "INFO:root:~~~~~~~~~~~~~~ Loading .././data/processed\\DATA_009_Trial1_G.pkl\n",
            "INFO:root:~~~~~~~~~~~~~~ Done. \n",
            "\n",
            "INFO:root:~~~~~~~~~~~~~~ Loading .././data/processed\\DATA_009_Trial2_D.pkl\n",
            "INFO:root:~~~~~~~~~~~~~~ Done. \n",
            "\n",
            "INFO:root:~~~~~~~~~~~~~~ Loading .././data/processed\\DATA_009_Trial2_G.pkl\n",
            "INFO:root:~~~~~~~~~~~~~~ Done. \n",
            "\n",
            "INFO:root:~~~~~~~~~~~~~~ Loading .././data/processed\\DATA_009_Trial3_G.pkl\n",
            "INFO:root:~~~~~~~~~~~~~~ Done. \n",
            "\n",
            "INFO:root:~~~~~~~~~~~~~~ Loading .././data/processed\\DATA_010_Trial1_D.pkl\n",
            "INFO:root:~~~~~~~~~~~~~~ Done. \n",
            "\n",
            "INFO:root:~~~~~~~~~~~~~~ Loading .././data/processed\\DATA_010_Trial1_G.pkl\n",
            "INFO:root:~~~~~~~~~~~~~~ Done. \n",
            "\n",
            "INFO:root:~~~~~~~~~~~~~~ Loading .././data/processed\\DATA_010_Trial2_D.pkl\n",
            "INFO:root:~~~~~~~~~~~~~~ Done. \n",
            "\n",
            "INFO:root:~~~~~~~~~~~~~~ Loading .././data/processed\\DATA_010_Trial2_G.pkl\n",
            "INFO:root:~~~~~~~~~~~~~~ Done. \n",
            "\n",
            "INFO:root:~~~~~~~~~~~~~~ Loading .././data/processed\\DATA_011_Trial1_D.pkl\n",
            "INFO:root:~~~~~~~~~~~~~~ Done. \n",
            "\n",
            "INFO:root:~~~~~~~~~~~~~~ Loading .././data/processed\\DATA_011_Trial1_G.pkl\n",
            "INFO:root:~~~~~~~~~~~~~~ Done. \n",
            "\n",
            "INFO:root:~~~~~~~~~~~~~~ Loading .././data/processed\\DATA_011_Trial2_D.pkl\n",
            "INFO:root:~~~~~~~~~~~~~~ Done. \n",
            "\n",
            "INFO:root:~~~~~~~~~~~~~~ Loading .././data/processed\\DATA_011_Trial2_G.pkl\n",
            "INFO:root:~~~~~~~~~~~~~~ Done. \n",
            "\n",
            "INFO:root:~~~~~~~~~~~~~~ Loading .././data/processed\\DATA_011_Trial3_D.pkl\n",
            "INFO:root:~~~~~~~~~~~~~~ Done. \n",
            "\n",
            "INFO:root:~~~~~~~~~~~~~~ Loading .././data/processed\\DATA_012_Trial1_D.pkl\n",
            "INFO:root:~~~~~~~~~~~~~~ Done. \n",
            "\n",
            "INFO:root:~~~~~~~~~~~~~~ Loading .././data/processed\\DATA_012_Trial1_G.pkl\n",
            "INFO:root:~~~~~~~~~~~~~~ Done. \n",
            "\n",
            "INFO:root:~~~~~~~~~~~~~~ Loading .././data/processed\\DATA_012_Trial2_D.pkl\n",
            "INFO:root:~~~~~~~~~~~~~~ Done. \n",
            "\n",
            "INFO:root:~~~~~~~~~~~~~~ Loading .././data/processed\\DATA_012_Trial2_G.pkl\n",
            "INFO:root:~~~~~~~~~~~~~~ Done. \n",
            "\n",
            "INFO:root:~~~~~~~~~~~~~~ Loading .././data/processed\\DATA_013_Trial1_D.pkl\n",
            "INFO:root:~~~~~~~~~~~~~~ Done. \n",
            "\n",
            "INFO:root:~~~~~~~~~~~~~~ Loading .././data/processed\\DATA_013_Trial1_G.pkl\n",
            "INFO:root:~~~~~~~~~~~~~~ Done. \n",
            "\n",
            "INFO:root:~~~~~~~~~~~~~~ Loading .././data/processed\\DATA_013_Trial2_D.pkl\n",
            "INFO:root:~~~~~~~~~~~~~~ Done. \n",
            "\n",
            "INFO:root:~~~~~~~~~~~~~~ Loading .././data/processed\\DATA_013_Trial2_G.pkl\n",
            "INFO:root:~~~~~~~~~~~~~~ Done. \n",
            "\n",
            "INFO:root:~~~~~~~~~~~~~~ Loading .././data/processed\\DATA_014_Trial1_D.pkl\n",
            "INFO:root:~~~~~~~~~~~~~~ Done. \n",
            "\n",
            "INFO:root:~~~~~~~~~~~~~~ Loading .././data/processed\\DATA_014_Trial1_G.pkl\n",
            "INFO:root:~~~~~~~~~~~~~~ Done. \n",
            "\n",
            "INFO:root:~~~~~~~~~~~~~~ Loading .././data/processed\\DATA_014_Trial2_D.pkl\n",
            "INFO:root:~~~~~~~~~~~~~~ Done. \n",
            "\n",
            "INFO:root:~~~~~~~~~~~~~~ Loading .././data/processed\\DATA_014_Trial2_G.pkl\n",
            "INFO:root:~~~~~~~~~~~~~~ Done. \n",
            "\n",
            "INFO:root:~~~~~~~~~~~~~~ Loading .././data/processed\\DATA_015_Trial1_D.pkl\n",
            "INFO:root:~~~~~~~~~~~~~~ Done. \n",
            "\n",
            "INFO:root:~~~~~~~~~~~~~~ Loading .././data/processed\\DATA_015_Trial1_G.pkl\n",
            "INFO:root:~~~~~~~~~~~~~~ Done. \n",
            "\n",
            "INFO:root:~~~~~~~~~~~~~~ Loading .././data/processed\\DATA_015_Trial2_D.pkl\n",
            "INFO:root:~~~~~~~~~~~~~~ Done. \n",
            "\n",
            "INFO:root:~~~~~~~~~~~~~~ Loading .././data/processed\\DATA_015_Trial2_G.pkl\n",
            "INFO:root:~~~~~~~~~~~~~~ Done. \n",
            "\n",
            "INFO:root:~~~~~~~~~~~~~~ Loading .././data/processed\\DATA_016_Trial1_D.pkl\n",
            "INFO:root:~~~~~~~~~~~~~~ Done. \n",
            "\n",
            "INFO:root:~~~~~~~~~~~~~~ Loading .././data/processed\\DATA_016_Trial1_G.pkl\n",
            "INFO:root:~~~~~~~~~~~~~~ Done. \n",
            "\n",
            "INFO:root:~~~~~~~~~~~~~~ Loading .././data/processed\\DATA_016_Trial2_D.pkl\n",
            "INFO:root:~~~~~~~~~~~~~~ Done. \n",
            "\n",
            "INFO:root:~~~~~~~~~~~~~~ Loading .././data/processed\\DATA_016_Trial2_G.pkl\n",
            "INFO:root:~~~~~~~~~~~~~~ Done. \n",
            "\n",
            "INFO:root:~~~~~~~~~~~~~~ Loading .././data/processed\\DATA_017_Trial1_D.pkl\n",
            "INFO:root:~~~~~~~~~~~~~~ Done. \n",
            "\n",
            "INFO:root:~~~~~~~~~~~~~~ Loading .././data/processed\\DATA_017_Trial1_G.pkl\n",
            "INFO:root:~~~~~~~~~~~~~~ Done. \n",
            "\n",
            "INFO:root:~~~~~~~~~~~~~~ Loading .././data/processed\\DATA_017_Trial2_D.pkl\n",
            "INFO:root:~~~~~~~~~~~~~~ Done. \n",
            "\n",
            "INFO:root:~~~~~~~~~~~~~~ Loading .././data/processed\\DATA_017_Trial2_G.pkl\n",
            "INFO:root:~~~~~~~~~~~~~~ Done. \n",
            "\n",
            "INFO:root:~~~~~~~~~~~~~~ Loading .././data/processed\\DATA_017_Trial3_D.pkl\n",
            "INFO:root:~~~~~~~~~~~~~~ Done. \n",
            "\n",
            "INFO:root:~~~~~~~~~~~~~~ Loading .././data/processed\\DATA_017_Trial3_G.pkl\n",
            "INFO:root:~~~~~~~~~~~~~~ Done. \n",
            "\n",
            "INFO:root:~~~~~~~~~~~~~~ Loading .././data/processed\\DATA_018_Trial1_D.pkl\n",
            "INFO:root:~~~~~~~~~~~~~~ Done. \n",
            "\n",
            "INFO:root:~~~~~~~~~~~~~~ Loading .././data/processed\\DATA_018_Trial1_G.pkl\n",
            "INFO:root:~~~~~~~~~~~~~~ Done. \n",
            "\n",
            "INFO:root:~~~~~~~~~~~~~~ Loading .././data/processed\\DATA_018_Trial2_D.pkl\n",
            "INFO:root:~~~~~~~~~~~~~~ Done. \n",
            "\n"
          ]
        }
      ],
      "source": [
        "# Loading the data\n",
        "data_labels_all, meta_data_all = load_processed_data(path_folder=PATH_PROCESSED_DATA_FOLDER, verbose=True)"
      ]
    },
    {
      "cell_type": "code",
      "execution_count": 43,
      "metadata": {
        "id": "SN7mDqk1Pmbs"
      },
      "outputs": [
        {
          "name": "stdout",
          "output_type": "stream",
          "text": [
            "number_of_windows = 10035\n",
            "size_of_window = (3, 512)\n",
            "proportion_of_1 = 0.40398604882909817\n"
          ]
        }
      ],
      "source": [
        "# Some inside\n",
        "number_of_windows = data_labels_all[1].size\n",
        "size_of_window = data_labels_all[0][0].shape\n",
        "proportion_of_1 = data_labels_all[1].sum()/data_labels_all[1].size\n",
        "\n",
        "print(f\"number_of_windows = {number_of_windows}\")\n",
        "print(f\"size_of_window = {size_of_window}\")\n",
        "print(f\"proportion_of_1 = {proportion_of_1}\")\n"
      ]
    },
    {
      "cell_type": "code",
      "execution_count": 44,
      "metadata": {
        "id": "5S1lv2kMPaDc"
      },
      "outputs": [
        {
          "data": {
            "text/html": [
              "<style>#sk-container-id-4 {color: black;}#sk-container-id-4 pre{padding: 0;}#sk-container-id-4 div.sk-toggleable {background-color: white;}#sk-container-id-4 label.sk-toggleable__label {cursor: pointer;display: block;width: 100%;margin-bottom: 0;padding: 0.3em;box-sizing: border-box;text-align: center;}#sk-container-id-4 label.sk-toggleable__label-arrow:before {content: \"▸\";float: left;margin-right: 0.25em;color: #696969;}#sk-container-id-4 label.sk-toggleable__label-arrow:hover:before {color: black;}#sk-container-id-4 div.sk-estimator:hover label.sk-toggleable__label-arrow:before {color: black;}#sk-container-id-4 div.sk-toggleable__content {max-height: 0;max-width: 0;overflow: hidden;text-align: left;background-color: #f0f8ff;}#sk-container-id-4 div.sk-toggleable__content pre {margin: 0.2em;color: black;border-radius: 0.25em;background-color: #f0f8ff;}#sk-container-id-4 input.sk-toggleable__control:checked~div.sk-toggleable__content {max-height: 200px;max-width: 100%;overflow: auto;}#sk-container-id-4 input.sk-toggleable__control:checked~label.sk-toggleable__label-arrow:before {content: \"▾\";}#sk-container-id-4 div.sk-estimator input.sk-toggleable__control:checked~label.sk-toggleable__label {background-color: #d4ebff;}#sk-container-id-4 div.sk-label input.sk-toggleable__control:checked~label.sk-toggleable__label {background-color: #d4ebff;}#sk-container-id-4 input.sk-hidden--visually {border: 0;clip: rect(1px 1px 1px 1px);clip: rect(1px, 1px, 1px, 1px);height: 1px;margin: -1px;overflow: hidden;padding: 0;position: absolute;width: 1px;}#sk-container-id-4 div.sk-estimator {font-family: monospace;background-color: #f0f8ff;border: 1px dotted black;border-radius: 0.25em;box-sizing: border-box;margin-bottom: 0.5em;}#sk-container-id-4 div.sk-estimator:hover {background-color: #d4ebff;}#sk-container-id-4 div.sk-parallel-item::after {content: \"\";width: 100%;border-bottom: 1px solid gray;flex-grow: 1;}#sk-container-id-4 div.sk-label:hover label.sk-toggleable__label {background-color: #d4ebff;}#sk-container-id-4 div.sk-serial::before {content: \"\";position: absolute;border-left: 1px solid gray;box-sizing: border-box;top: 0;bottom: 0;left: 50%;z-index: 0;}#sk-container-id-4 div.sk-serial {display: flex;flex-direction: column;align-items: center;background-color: white;padding-right: 0.2em;padding-left: 0.2em;position: relative;}#sk-container-id-4 div.sk-item {position: relative;z-index: 1;}#sk-container-id-4 div.sk-parallel {display: flex;align-items: stretch;justify-content: center;background-color: white;position: relative;}#sk-container-id-4 div.sk-item::before, #sk-container-id-4 div.sk-parallel-item::before {content: \"\";position: absolute;border-left: 1px solid gray;box-sizing: border-box;top: 0;bottom: 0;left: 50%;z-index: -1;}#sk-container-id-4 div.sk-parallel-item {display: flex;flex-direction: column;z-index: 1;position: relative;background-color: white;}#sk-container-id-4 div.sk-parallel-item:first-child::after {align-self: flex-end;width: 50%;}#sk-container-id-4 div.sk-parallel-item:last-child::after {align-self: flex-start;width: 50%;}#sk-container-id-4 div.sk-parallel-item:only-child::after {width: 0;}#sk-container-id-4 div.sk-dashed-wrapped {border: 1px dashed gray;margin: 0 0.4em 0.5em 0.4em;box-sizing: border-box;padding-bottom: 0.4em;background-color: white;}#sk-container-id-4 div.sk-label label {font-family: monospace;font-weight: bold;display: inline-block;line-height: 1.2em;}#sk-container-id-4 div.sk-label-container {text-align: center;}#sk-container-id-4 div.sk-container {/* jupyter's `normalize.less` sets `[hidden] { display: none; }` but bootstrap.min.css set `[hidden] { display: none !important; }` so we also need the `!important` here to be able to override the default hidden behavior on the sphinx rendered scikit-learn.org. See: https://github.com/scikit-learn/scikit-learn/issues/21755 */display: inline-block !important;position: relative;}#sk-container-id-4 div.sk-text-repr-fallback {display: none;}</style><div id=\"sk-container-id-4\" class=\"sk-top-container\"><div class=\"sk-text-repr-fallback\"><pre>SVC()</pre><b>In a Jupyter environment, please rerun this cell to show the HTML representation or trust the notebook. <br />On GitHub, the HTML representation is unable to render, please try loading this page with nbviewer.org.</b></div><div class=\"sk-container\" hidden><div class=\"sk-item\"><div class=\"sk-estimator sk-toggleable\"><input class=\"sk-toggleable__control sk-hidden--visually\" id=\"sk-estimator-id-4\" type=\"checkbox\" checked><label for=\"sk-estimator-id-4\" class=\"sk-toggleable__label sk-toggleable__label-arrow\">SVC</label><div class=\"sk-toggleable__content\"><pre>SVC()</pre></div></div></div></div></div>"
            ],
            "text/plain": [
              "SVC()"
            ]
          },
          "execution_count": 44,
          "metadata": {},
          "output_type": "execute_result"
        }
      ],
      "source": [
        "# Training model\n",
        "data_labels_all[0] = data_labels_all[0].reshape(data_labels_all[0].shape[0], -1)\n",
        "\n",
        "X_train, X_test, y_train, y_test = train_test_split(data_labels_all[0], data_labels_all[1], test_size=0.2, random_state=42)\n",
        "\n",
        "model = SVM()\n",
        "pipeline = make_pipeline(StandardScaler(), model)\n",
        "model.fit(X_train, y_train)\n"
      ]
    },
    {
      "cell_type": "code",
      "execution_count": 38,
      "metadata": {
        "id": "jzz8DXuzQq5m"
      },
      "outputs": [
        {
          "name": "stdout",
          "output_type": "stream",
          "text": [
            "score = 0.7584059775840598\n"
          ]
        }
      ],
      "source": [
        "# Displaying score\n",
        "score = model.score(X_test, y_test)\n",
        "print(f'score = {score}')"
      ]
    },
    {
      "cell_type": "code",
      "execution_count": 12,
      "metadata": {},
      "outputs": [],
      "source": [
        "def hyparam_search( EPOCH_START_TIME_LIST = [-3],\n",
        "                    EPOCH_END_TIME_LIST = [3],\n",
        "                    WINDOW_SIZE_LIST = [0.25, 0.5, 1, 1.5, 2, 3],\n",
        "                    STEP_SIZE_LIST = [1],\n",
        "                    START_TIME_LABEL_LIST = [-3, -2.5, -2, -1.5, -1, -0.5],\n",
        "\n",
        "                    FILE_NUMBER = 5\n",
        "                    ):\n",
        "    \n",
        "    PATH_DATA_FOLDER = '.././data'\n",
        "    PATH_ROW_DATA_FOLDER = f'{PATH_DATA_FOLDER}/raw/Data_npy'\n",
        "    PATH_PROCESSED_DATA_FOLDER = f'{PATH_DATA_FOLDER}/processed'\n",
        "\n",
        "    END_TIME_LABEL = 0\n",
        "    ELECTRODS = ['C3', 'Cz', 'C4']\n",
        "    LOW_FREQ = 8\n",
        "    HIGH_FREQ = 30\n",
        "\n",
        "    FILE_NUMBER = 5\n",
        "\n",
        "    # Hyperparameters\n",
        "\n",
        "\n",
        "    scores = []\n",
        "\n",
        "    all_combinations = list(itertools.product(EPOCH_START_TIME_LIST, \n",
        "                                              EPOCH_END_TIME_LIST, \n",
        "                                              WINDOW_SIZE_LIST, \n",
        "                                              STEP_SIZE_LIST, \n",
        "                                              START_TIME_LABEL_LIST))\n",
        "\n",
        "    for i, combination in enumerate(all_combinations):\n",
        "\n",
        "        print(f'Combination {i+1}/{len(all_combinations)}')\n",
        "\n",
        "        EPOCH_START_TIME = combination[0]\n",
        "        EPOCH_END_TIME = combination[1]\n",
        "        WINDOW_SIZE = combination[2]\n",
        "        STEP_SIZE = WINDOW_SIZE/2\n",
        "        START_TIME_LABEL = combination[4]\n",
        "        print(f'EPOCH_START_TIME = {EPOCH_START_TIME}\\n \\\n",
        "               EPOCH_END_TIME = {EPOCH_END_TIME}\\n \\\n",
        "               WINDOW_SIZE = {WINDOW_SIZE}\\n \\\n",
        "               STEP_SIZE = {STEP_SIZE}\\n \\\n",
        "               START_TIME_LABEL = {START_TIME_LABEL}\\n')\n",
        "\n",
        "        # Removing old processed data\n",
        "        for filename in os.listdir(PATH_PROCESSED_DATA_FOLDER):\n",
        "            if filename.startswith(\"DATA\"):\n",
        "                file_path = os.path.join(PATH_PROCESSED_DATA_FOLDER, filename)\n",
        "                os.remove(file_path)\n",
        "\n",
        "        # Preprocessing the data\n",
        "        data_labels_all, meta_data_all = process_train_data_all(path_folder = PATH_ROW_DATA_FOLDER, save_path=PATH_PROCESSED_DATA_FOLDER, max_files=FILE_NUMBER, verbose=False,\n",
        "                                                                window_size=WINDOW_SIZE,\n",
        "                                                                step_size=STEP_SIZE,\n",
        "                                                                epoch_start_time=EPOCH_START_TIME,\n",
        "                                                                epoch_end_time=EPOCH_END_TIME,\n",
        "                                                                start_time_label=START_TIME_LABEL,\n",
        "                                                                end_time_label=END_TIME_LABEL,\n",
        "                                                                eeg_order=ELECTRODS,\n",
        "                                                                low_freq=LOW_FREQ,\n",
        "                                                                high_freq=HIGH_FREQ)\n",
        "        \n",
        "        # Loading the data\n",
        "        data_labels_all, meta_data_all = load_processed_data(path_folder=PATH_PROCESSED_DATA_FOLDER, verbose=False)\n",
        "\n",
        "        # Some inside\n",
        "        number_of_windows = data_labels_all[1].size\n",
        "        size_of_window = data_labels_all[0][0].shape\n",
        "        proportion_of_1 = data_labels_all[1].sum()/data_labels_all[1].size\n",
        "\n",
        "        print(f\"number_of_windows = {number_of_windows}\")\n",
        "        print(f\"size_of_window = {size_of_window}\")\n",
        "        print(f\"proportion_of_1 = {proportion_of_1}\")\n",
        "        \n",
        "        # Training model\n",
        "        data_labels_all[0] = data_labels_all[0].reshape(data_labels_all[0].shape[0], -1)\n",
        "\n",
        "        X_train, X_test, y_train, y_test = train_test_split(data_labels_all[0], data_labels_all[1], test_size=0.2, random_state=42)\n",
        "\n",
        "        model = SVM()\n",
        "        pipeline = make_pipeline(StandardScaler(), model)\n",
        "        model.fit(X_train, y_train)\n",
        "\n",
        "        # Displaying score\n",
        "        score = model.score(X_test, y_test)\n",
        "        y_pred = model.predict(X_test)\n",
        "        f1 = f1_score(y_test, y_pred)\n",
        "        balanced_accuracy = balanced_accuracy_score(y_test, y_pred)\n",
        "        print(f'accuracy = {score}')\n",
        "        print(f'f1 = {f1}')\n",
        "        print(f'balanced_accuracy = {balanced_accuracy}\\n\\n')\n",
        "\n",
        "        result = {'combination': {'EPOCH_START_TIME' : EPOCH_START_TIME,\n",
        "                                    'EPOCH_END_TIME' : EPOCH_END_TIME,\n",
        "                                    'WINDOW_SIZE' : WINDOW_SIZE,\n",
        "                                    'STEP_SIZE' : STEP_SIZE,\n",
        "                                    'START_TIME_LABEL' : START_TIME_LABEL},\n",
        "                                    'proportion_of_1': proportion_of_1,\n",
        "                                  'score': score, 'f1': f1, 'balanced_accuracy': balanced_accuracy}\n",
        "        scores.append(result)\n",
        "\n",
        "    return scores\n"
      ]
    },
    {
      "cell_type": "code",
      "execution_count": 3,
      "metadata": {},
      "outputs": [
        {
          "name": "stdout",
          "output_type": "stream",
          "text": [
            "Combination 1/36\n",
            "EPOCH_START_TIME = -3\n",
            "                EPOCH_END_TIME = 3\n",
            "                WINDOW_SIZE = 0.25\n",
            "                STEP_SIZE = 0.125\n",
            "                START_TIME_LABEL = -3\n",
            "\n"
          ]
        },
        {
          "name": "stderr",
          "output_type": "stream",
          "text": [
            "WARNING:root:~~~~~~~~~~~~~~ No data for .././data/raw/Data_npy\\DATA_002_Trial3.npy and side G.\n"
          ]
        },
        {
          "name": "stdout",
          "output_type": "stream",
          "text": [
            "number_of_windows = 3760\n",
            "size_of_window = (3, 256)\n",
            "proportion_of_1 = 0.9122340425531915\n",
            "accuracy = 0.9188829787234043\n",
            "f1 = 0.9577269577269577\n",
            "balanced_accuracy = 0.5\n",
            "\n",
            "\n",
            "Combination 2/36\n",
            "EPOCH_START_TIME = -3\n",
            "                EPOCH_END_TIME = 3\n",
            "                WINDOW_SIZE = 0.25\n",
            "                STEP_SIZE = 0.125\n",
            "                START_TIME_LABEL = -2.5\n",
            "\n"
          ]
        },
        {
          "name": "stderr",
          "output_type": "stream",
          "text": [
            "WARNING:root:~~~~~~~~~~~~~~ No data for .././data/raw/Data_npy\\DATA_002_Trial3.npy and side G.\n"
          ]
        },
        {
          "name": "stdout",
          "output_type": "stream",
          "text": [
            "number_of_windows = 3760\n",
            "size_of_window = (3, 256)\n",
            "proportion_of_1 = 0.8180851063829787\n",
            "accuracy = 0.8324468085106383\n",
            "f1 = 0.9085631349782293\n",
            "balanced_accuracy = 0.5\n",
            "\n",
            "\n",
            "Combination 3/36\n",
            "EPOCH_START_TIME = -3\n",
            "                EPOCH_END_TIME = 3\n",
            "                WINDOW_SIZE = 0.25\n",
            "                STEP_SIZE = 0.125\n",
            "                START_TIME_LABEL = -2\n",
            "\n"
          ]
        },
        {
          "name": "stderr",
          "output_type": "stream",
          "text": [
            "WARNING:root:~~~~~~~~~~~~~~ No data for .././data/raw/Data_npy\\DATA_002_Trial3.npy and side G.\n"
          ]
        },
        {
          "name": "stdout",
          "output_type": "stream",
          "text": [
            "number_of_windows = 3760\n",
            "size_of_window = (3, 256)\n",
            "proportion_of_1 = 0.6632978723404256\n",
            "accuracy = 0.6954787234042553\n",
            "f1 = 0.8198269079464988\n",
            "balanced_accuracy = 0.5005957625340886\n",
            "\n",
            "\n",
            "Combination 4/36\n",
            "EPOCH_START_TIME = -3\n",
            "                EPOCH_END_TIME = 3\n",
            "                WINDOW_SIZE = 0.25\n",
            "                STEP_SIZE = 0.125\n",
            "                START_TIME_LABEL = -1.5\n",
            "\n"
          ]
        },
        {
          "name": "stderr",
          "output_type": "stream",
          "text": [
            "WARNING:root:~~~~~~~~~~~~~~ No data for .././data/raw/Data_npy\\DATA_002_Trial3.npy and side G.\n"
          ]
        },
        {
          "name": "stdout",
          "output_type": "stream",
          "text": [
            "number_of_windows = 3760\n",
            "size_of_window = (3, 256)\n",
            "proportion_of_1 = 0.5037234042553191\n",
            "accuracy = 0.5093085106382979\n",
            "f1 = 0.5151116951379764\n",
            "balanced_accuracy = 0.5103554495642052\n",
            "\n",
            "\n",
            "Combination 5/36\n",
            "EPOCH_START_TIME = -3\n",
            "                EPOCH_END_TIME = 3\n",
            "                WINDOW_SIZE = 0.25\n",
            "                STEP_SIZE = 0.125\n",
            "                START_TIME_LABEL = -1\n",
            "\n"
          ]
        },
        {
          "name": "stderr",
          "output_type": "stream",
          "text": [
            "WARNING:root:~~~~~~~~~~~~~~ No data for .././data/raw/Data_npy\\DATA_002_Trial3.npy and side G.\n"
          ]
        },
        {
          "name": "stdout",
          "output_type": "stream",
          "text": [
            "number_of_windows = 3760\n",
            "size_of_window = (3, 256)\n",
            "proportion_of_1 = 0.34654255319148936\n",
            "accuracy = 0.648936170212766\n",
            "f1 = 0.043478260869565216\n",
            "balanced_accuracy = 0.5081431715510252\n",
            "\n",
            "\n",
            "Combination 6/36\n",
            "EPOCH_START_TIME = -3\n",
            "                EPOCH_END_TIME = 3\n",
            "                WINDOW_SIZE = 0.25\n",
            "                STEP_SIZE = 0.125\n",
            "                START_TIME_LABEL = -0.5\n",
            "\n"
          ]
        },
        {
          "name": "stderr",
          "output_type": "stream",
          "text": [
            "WARNING:root:~~~~~~~~~~~~~~ No data for .././data/raw/Data_npy\\DATA_002_Trial3.npy and side G.\n"
          ]
        },
        {
          "name": "stdout",
          "output_type": "stream",
          "text": [
            "number_of_windows = 3760\n",
            "size_of_window = (3, 256)\n",
            "proportion_of_1 = 0.1970744680851064\n",
            "accuracy = 0.8111702127659575\n",
            "f1 = 0.0\n",
            "balanced_accuracy = 0.5\n",
            "\n",
            "\n",
            "Combination 7/36\n",
            "EPOCH_START_TIME = -3\n",
            "                EPOCH_END_TIME = 3\n",
            "                WINDOW_SIZE = 0.5\n",
            "                STEP_SIZE = 0.25\n",
            "                START_TIME_LABEL = -3\n",
            "\n"
          ]
        },
        {
          "name": "stderr",
          "output_type": "stream",
          "text": [
            "WARNING:root:~~~~~~~~~~~~~~ No data for .././data/raw/Data_npy\\DATA_002_Trial3.npy and side G.\n"
          ]
        },
        {
          "name": "stdout",
          "output_type": "stream",
          "text": [
            "number_of_windows = 1840\n",
            "size_of_window = (3, 512)\n",
            "proportion_of_1 = 0.9222826086956522\n",
            "accuracy = 0.907608695652174\n",
            "f1 = 0.9515669515669516\n",
            "balanced_accuracy = 0.5\n",
            "\n",
            "\n",
            "Combination 8/36\n",
            "EPOCH_START_TIME = -3\n",
            "                EPOCH_END_TIME = 3\n",
            "                WINDOW_SIZE = 0.5\n",
            "                STEP_SIZE = 0.25\n",
            "                START_TIME_LABEL = -2.5\n",
            "\n"
          ]
        },
        {
          "name": "stderr",
          "output_type": "stream",
          "text": [
            "WARNING:root:~~~~~~~~~~~~~~ No data for .././data/raw/Data_npy\\DATA_002_Trial3.npy and side G.\n"
          ]
        },
        {
          "name": "stdout",
          "output_type": "stream",
          "text": [
            "number_of_windows = 1840\n",
            "size_of_window = (3, 512)\n",
            "proportion_of_1 = 0.866304347826087\n",
            "accuracy = 0.8505434782608695\n",
            "f1 = 0.9192364170337738\n",
            "balanced_accuracy = 0.5\n",
            "\n",
            "\n",
            "Combination 9/36\n",
            "EPOCH_START_TIME = -3\n",
            "                EPOCH_END_TIME = 3\n",
            "                WINDOW_SIZE = 0.5\n",
            "                STEP_SIZE = 0.25\n",
            "                START_TIME_LABEL = -2\n",
            "\n"
          ]
        },
        {
          "name": "stderr",
          "output_type": "stream",
          "text": [
            "WARNING:root:~~~~~~~~~~~~~~ No data for .././data/raw/Data_npy\\DATA_002_Trial3.npy and side G.\n"
          ]
        },
        {
          "name": "stdout",
          "output_type": "stream",
          "text": [
            "number_of_windows = 1840\n",
            "size_of_window = (3, 512)\n",
            "proportion_of_1 = 0.7206521739130435\n",
            "accuracy = 0.7527173913043478\n",
            "f1 = 0.8589147286821706\n",
            "balanced_accuracy = 0.5\n",
            "\n",
            "\n",
            "Combination 10/36\n",
            "EPOCH_START_TIME = -3\n",
            "                EPOCH_END_TIME = 3\n",
            "                WINDOW_SIZE = 0.5\n",
            "                STEP_SIZE = 0.25\n",
            "                START_TIME_LABEL = -1.5\n",
            "\n"
          ]
        },
        {
          "name": "stderr",
          "output_type": "stream",
          "text": [
            "WARNING:root:~~~~~~~~~~~~~~ No data for .././data/raw/Data_npy\\DATA_002_Trial3.npy and side G.\n"
          ]
        },
        {
          "name": "stdout",
          "output_type": "stream",
          "text": [
            "number_of_windows = 1840\n",
            "size_of_window = (3, 512)\n",
            "proportion_of_1 = 0.5576086956521739\n",
            "accuracy = 0.5516304347826086\n",
            "f1 = 0.6680080482897384\n",
            "balanced_accuracy = 0.5100991775520077\n",
            "\n",
            "\n",
            "Combination 11/36\n",
            "EPOCH_START_TIME = -3\n",
            "                EPOCH_END_TIME = 3\n",
            "                WINDOW_SIZE = 0.5\n",
            "                STEP_SIZE = 0.25\n",
            "                START_TIME_LABEL = -1\n",
            "\n"
          ]
        },
        {
          "name": "stderr",
          "output_type": "stream",
          "text": [
            "WARNING:root:~~~~~~~~~~~~~~ No data for .././data/raw/Data_npy\\DATA_002_Trial3.npy and side G.\n"
          ]
        },
        {
          "name": "stdout",
          "output_type": "stream",
          "text": [
            "number_of_windows = 1840\n",
            "size_of_window = (3, 512)\n",
            "proportion_of_1 = 0.39619565217391306\n",
            "accuracy = 0.5706521739130435\n",
            "f1 = 0.03658536585365854\n",
            "balanced_accuracy = 0.5093167701863354\n",
            "\n",
            "\n",
            "Combination 12/36\n",
            "EPOCH_START_TIME = -3\n",
            "                EPOCH_END_TIME = 3\n",
            "                WINDOW_SIZE = 0.5\n",
            "                STEP_SIZE = 0.25\n",
            "                START_TIME_LABEL = -0.5\n",
            "\n"
          ]
        },
        {
          "name": "stderr",
          "output_type": "stream",
          "text": [
            "WARNING:root:~~~~~~~~~~~~~~ No data for .././data/raw/Data_npy\\DATA_002_Trial3.npy and side G.\n"
          ]
        },
        {
          "name": "stdout",
          "output_type": "stream",
          "text": [
            "number_of_windows = 1840\n",
            "size_of_window = (3, 512)\n",
            "proportion_of_1 = 0.24239130434782608\n",
            "accuracy = 0.7391304347826086\n",
            "f1 = 0.0\n",
            "balanced_accuracy = 0.5\n",
            "\n",
            "\n",
            "Combination 13/36\n",
            "EPOCH_START_TIME = -3\n",
            "                EPOCH_END_TIME = 3\n",
            "                WINDOW_SIZE = 1\n",
            "                STEP_SIZE = 0.5\n",
            "                START_TIME_LABEL = -3\n",
            "\n"
          ]
        },
        {
          "name": "stderr",
          "output_type": "stream",
          "text": [
            "WARNING:root:~~~~~~~~~~~~~~ No data for .././data/raw/Data_npy\\DATA_002_Trial3.npy and side G.\n"
          ]
        },
        {
          "name": "stdout",
          "output_type": "stream",
          "text": [
            "number_of_windows = 880\n",
            "size_of_window = (3, 1024)\n",
            "proportion_of_1 = 0.9340909090909091\n",
            "accuracy = 0.9204545454545454\n",
            "f1 = 0.9585798816568047\n",
            "balanced_accuracy = 0.5\n",
            "\n",
            "\n",
            "Combination 14/36\n",
            "EPOCH_START_TIME = -3\n",
            "                EPOCH_END_TIME = 3\n",
            "                WINDOW_SIZE = 1\n",
            "                STEP_SIZE = 0.5\n",
            "                START_TIME_LABEL = -2.5\n",
            "\n"
          ]
        },
        {
          "name": "stderr",
          "output_type": "stream",
          "text": [
            "WARNING:root:~~~~~~~~~~~~~~ No data for .././data/raw/Data_npy\\DATA_002_Trial3.npy and side G.\n"
          ]
        },
        {
          "name": "stdout",
          "output_type": "stream",
          "text": [
            "number_of_windows = 880\n",
            "size_of_window = (3, 1024)\n",
            "proportion_of_1 = 0.9193181818181818\n",
            "accuracy = 0.9034090909090909\n",
            "f1 = 0.9492537313432836\n",
            "balanced_accuracy = 0.5\n",
            "\n",
            "\n",
            "Combination 15/36\n",
            "EPOCH_START_TIME = -3\n",
            "                EPOCH_END_TIME = 3\n",
            "                WINDOW_SIZE = 1\n",
            "                STEP_SIZE = 0.5\n",
            "                START_TIME_LABEL = -2\n",
            "\n"
          ]
        },
        {
          "name": "stderr",
          "output_type": "stream",
          "text": [
            "WARNING:root:~~~~~~~~~~~~~~ No data for .././data/raw/Data_npy\\DATA_002_Trial3.npy and side G.\n"
          ]
        },
        {
          "name": "stdout",
          "output_type": "stream",
          "text": [
            "number_of_windows = 880\n",
            "size_of_window = (3, 1024)\n",
            "proportion_of_1 = 0.8261363636363637\n",
            "accuracy = 0.7897727272727273\n",
            "f1 = 0.8825396825396825\n",
            "balanced_accuracy = 0.5\n",
            "\n",
            "\n",
            "Combination 16/36\n",
            "EPOCH_START_TIME = -3\n",
            "                EPOCH_END_TIME = 3\n",
            "                WINDOW_SIZE = 1\n",
            "                STEP_SIZE = 0.5\n",
            "                START_TIME_LABEL = -1.5\n",
            "\n"
          ]
        },
        {
          "name": "stderr",
          "output_type": "stream",
          "text": [
            "WARNING:root:~~~~~~~~~~~~~~ No data for .././data/raw/Data_npy\\DATA_002_Trial3.npy and side G.\n"
          ]
        },
        {
          "name": "stdout",
          "output_type": "stream",
          "text": [
            "number_of_windows = 880\n",
            "size_of_window = (3, 1024)\n",
            "proportion_of_1 = 0.6556818181818181\n",
            "accuracy = 0.6136363636363636\n",
            "f1 = 0.7605633802816901\n",
            "balanced_accuracy = 0.5\n",
            "\n",
            "\n",
            "Combination 17/36\n",
            "EPOCH_START_TIME = -3\n",
            "                EPOCH_END_TIME = 3\n",
            "                WINDOW_SIZE = 1\n",
            "                STEP_SIZE = 0.5\n",
            "                START_TIME_LABEL = -1\n",
            "\n"
          ]
        },
        {
          "name": "stderr",
          "output_type": "stream",
          "text": [
            "WARNING:root:~~~~~~~~~~~~~~ No data for .././data/raw/Data_npy\\DATA_002_Trial3.npy and side G.\n"
          ]
        },
        {
          "name": "stdout",
          "output_type": "stream",
          "text": [
            "number_of_windows = 880\n",
            "size_of_window = (3, 1024)\n",
            "proportion_of_1 = 0.4863636363636364\n",
            "accuracy = 0.4943181818181818\n",
            "f1 = 0.48554913294797686\n",
            "balanced_accuracy = 0.5043720190779014\n",
            "\n",
            "\n",
            "Combination 18/36\n",
            "EPOCH_START_TIME = -3\n",
            "                EPOCH_END_TIME = 3\n",
            "                WINDOW_SIZE = 1\n",
            "                STEP_SIZE = 0.5\n",
            "                START_TIME_LABEL = -0.5\n",
            "\n"
          ]
        },
        {
          "name": "stderr",
          "output_type": "stream",
          "text": [
            "WARNING:root:~~~~~~~~~~~~~~ No data for .././data/raw/Data_npy\\DATA_002_Trial3.npy and side G.\n"
          ]
        },
        {
          "name": "stdout",
          "output_type": "stream",
          "text": [
            "number_of_windows = 880\n",
            "size_of_window = (3, 1024)\n",
            "proportion_of_1 = 0.32386363636363635\n",
            "accuracy = 0.6988636363636364\n",
            "f1 = 0.0\n",
            "balanced_accuracy = 0.5\n",
            "\n",
            "\n",
            "Combination 19/36\n",
            "EPOCH_START_TIME = -3\n",
            "                EPOCH_END_TIME = 3\n",
            "                WINDOW_SIZE = 1.5\n",
            "                STEP_SIZE = 0.75\n",
            "                START_TIME_LABEL = -3\n",
            "\n"
          ]
        },
        {
          "name": "stderr",
          "output_type": "stream",
          "text": [
            "WARNING:root:~~~~~~~~~~~~~~ No data for .././data/raw/Data_npy\\DATA_002_Trial3.npy and side G.\n"
          ]
        },
        {
          "name": "stdout",
          "output_type": "stream",
          "text": [
            "number_of_windows = 560\n",
            "size_of_window = (3, 1536)\n",
            "proportion_of_1 = 0.9446428571428571\n",
            "accuracy = 0.9464285714285714\n",
            "f1 = 0.9724770642201834\n",
            "balanced_accuracy = 0.5\n",
            "\n",
            "\n",
            "Combination 20/36\n",
            "EPOCH_START_TIME = -3\n",
            "                EPOCH_END_TIME = 3\n",
            "                WINDOW_SIZE = 1.5\n",
            "                STEP_SIZE = 0.75\n",
            "                START_TIME_LABEL = -2.5\n",
            "\n"
          ]
        },
        {
          "name": "stderr",
          "output_type": "stream",
          "text": [
            "WARNING:root:~~~~~~~~~~~~~~ No data for .././data/raw/Data_npy\\DATA_002_Trial3.npy and side G.\n"
          ]
        },
        {
          "name": "stdout",
          "output_type": "stream",
          "text": [
            "number_of_windows = 560\n",
            "size_of_window = (3, 1536)\n",
            "proportion_of_1 = 0.9339285714285714\n",
            "accuracy = 0.9375\n",
            "f1 = 0.967741935483871\n",
            "balanced_accuracy = 0.5\n",
            "\n",
            "\n",
            "Combination 21/36\n",
            "EPOCH_START_TIME = -3\n",
            "                EPOCH_END_TIME = 3\n",
            "                WINDOW_SIZE = 1.5\n",
            "                STEP_SIZE = 0.75\n",
            "                START_TIME_LABEL = -2\n",
            "\n"
          ]
        },
        {
          "name": "stderr",
          "output_type": "stream",
          "text": [
            "WARNING:root:~~~~~~~~~~~~~~ No data for .././data/raw/Data_npy\\DATA_002_Trial3.npy and side G.\n"
          ]
        },
        {
          "name": "stdout",
          "output_type": "stream",
          "text": [
            "number_of_windows = 560\n",
            "size_of_window = (3, 1536)\n",
            "proportion_of_1 = 0.9196428571428571\n",
            "accuracy = 0.9285714285714286\n",
            "f1 = 0.962962962962963\n",
            "balanced_accuracy = 0.5\n",
            "\n",
            "\n",
            "Combination 22/36\n",
            "EPOCH_START_TIME = -3\n",
            "                EPOCH_END_TIME = 3\n",
            "                WINDOW_SIZE = 1.5\n",
            "                STEP_SIZE = 0.75\n",
            "                START_TIME_LABEL = -1.5\n",
            "\n"
          ]
        },
        {
          "name": "stderr",
          "output_type": "stream",
          "text": [
            "WARNING:root:~~~~~~~~~~~~~~ No data for .././data/raw/Data_npy\\DATA_002_Trial3.npy and side G.\n"
          ]
        },
        {
          "name": "stdout",
          "output_type": "stream",
          "text": [
            "number_of_windows = 560\n",
            "size_of_window = (3, 1536)\n",
            "proportion_of_1 = 0.7803571428571429\n",
            "accuracy = 0.7857142857142857\n",
            "f1 = 0.88\n",
            "balanced_accuracy = 0.5\n",
            "\n",
            "\n",
            "Combination 23/36\n",
            "EPOCH_START_TIME = -3\n",
            "                EPOCH_END_TIME = 3\n",
            "                WINDOW_SIZE = 1.5\n",
            "                STEP_SIZE = 0.75\n",
            "                START_TIME_LABEL = -1\n",
            "\n"
          ]
        },
        {
          "name": "stderr",
          "output_type": "stream",
          "text": [
            "WARNING:root:~~~~~~~~~~~~~~ No data for .././data/raw/Data_npy\\DATA_002_Trial3.npy and side G.\n"
          ]
        },
        {
          "name": "stdout",
          "output_type": "stream",
          "text": [
            "number_of_windows = 560\n",
            "size_of_window = (3, 1536)\n",
            "proportion_of_1 = 0.6892857142857143\n",
            "accuracy = 0.6964285714285714\n",
            "f1 = 0.8210526315789474\n",
            "balanced_accuracy = 0.5\n",
            "\n",
            "\n",
            "Combination 24/36\n",
            "EPOCH_START_TIME = -3\n",
            "                EPOCH_END_TIME = 3\n",
            "                WINDOW_SIZE = 1.5\n",
            "                STEP_SIZE = 0.75\n",
            "                START_TIME_LABEL = -0.5\n",
            "\n"
          ]
        },
        {
          "name": "stderr",
          "output_type": "stream",
          "text": [
            "WARNING:root:~~~~~~~~~~~~~~ No data for .././data/raw/Data_npy\\DATA_002_Trial3.npy and side G.\n"
          ]
        },
        {
          "name": "stdout",
          "output_type": "stream",
          "text": [
            "number_of_windows = 560\n",
            "size_of_window = (3, 1536)\n",
            "proportion_of_1 = 0.4767857142857143\n",
            "accuracy = 0.49107142857142855\n",
            "f1 = 0.3448275862068965\n",
            "balanced_accuracy = 0.5151076824172292\n",
            "\n",
            "\n",
            "Combination 25/36\n",
            "EPOCH_START_TIME = -3\n",
            "                EPOCH_END_TIME = 3\n",
            "                WINDOW_SIZE = 2\n",
            "                STEP_SIZE = 1.0\n",
            "                START_TIME_LABEL = -3\n",
            "\n"
          ]
        },
        {
          "name": "stderr",
          "output_type": "stream",
          "text": [
            "WARNING:root:~~~~~~~~~~~~~~ No data for .././data/raw/Data_npy\\DATA_002_Trial3.npy and side G.\n"
          ]
        },
        {
          "name": "stdout",
          "output_type": "stream",
          "text": [
            "number_of_windows = 400\n",
            "size_of_window = (3, 2048)\n",
            "proportion_of_1 = 0.95\n",
            "accuracy = 0.975\n",
            "f1 = 0.9873417721518987\n",
            "balanced_accuracy = 0.5\n",
            "\n",
            "\n",
            "Combination 26/36\n",
            "EPOCH_START_TIME = -3\n",
            "                EPOCH_END_TIME = 3\n",
            "                WINDOW_SIZE = 2\n",
            "                STEP_SIZE = 1.0\n",
            "                START_TIME_LABEL = -2.5\n",
            "\n"
          ]
        },
        {
          "name": "stderr",
          "output_type": "stream",
          "text": [
            "WARNING:root:~~~~~~~~~~~~~~ No data for .././data/raw/Data_npy\\DATA_002_Trial3.npy and side G.\n"
          ]
        },
        {
          "name": "stdout",
          "output_type": "stream",
          "text": [
            "number_of_windows = 400\n",
            "size_of_window = (3, 2048)\n",
            "proportion_of_1 = 0.9475\n",
            "accuracy = 0.9625\n",
            "f1 = 0.980891719745223\n",
            "balanced_accuracy = 0.5\n",
            "\n",
            "\n",
            "Combination 27/36\n",
            "EPOCH_START_TIME = -3\n",
            "                EPOCH_END_TIME = 3\n",
            "                WINDOW_SIZE = 2\n",
            "                STEP_SIZE = 1.0\n",
            "                START_TIME_LABEL = -2\n",
            "\n"
          ]
        },
        {
          "name": "stderr",
          "output_type": "stream",
          "text": [
            "WARNING:root:~~~~~~~~~~~~~~ No data for .././data/raw/Data_npy\\DATA_002_Trial3.npy and side G.\n"
          ]
        },
        {
          "name": "stdout",
          "output_type": "stream",
          "text": [
            "number_of_windows = 400\n",
            "size_of_window = (3, 2048)\n",
            "proportion_of_1 = 0.9325\n",
            "accuracy = 0.95\n",
            "f1 = 0.9743589743589743\n",
            "balanced_accuracy = 0.5\n",
            "\n",
            "\n",
            "Combination 28/36\n",
            "EPOCH_START_TIME = -3\n",
            "                EPOCH_END_TIME = 3\n",
            "                WINDOW_SIZE = 2\n",
            "                STEP_SIZE = 1.0\n",
            "                START_TIME_LABEL = -1.5\n",
            "\n"
          ]
        },
        {
          "name": "stderr",
          "output_type": "stream",
          "text": [
            "WARNING:root:~~~~~~~~~~~~~~ No data for .././data/raw/Data_npy\\DATA_002_Trial3.npy and side G.\n"
          ]
        },
        {
          "name": "stdout",
          "output_type": "stream",
          "text": [
            "number_of_windows = 400\n",
            "size_of_window = (3, 2048)\n",
            "proportion_of_1 = 0.915\n",
            "accuracy = 0.95\n",
            "f1 = 0.9743589743589743\n",
            "balanced_accuracy = 0.5\n",
            "\n",
            "\n",
            "Combination 29/36\n",
            "EPOCH_START_TIME = -3\n",
            "                EPOCH_END_TIME = 3\n",
            "                WINDOW_SIZE = 2\n",
            "                STEP_SIZE = 1.0\n",
            "                START_TIME_LABEL = -1\n",
            "\n"
          ]
        },
        {
          "name": "stderr",
          "output_type": "stream",
          "text": [
            "WARNING:root:~~~~~~~~~~~~~~ No data for .././data/raw/Data_npy\\DATA_002_Trial3.npy and side G.\n"
          ]
        },
        {
          "name": "stdout",
          "output_type": "stream",
          "text": [
            "number_of_windows = 400\n",
            "size_of_window = (3, 2048)\n",
            "proportion_of_1 = 0.7275\n",
            "accuracy = 0.7625\n",
            "f1 = 0.8652482269503545\n",
            "balanced_accuracy = 0.5\n",
            "\n",
            "\n",
            "Combination 30/36\n",
            "EPOCH_START_TIME = -3\n",
            "                EPOCH_END_TIME = 3\n",
            "                WINDOW_SIZE = 2\n",
            "                STEP_SIZE = 1.0\n",
            "                START_TIME_LABEL = -0.5\n",
            "\n"
          ]
        },
        {
          "name": "stderr",
          "output_type": "stream",
          "text": [
            "WARNING:root:~~~~~~~~~~~~~~ No data for .././data/raw/Data_npy\\DATA_002_Trial3.npy and side G.\n"
          ]
        },
        {
          "name": "stdout",
          "output_type": "stream",
          "text": [
            "number_of_windows = 400\n",
            "size_of_window = (3, 2048)\n",
            "proportion_of_1 = 0.6275\n",
            "accuracy = 0.625\n",
            "f1 = 0.7692307692307693\n",
            "balanced_accuracy = 0.49019607843137253\n",
            "\n",
            "\n",
            "Combination 31/36\n",
            "EPOCH_START_TIME = -3\n",
            "                EPOCH_END_TIME = 3\n",
            "                WINDOW_SIZE = 3\n",
            "                STEP_SIZE = 1.5\n",
            "                START_TIME_LABEL = -3\n",
            "\n"
          ]
        },
        {
          "name": "stderr",
          "output_type": "stream",
          "text": [
            "WARNING:root:~~~~~~~~~~~~~~ No data for .././data/raw/Data_npy\\DATA_002_Trial3.npy and side G.\n"
          ]
        },
        {
          "name": "stdout",
          "output_type": "stream",
          "text": [
            "number_of_windows = 240\n",
            "size_of_window = (3, 3072)\n",
            "proportion_of_1 = 0.9583333333333334\n",
            "accuracy = 0.9791666666666666\n",
            "f1 = 0.9894736842105264\n",
            "balanced_accuracy = 0.5\n",
            "\n",
            "\n",
            "Combination 32/36\n",
            "EPOCH_START_TIME = -3\n",
            "                EPOCH_END_TIME = 3\n",
            "                WINDOW_SIZE = 3\n",
            "                STEP_SIZE = 1.5\n",
            "                START_TIME_LABEL = -2.5\n",
            "\n"
          ]
        },
        {
          "name": "stderr",
          "output_type": "stream",
          "text": [
            "WARNING:root:~~~~~~~~~~~~~~ No data for .././data/raw/Data_npy\\DATA_002_Trial3.npy and side G.\n"
          ]
        },
        {
          "name": "stdout",
          "output_type": "stream",
          "text": [
            "number_of_windows = 240\n",
            "size_of_window = (3, 3072)\n",
            "proportion_of_1 = 0.9583333333333334\n",
            "accuracy = 0.9791666666666666\n",
            "f1 = 0.9894736842105264\n",
            "balanced_accuracy = 0.5\n",
            "\n",
            "\n",
            "Combination 33/36\n",
            "EPOCH_START_TIME = -3\n",
            "                EPOCH_END_TIME = 3\n",
            "                WINDOW_SIZE = 3\n",
            "                STEP_SIZE = 1.5\n",
            "                START_TIME_LABEL = -2\n",
            "\n"
          ]
        },
        {
          "name": "stderr",
          "output_type": "stream",
          "text": [
            "WARNING:root:~~~~~~~~~~~~~~ No data for .././data/raw/Data_npy\\DATA_002_Trial3.npy and side G.\n"
          ]
        },
        {
          "name": "stdout",
          "output_type": "stream",
          "text": [
            "number_of_windows = 240\n",
            "size_of_window = (3, 3072)\n",
            "proportion_of_1 = 0.9583333333333334\n",
            "accuracy = 0.9791666666666666\n",
            "f1 = 0.9894736842105264\n",
            "balanced_accuracy = 0.5\n",
            "\n",
            "\n",
            "Combination 34/36\n",
            "EPOCH_START_TIME = -3\n",
            "                EPOCH_END_TIME = 3\n",
            "                WINDOW_SIZE = 3\n",
            "                STEP_SIZE = 1.5\n",
            "                START_TIME_LABEL = -1.5\n",
            "\n"
          ]
        },
        {
          "name": "stderr",
          "output_type": "stream",
          "text": [
            "WARNING:root:~~~~~~~~~~~~~~ No data for .././data/raw/Data_npy\\DATA_002_Trial3.npy and side G.\n"
          ]
        },
        {
          "name": "stdout",
          "output_type": "stream",
          "text": [
            "number_of_windows = 240\n",
            "size_of_window = (3, 3072)\n",
            "proportion_of_1 = 0.9541666666666667\n",
            "accuracy = 0.9583333333333334\n",
            "f1 = 0.9787234042553191\n",
            "balanced_accuracy = 0.5\n",
            "\n",
            "\n",
            "Combination 35/36\n",
            "EPOCH_START_TIME = -3\n",
            "                EPOCH_END_TIME = 3\n",
            "                WINDOW_SIZE = 3\n",
            "                STEP_SIZE = 1.5\n",
            "                START_TIME_LABEL = -1\n",
            "\n"
          ]
        },
        {
          "name": "stderr",
          "output_type": "stream",
          "text": [
            "WARNING:root:~~~~~~~~~~~~~~ No data for .././data/raw/Data_npy\\DATA_002_Trial3.npy and side G.\n"
          ]
        },
        {
          "name": "stdout",
          "output_type": "stream",
          "text": [
            "number_of_windows = 240\n",
            "size_of_window = (3, 3072)\n",
            "proportion_of_1 = 0.9291666666666667\n",
            "accuracy = 0.9375\n",
            "f1 = 0.967741935483871\n",
            "balanced_accuracy = 0.5\n",
            "\n",
            "\n",
            "Combination 36/36\n",
            "EPOCH_START_TIME = -3\n",
            "                EPOCH_END_TIME = 3\n",
            "                WINDOW_SIZE = 3\n",
            "                STEP_SIZE = 1.5\n",
            "                START_TIME_LABEL = -0.5\n",
            "\n"
          ]
        },
        {
          "name": "stderr",
          "output_type": "stream",
          "text": [
            "WARNING:root:~~~~~~~~~~~~~~ No data for .././data/raw/Data_npy\\DATA_002_Trial3.npy and side G.\n"
          ]
        },
        {
          "name": "stdout",
          "output_type": "stream",
          "text": [
            "number_of_windows = 240\n",
            "size_of_window = (3, 3072)\n",
            "proportion_of_1 = 0.9041666666666667\n",
            "accuracy = 0.875\n",
            "f1 = 0.9333333333333333\n",
            "balanced_accuracy = 0.5\n",
            "\n",
            "\n"
          ]
        }
      ],
      "source": [
        "scores = hyparam_search()"
      ]
    },
    {
      "cell_type": "code",
      "execution_count": 8,
      "metadata": {},
      "outputs": [
        {
          "data": {
            "text/plain": [
              "[{'combination': {'EPOCH_START_TIME': -3,\n",
              "   'EPOCH_END_TIME': 3,\n",
              "   'WINDOW_SIZE': 1.5,\n",
              "   'STEP_SIZE': 0.75,\n",
              "   'START_TIME_LABEL': -0.5},\n",
              "  'proportion_of_1': 0.4767857142857143,\n",
              "  'score': 0.49107142857142855,\n",
              "  'f1': 0.3448275862068965,\n",
              "  'balanced_accuracy': 0.5151076824172292},\n",
              " {'combination': {'EPOCH_START_TIME': -3,\n",
              "   'EPOCH_END_TIME': 3,\n",
              "   'WINDOW_SIZE': 0.25,\n",
              "   'STEP_SIZE': 0.125,\n",
              "   'START_TIME_LABEL': -1.5},\n",
              "  'proportion_of_1': 0.5037234042553191,\n",
              "  'score': 0.5093085106382979,\n",
              "  'f1': 0.5151116951379764,\n",
              "  'balanced_accuracy': 0.5103554495642052},\n",
              " {'combination': {'EPOCH_START_TIME': -3,\n",
              "   'EPOCH_END_TIME': 3,\n",
              "   'WINDOW_SIZE': 0.5,\n",
              "   'STEP_SIZE': 0.25,\n",
              "   'START_TIME_LABEL': -1.5},\n",
              "  'proportion_of_1': 0.5576086956521739,\n",
              "  'score': 0.5516304347826086,\n",
              "  'f1': 0.6680080482897384,\n",
              "  'balanced_accuracy': 0.5100991775520077},\n",
              " {'combination': {'EPOCH_START_TIME': -3,\n",
              "   'EPOCH_END_TIME': 3,\n",
              "   'WINDOW_SIZE': 0.5,\n",
              "   'STEP_SIZE': 0.25,\n",
              "   'START_TIME_LABEL': -1},\n",
              "  'proportion_of_1': 0.39619565217391306,\n",
              "  'score': 0.5706521739130435,\n",
              "  'f1': 0.03658536585365854,\n",
              "  'balanced_accuracy': 0.5093167701863354},\n",
              " {'combination': {'EPOCH_START_TIME': -3,\n",
              "   'EPOCH_END_TIME': 3,\n",
              "   'WINDOW_SIZE': 0.25,\n",
              "   'STEP_SIZE': 0.125,\n",
              "   'START_TIME_LABEL': -1},\n",
              "  'proportion_of_1': 0.34654255319148936,\n",
              "  'score': 0.648936170212766,\n",
              "  'f1': 0.043478260869565216,\n",
              "  'balanced_accuracy': 0.5081431715510252},\n",
              " {'combination': {'EPOCH_START_TIME': -3,\n",
              "   'EPOCH_END_TIME': 3,\n",
              "   'WINDOW_SIZE': 1,\n",
              "   'STEP_SIZE': 0.5,\n",
              "   'START_TIME_LABEL': -1},\n",
              "  'proportion_of_1': 0.4863636363636364,\n",
              "  'score': 0.4943181818181818,\n",
              "  'f1': 0.48554913294797686,\n",
              "  'balanced_accuracy': 0.5043720190779014},\n",
              " {'combination': {'EPOCH_START_TIME': -3,\n",
              "   'EPOCH_END_TIME': 3,\n",
              "   'WINDOW_SIZE': 0.25,\n",
              "   'STEP_SIZE': 0.125,\n",
              "   'START_TIME_LABEL': -2},\n",
              "  'proportion_of_1': 0.6632978723404256,\n",
              "  'score': 0.6954787234042553,\n",
              "  'f1': 0.8198269079464988,\n",
              "  'balanced_accuracy': 0.5005957625340886},\n",
              " {'combination': {'EPOCH_START_TIME': -3,\n",
              "   'EPOCH_END_TIME': 3,\n",
              "   'WINDOW_SIZE': 0.25,\n",
              "   'STEP_SIZE': 0.125,\n",
              "   'START_TIME_LABEL': -3},\n",
              "  'proportion_of_1': 0.9122340425531915,\n",
              "  'score': 0.9188829787234043,\n",
              "  'f1': 0.9577269577269577,\n",
              "  'balanced_accuracy': 0.5},\n",
              " {'combination': {'EPOCH_START_TIME': -3,\n",
              "   'EPOCH_END_TIME': 3,\n",
              "   'WINDOW_SIZE': 0.25,\n",
              "   'STEP_SIZE': 0.125,\n",
              "   'START_TIME_LABEL': -2.5},\n",
              "  'proportion_of_1': 0.8180851063829787,\n",
              "  'score': 0.8324468085106383,\n",
              "  'f1': 0.9085631349782293,\n",
              "  'balanced_accuracy': 0.5},\n",
              " {'combination': {'EPOCH_START_TIME': -3,\n",
              "   'EPOCH_END_TIME': 3,\n",
              "   'WINDOW_SIZE': 0.25,\n",
              "   'STEP_SIZE': 0.125,\n",
              "   'START_TIME_LABEL': -0.5},\n",
              "  'proportion_of_1': 0.1970744680851064,\n",
              "  'score': 0.8111702127659575,\n",
              "  'f1': 0.0,\n",
              "  'balanced_accuracy': 0.5},\n",
              " {'combination': {'EPOCH_START_TIME': -3,\n",
              "   'EPOCH_END_TIME': 3,\n",
              "   'WINDOW_SIZE': 0.5,\n",
              "   'STEP_SIZE': 0.25,\n",
              "   'START_TIME_LABEL': -3},\n",
              "  'proportion_of_1': 0.9222826086956522,\n",
              "  'score': 0.907608695652174,\n",
              "  'f1': 0.9515669515669516,\n",
              "  'balanced_accuracy': 0.5},\n",
              " {'combination': {'EPOCH_START_TIME': -3,\n",
              "   'EPOCH_END_TIME': 3,\n",
              "   'WINDOW_SIZE': 0.5,\n",
              "   'STEP_SIZE': 0.25,\n",
              "   'START_TIME_LABEL': -2.5},\n",
              "  'proportion_of_1': 0.866304347826087,\n",
              "  'score': 0.8505434782608695,\n",
              "  'f1': 0.9192364170337738,\n",
              "  'balanced_accuracy': 0.5},\n",
              " {'combination': {'EPOCH_START_TIME': -3,\n",
              "   'EPOCH_END_TIME': 3,\n",
              "   'WINDOW_SIZE': 0.5,\n",
              "   'STEP_SIZE': 0.25,\n",
              "   'START_TIME_LABEL': -2},\n",
              "  'proportion_of_1': 0.7206521739130435,\n",
              "  'score': 0.7527173913043478,\n",
              "  'f1': 0.8589147286821706,\n",
              "  'balanced_accuracy': 0.5},\n",
              " {'combination': {'EPOCH_START_TIME': -3,\n",
              "   'EPOCH_END_TIME': 3,\n",
              "   'WINDOW_SIZE': 0.5,\n",
              "   'STEP_SIZE': 0.25,\n",
              "   'START_TIME_LABEL': -0.5},\n",
              "  'proportion_of_1': 0.24239130434782608,\n",
              "  'score': 0.7391304347826086,\n",
              "  'f1': 0.0,\n",
              "  'balanced_accuracy': 0.5},\n",
              " {'combination': {'EPOCH_START_TIME': -3,\n",
              "   'EPOCH_END_TIME': 3,\n",
              "   'WINDOW_SIZE': 1,\n",
              "   'STEP_SIZE': 0.5,\n",
              "   'START_TIME_LABEL': -3},\n",
              "  'proportion_of_1': 0.9340909090909091,\n",
              "  'score': 0.9204545454545454,\n",
              "  'f1': 0.9585798816568047,\n",
              "  'balanced_accuracy': 0.5},\n",
              " {'combination': {'EPOCH_START_TIME': -3,\n",
              "   'EPOCH_END_TIME': 3,\n",
              "   'WINDOW_SIZE': 1,\n",
              "   'STEP_SIZE': 0.5,\n",
              "   'START_TIME_LABEL': -2.5},\n",
              "  'proportion_of_1': 0.9193181818181818,\n",
              "  'score': 0.9034090909090909,\n",
              "  'f1': 0.9492537313432836,\n",
              "  'balanced_accuracy': 0.5},\n",
              " {'combination': {'EPOCH_START_TIME': -3,\n",
              "   'EPOCH_END_TIME': 3,\n",
              "   'WINDOW_SIZE': 1,\n",
              "   'STEP_SIZE': 0.5,\n",
              "   'START_TIME_LABEL': -2},\n",
              "  'proportion_of_1': 0.8261363636363637,\n",
              "  'score': 0.7897727272727273,\n",
              "  'f1': 0.8825396825396825,\n",
              "  'balanced_accuracy': 0.5},\n",
              " {'combination': {'EPOCH_START_TIME': -3,\n",
              "   'EPOCH_END_TIME': 3,\n",
              "   'WINDOW_SIZE': 1,\n",
              "   'STEP_SIZE': 0.5,\n",
              "   'START_TIME_LABEL': -1.5},\n",
              "  'proportion_of_1': 0.6556818181818181,\n",
              "  'score': 0.6136363636363636,\n",
              "  'f1': 0.7605633802816901,\n",
              "  'balanced_accuracy': 0.5},\n",
              " {'combination': {'EPOCH_START_TIME': -3,\n",
              "   'EPOCH_END_TIME': 3,\n",
              "   'WINDOW_SIZE': 1,\n",
              "   'STEP_SIZE': 0.5,\n",
              "   'START_TIME_LABEL': -0.5},\n",
              "  'proportion_of_1': 0.32386363636363635,\n",
              "  'score': 0.6988636363636364,\n",
              "  'f1': 0.0,\n",
              "  'balanced_accuracy': 0.5},\n",
              " {'combination': {'EPOCH_START_TIME': -3,\n",
              "   'EPOCH_END_TIME': 3,\n",
              "   'WINDOW_SIZE': 1.5,\n",
              "   'STEP_SIZE': 0.75,\n",
              "   'START_TIME_LABEL': -3},\n",
              "  'proportion_of_1': 0.9446428571428571,\n",
              "  'score': 0.9464285714285714,\n",
              "  'f1': 0.9724770642201834,\n",
              "  'balanced_accuracy': 0.5},\n",
              " {'combination': {'EPOCH_START_TIME': -3,\n",
              "   'EPOCH_END_TIME': 3,\n",
              "   'WINDOW_SIZE': 1.5,\n",
              "   'STEP_SIZE': 0.75,\n",
              "   'START_TIME_LABEL': -2.5},\n",
              "  'proportion_of_1': 0.9339285714285714,\n",
              "  'score': 0.9375,\n",
              "  'f1': 0.967741935483871,\n",
              "  'balanced_accuracy': 0.5},\n",
              " {'combination': {'EPOCH_START_TIME': -3,\n",
              "   'EPOCH_END_TIME': 3,\n",
              "   'WINDOW_SIZE': 1.5,\n",
              "   'STEP_SIZE': 0.75,\n",
              "   'START_TIME_LABEL': -2},\n",
              "  'proportion_of_1': 0.9196428571428571,\n",
              "  'score': 0.9285714285714286,\n",
              "  'f1': 0.962962962962963,\n",
              "  'balanced_accuracy': 0.5},\n",
              " {'combination': {'EPOCH_START_TIME': -3,\n",
              "   'EPOCH_END_TIME': 3,\n",
              "   'WINDOW_SIZE': 1.5,\n",
              "   'STEP_SIZE': 0.75,\n",
              "   'START_TIME_LABEL': -1.5},\n",
              "  'proportion_of_1': 0.7803571428571429,\n",
              "  'score': 0.7857142857142857,\n",
              "  'f1': 0.88,\n",
              "  'balanced_accuracy': 0.5},\n",
              " {'combination': {'EPOCH_START_TIME': -3,\n",
              "   'EPOCH_END_TIME': 3,\n",
              "   'WINDOW_SIZE': 1.5,\n",
              "   'STEP_SIZE': 0.75,\n",
              "   'START_TIME_LABEL': -1},\n",
              "  'proportion_of_1': 0.6892857142857143,\n",
              "  'score': 0.6964285714285714,\n",
              "  'f1': 0.8210526315789474,\n",
              "  'balanced_accuracy': 0.5},\n",
              " {'combination': {'EPOCH_START_TIME': -3,\n",
              "   'EPOCH_END_TIME': 3,\n",
              "   'WINDOW_SIZE': 2,\n",
              "   'STEP_SIZE': 1.0,\n",
              "   'START_TIME_LABEL': -3},\n",
              "  'proportion_of_1': 0.95,\n",
              "  'score': 0.975,\n",
              "  'f1': 0.9873417721518987,\n",
              "  'balanced_accuracy': 0.5},\n",
              " {'combination': {'EPOCH_START_TIME': -3,\n",
              "   'EPOCH_END_TIME': 3,\n",
              "   'WINDOW_SIZE': 2,\n",
              "   'STEP_SIZE': 1.0,\n",
              "   'START_TIME_LABEL': -2.5},\n",
              "  'proportion_of_1': 0.9475,\n",
              "  'score': 0.9625,\n",
              "  'f1': 0.980891719745223,\n",
              "  'balanced_accuracy': 0.5},\n",
              " {'combination': {'EPOCH_START_TIME': -3,\n",
              "   'EPOCH_END_TIME': 3,\n",
              "   'WINDOW_SIZE': 2,\n",
              "   'STEP_SIZE': 1.0,\n",
              "   'START_TIME_LABEL': -2},\n",
              "  'proportion_of_1': 0.9325,\n",
              "  'score': 0.95,\n",
              "  'f1': 0.9743589743589743,\n",
              "  'balanced_accuracy': 0.5},\n",
              " {'combination': {'EPOCH_START_TIME': -3,\n",
              "   'EPOCH_END_TIME': 3,\n",
              "   'WINDOW_SIZE': 2,\n",
              "   'STEP_SIZE': 1.0,\n",
              "   'START_TIME_LABEL': -1.5},\n",
              "  'proportion_of_1': 0.915,\n",
              "  'score': 0.95,\n",
              "  'f1': 0.9743589743589743,\n",
              "  'balanced_accuracy': 0.5},\n",
              " {'combination': {'EPOCH_START_TIME': -3,\n",
              "   'EPOCH_END_TIME': 3,\n",
              "   'WINDOW_SIZE': 2,\n",
              "   'STEP_SIZE': 1.0,\n",
              "   'START_TIME_LABEL': -1},\n",
              "  'proportion_of_1': 0.7275,\n",
              "  'score': 0.7625,\n",
              "  'f1': 0.8652482269503545,\n",
              "  'balanced_accuracy': 0.5},\n",
              " {'combination': {'EPOCH_START_TIME': -3,\n",
              "   'EPOCH_END_TIME': 3,\n",
              "   'WINDOW_SIZE': 3,\n",
              "   'STEP_SIZE': 1.5,\n",
              "   'START_TIME_LABEL': -3},\n",
              "  'proportion_of_1': 0.9583333333333334,\n",
              "  'score': 0.9791666666666666,\n",
              "  'f1': 0.9894736842105264,\n",
              "  'balanced_accuracy': 0.5},\n",
              " {'combination': {'EPOCH_START_TIME': -3,\n",
              "   'EPOCH_END_TIME': 3,\n",
              "   'WINDOW_SIZE': 3,\n",
              "   'STEP_SIZE': 1.5,\n",
              "   'START_TIME_LABEL': -2.5},\n",
              "  'proportion_of_1': 0.9583333333333334,\n",
              "  'score': 0.9791666666666666,\n",
              "  'f1': 0.9894736842105264,\n",
              "  'balanced_accuracy': 0.5},\n",
              " {'combination': {'EPOCH_START_TIME': -3,\n",
              "   'EPOCH_END_TIME': 3,\n",
              "   'WINDOW_SIZE': 3,\n",
              "   'STEP_SIZE': 1.5,\n",
              "   'START_TIME_LABEL': -2},\n",
              "  'proportion_of_1': 0.9583333333333334,\n",
              "  'score': 0.9791666666666666,\n",
              "  'f1': 0.9894736842105264,\n",
              "  'balanced_accuracy': 0.5},\n",
              " {'combination': {'EPOCH_START_TIME': -3,\n",
              "   'EPOCH_END_TIME': 3,\n",
              "   'WINDOW_SIZE': 3,\n",
              "   'STEP_SIZE': 1.5,\n",
              "   'START_TIME_LABEL': -1.5},\n",
              "  'proportion_of_1': 0.9541666666666667,\n",
              "  'score': 0.9583333333333334,\n",
              "  'f1': 0.9787234042553191,\n",
              "  'balanced_accuracy': 0.5},\n",
              " {'combination': {'EPOCH_START_TIME': -3,\n",
              "   'EPOCH_END_TIME': 3,\n",
              "   'WINDOW_SIZE': 3,\n",
              "   'STEP_SIZE': 1.5,\n",
              "   'START_TIME_LABEL': -1},\n",
              "  'proportion_of_1': 0.9291666666666667,\n",
              "  'score': 0.9375,\n",
              "  'f1': 0.967741935483871,\n",
              "  'balanced_accuracy': 0.5},\n",
              " {'combination': {'EPOCH_START_TIME': -3,\n",
              "   'EPOCH_END_TIME': 3,\n",
              "   'WINDOW_SIZE': 3,\n",
              "   'STEP_SIZE': 1.5,\n",
              "   'START_TIME_LABEL': -0.5},\n",
              "  'proportion_of_1': 0.9041666666666667,\n",
              "  'score': 0.875,\n",
              "  'f1': 0.9333333333333333,\n",
              "  'balanced_accuracy': 0.5},\n",
              " {'combination': {'EPOCH_START_TIME': -3,\n",
              "   'EPOCH_END_TIME': 3,\n",
              "   'WINDOW_SIZE': 2,\n",
              "   'STEP_SIZE': 1.0,\n",
              "   'START_TIME_LABEL': -0.5},\n",
              "  'proportion_of_1': 0.6275,\n",
              "  'score': 0.625,\n",
              "  'f1': 0.7692307692307693,\n",
              "  'balanced_accuracy': 0.49019607843137253}]"
            ]
          },
          "execution_count": 8,
          "metadata": {},
          "output_type": "execute_result"
        }
      ],
      "source": [
        "scores.sort(key=lambda x: x['balanced_accuracy'], reverse=True)\n",
        "scores"
      ]
    },
    {
      "cell_type": "code",
      "execution_count": 9,
      "metadata": {},
      "outputs": [
        {
          "name": "stdout",
          "output_type": "stream",
          "text": [
            "balanced_accuracy_score = 0.5151076824172292\n",
            "WINDOW_SIZE = 1.5\n",
            "START_TIME_LABEL = -0.5\n",
            "\n",
            "balanced_accuracy_score = 0.5103554495642052\n",
            "WINDOW_SIZE = 0.25\n",
            "START_TIME_LABEL = -1.5\n",
            "\n",
            "balanced_accuracy_score = 0.5100991775520077\n",
            "WINDOW_SIZE = 0.5\n",
            "START_TIME_LABEL = -1.5\n",
            "\n",
            "balanced_accuracy_score = 0.5093167701863354\n",
            "WINDOW_SIZE = 0.5\n",
            "START_TIME_LABEL = -1\n",
            "\n",
            "balanced_accuracy_score = 0.5081431715510252\n",
            "WINDOW_SIZE = 0.25\n",
            "START_TIME_LABEL = -1\n",
            "\n",
            "balanced_accuracy_score = 0.5043720190779014\n",
            "WINDOW_SIZE = 1\n",
            "START_TIME_LABEL = -1\n",
            "\n",
            "balanced_accuracy_score = 0.5005957625340886\n",
            "WINDOW_SIZE = 0.25\n",
            "START_TIME_LABEL = -2\n",
            "\n"
          ]
        }
      ],
      "source": [
        "for score in scores:\n",
        "    if score['balanced_accuracy'] > 0.5:\n",
        "        window_size = score['combination']['WINDOW_SIZE']\n",
        "        step_size = window_size/2\n",
        "        start_time_label = score['combination']['START_TIME_LABEL']\n",
        "        print(f'balanced_accuracy_score = {score[\"balanced_accuracy\"]}')\n",
        "        print(f'WINDOW_SIZE = {window_size}')\n",
        "        print(f'START_TIME_LABEL = {start_time_label}\\n')\n"
      ]
    },
    {
      "cell_type": "code",
      "execution_count": 13,
      "metadata": {},
      "outputs": [
        {
          "name": "stdout",
          "output_type": "stream",
          "text": [
            "Combination 1/35\n",
            "EPOCH_START_TIME = -3\n",
            "                EPOCH_END_TIME = 3\n",
            "                WINDOW_SIZE = 0.1\n",
            "                STEP_SIZE = 0.05\n",
            "                START_TIME_LABEL = -1.6\n",
            "\n"
          ]
        },
        {
          "name": "stderr",
          "output_type": "stream",
          "text": [
            "WARNING:root:~~~~~~~~~~~~~~ No data for .././data/raw/Data_npy\\DATA_002_Trial3.npy and side G.\n"
          ]
        },
        {
          "name": "stdout",
          "output_type": "stream",
          "text": [
            "number_of_windows = 9520\n",
            "size_of_window = (3, 102)\n",
            "proportion_of_1 = 0.5112394957983193\n",
            "accuracy = 0.5257352941176471\n",
            "f1 = 0.5482741370685341\n",
            "balanced_accuracy = 0.5248109807801018\n",
            "\n",
            "\n",
            "Combination 2/35\n",
            "EPOCH_START_TIME = -3\n",
            "                EPOCH_END_TIME = 3\n",
            "                WINDOW_SIZE = 0.1\n",
            "                STEP_SIZE = 0.05\n",
            "                START_TIME_LABEL = -1.5\n",
            "\n"
          ]
        },
        {
          "name": "stderr",
          "output_type": "stream",
          "text": [
            "WARNING:root:~~~~~~~~~~~~~~ No data for .././data/raw/Data_npy\\DATA_002_Trial3.npy and side G.\n"
          ]
        },
        {
          "name": "stdout",
          "output_type": "stream",
          "text": [
            "number_of_windows = 9520\n",
            "size_of_window = (3, 102)\n",
            "proportion_of_1 = 0.47983193277310926\n",
            "accuracy = 0.5267857142857143\n",
            "f1 = 0.3989326217478319\n",
            "balanced_accuracy = 0.5202235772357724\n",
            "\n",
            "\n",
            "Combination 3/35\n",
            "EPOCH_START_TIME = -3\n",
            "                EPOCH_END_TIME = 3\n",
            "                WINDOW_SIZE = 0.1\n",
            "                STEP_SIZE = 0.05\n",
            "                START_TIME_LABEL = -1.4\n",
            "\n"
          ]
        },
        {
          "name": "stderr",
          "output_type": "stream",
          "text": [
            "WARNING:root:~~~~~~~~~~~~~~ No data for .././data/raw/Data_npy\\DATA_002_Trial3.npy and side G.\n"
          ]
        },
        {
          "name": "stdout",
          "output_type": "stream",
          "text": [
            "number_of_windows = 9520\n",
            "size_of_window = (3, 102)\n",
            "proportion_of_1 = 0.4485294117647059\n",
            "accuracy = 0.5546218487394958\n",
            "f1 = 0.28378378378378377\n",
            "balanced_accuracy = 0.5212177985948478\n",
            "\n",
            "\n",
            "Combination 4/35\n",
            "EPOCH_START_TIME = -3\n",
            "                EPOCH_END_TIME = 3\n",
            "                WINDOW_SIZE = 0.1\n",
            "                STEP_SIZE = 0.05\n",
            "                START_TIME_LABEL = -1.3\n",
            "\n"
          ]
        },
        {
          "name": "stderr",
          "output_type": "stream",
          "text": [
            "WARNING:root:~~~~~~~~~~~~~~ No data for .././data/raw/Data_npy\\DATA_002_Trial3.npy and side G.\n"
          ]
        },
        {
          "name": "stdout",
          "output_type": "stream",
          "text": [
            "number_of_windows = 9520\n",
            "size_of_window = (3, 102)\n",
            "proportion_of_1 = 0.41733193277310926\n",
            "accuracy = 0.5840336134453782\n",
            "f1 = 0.1372549019607843\n",
            "balanced_accuracy = 0.5125712438538884\n",
            "\n",
            "\n",
            "Combination 5/35\n",
            "EPOCH_START_TIME = -3\n",
            "                EPOCH_END_TIME = 3\n",
            "                WINDOW_SIZE = 0.1\n",
            "                STEP_SIZE = 0.05\n",
            "                START_TIME_LABEL = -1\n",
            "\n"
          ]
        },
        {
          "name": "stderr",
          "output_type": "stream",
          "text": [
            "WARNING:root:~~~~~~~~~~~~~~ No data for .././data/raw/Data_npy\\DATA_002_Trial3.npy and side G.\n"
          ]
        },
        {
          "name": "stdout",
          "output_type": "stream",
          "text": [
            "number_of_windows = 9520\n",
            "size_of_window = (3, 102)\n",
            "proportion_of_1 = 0.3254201680672269\n",
            "accuracy = 0.6785714285714286\n",
            "f1 = 0.006493506493506493\n",
            "balanced_accuracy = 0.5012440247010613\n",
            "\n",
            "\n",
            "Combination 6/35\n",
            "EPOCH_START_TIME = -3\n",
            "                EPOCH_END_TIME = 3\n",
            "                WINDOW_SIZE = 0.15\n",
            "                STEP_SIZE = 0.075\n",
            "                START_TIME_LABEL = -1.6\n",
            "\n"
          ]
        },
        {
          "name": "stderr",
          "output_type": "stream",
          "text": [
            "WARNING:root:~~~~~~~~~~~~~~ No data for .././data/raw/Data_npy\\DATA_002_Trial3.npy and side G.\n"
          ]
        },
        {
          "name": "stdout",
          "output_type": "stream",
          "text": [
            "number_of_windows = 6320\n",
            "size_of_window = (3, 153)\n",
            "proportion_of_1 = 0.5321202531645569\n",
            "accuracy = 0.5411392405063291\n",
            "f1 = 0.6291560102301791\n",
            "balanced_accuracy = 0.5235450557277184\n",
            "\n",
            "\n",
            "Combination 7/35\n",
            "EPOCH_START_TIME = -3\n",
            "                EPOCH_END_TIME = 3\n",
            "                WINDOW_SIZE = 0.15\n",
            "                STEP_SIZE = 0.075\n",
            "                START_TIME_LABEL = -1.5\n",
            "\n"
          ]
        },
        {
          "name": "stderr",
          "output_type": "stream",
          "text": [
            "WARNING:root:~~~~~~~~~~~~~~ No data for .././data/raw/Data_npy\\DATA_002_Trial3.npy and side G.\n"
          ]
        },
        {
          "name": "stdout",
          "output_type": "stream",
          "text": [
            "number_of_windows = 6320\n",
            "size_of_window = (3, 153)\n",
            "proportion_of_1 = 0.492246835443038\n",
            "accuracy = 0.5197784810126582\n",
            "f1 = 0.47445887445887447\n",
            "balanced_accuracy = 0.5200565820439638\n",
            "\n",
            "\n",
            "Combination 8/35\n",
            "EPOCH_START_TIME = -3\n",
            "                EPOCH_END_TIME = 3\n",
            "                WINDOW_SIZE = 0.15\n",
            "                STEP_SIZE = 0.075\n",
            "                START_TIME_LABEL = -1.4\n",
            "\n"
          ]
        },
        {
          "name": "stderr",
          "output_type": "stream",
          "text": [
            "WARNING:root:~~~~~~~~~~~~~~ No data for .././data/raw/Data_npy\\DATA_002_Trial3.npy and side G.\n"
          ]
        },
        {
          "name": "stdout",
          "output_type": "stream",
          "text": [
            "number_of_windows = 6320\n",
            "size_of_window = (3, 153)\n",
            "proportion_of_1 = 0.46534810126582277\n",
            "accuracy = 0.5490506329113924\n",
            "f1 = 0.3624161073825503\n",
            "balanced_accuracy = 0.5363641838383635\n",
            "\n",
            "\n",
            "Combination 9/35\n",
            "EPOCH_START_TIME = -3\n",
            "                EPOCH_END_TIME = 3\n",
            "                WINDOW_SIZE = 0.15\n",
            "                STEP_SIZE = 0.075\n",
            "                START_TIME_LABEL = -1.3\n",
            "\n"
          ]
        },
        {
          "name": "stderr",
          "output_type": "stream",
          "text": [
            "WARNING:root:~~~~~~~~~~~~~~ No data for .././data/raw/Data_npy\\DATA_002_Trial3.npy and side G.\n"
          ]
        },
        {
          "name": "stdout",
          "output_type": "stream",
          "text": [
            "number_of_windows = 6320\n",
            "size_of_window = (3, 153)\n",
            "proportion_of_1 = 0.43734177215189873\n",
            "accuracy = 0.560126582278481\n",
            "f1 = 0.20343839541547282\n",
            "balanced_accuracy = 0.5152793108260698\n",
            "\n",
            "\n",
            "Combination 10/35\n",
            "EPOCH_START_TIME = -3\n",
            "                EPOCH_END_TIME = 3\n",
            "                WINDOW_SIZE = 0.15\n",
            "                STEP_SIZE = 0.075\n",
            "                START_TIME_LABEL = -1\n",
            "\n"
          ]
        },
        {
          "name": "stderr",
          "output_type": "stream",
          "text": [
            "WARNING:root:~~~~~~~~~~~~~~ No data for .././data/raw/Data_npy\\DATA_002_Trial3.npy and side G.\n"
          ]
        },
        {
          "name": "stdout",
          "output_type": "stream",
          "text": [
            "number_of_windows = 6320\n",
            "size_of_window = (3, 153)\n",
            "proportion_of_1 = 0.3454113924050633\n",
            "accuracy = 0.6558544303797469\n",
            "f1 = 0.0\n",
            "balanced_accuracy = 0.5\n",
            "\n",
            "\n",
            "Combination 11/35\n",
            "EPOCH_START_TIME = -3\n",
            "                EPOCH_END_TIME = 3\n",
            "                WINDOW_SIZE = 0.2\n",
            "                STEP_SIZE = 0.1\n",
            "                START_TIME_LABEL = -1.6\n",
            "\n"
          ]
        },
        {
          "name": "stderr",
          "output_type": "stream",
          "text": [
            "WARNING:root:~~~~~~~~~~~~~~ No data for .././data/raw/Data_npy\\DATA_002_Trial3.npy and side G.\n"
          ]
        },
        {
          "name": "stdout",
          "output_type": "stream",
          "text": [
            "number_of_windows = 4720\n",
            "size_of_window = (3, 204)\n",
            "proportion_of_1 = 0.5425847457627119\n",
            "accuracy = 0.5402542372881356\n",
            "f1 = 0.6471544715447154\n",
            "balanced_accuracy = 0.5187627393644667\n",
            "\n",
            "\n",
            "Combination 12/35\n",
            "EPOCH_START_TIME = -3\n",
            "                EPOCH_END_TIME = 3\n",
            "                WINDOW_SIZE = 0.2\n",
            "                STEP_SIZE = 0.1\n",
            "                START_TIME_LABEL = -1.5\n",
            "\n"
          ]
        },
        {
          "name": "stderr",
          "output_type": "stream",
          "text": [
            "WARNING:root:~~~~~~~~~~~~~~ No data for .././data/raw/Data_npy\\DATA_002_Trial3.npy and side G.\n"
          ]
        },
        {
          "name": "stdout",
          "output_type": "stream",
          "text": [
            "number_of_windows = 4720\n",
            "size_of_window = (3, 204)\n",
            "proportion_of_1 = 0.510593220338983\n",
            "accuracy = 0.5317796610169492\n",
            "f1 = 0.5658153241650294\n",
            "balanced_accuracy = 0.53115348703584\n",
            "\n",
            "\n",
            "Combination 13/35\n",
            "EPOCH_START_TIME = -3\n",
            "                EPOCH_END_TIME = 3\n",
            "                WINDOW_SIZE = 0.2\n",
            "                STEP_SIZE = 0.1\n",
            "                START_TIME_LABEL = -1.4\n",
            "\n"
          ]
        },
        {
          "name": "stderr",
          "output_type": "stream",
          "text": [
            "WARNING:root:~~~~~~~~~~~~~~ No data for .././data/raw/Data_npy\\DATA_002_Trial3.npy and side G.\n"
          ]
        },
        {
          "name": "stdout",
          "output_type": "stream",
          "text": [
            "number_of_windows = 4720\n",
            "size_of_window = (3, 204)\n",
            "proportion_of_1 = 0.47902542372881357\n",
            "accuracy = 0.5360169491525424\n",
            "f1 = 0.44696969696969696\n",
            "balanced_accuracy = 0.528117579738942\n",
            "\n",
            "\n",
            "Combination 14/35\n",
            "EPOCH_START_TIME = -3\n",
            "                EPOCH_END_TIME = 3\n",
            "                WINDOW_SIZE = 0.2\n",
            "                STEP_SIZE = 0.1\n",
            "                START_TIME_LABEL = -1.3\n",
            "\n"
          ]
        },
        {
          "name": "stderr",
          "output_type": "stream",
          "text": [
            "WARNING:root:~~~~~~~~~~~~~~ No data for .././data/raw/Data_npy\\DATA_002_Trial3.npy and side G.\n"
          ]
        },
        {
          "name": "stdout",
          "output_type": "stream",
          "text": [
            "number_of_windows = 4720\n",
            "size_of_window = (3, 204)\n",
            "proportion_of_1 = 0.44745762711864406\n",
            "accuracy = 0.5476694915254238\n",
            "f1 = 0.2918739635157545\n",
            "balanced_accuracy = 0.5109971743687904\n",
            "\n",
            "\n",
            "Combination 15/35\n",
            "EPOCH_START_TIME = -3\n",
            "                EPOCH_END_TIME = 3\n",
            "                WINDOW_SIZE = 0.2\n",
            "                STEP_SIZE = 0.1\n",
            "                START_TIME_LABEL = -1\n",
            "\n"
          ]
        },
        {
          "name": "stderr",
          "output_type": "stream",
          "text": [
            "WARNING:root:~~~~~~~~~~~~~~ No data for .././data/raw/Data_npy\\DATA_002_Trial3.npy and side G.\n"
          ]
        },
        {
          "name": "stdout",
          "output_type": "stream",
          "text": [
            "number_of_windows = 4720\n",
            "size_of_window = (3, 204)\n",
            "proportion_of_1 = 0.35466101694915253\n",
            "accuracy = 0.6398305084745762\n",
            "f1 = 0.005847953216374269\n",
            "balanced_accuracy = 0.501466275659824\n",
            "\n",
            "\n",
            "Combination 16/35\n",
            "EPOCH_START_TIME = -3\n",
            "                EPOCH_END_TIME = 3\n",
            "                WINDOW_SIZE = 0.25\n",
            "                STEP_SIZE = 0.125\n",
            "                START_TIME_LABEL = -1.6\n",
            "\n"
          ]
        },
        {
          "name": "stderr",
          "output_type": "stream",
          "text": [
            "WARNING:root:~~~~~~~~~~~~~~ No data for .././data/raw/Data_npy\\DATA_002_Trial3.npy and side G.\n"
          ]
        },
        {
          "name": "stdout",
          "output_type": "stream",
          "text": [
            "number_of_windows = 3760\n",
            "size_of_window = (3, 256)\n",
            "proportion_of_1 = 0.5401595744680852\n",
            "accuracy = 0.5425531914893617\n",
            "f1 = 0.6252723311546842\n",
            "balanced_accuracy = 0.5220087688935041\n",
            "\n",
            "\n",
            "Combination 17/35\n",
            "EPOCH_START_TIME = -3\n",
            "                EPOCH_END_TIME = 3\n",
            "                WINDOW_SIZE = 0.25\n",
            "                STEP_SIZE = 0.125\n",
            "                START_TIME_LABEL = -1.5\n",
            "\n"
          ]
        },
        {
          "name": "stderr",
          "output_type": "stream",
          "text": [
            "WARNING:root:~~~~~~~~~~~~~~ No data for .././data/raw/Data_npy\\DATA_002_Trial3.npy and side G.\n"
          ]
        },
        {
          "name": "stdout",
          "output_type": "stream",
          "text": [
            "number_of_windows = 3760\n",
            "size_of_window = (3, 256)\n",
            "proportion_of_1 = 0.5037234042553191\n",
            "accuracy = 0.5093085106382979\n",
            "f1 = 0.5151116951379764\n",
            "balanced_accuracy = 0.5103554495642052\n",
            "\n",
            "\n",
            "Combination 18/35\n",
            "EPOCH_START_TIME = -3\n",
            "                EPOCH_END_TIME = 3\n",
            "                WINDOW_SIZE = 0.25\n",
            "                STEP_SIZE = 0.125\n",
            "                START_TIME_LABEL = -1.4\n",
            "\n"
          ]
        },
        {
          "name": "stderr",
          "output_type": "stream",
          "text": [
            "WARNING:root:~~~~~~~~~~~~~~ No data for .././data/raw/Data_npy\\DATA_002_Trial3.npy and side G.\n"
          ]
        },
        {
          "name": "stdout",
          "output_type": "stream",
          "text": [
            "number_of_windows = 3760\n",
            "size_of_window = (3, 256)\n",
            "proportion_of_1 = 0.49042553191489363\n",
            "accuracy = 0.5212765957446809\n",
            "f1 = 0.4642857142857143\n",
            "balanced_accuracy = 0.5255830093408967\n",
            "\n",
            "\n",
            "Combination 19/35\n",
            "EPOCH_START_TIME = -3\n",
            "                EPOCH_END_TIME = 3\n",
            "                WINDOW_SIZE = 0.25\n",
            "                STEP_SIZE = 0.125\n",
            "                START_TIME_LABEL = -1.3\n",
            "\n"
          ]
        },
        {
          "name": "stderr",
          "output_type": "stream",
          "text": [
            "WARNING:root:~~~~~~~~~~~~~~ No data for .././data/raw/Data_npy\\DATA_002_Trial3.npy and side G.\n"
          ]
        },
        {
          "name": "stdout",
          "output_type": "stream",
          "text": [
            "number_of_windows = 3760\n",
            "size_of_window = (3, 256)\n",
            "proportion_of_1 = 0.45478723404255317\n",
            "accuracy = 0.5425531914893617\n",
            "f1 = 0.3605947955390334\n",
            "balanced_accuracy = 0.5307717932906646\n",
            "\n",
            "\n",
            "Combination 20/35\n",
            "EPOCH_START_TIME = -3\n",
            "                EPOCH_END_TIME = 3\n",
            "                WINDOW_SIZE = 0.25\n",
            "                STEP_SIZE = 0.125\n",
            "                START_TIME_LABEL = -1\n",
            "\n"
          ]
        },
        {
          "name": "stderr",
          "output_type": "stream",
          "text": [
            "WARNING:root:~~~~~~~~~~~~~~ No data for .././data/raw/Data_npy\\DATA_002_Trial3.npy and side G.\n"
          ]
        },
        {
          "name": "stdout",
          "output_type": "stream",
          "text": [
            "number_of_windows = 3760\n",
            "size_of_window = (3, 256)\n",
            "proportion_of_1 = 0.34654255319148936\n",
            "accuracy = 0.648936170212766\n",
            "f1 = 0.043478260869565216\n",
            "balanced_accuracy = 0.5081431715510252\n",
            "\n",
            "\n",
            "Combination 21/35\n",
            "EPOCH_START_TIME = -3\n",
            "                EPOCH_END_TIME = 3\n",
            "                WINDOW_SIZE = 0.3\n",
            "                STEP_SIZE = 0.15\n",
            "                START_TIME_LABEL = -1.6\n",
            "\n"
          ]
        },
        {
          "name": "stderr",
          "output_type": "stream",
          "text": [
            "WARNING:root:~~~~~~~~~~~~~~ No data for .././data/raw/Data_npy\\DATA_002_Trial3.npy and side G.\n"
          ]
        },
        {
          "name": "stdout",
          "output_type": "stream",
          "text": [
            "number_of_windows = 3120\n",
            "size_of_window = (3, 307)\n",
            "proportion_of_1 = 0.5817307692307693\n",
            "accuracy = 0.5705128205128205\n",
            "f1 = 0.7154989384288748\n",
            "balanced_accuracy = 0.49945054945054945\n",
            "\n",
            "\n",
            "Combination 22/35\n",
            "EPOCH_START_TIME = -3\n",
            "                EPOCH_END_TIME = 3\n",
            "                WINDOW_SIZE = 0.3\n",
            "                STEP_SIZE = 0.15\n",
            "                START_TIME_LABEL = -1.5\n",
            "\n"
          ]
        },
        {
          "name": "stderr",
          "output_type": "stream",
          "text": [
            "WARNING:root:~~~~~~~~~~~~~~ No data for .././data/raw/Data_npy\\DATA_002_Trial3.npy and side G.\n"
          ]
        },
        {
          "name": "stdout",
          "output_type": "stream",
          "text": [
            "number_of_windows = 3120\n",
            "size_of_window = (3, 307)\n",
            "proportion_of_1 = 0.5375\n",
            "accuracy = 0.5512820512820513\n",
            "f1 = 0.641025641025641\n",
            "balanced_accuracy = 0.5346829475077286\n",
            "\n",
            "\n",
            "Combination 23/35\n",
            "EPOCH_START_TIME = -3\n",
            "                EPOCH_END_TIME = 3\n",
            "                WINDOW_SIZE = 0.3\n",
            "                STEP_SIZE = 0.15\n",
            "                START_TIME_LABEL = -1.4\n",
            "\n"
          ]
        },
        {
          "name": "stderr",
          "output_type": "stream",
          "text": [
            "WARNING:root:~~~~~~~~~~~~~~ No data for .././data/raw/Data_npy\\DATA_002_Trial3.npy and side G.\n"
          ]
        },
        {
          "name": "stdout",
          "output_type": "stream",
          "text": [
            "number_of_windows = 3120\n",
            "size_of_window = (3, 307)\n",
            "proportion_of_1 = 0.5259615384615385\n",
            "accuracy = 0.5480769230769231\n",
            "f1 = 0.6126373626373627\n",
            "balanced_accuracy = 0.5402597402597402\n",
            "\n",
            "\n",
            "Combination 24/35\n",
            "EPOCH_START_TIME = -3\n",
            "                EPOCH_END_TIME = 3\n",
            "                WINDOW_SIZE = 0.3\n",
            "                STEP_SIZE = 0.15\n",
            "                START_TIME_LABEL = -1.3\n",
            "\n"
          ]
        },
        {
          "name": "stderr",
          "output_type": "stream",
          "text": [
            "WARNING:root:~~~~~~~~~~~~~~ No data for .././data/raw/Data_npy\\DATA_002_Trial3.npy and side G.\n"
          ]
        },
        {
          "name": "stdout",
          "output_type": "stream",
          "text": [
            "number_of_windows = 3120\n",
            "size_of_window = (3, 307)\n",
            "proportion_of_1 = 0.4858974358974359\n",
            "accuracy = 0.5528846153846154\n",
            "f1 = 0.4918032786885245\n",
            "balanced_accuracy = 0.5493298910751571\n",
            "\n",
            "\n",
            "Combination 25/35\n",
            "EPOCH_START_TIME = -3\n",
            "                EPOCH_END_TIME = 3\n",
            "                WINDOW_SIZE = 0.3\n",
            "                STEP_SIZE = 0.15\n",
            "                START_TIME_LABEL = -1\n",
            "\n"
          ]
        },
        {
          "name": "stderr",
          "output_type": "stream",
          "text": [
            "WARNING:root:~~~~~~~~~~~~~~ No data for .././data/raw/Data_npy\\DATA_002_Trial3.npy and side G.\n"
          ]
        },
        {
          "name": "stdout",
          "output_type": "stream",
          "text": [
            "number_of_windows = 3120\n",
            "size_of_window = (3, 307)\n",
            "proportion_of_1 = 0.3919871794871795\n",
            "accuracy = 0.6346153846153846\n",
            "f1 = 0.12307692307692307\n",
            "balanced_accuracy = 0.5258414246527626\n",
            "\n",
            "\n",
            "Combination 26/35\n",
            "EPOCH_START_TIME = -3\n",
            "                EPOCH_END_TIME = 3\n",
            "                WINDOW_SIZE = 0.4\n",
            "                STEP_SIZE = 0.2\n",
            "                START_TIME_LABEL = -1.6\n",
            "\n"
          ]
        },
        {
          "name": "stderr",
          "output_type": "stream",
          "text": [
            "WARNING:root:~~~~~~~~~~~~~~ No data for .././data/raw/Data_npy\\DATA_002_Trial3.npy and side G.\n"
          ]
        },
        {
          "name": "stdout",
          "output_type": "stream",
          "text": [
            "number_of_windows = 2320\n",
            "size_of_window = (3, 409)\n",
            "proportion_of_1 = 0.6043103448275862\n",
            "accuracy = 0.584051724137931\n",
            "f1 = 0.7352537722908092\n",
            "balanced_accuracy = 0.5022369653748351\n",
            "\n",
            "\n",
            "Combination 27/35\n",
            "EPOCH_START_TIME = -3\n",
            "                EPOCH_END_TIME = 3\n",
            "                WINDOW_SIZE = 0.4\n",
            "                STEP_SIZE = 0.2\n",
            "                START_TIME_LABEL = -1.5\n",
            "\n"
          ]
        },
        {
          "name": "stderr",
          "output_type": "stream",
          "text": [
            "WARNING:root:~~~~~~~~~~~~~~ No data for .././data/raw/Data_npy\\DATA_002_Trial3.npy and side G.\n"
          ]
        },
        {
          "name": "stdout",
          "output_type": "stream",
          "text": [
            "number_of_windows = 2320\n",
            "size_of_window = (3, 409)\n",
            "proportion_of_1 = 0.5887931034482758\n",
            "accuracy = 0.5668103448275862\n",
            "f1 = 0.7172995780590717\n",
            "balanced_accuracy = 0.5064432015720656\n",
            "\n",
            "\n",
            "Combination 28/35\n",
            "EPOCH_START_TIME = -3\n",
            "                EPOCH_END_TIME = 3\n",
            "                WINDOW_SIZE = 0.4\n",
            "                STEP_SIZE = 0.2\n",
            "                START_TIME_LABEL = -1.4\n",
            "\n"
          ]
        },
        {
          "name": "stderr",
          "output_type": "stream",
          "text": [
            "WARNING:root:~~~~~~~~~~~~~~ No data for .././data/raw/Data_npy\\DATA_002_Trial3.npy and side G.\n"
          ]
        },
        {
          "name": "stdout",
          "output_type": "stream",
          "text": [
            "number_of_windows = 2320\n",
            "size_of_window = (3, 409)\n",
            "proportion_of_1 = 0.5396551724137931\n",
            "accuracy = 0.5237068965517241\n",
            "f1 = 0.6196213425129087\n",
            "balanced_accuracy = 0.5137927183381729\n",
            "\n",
            "\n",
            "Combination 29/35\n",
            "EPOCH_START_TIME = -3\n",
            "                EPOCH_END_TIME = 3\n",
            "                WINDOW_SIZE = 0.4\n",
            "                STEP_SIZE = 0.2\n",
            "                START_TIME_LABEL = -1.3\n",
            "\n"
          ]
        },
        {
          "name": "stderr",
          "output_type": "stream",
          "text": [
            "WARNING:root:~~~~~~~~~~~~~~ No data for .././data/raw/Data_npy\\DATA_002_Trial3.npy and side G.\n"
          ]
        },
        {
          "name": "stdout",
          "output_type": "stream",
          "text": [
            "number_of_windows = 2320\n",
            "size_of_window = (3, 409)\n",
            "proportion_of_1 = 0.5241379310344828\n",
            "accuracy = 0.49353448275862066\n",
            "f1 = 0.5607476635514019\n",
            "balanced_accuracy = 0.4916380191396451\n",
            "\n",
            "\n",
            "Combination 30/35\n",
            "EPOCH_START_TIME = -3\n",
            "                EPOCH_END_TIME = 3\n",
            "                WINDOW_SIZE = 0.4\n",
            "                STEP_SIZE = 0.2\n",
            "                START_TIME_LABEL = -1\n",
            "\n"
          ]
        },
        {
          "name": "stderr",
          "output_type": "stream",
          "text": [
            "WARNING:root:~~~~~~~~~~~~~~ No data for .././data/raw/Data_npy\\DATA_002_Trial3.npy and side G.\n"
          ]
        },
        {
          "name": "stdout",
          "output_type": "stream",
          "text": [
            "number_of_windows = 2320\n",
            "size_of_window = (3, 409)\n",
            "proportion_of_1 = 0.4125\n",
            "accuracy = 0.6163793103448276\n",
            "f1 = 0.14423076923076922\n",
            "balanced_accuracy = 0.5231900122513272\n",
            "\n",
            "\n",
            "Combination 31/35\n",
            "EPOCH_START_TIME = -3\n",
            "                EPOCH_END_TIME = 3\n",
            "                WINDOW_SIZE = 0.5\n",
            "                STEP_SIZE = 0.25\n",
            "                START_TIME_LABEL = -1.6\n",
            "\n"
          ]
        },
        {
          "name": "stderr",
          "output_type": "stream",
          "text": [
            "WARNING:root:~~~~~~~~~~~~~~ No data for .././data/raw/Data_npy\\DATA_002_Trial3.npy and side G.\n"
          ]
        },
        {
          "name": "stdout",
          "output_type": "stream",
          "text": [
            "number_of_windows = 1840\n",
            "size_of_window = (3, 512)\n",
            "proportion_of_1 = 0.6173913043478261\n",
            "accuracy = 0.6304347826086957\n",
            "f1 = 0.7702702702702703\n",
            "balanced_accuracy = 0.5040852010809093\n",
            "\n",
            "\n",
            "Combination 32/35\n",
            "EPOCH_START_TIME = -3\n",
            "                EPOCH_END_TIME = 3\n",
            "                WINDOW_SIZE = 0.5\n",
            "                STEP_SIZE = 0.25\n",
            "                START_TIME_LABEL = -1.5\n",
            "\n"
          ]
        },
        {
          "name": "stderr",
          "output_type": "stream",
          "text": [
            "WARNING:root:~~~~~~~~~~~~~~ No data for .././data/raw/Data_npy\\DATA_002_Trial3.npy and side G.\n"
          ]
        },
        {
          "name": "stdout",
          "output_type": "stream",
          "text": [
            "number_of_windows = 1840\n",
            "size_of_window = (3, 512)\n",
            "proportion_of_1 = 0.5576086956521739\n",
            "accuracy = 0.5516304347826086\n",
            "f1 = 0.6680080482897384\n",
            "balanced_accuracy = 0.5100991775520077\n",
            "\n",
            "\n",
            "Combination 33/35\n",
            "EPOCH_START_TIME = -3\n",
            "                EPOCH_END_TIME = 3\n",
            "                WINDOW_SIZE = 0.5\n",
            "                STEP_SIZE = 0.25\n",
            "                START_TIME_LABEL = -1.4\n",
            "\n"
          ]
        },
        {
          "name": "stderr",
          "output_type": "stream",
          "text": [
            "WARNING:root:~~~~~~~~~~~~~~ No data for .././data/raw/Data_npy\\DATA_002_Trial3.npy and side G.\n"
          ]
        },
        {
          "name": "stdout",
          "output_type": "stream",
          "text": [
            "number_of_windows = 1840\n",
            "size_of_window = (3, 512)\n",
            "proportion_of_1 = 0.5451086956521739\n",
            "accuracy = 0.49728260869565216\n",
            "f1 = 0.5969498910675383\n",
            "balanced_accuracy = 0.47449958048663554\n",
            "\n",
            "\n",
            "Combination 34/35\n",
            "EPOCH_START_TIME = -3\n",
            "                EPOCH_END_TIME = 3\n",
            "                WINDOW_SIZE = 0.5\n",
            "                STEP_SIZE = 0.25\n",
            "                START_TIME_LABEL = -1.3\n",
            "\n"
          ]
        },
        {
          "name": "stderr",
          "output_type": "stream",
          "text": [
            "WARNING:root:~~~~~~~~~~~~~~ No data for .././data/raw/Data_npy\\DATA_002_Trial3.npy and side G.\n"
          ]
        },
        {
          "name": "stdout",
          "output_type": "stream",
          "text": [
            "number_of_windows = 1840\n",
            "size_of_window = (3, 512)\n",
            "proportion_of_1 = 0.5277173913043478\n",
            "accuracy = 0.4782608695652174\n",
            "f1 = 0.542857142857143\n",
            "balanced_accuracy = 0.469864113466742\n",
            "\n",
            "\n",
            "Combination 35/35\n",
            "EPOCH_START_TIME = -3\n",
            "                EPOCH_END_TIME = 3\n",
            "                WINDOW_SIZE = 0.5\n",
            "                STEP_SIZE = 0.25\n",
            "                START_TIME_LABEL = -1\n",
            "\n"
          ]
        },
        {
          "name": "stderr",
          "output_type": "stream",
          "text": [
            "WARNING:root:~~~~~~~~~~~~~~ No data for .././data/raw/Data_npy\\DATA_002_Trial3.npy and side G.\n"
          ]
        },
        {
          "name": "stdout",
          "output_type": "stream",
          "text": [
            "number_of_windows = 1840\n",
            "size_of_window = (3, 512)\n",
            "proportion_of_1 = 0.39619565217391306\n",
            "accuracy = 0.5706521739130435\n",
            "f1 = 0.03658536585365854\n",
            "balanced_accuracy = 0.5093167701863354\n",
            "\n",
            "\n"
          ]
        }
      ],
      "source": [
        "scores2 = hyparam_search(WINDOW_SIZE_LIST=[0.1, 0.15, 0.20, 0.25, 0.3, 0.4, 0.5], \n",
        "                        START_TIME_LABEL_LIST=[-1.6, -1.5, -1.4, -1.3, -1], \n",
        "                        FILE_NUMBER = 20)"
      ]
    },
    {
      "cell_type": "code",
      "execution_count": 14,
      "metadata": {},
      "outputs": [
        {
          "name": "stdout",
          "output_type": "stream",
          "text": [
            "Combination 1/35\n",
            "EPOCH_START_TIME = -3\n",
            "                EPOCH_END_TIME = 3\n",
            "                WINDOW_SIZE = 0.1\n",
            "                STEP_SIZE = 0.05\n",
            "                START_TIME_LABEL = -1.6\n",
            "\n"
          ]
        },
        {
          "name": "stderr",
          "output_type": "stream",
          "text": [
            "WARNING:root:~~~~~~~~~~~~~~ No data for .././data/raw/Data_npy\\DATA_002_Trial3.npy and side G.\n"
          ]
        },
        {
          "name": "stdout",
          "output_type": "stream",
          "text": [
            "number_of_windows = 9520\n",
            "size_of_window = (3, 102)\n",
            "proportion_of_1 = 0.5112394957983193\n",
            "accuracy = 0.5257352941176471\n",
            "f1 = 0.5482741370685341\n",
            "balanced_accuracy = 0.5248109807801018\n",
            "\n",
            "\n",
            "Combination 2/35\n",
            "EPOCH_START_TIME = -3\n",
            "                EPOCH_END_TIME = 3\n",
            "                WINDOW_SIZE = 0.1\n",
            "                STEP_SIZE = 0.05\n",
            "                START_TIME_LABEL = -1.5\n",
            "\n"
          ]
        },
        {
          "name": "stderr",
          "output_type": "stream",
          "text": [
            "WARNING:root:~~~~~~~~~~~~~~ No data for .././data/raw/Data_npy\\DATA_002_Trial3.npy and side G.\n"
          ]
        },
        {
          "name": "stdout",
          "output_type": "stream",
          "text": [
            "number_of_windows = 9520\n",
            "size_of_window = (3, 102)\n",
            "proportion_of_1 = 0.47983193277310926\n",
            "accuracy = 0.5267857142857143\n",
            "f1 = 0.3989326217478319\n",
            "balanced_accuracy = 0.5202235772357724\n",
            "\n",
            "\n",
            "Combination 3/35\n",
            "EPOCH_START_TIME = -3\n",
            "                EPOCH_END_TIME = 3\n",
            "                WINDOW_SIZE = 0.1\n",
            "                STEP_SIZE = 0.05\n",
            "                START_TIME_LABEL = -1.4\n",
            "\n"
          ]
        },
        {
          "name": "stderr",
          "output_type": "stream",
          "text": [
            "WARNING:root:~~~~~~~~~~~~~~ No data for .././data/raw/Data_npy\\DATA_002_Trial3.npy and side G.\n"
          ]
        },
        {
          "name": "stdout",
          "output_type": "stream",
          "text": [
            "number_of_windows = 9520\n",
            "size_of_window = (3, 102)\n",
            "proportion_of_1 = 0.4485294117647059\n",
            "accuracy = 0.5546218487394958\n",
            "f1 = 0.28378378378378377\n",
            "balanced_accuracy = 0.5212177985948478\n",
            "\n",
            "\n",
            "Combination 4/35\n",
            "EPOCH_START_TIME = -3\n",
            "                EPOCH_END_TIME = 3\n",
            "                WINDOW_SIZE = 0.1\n",
            "                STEP_SIZE = 0.05\n",
            "                START_TIME_LABEL = -1.3\n",
            "\n"
          ]
        },
        {
          "name": "stderr",
          "output_type": "stream",
          "text": [
            "WARNING:root:~~~~~~~~~~~~~~ No data for .././data/raw/Data_npy\\DATA_002_Trial3.npy and side G.\n"
          ]
        },
        {
          "name": "stdout",
          "output_type": "stream",
          "text": [
            "number_of_windows = 9520\n",
            "size_of_window = (3, 102)\n",
            "proportion_of_1 = 0.41733193277310926\n",
            "accuracy = 0.5840336134453782\n",
            "f1 = 0.1372549019607843\n",
            "balanced_accuracy = 0.5125712438538884\n",
            "\n",
            "\n",
            "Combination 5/35\n",
            "EPOCH_START_TIME = -3\n",
            "                EPOCH_END_TIME = 3\n",
            "                WINDOW_SIZE = 0.1\n",
            "                STEP_SIZE = 0.05\n",
            "                START_TIME_LABEL = -1\n",
            "\n"
          ]
        },
        {
          "name": "stderr",
          "output_type": "stream",
          "text": [
            "WARNING:root:~~~~~~~~~~~~~~ No data for .././data/raw/Data_npy\\DATA_002_Trial3.npy and side G.\n"
          ]
        },
        {
          "name": "stdout",
          "output_type": "stream",
          "text": [
            "number_of_windows = 9520\n",
            "size_of_window = (3, 102)\n",
            "proportion_of_1 = 0.3254201680672269\n",
            "accuracy = 0.6785714285714286\n",
            "f1 = 0.006493506493506493\n",
            "balanced_accuracy = 0.5012440247010613\n",
            "\n",
            "\n",
            "Combination 6/35\n",
            "EPOCH_START_TIME = -3\n",
            "                EPOCH_END_TIME = 3\n",
            "                WINDOW_SIZE = 0.15\n",
            "                STEP_SIZE = 0.075\n",
            "                START_TIME_LABEL = -1.6\n",
            "\n"
          ]
        },
        {
          "name": "stderr",
          "output_type": "stream",
          "text": [
            "WARNING:root:~~~~~~~~~~~~~~ No data for .././data/raw/Data_npy\\DATA_002_Trial3.npy and side G.\n"
          ]
        },
        {
          "name": "stdout",
          "output_type": "stream",
          "text": [
            "number_of_windows = 6320\n",
            "size_of_window = (3, 153)\n",
            "proportion_of_1 = 0.5321202531645569\n",
            "accuracy = 0.5411392405063291\n",
            "f1 = 0.6291560102301791\n",
            "balanced_accuracy = 0.5235450557277184\n",
            "\n",
            "\n",
            "Combination 7/35\n",
            "EPOCH_START_TIME = -3\n",
            "                EPOCH_END_TIME = 3\n",
            "                WINDOW_SIZE = 0.15\n",
            "                STEP_SIZE = 0.075\n",
            "                START_TIME_LABEL = -1.5\n",
            "\n"
          ]
        },
        {
          "name": "stderr",
          "output_type": "stream",
          "text": [
            "WARNING:root:~~~~~~~~~~~~~~ No data for .././data/raw/Data_npy\\DATA_002_Trial3.npy and side G.\n"
          ]
        },
        {
          "name": "stdout",
          "output_type": "stream",
          "text": [
            "number_of_windows = 6320\n",
            "size_of_window = (3, 153)\n",
            "proportion_of_1 = 0.492246835443038\n",
            "accuracy = 0.5197784810126582\n",
            "f1 = 0.47445887445887447\n",
            "balanced_accuracy = 0.5200565820439638\n",
            "\n",
            "\n",
            "Combination 8/35\n",
            "EPOCH_START_TIME = -3\n",
            "                EPOCH_END_TIME = 3\n",
            "                WINDOW_SIZE = 0.15\n",
            "                STEP_SIZE = 0.075\n",
            "                START_TIME_LABEL = -1.4\n",
            "\n"
          ]
        },
        {
          "name": "stderr",
          "output_type": "stream",
          "text": [
            "WARNING:root:~~~~~~~~~~~~~~ No data for .././data/raw/Data_npy\\DATA_002_Trial3.npy and side G.\n"
          ]
        },
        {
          "name": "stdout",
          "output_type": "stream",
          "text": [
            "number_of_windows = 6320\n",
            "size_of_window = (3, 153)\n",
            "proportion_of_1 = 0.46534810126582277\n",
            "accuracy = 0.5490506329113924\n",
            "f1 = 0.3624161073825503\n",
            "balanced_accuracy = 0.5363641838383635\n",
            "\n",
            "\n",
            "Combination 9/35\n",
            "EPOCH_START_TIME = -3\n",
            "                EPOCH_END_TIME = 3\n",
            "                WINDOW_SIZE = 0.15\n",
            "                STEP_SIZE = 0.075\n",
            "                START_TIME_LABEL = -1.3\n",
            "\n"
          ]
        },
        {
          "name": "stderr",
          "output_type": "stream",
          "text": [
            "WARNING:root:~~~~~~~~~~~~~~ No data for .././data/raw/Data_npy\\DATA_002_Trial3.npy and side G.\n"
          ]
        },
        {
          "name": "stdout",
          "output_type": "stream",
          "text": [
            "number_of_windows = 6320\n",
            "size_of_window = (3, 153)\n",
            "proportion_of_1 = 0.43734177215189873\n",
            "accuracy = 0.560126582278481\n",
            "f1 = 0.20343839541547282\n",
            "balanced_accuracy = 0.5152793108260698\n",
            "\n",
            "\n",
            "Combination 10/35\n",
            "EPOCH_START_TIME = -3\n",
            "                EPOCH_END_TIME = 3\n",
            "                WINDOW_SIZE = 0.15\n",
            "                STEP_SIZE = 0.075\n",
            "                START_TIME_LABEL = -1\n",
            "\n"
          ]
        },
        {
          "name": "stderr",
          "output_type": "stream",
          "text": [
            "WARNING:root:~~~~~~~~~~~~~~ No data for .././data/raw/Data_npy\\DATA_002_Trial3.npy and side G.\n"
          ]
        },
        {
          "name": "stdout",
          "output_type": "stream",
          "text": [
            "number_of_windows = 6320\n",
            "size_of_window = (3, 153)\n",
            "proportion_of_1 = 0.3454113924050633\n",
            "accuracy = 0.6558544303797469\n",
            "f1 = 0.0\n",
            "balanced_accuracy = 0.5\n",
            "\n",
            "\n",
            "Combination 11/35\n",
            "EPOCH_START_TIME = -3\n",
            "                EPOCH_END_TIME = 3\n",
            "                WINDOW_SIZE = 0.2\n",
            "                STEP_SIZE = 0.1\n",
            "                START_TIME_LABEL = -1.6\n",
            "\n"
          ]
        },
        {
          "name": "stderr",
          "output_type": "stream",
          "text": [
            "WARNING:root:~~~~~~~~~~~~~~ No data for .././data/raw/Data_npy\\DATA_002_Trial3.npy and side G.\n"
          ]
        },
        {
          "name": "stdout",
          "output_type": "stream",
          "text": [
            "number_of_windows = 4720\n",
            "size_of_window = (3, 204)\n",
            "proportion_of_1 = 0.5425847457627119\n",
            "accuracy = 0.5402542372881356\n",
            "f1 = 0.6471544715447154\n",
            "balanced_accuracy = 0.5187627393644667\n",
            "\n",
            "\n",
            "Combination 12/35\n",
            "EPOCH_START_TIME = -3\n",
            "                EPOCH_END_TIME = 3\n",
            "                WINDOW_SIZE = 0.2\n",
            "                STEP_SIZE = 0.1\n",
            "                START_TIME_LABEL = -1.5\n",
            "\n"
          ]
        },
        {
          "name": "stderr",
          "output_type": "stream",
          "text": [
            "WARNING:root:~~~~~~~~~~~~~~ No data for .././data/raw/Data_npy\\DATA_002_Trial3.npy and side G.\n"
          ]
        },
        {
          "name": "stdout",
          "output_type": "stream",
          "text": [
            "number_of_windows = 4720\n",
            "size_of_window = (3, 204)\n",
            "proportion_of_1 = 0.510593220338983\n",
            "accuracy = 0.5317796610169492\n",
            "f1 = 0.5658153241650294\n",
            "balanced_accuracy = 0.53115348703584\n",
            "\n",
            "\n",
            "Combination 13/35\n",
            "EPOCH_START_TIME = -3\n",
            "                EPOCH_END_TIME = 3\n",
            "                WINDOW_SIZE = 0.2\n",
            "                STEP_SIZE = 0.1\n",
            "                START_TIME_LABEL = -1.4\n",
            "\n"
          ]
        },
        {
          "name": "stderr",
          "output_type": "stream",
          "text": [
            "WARNING:root:~~~~~~~~~~~~~~ No data for .././data/raw/Data_npy\\DATA_002_Trial3.npy and side G.\n"
          ]
        },
        {
          "name": "stdout",
          "output_type": "stream",
          "text": [
            "number_of_windows = 4720\n",
            "size_of_window = (3, 204)\n",
            "proportion_of_1 = 0.47902542372881357\n",
            "accuracy = 0.5360169491525424\n",
            "f1 = 0.44696969696969696\n",
            "balanced_accuracy = 0.528117579738942\n",
            "\n",
            "\n",
            "Combination 14/35\n",
            "EPOCH_START_TIME = -3\n",
            "                EPOCH_END_TIME = 3\n",
            "                WINDOW_SIZE = 0.2\n",
            "                STEP_SIZE = 0.1\n",
            "                START_TIME_LABEL = -1.3\n",
            "\n"
          ]
        },
        {
          "name": "stderr",
          "output_type": "stream",
          "text": [
            "WARNING:root:~~~~~~~~~~~~~~ No data for .././data/raw/Data_npy\\DATA_002_Trial3.npy and side G.\n"
          ]
        },
        {
          "name": "stdout",
          "output_type": "stream",
          "text": [
            "number_of_windows = 4720\n",
            "size_of_window = (3, 204)\n",
            "proportion_of_1 = 0.44745762711864406\n",
            "accuracy = 0.5476694915254238\n",
            "f1 = 0.2918739635157545\n",
            "balanced_accuracy = 0.5109971743687904\n",
            "\n",
            "\n",
            "Combination 15/35\n",
            "EPOCH_START_TIME = -3\n",
            "                EPOCH_END_TIME = 3\n",
            "                WINDOW_SIZE = 0.2\n",
            "                STEP_SIZE = 0.1\n",
            "                START_TIME_LABEL = -1\n",
            "\n"
          ]
        },
        {
          "name": "stderr",
          "output_type": "stream",
          "text": [
            "WARNING:root:~~~~~~~~~~~~~~ No data for .././data/raw/Data_npy\\DATA_002_Trial3.npy and side G.\n"
          ]
        },
        {
          "name": "stdout",
          "output_type": "stream",
          "text": [
            "number_of_windows = 4720\n",
            "size_of_window = (3, 204)\n",
            "proportion_of_1 = 0.35466101694915253\n",
            "accuracy = 0.6398305084745762\n",
            "f1 = 0.005847953216374269\n",
            "balanced_accuracy = 0.501466275659824\n",
            "\n",
            "\n",
            "Combination 16/35\n",
            "EPOCH_START_TIME = -3\n",
            "                EPOCH_END_TIME = 3\n",
            "                WINDOW_SIZE = 0.25\n",
            "                STEP_SIZE = 0.125\n",
            "                START_TIME_LABEL = -1.6\n",
            "\n"
          ]
        },
        {
          "name": "stderr",
          "output_type": "stream",
          "text": [
            "WARNING:root:~~~~~~~~~~~~~~ No data for .././data/raw/Data_npy\\DATA_002_Trial3.npy and side G.\n"
          ]
        },
        {
          "name": "stdout",
          "output_type": "stream",
          "text": [
            "number_of_windows = 3760\n",
            "size_of_window = (3, 256)\n",
            "proportion_of_1 = 0.5401595744680852\n",
            "accuracy = 0.5425531914893617\n",
            "f1 = 0.6252723311546842\n",
            "balanced_accuracy = 0.5220087688935041\n",
            "\n",
            "\n",
            "Combination 17/35\n",
            "EPOCH_START_TIME = -3\n",
            "                EPOCH_END_TIME = 3\n",
            "                WINDOW_SIZE = 0.25\n",
            "                STEP_SIZE = 0.125\n",
            "                START_TIME_LABEL = -1.5\n",
            "\n"
          ]
        },
        {
          "name": "stderr",
          "output_type": "stream",
          "text": [
            "WARNING:root:~~~~~~~~~~~~~~ No data for .././data/raw/Data_npy\\DATA_002_Trial3.npy and side G.\n"
          ]
        },
        {
          "name": "stdout",
          "output_type": "stream",
          "text": [
            "number_of_windows = 3760\n",
            "size_of_window = (3, 256)\n",
            "proportion_of_1 = 0.5037234042553191\n",
            "accuracy = 0.5093085106382979\n",
            "f1 = 0.5151116951379764\n",
            "balanced_accuracy = 0.5103554495642052\n",
            "\n",
            "\n",
            "Combination 18/35\n",
            "EPOCH_START_TIME = -3\n",
            "                EPOCH_END_TIME = 3\n",
            "                WINDOW_SIZE = 0.25\n",
            "                STEP_SIZE = 0.125\n",
            "                START_TIME_LABEL = -1.4\n",
            "\n"
          ]
        },
        {
          "name": "stderr",
          "output_type": "stream",
          "text": [
            "WARNING:root:~~~~~~~~~~~~~~ No data for .././data/raw/Data_npy\\DATA_002_Trial3.npy and side G.\n"
          ]
        },
        {
          "name": "stdout",
          "output_type": "stream",
          "text": [
            "number_of_windows = 3760\n",
            "size_of_window = (3, 256)\n",
            "proportion_of_1 = 0.49042553191489363\n",
            "accuracy = 0.5212765957446809\n",
            "f1 = 0.4642857142857143\n",
            "balanced_accuracy = 0.5255830093408967\n",
            "\n",
            "\n",
            "Combination 19/35\n",
            "EPOCH_START_TIME = -3\n",
            "                EPOCH_END_TIME = 3\n",
            "                WINDOW_SIZE = 0.25\n",
            "                STEP_SIZE = 0.125\n",
            "                START_TIME_LABEL = -1.3\n",
            "\n"
          ]
        },
        {
          "name": "stderr",
          "output_type": "stream",
          "text": [
            "WARNING:root:~~~~~~~~~~~~~~ No data for .././data/raw/Data_npy\\DATA_002_Trial3.npy and side G.\n"
          ]
        },
        {
          "name": "stdout",
          "output_type": "stream",
          "text": [
            "number_of_windows = 3760\n",
            "size_of_window = (3, 256)\n",
            "proportion_of_1 = 0.45478723404255317\n",
            "accuracy = 0.5425531914893617\n",
            "f1 = 0.3605947955390334\n",
            "balanced_accuracy = 0.5307717932906646\n",
            "\n",
            "\n",
            "Combination 20/35\n",
            "EPOCH_START_TIME = -3\n",
            "                EPOCH_END_TIME = 3\n",
            "                WINDOW_SIZE = 0.25\n",
            "                STEP_SIZE = 0.125\n",
            "                START_TIME_LABEL = -1\n",
            "\n"
          ]
        },
        {
          "name": "stderr",
          "output_type": "stream",
          "text": [
            "WARNING:root:~~~~~~~~~~~~~~ No data for .././data/raw/Data_npy\\DATA_002_Trial3.npy and side G.\n"
          ]
        },
        {
          "name": "stdout",
          "output_type": "stream",
          "text": [
            "number_of_windows = 3760\n",
            "size_of_window = (3, 256)\n",
            "proportion_of_1 = 0.34654255319148936\n",
            "accuracy = 0.648936170212766\n",
            "f1 = 0.043478260869565216\n",
            "balanced_accuracy = 0.5081431715510252\n",
            "\n",
            "\n",
            "Combination 21/35\n",
            "EPOCH_START_TIME = -3\n",
            "                EPOCH_END_TIME = 3\n",
            "                WINDOW_SIZE = 0.3\n",
            "                STEP_SIZE = 0.15\n",
            "                START_TIME_LABEL = -1.6\n",
            "\n"
          ]
        },
        {
          "name": "stderr",
          "output_type": "stream",
          "text": [
            "WARNING:root:~~~~~~~~~~~~~~ No data for .././data/raw/Data_npy\\DATA_002_Trial3.npy and side G.\n"
          ]
        },
        {
          "name": "stdout",
          "output_type": "stream",
          "text": [
            "number_of_windows = 3120\n",
            "size_of_window = (3, 307)\n",
            "proportion_of_1 = 0.5817307692307693\n",
            "accuracy = 0.5705128205128205\n",
            "f1 = 0.7154989384288748\n",
            "balanced_accuracy = 0.49945054945054945\n",
            "\n",
            "\n",
            "Combination 22/35\n",
            "EPOCH_START_TIME = -3\n",
            "                EPOCH_END_TIME = 3\n",
            "                WINDOW_SIZE = 0.3\n",
            "                STEP_SIZE = 0.15\n",
            "                START_TIME_LABEL = -1.5\n",
            "\n"
          ]
        },
        {
          "name": "stderr",
          "output_type": "stream",
          "text": [
            "WARNING:root:~~~~~~~~~~~~~~ No data for .././data/raw/Data_npy\\DATA_002_Trial3.npy and side G.\n"
          ]
        },
        {
          "name": "stdout",
          "output_type": "stream",
          "text": [
            "number_of_windows = 3120\n",
            "size_of_window = (3, 307)\n",
            "proportion_of_1 = 0.5375\n",
            "accuracy = 0.5512820512820513\n",
            "f1 = 0.641025641025641\n",
            "balanced_accuracy = 0.5346829475077286\n",
            "\n",
            "\n",
            "Combination 23/35\n",
            "EPOCH_START_TIME = -3\n",
            "                EPOCH_END_TIME = 3\n",
            "                WINDOW_SIZE = 0.3\n",
            "                STEP_SIZE = 0.15\n",
            "                START_TIME_LABEL = -1.4\n",
            "\n"
          ]
        },
        {
          "name": "stderr",
          "output_type": "stream",
          "text": [
            "WARNING:root:~~~~~~~~~~~~~~ No data for .././data/raw/Data_npy\\DATA_002_Trial3.npy and side G.\n"
          ]
        },
        {
          "name": "stdout",
          "output_type": "stream",
          "text": [
            "number_of_windows = 3120\n",
            "size_of_window = (3, 307)\n",
            "proportion_of_1 = 0.5259615384615385\n",
            "accuracy = 0.5480769230769231\n",
            "f1 = 0.6126373626373627\n",
            "balanced_accuracy = 0.5402597402597402\n",
            "\n",
            "\n",
            "Combination 24/35\n",
            "EPOCH_START_TIME = -3\n",
            "                EPOCH_END_TIME = 3\n",
            "                WINDOW_SIZE = 0.3\n",
            "                STEP_SIZE = 0.15\n",
            "                START_TIME_LABEL = -1.3\n",
            "\n"
          ]
        },
        {
          "name": "stderr",
          "output_type": "stream",
          "text": [
            "WARNING:root:~~~~~~~~~~~~~~ No data for .././data/raw/Data_npy\\DATA_002_Trial3.npy and side G.\n"
          ]
        },
        {
          "name": "stdout",
          "output_type": "stream",
          "text": [
            "number_of_windows = 3120\n",
            "size_of_window = (3, 307)\n",
            "proportion_of_1 = 0.4858974358974359\n",
            "accuracy = 0.5528846153846154\n",
            "f1 = 0.4918032786885245\n",
            "balanced_accuracy = 0.5493298910751571\n",
            "\n",
            "\n",
            "Combination 25/35\n",
            "EPOCH_START_TIME = -3\n",
            "                EPOCH_END_TIME = 3\n",
            "                WINDOW_SIZE = 0.3\n",
            "                STEP_SIZE = 0.15\n",
            "                START_TIME_LABEL = -1\n",
            "\n"
          ]
        },
        {
          "name": "stderr",
          "output_type": "stream",
          "text": [
            "WARNING:root:~~~~~~~~~~~~~~ No data for .././data/raw/Data_npy\\DATA_002_Trial3.npy and side G.\n"
          ]
        },
        {
          "name": "stdout",
          "output_type": "stream",
          "text": [
            "number_of_windows = 3120\n",
            "size_of_window = (3, 307)\n",
            "proportion_of_1 = 0.3919871794871795\n",
            "accuracy = 0.6346153846153846\n",
            "f1 = 0.12307692307692307\n",
            "balanced_accuracy = 0.5258414246527626\n",
            "\n",
            "\n",
            "Combination 26/35\n",
            "EPOCH_START_TIME = -3\n",
            "                EPOCH_END_TIME = 3\n",
            "                WINDOW_SIZE = 0.4\n",
            "                STEP_SIZE = 0.2\n",
            "                START_TIME_LABEL = -1.6\n",
            "\n"
          ]
        },
        {
          "name": "stderr",
          "output_type": "stream",
          "text": [
            "WARNING:root:~~~~~~~~~~~~~~ No data for .././data/raw/Data_npy\\DATA_002_Trial3.npy and side G.\n"
          ]
        },
        {
          "name": "stdout",
          "output_type": "stream",
          "text": [
            "number_of_windows = 2320\n",
            "size_of_window = (3, 409)\n",
            "proportion_of_1 = 0.6043103448275862\n",
            "accuracy = 0.584051724137931\n",
            "f1 = 0.7352537722908092\n",
            "balanced_accuracy = 0.5022369653748351\n",
            "\n",
            "\n",
            "Combination 27/35\n",
            "EPOCH_START_TIME = -3\n",
            "                EPOCH_END_TIME = 3\n",
            "                WINDOW_SIZE = 0.4\n",
            "                STEP_SIZE = 0.2\n",
            "                START_TIME_LABEL = -1.5\n",
            "\n"
          ]
        },
        {
          "name": "stderr",
          "output_type": "stream",
          "text": [
            "WARNING:root:~~~~~~~~~~~~~~ No data for .././data/raw/Data_npy\\DATA_002_Trial3.npy and side G.\n"
          ]
        },
        {
          "name": "stdout",
          "output_type": "stream",
          "text": [
            "number_of_windows = 2320\n",
            "size_of_window = (3, 409)\n",
            "proportion_of_1 = 0.5887931034482758\n",
            "accuracy = 0.5668103448275862\n",
            "f1 = 0.7172995780590717\n",
            "balanced_accuracy = 0.5064432015720656\n",
            "\n",
            "\n",
            "Combination 28/35\n",
            "EPOCH_START_TIME = -3\n",
            "                EPOCH_END_TIME = 3\n",
            "                WINDOW_SIZE = 0.4\n",
            "                STEP_SIZE = 0.2\n",
            "                START_TIME_LABEL = -1.4\n",
            "\n"
          ]
        },
        {
          "name": "stderr",
          "output_type": "stream",
          "text": [
            "WARNING:root:~~~~~~~~~~~~~~ No data for .././data/raw/Data_npy\\DATA_002_Trial3.npy and side G.\n"
          ]
        },
        {
          "name": "stdout",
          "output_type": "stream",
          "text": [
            "number_of_windows = 2320\n",
            "size_of_window = (3, 409)\n",
            "proportion_of_1 = 0.5396551724137931\n",
            "accuracy = 0.5237068965517241\n",
            "f1 = 0.6196213425129087\n",
            "balanced_accuracy = 0.5137927183381729\n",
            "\n",
            "\n",
            "Combination 29/35\n",
            "EPOCH_START_TIME = -3\n",
            "                EPOCH_END_TIME = 3\n",
            "                WINDOW_SIZE = 0.4\n",
            "                STEP_SIZE = 0.2\n",
            "                START_TIME_LABEL = -1.3\n",
            "\n"
          ]
        },
        {
          "name": "stderr",
          "output_type": "stream",
          "text": [
            "WARNING:root:~~~~~~~~~~~~~~ No data for .././data/raw/Data_npy\\DATA_002_Trial3.npy and side G.\n"
          ]
        },
        {
          "name": "stdout",
          "output_type": "stream",
          "text": [
            "number_of_windows = 2320\n",
            "size_of_window = (3, 409)\n",
            "proportion_of_1 = 0.5241379310344828\n",
            "accuracy = 0.49353448275862066\n",
            "f1 = 0.5607476635514019\n",
            "balanced_accuracy = 0.4916380191396451\n",
            "\n",
            "\n",
            "Combination 30/35\n",
            "EPOCH_START_TIME = -3\n",
            "                EPOCH_END_TIME = 3\n",
            "                WINDOW_SIZE = 0.4\n",
            "                STEP_SIZE = 0.2\n",
            "                START_TIME_LABEL = -1\n",
            "\n"
          ]
        },
        {
          "name": "stderr",
          "output_type": "stream",
          "text": [
            "WARNING:root:~~~~~~~~~~~~~~ No data for .././data/raw/Data_npy\\DATA_002_Trial3.npy and side G.\n"
          ]
        },
        {
          "name": "stdout",
          "output_type": "stream",
          "text": [
            "number_of_windows = 2320\n",
            "size_of_window = (3, 409)\n",
            "proportion_of_1 = 0.4125\n",
            "accuracy = 0.6163793103448276\n",
            "f1 = 0.14423076923076922\n",
            "balanced_accuracy = 0.5231900122513272\n",
            "\n",
            "\n",
            "Combination 31/35\n",
            "EPOCH_START_TIME = -3\n",
            "                EPOCH_END_TIME = 3\n",
            "                WINDOW_SIZE = 0.5\n",
            "                STEP_SIZE = 0.25\n",
            "                START_TIME_LABEL = -1.6\n",
            "\n"
          ]
        },
        {
          "name": "stderr",
          "output_type": "stream",
          "text": [
            "WARNING:root:~~~~~~~~~~~~~~ No data for .././data/raw/Data_npy\\DATA_002_Trial3.npy and side G.\n"
          ]
        },
        {
          "name": "stdout",
          "output_type": "stream",
          "text": [
            "number_of_windows = 1840\n",
            "size_of_window = (3, 512)\n",
            "proportion_of_1 = 0.6173913043478261\n",
            "accuracy = 0.6304347826086957\n",
            "f1 = 0.7702702702702703\n",
            "balanced_accuracy = 0.5040852010809093\n",
            "\n",
            "\n",
            "Combination 32/35\n",
            "EPOCH_START_TIME = -3\n",
            "                EPOCH_END_TIME = 3\n",
            "                WINDOW_SIZE = 0.5\n",
            "                STEP_SIZE = 0.25\n",
            "                START_TIME_LABEL = -1.5\n",
            "\n"
          ]
        },
        {
          "name": "stderr",
          "output_type": "stream",
          "text": [
            "WARNING:root:~~~~~~~~~~~~~~ No data for .././data/raw/Data_npy\\DATA_002_Trial3.npy and side G.\n"
          ]
        },
        {
          "name": "stdout",
          "output_type": "stream",
          "text": [
            "number_of_windows = 1840\n",
            "size_of_window = (3, 512)\n",
            "proportion_of_1 = 0.5576086956521739\n",
            "accuracy = 0.5516304347826086\n",
            "f1 = 0.6680080482897384\n",
            "balanced_accuracy = 0.5100991775520077\n",
            "\n",
            "\n",
            "Combination 33/35\n",
            "EPOCH_START_TIME = -3\n",
            "                EPOCH_END_TIME = 3\n",
            "                WINDOW_SIZE = 0.5\n",
            "                STEP_SIZE = 0.25\n",
            "                START_TIME_LABEL = -1.4\n",
            "\n"
          ]
        },
        {
          "name": "stderr",
          "output_type": "stream",
          "text": [
            "WARNING:root:~~~~~~~~~~~~~~ No data for .././data/raw/Data_npy\\DATA_002_Trial3.npy and side G.\n"
          ]
        },
        {
          "name": "stdout",
          "output_type": "stream",
          "text": [
            "number_of_windows = 1840\n",
            "size_of_window = (3, 512)\n",
            "proportion_of_1 = 0.5451086956521739\n",
            "accuracy = 0.49728260869565216\n",
            "f1 = 0.5969498910675383\n",
            "balanced_accuracy = 0.47449958048663554\n",
            "\n",
            "\n",
            "Combination 34/35\n",
            "EPOCH_START_TIME = -3\n",
            "                EPOCH_END_TIME = 3\n",
            "                WINDOW_SIZE = 0.5\n",
            "                STEP_SIZE = 0.25\n",
            "                START_TIME_LABEL = -1.3\n",
            "\n"
          ]
        },
        {
          "name": "stderr",
          "output_type": "stream",
          "text": [
            "WARNING:root:~~~~~~~~~~~~~~ No data for .././data/raw/Data_npy\\DATA_002_Trial3.npy and side G.\n"
          ]
        },
        {
          "name": "stdout",
          "output_type": "stream",
          "text": [
            "number_of_windows = 1840\n",
            "size_of_window = (3, 512)\n",
            "proportion_of_1 = 0.5277173913043478\n",
            "accuracy = 0.4782608695652174\n",
            "f1 = 0.542857142857143\n",
            "balanced_accuracy = 0.469864113466742\n",
            "\n",
            "\n",
            "Combination 35/35\n",
            "EPOCH_START_TIME = -3\n",
            "                EPOCH_END_TIME = 3\n",
            "                WINDOW_SIZE = 0.5\n",
            "                STEP_SIZE = 0.25\n",
            "                START_TIME_LABEL = -1\n",
            "\n"
          ]
        },
        {
          "name": "stderr",
          "output_type": "stream",
          "text": [
            "WARNING:root:~~~~~~~~~~~~~~ No data for .././data/raw/Data_npy\\DATA_002_Trial3.npy and side G.\n"
          ]
        },
        {
          "name": "stdout",
          "output_type": "stream",
          "text": [
            "number_of_windows = 1840\n",
            "size_of_window = (3, 512)\n",
            "proportion_of_1 = 0.39619565217391306\n",
            "accuracy = 0.5706521739130435\n",
            "f1 = 0.03658536585365854\n",
            "balanced_accuracy = 0.5093167701863354\n",
            "\n",
            "\n"
          ]
        }
      ],
      "source": [
        "scores2 = hyparam_search(WINDOW_SIZE_LIST=[0.1, 0.15, 0.20, 0.25, 0.3, 0.4, 0.5], \n",
        "                        START_TIME_LABEL_LIST=[-1.6, -1.5, -1.4, -1.3, -1], \n",
        "                        FILE_NUMBER = 50)"
      ]
    }
  ],
  "metadata": {
    "colab": {
      "provenance": []
    },
    "kernelspec": {
      "display_name": "Python 3",
      "name": "python3"
    },
    "language_info": {
      "codemirror_mode": {
        "name": "ipython",
        "version": 3
      },
      "file_extension": ".py",
      "mimetype": "text/x-python",
      "name": "python",
      "nbconvert_exporter": "python",
      "pygments_lexer": "ipython3",
      "version": "3.9.1"
    }
  },
  "nbformat": 4,
  "nbformat_minor": 0
}
